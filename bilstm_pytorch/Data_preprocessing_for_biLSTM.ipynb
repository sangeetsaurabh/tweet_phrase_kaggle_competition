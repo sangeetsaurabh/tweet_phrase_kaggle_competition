{
  "nbformat": 4,
  "nbformat_minor": 0,
  "metadata": {
    "colab": {
      "name": "Data_preprocessing_for_biLSTM.ipynb",
      "provenance": [],
      "authorship_tag": "ABX9TyPXLWQPntlZY6NTb1YFDyIN",
      "include_colab_link": true
    },
    "kernelspec": {
      "name": "python3",
      "display_name": "Python 3"
    }
  },
  "cells": [
    {
      "cell_type": "markdown",
      "metadata": {
        "id": "view-in-github",
        "colab_type": "text"
      },
      "source": [
        "<a href=\"https://colab.research.google.com/github/sangeetsaurabh/tweet_sentiment_extraction/blob/master/Data_preprocessing_for_biLSTM.ipynb\" target=\"_parent\"><img src=\"https://colab.research.google.com/assets/colab-badge.svg\" alt=\"Open In Colab\"/></a>"
      ]
    },
    {
      "cell_type": "code",
      "metadata": {
        "id": "huBGlI_zdxEs",
        "colab_type": "code",
        "colab": {
          "base_uri": "https://localhost:8080/",
          "height": 34
        },
        "outputId": "509a17ff-08b7-42f3-9bdc-b979eaf832ff"
      },
      "source": [
        "!pip install pyspellchecker"
      ],
      "execution_count": 1,
      "outputs": [
        {
          "output_type": "stream",
          "text": [
            "Requirement already satisfied: pyspellchecker in /usr/local/lib/python3.6/dist-packages (0.5.4)\n"
          ],
          "name": "stdout"
        }
      ]
    },
    {
      "cell_type": "code",
      "metadata": {
        "id": "RsH0fGB8wZzF",
        "colab_type": "code",
        "colab": {
          "base_uri": "https://localhost:8080/",
          "height": 34
        },
        "outputId": "c5de1522-e2e3-42fb-d70e-1b81b500a745"
      },
      "source": [
        "!pip install tokenizers"
      ],
      "execution_count": 2,
      "outputs": [
        {
          "output_type": "stream",
          "text": [
            "Requirement already satisfied: tokenizers in /usr/local/lib/python3.6/dist-packages (0.8.0)\n"
          ],
          "name": "stdout"
        }
      ]
    },
    {
      "cell_type": "code",
      "metadata": {
        "id": "pWshbOblbRNn",
        "colab_type": "code",
        "colab": {}
      },
      "source": [
        "import pandas as pd\n",
        "import numpy as np\n",
        "import tokenizers\n",
        "from spellchecker import SpellChecker\n",
        "spell = SpellChecker()\n",
        "\n",
        "import spacy\n",
        "nlp = spacy.load('en')\n",
        "\n",
        "pd.set_option(\"display.max_colwidth\", None)\n",
        "\n"
      ],
      "execution_count": 3,
      "outputs": []
    },
    {
      "cell_type": "code",
      "metadata": {
        "id": "X1A4RNcydk7g",
        "colab_type": "code",
        "colab": {
          "base_uri": "https://localhost:8080/",
          "height": 34
        },
        "outputId": "631b75a0-1e82-4b34-d96d-8e9db07995b2"
      },
      "source": [
        "from google.colab import drive\n",
        "drive.mount('/content/drive')"
      ],
      "execution_count": 4,
      "outputs": [
        {
          "output_type": "stream",
          "text": [
            "Drive already mounted at /content/drive; to attempt to forcibly remount, call drive.mount(\"/content/drive\", force_remount=True).\n"
          ],
          "name": "stdout"
        }
      ]
    },
    {
      "cell_type": "code",
      "metadata": {
        "id": "ibWYPmIyffqv",
        "colab_type": "code",
        "colab": {}
      },
      "source": [
        "data_folder = \"/content/drive/My Drive/tweet-sentiment-extraction/data\"\n",
        "tmp_folder = '/tmp'"
      ],
      "execution_count": 5,
      "outputs": []
    },
    {
      "cell_type": "code",
      "metadata": {
        "id": "gLhrN4PxbfLr",
        "colab_type": "code",
        "colab": {}
      },
      "source": [
        "#### Copy the dataset\n",
        "train_data = pd.read_csv(data_folder + \"/train.csv\")\n",
        "test_data = pd.read_csv(data_folder + \"/test.csv\")\n",
        "\n",
        "### drop null values row\n",
        "train_data = train_data[train_data.text == train_data.text]\n",
        "\n",
        "### Copy the original text into old_text. Just so we could compare later.\n",
        "train_data[\"idx\"] = train_data.index\n",
        "test_data[\"idx\"] = test_data.index\n",
        "\n",
        "train_data[\"old_text\"] = train_data.text\n",
        "train_data[\"old_sel_text\"] = train_data.selected_text\n",
        "\n",
        "test_data[\"old_text\"] = test_data.text\n",
        "\n"
      ],
      "execution_count": 6,
      "outputs": []
    },
    {
      "cell_type": "markdown",
      "metadata": {
        "id": "SnAuaSkOACYy",
        "colab_type": "text"
      },
      "source": [
        "#### Make sure that selected text doesn't have the partial word"
      ]
    },
    {
      "cell_type": "code",
      "metadata": {
        "id": "XoUDHnE5cA4n",
        "colab_type": "code",
        "colab": {
          "base_uri": "https://localhost:8080/",
          "height": 238
        },
        "outputId": "f6bc4895-f8b7-4f5c-814f-fcb7b05c8005"
      },
      "source": [
        "train_data.head()"
      ],
      "execution_count": 7,
      "outputs": [
        {
          "output_type": "execute_result",
          "data": {
            "text/html": [
              "<div>\n",
              "<style scoped>\n",
              "    .dataframe tbody tr th:only-of-type {\n",
              "        vertical-align: middle;\n",
              "    }\n",
              "\n",
              "    .dataframe tbody tr th {\n",
              "        vertical-align: top;\n",
              "    }\n",
              "\n",
              "    .dataframe thead th {\n",
              "        text-align: right;\n",
              "    }\n",
              "</style>\n",
              "<table border=\"1\" class=\"dataframe\">\n",
              "  <thead>\n",
              "    <tr style=\"text-align: right;\">\n",
              "      <th></th>\n",
              "      <th>textID</th>\n",
              "      <th>text</th>\n",
              "      <th>selected_text</th>\n",
              "      <th>sentiment</th>\n",
              "      <th>idx</th>\n",
              "      <th>old_text</th>\n",
              "      <th>old_sel_text</th>\n",
              "    </tr>\n",
              "  </thead>\n",
              "  <tbody>\n",
              "    <tr>\n",
              "      <th>0</th>\n",
              "      <td>cb774db0d1</td>\n",
              "      <td>I`d have responded, if I were going</td>\n",
              "      <td>I`d have responded, if I were going</td>\n",
              "      <td>neutral</td>\n",
              "      <td>0</td>\n",
              "      <td>I`d have responded, if I were going</td>\n",
              "      <td>I`d have responded, if I were going</td>\n",
              "    </tr>\n",
              "    <tr>\n",
              "      <th>1</th>\n",
              "      <td>549e992a42</td>\n",
              "      <td>Sooo SAD I will miss you here in San Diego!!!</td>\n",
              "      <td>Sooo SAD</td>\n",
              "      <td>negative</td>\n",
              "      <td>1</td>\n",
              "      <td>Sooo SAD I will miss you here in San Diego!!!</td>\n",
              "      <td>Sooo SAD</td>\n",
              "    </tr>\n",
              "    <tr>\n",
              "      <th>2</th>\n",
              "      <td>088c60f138</td>\n",
              "      <td>my boss is bullying me...</td>\n",
              "      <td>bullying me</td>\n",
              "      <td>negative</td>\n",
              "      <td>2</td>\n",
              "      <td>my boss is bullying me...</td>\n",
              "      <td>bullying me</td>\n",
              "    </tr>\n",
              "    <tr>\n",
              "      <th>3</th>\n",
              "      <td>9642c003ef</td>\n",
              "      <td>what interview! leave me alone</td>\n",
              "      <td>leave me alone</td>\n",
              "      <td>negative</td>\n",
              "      <td>3</td>\n",
              "      <td>what interview! leave me alone</td>\n",
              "      <td>leave me alone</td>\n",
              "    </tr>\n",
              "    <tr>\n",
              "      <th>4</th>\n",
              "      <td>358bd9e861</td>\n",
              "      <td>Sons of ****, why couldn`t they put them on the releases we already bought</td>\n",
              "      <td>Sons of ****,</td>\n",
              "      <td>negative</td>\n",
              "      <td>4</td>\n",
              "      <td>Sons of ****, why couldn`t they put them on the releases we already bought</td>\n",
              "      <td>Sons of ****,</td>\n",
              "    </tr>\n",
              "  </tbody>\n",
              "</table>\n",
              "</div>"
            ],
            "text/plain": [
              "       textID  ...                         old_sel_text\n",
              "0  cb774db0d1  ...  I`d have responded, if I were going\n",
              "1  549e992a42  ...                             Sooo SAD\n",
              "2  088c60f138  ...                          bullying me\n",
              "3  9642c003ef  ...                       leave me alone\n",
              "4  358bd9e861  ...                        Sons of ****,\n",
              "\n",
              "[5 rows x 7 columns]"
            ]
          },
          "metadata": {
            "tags": []
          },
          "execution_count": 7
        }
      ]
    },
    {
      "cell_type": "markdown",
      "metadata": {
        "id": "ora6E_TlZ_-W",
        "colab_type": "text"
      },
      "source": [
        "##### Remove the special characters in the text"
      ]
    },
    {
      "cell_type": "code",
      "metadata": {
        "id": "zY5OxHnZmMpx",
        "colab_type": "code",
        "colab": {}
      },
      "source": [
        "#### Update some of the texts manually. Found that some partial characters were causing issues.\n",
        "#### There were more than 1900 such issues. Most of them were fixed prgrmatically below. Some of them are being fixed manually.\n",
        "\n",
        "train_data.loc[707,'selected_text'] = ['He gives Twitter tips. Hope this helps']\n",
        "\n",
        "train_data.loc[8729,'selected_text'] = ['lol']\n",
        "\n",
        "train_data.loc[14611,'selected_text'] = ['so awesome']\n",
        "\n",
        "train_data.loc[16100,'selected_text'] = ['that`s incredibly sweeeet!']\n",
        "\n",
        "train_data.loc[16186,'selected_text'] = ['beautiful,']\n",
        "\n",
        "train_data.loc[17762,'selected_text'] = ['It`s depressing.']\n",
        "\n",
        "train_data.loc[19011,'selected_text'] = ['my pleasure!!']\n",
        "\n",
        "train_data.loc[22782,'selected_text'] = ['wasn`t a good']\n",
        "\n",
        "train_data.loc[23924,'selected_text'] = ['stinks!']\n",
        "\n",
        "train_data.loc[24194,'selected_text'] = ['tried to make it sound']\n",
        "\n",
        "train_data.loc[25691,'selected_text'] = ['@_Cheshire_Cat_']\n",
        "\n",
        "train_data.loc[25901,'selected_text'] = ['don`t paint a good picture']\n",
        "\n",
        "train_data.loc[26331,'selected_text'] = ['greedy.']\n",
        "\n",
        "train_data.loc[3176,'selected_text'] = ['i agree it`s very important,']\n"
      ],
      "execution_count": 8,
      "outputs": []
    },
    {
      "cell_type": "code",
      "metadata": {
        "id": "eu6mQc06e_6v",
        "colab_type": "code",
        "colab": {}
      },
      "source": [
        "#### clean up following characters\n",
        "pd.set_option(\"display.max_colwidth\", None)\n",
        "\n",
        "### impacting 1 sentence\n",
        "train_data['text'] = train_data['text'].str.replace('\\xa0',' ')\n",
        "train_data['selected_text'] = train_data['selected_text'].str.replace('\\xa0',' ')\n",
        "\n",
        "\n",
        "### Impacing 2 sentences\n",
        "train_data['text'] = train_data['text'].str.replace('Â',' ')\n",
        "train_data['selected_text'] = train_data['selected_text'].str.replace('Â',' ')\n",
        "\n",
        "### Impacing 5 sentences\n",
        "train_data['text'] = train_data['text'].str.replace('``',' ')\n",
        "train_data['selected_text'] = train_data['selected_text'].str.replace('``',' ')\n",
        "\n",
        "### Impacing 1 sentence\n",
        "train_data['text'] = train_data['text'].str.replace('´','`')\n",
        "train_data['selected_text'] = train_data['selected_text'].str.replace('´','`')\n",
        "\n",
        "### Impacing 1 sentence\n",
        "train_data['text'] = train_data['text'].str.replace('\\t','')\n",
        "train_data['selected_text'] = train_data['selected_text'].str.replace('\\t','')\n",
        "\n",
        "### Impacing 155 sentences\n",
        "train_data['text'] = train_data['text'].str.replace('ï¿½',' ')\n",
        "train_data['selected_text'] = train_data['selected_text'].str.replace('ï¿½',' ')\n",
        "\n",
        "###Impacting 1220 rows (only 5 of them are in selected_text) (removing all the URLs)\n",
        "train_data['text'] = train_data['text'].str.replace(r'http\\S+', 'URL', regex=True)\n",
        "train_data['selected_text'] = train_data['selected_text'].str.replace(r'http\\S+', 'URL', regex=True)\n",
        "\n",
        "#### Impacting 2 sentects. It seems to be a bug in the data, text doesn't have those characters \n",
        "train_data['selected_text'] = train_data['selected_text'].str.replace(r'ï', '', regex=True)\n",
        "\n",
        "#### Impacting one sentence (no impact on test data, so just ok to remove it)\n",
        "####Impacting 8 sentences. Most of them are neutral. Generally if a sentence has this, include in selected text\n",
        "#train_data['text'] = train_data['text'].str.replace('\\(:\\|', '')\n",
        "#train_data['selected_text'] = train_data['selected_text'].str.replace('\\(:\\|', '')\n",
        "\n",
        "\n",
        "####Impacting 8 sentences. Most of them are neutral. Generally if a sentence has this, include in selected text\n",
        "#train_data['text'] = train_data['text'].str.replace(':\\|', '')\n",
        "#train_data['text'] = train_data['text'].str.replace(':-\\|', '')\n",
        "\n",
        "#train_data['selected_text'] = train_data['selected_text'].str.replace(':\\|', '')\n",
        "#train_data['selected_text'] = train_data['selected_text'].str.replace(':-\\|', '')\n",
        "\n",
        " \n",
        "\n",
        "#### Remove some of the special characters emojis (impacts 5 to 7 rows)\n",
        "#train_data['text'] = train_data['text'].str.replace(':\\*\\*-\\(', '')\n",
        "#train_data['text'] = train_data['text'].str.replace(':\\*\\*\\(', '')\n",
        "#train_data['text'] = train_data['text'].str.replace(':\\*', '')\n",
        "\n",
        "#train_data['selected_text'] = train_data['selected_text'].str.replace(':\\*\\*-\\(', '')\n",
        "#train_data['selected_text'] = train_data['selected_text'].str.replace(':\\*\\*\\(', '')\n",
        "#train_data['selected_text'] = train_data['selected_text'].str.replace(':\\*', '')\n",
        "\n",
        "####Impacting 20 sentences. Most of them are neutral. Generally if a sentence has this, include in selected text\n",
        "#train_data['text'] = train_data['text'].str.replace(':O', '')\n",
        "#train_data['selected_text'] = train_data['selected_text'].str.replace(':O', '')\n",
        "\n",
        "\n",
        "\n",
        "\n",
        "###Remove leading and trailing spaces\n",
        "train_data['text'] = train_data['text'].str.strip()\n",
        "train_data['selected_text'] = train_data['selected_text'].str.strip()\n",
        "\n",
        "train_data['text'] = train_data['text'].str.replace(r'\\s{2,}', ' ',regex=True)\n",
        "train_data['selected_text'] = train_data['selected_text'].str.replace(r'\\s{2,}', ' ',regex=True)\n",
        "\n",
        "\n",
        "\n",
        "\n",
        "\n",
        "### Impacing 1 sentence\n",
        "test_data['text'] = test_data['text'].str.replace('Â',' ')\n",
        "\n",
        "### Impacing 1 sentence\n",
        "test_data['text'] = test_data['text'].str.replace('``',' ')\n",
        "\n",
        "\n",
        "### Impacing 1 sentence\n",
        "test_data['text'] = test_data['text'].str.replace('\\t',' ')\n",
        "\n",
        "### Impacing 13 sentences\n",
        "test_data['text'] = test_data['text'].str.replace('ï¿½',' ')\n",
        "\n",
        "### Impacting 174 rows (removing all the URLs)\n",
        "test_data['text'] = test_data['text'].str.replace(r'http\\S+', 'URL', regex=True)\n",
        "\n",
        "### Impacting 2 rows. Just include this in the output\n",
        "#test_data['text'] = test_data['text'].str.replace(':\\|', '')\n",
        "#test_data['text'] = test_data['text'].str.replace(':-\\|', '')\n",
        "\n",
        "\n",
        "### Impacting 1 row. Just include this in the output\n",
        "test_data['text'] = test_data['text'].str.replace('¡', '')\n",
        "\n",
        "#### Remove some of the special characters emojis (impacts 1 row)\n",
        "#test_data['text'] = test_data['text'].str.replace(':\\*', '')\n",
        "\n",
        "#### Remove some of the special characters emojis (impacts 3 rows)\n",
        "#test_data['text'] = test_data['text'].str.replace(':O', '')\n",
        "\n",
        "\n",
        "###Remove leading, trailing and duplicate spaces\n",
        "test_data['text'] = test_data['text'].str.strip()\n",
        "test_data['text'] = test_data['text'].str.replace(r'\\s{2,}', ' ',regex=True)\n",
        "\n",
        "\n",
        "\n",
        "\n"
      ],
      "execution_count": 9,
      "outputs": []
    },
    {
      "cell_type": "markdown",
      "metadata": {
        "id": "sc4cwwE_alTd",
        "colab_type": "text"
      },
      "source": [
        "#### Get the Train Data Ready"
      ]
    },
    {
      "cell_type": "code",
      "metadata": {
        "id": "qTKOUVPEoAcg",
        "colab_type": "code",
        "colab": {}
      },
      "source": [
        "def update_partial_token(row):\n",
        "  return_row = row[\"sel_text_token\"].copy()\n",
        "  if len(row[\"set_diff\"]) > 0:\n",
        "    for item in row[\"set_diff\"]:\n",
        "      actual_text = [s for s in row[\"text_token\"] if item in s]\n",
        "      if len(actual_text) == 1:\n",
        "        sel_txt_indx = return_row.index(item)\n",
        "        return_row[sel_txt_indx] = actual_text[0]\n",
        "      else:\n",
        "        return_row = list(filter((item).__ne__,return_row))\n",
        "  return return_row\n",
        "\n",
        "        \n",
        "    \n"
      ],
      "execution_count": 10,
      "outputs": []
    },
    {
      "cell_type": "code",
      "metadata": {
        "id": "BFj8kOWqdJK0",
        "colab_type": "code",
        "colab": {
          "base_uri": "https://localhost:8080/",
          "height": 97
        },
        "outputId": "bfddd482-e061-4726-ebca-54b47acf4bf9"
      },
      "source": [
        "sub =  r\"[\\w]+|[\\d.#$%&+-/@,!?;\\^_={}\\(\\)*:<>`'\\d]+\"\n",
        "\n",
        "train_data[\"text\"] = train_data[\"text\"].str.lower()\n",
        "train_data[\"selected_text\"] = train_data[\"selected_text\"].str.lower()\n",
        "\n",
        "train_data[\"text_token\"]= train_data[\"text\"].str.findall(sub)\n",
        "train_data[\"sel_text_token\"]= train_data[\"selected_text\"].str.findall(sub)\n",
        "\n",
        "train_data[\"set_diff\"] = train_data[\"sel_text_token\"].apply(set) - train_data[\"text_token\"].apply(set)\n",
        "\n",
        "train_data[\"final_sel_text_token\"] = train_data.apply(update_partial_token,axis=1)\n",
        "\n",
        "#### Correct some of the rows manually\n",
        "\n",
        "####selected_text feels incomplete for these 2 rows\n",
        "#train_data.drop(index=8729,inplace=True)\n",
        "\n",
        "train_data.loc[11808,'final_sel_text_token'] = [[\"hate\"]]\n",
        "train_data.loc[12522,'final_sel_text_token'] = [[\"goodbye\"]]\n",
        "train_data.loc[14172,'final_sel_text_token'] = [['bunny']]\n",
        "train_data.loc[24929,'final_sel_text_token'] = [['wow']]\n",
        "#train_data.loc[25691,'final_sel_text_token'] = [['_cheshire_cat_']]\n",
        "\n",
        "\n",
        "train_data.loc[751,'selected_text'] = 'sucks'\n",
        "train_data.loc[751,'final_sel_text_token'] = [train_data[train_data.idx == 751]['selected_text'].str.findall(sub).values[0]]\n",
        "\n",
        "train_data.loc[4325,'selected_text'] = 'hoping'\n",
        "train_data.loc[4325,'final_sel_text_token'] = [train_data[train_data.idx == 4325]['selected_text'].str.findall(sub).values[0]]\n",
        "\n",
        "train_data.loc[7769,'selected_text'] = 'mean'\n",
        "train_data.loc[7769,'final_sel_text_token'] = [train_data[train_data.idx == 7769]['selected_text'].str.findall(sub).values[0]]\n",
        "\n",
        "\n",
        "train_data.loc[11507,'selected_text'] = 'heat'\n",
        "train_data.loc[11507,'final_sel_text_token'] = [train_data[train_data.idx == 11507]['selected_text'].str.findall(sub).values[0]]\n",
        "\n",
        "train_data.loc[14347,'selected_text'] = 'fuzzy'\n",
        "train_data.loc[14347,'final_sel_text_token'] = [train_data[train_data.idx == 14347]['selected_text'].str.findall(sub).values[0]]\n",
        "\n",
        "train_data.loc[15158,'selected_text'] = 'crash'\n",
        "train_data.loc[15158,'final_sel_text_token'] = [train_data[train_data.idx == 15158]['selected_text'].str.findall(sub).values[0]]\n",
        "\n",
        "train_data.loc[19476,'selected_text'] = 'hilarious'\n",
        "train_data.loc[19476,'final_sel_text_token'] = [train_data[train_data.idx == 19476]['selected_text'].str.findall(sub).values[0]]\n",
        "\n",
        "train_data.loc[22510,'selected_text'] = 'killing'\n",
        "train_data.loc[22510,'final_sel_text_token'] = [train_data[train_data.idx == 22510]['selected_text'].str.findall(sub).values[0]]\n",
        "\n",
        "train_data.loc[24223,'selected_text'] = 'cool'\n",
        "train_data.loc[24223,'final_sel_text_token'] = [train_data[train_data.idx == 24223]['selected_text'].str.findall(sub).values[0]]\n",
        "\n",
        "\n",
        "\n",
        "#train_data.loc[3176,'selected_text'] = 'i agree it`s very important,'\n",
        "#train_data.loc[3176,'final_sel_text_token'] = [train_data[train_data.idx == 3176]['selected_text'].str.findall(sub).values[0]]\n",
        "\n",
        "train_data[\"final_set_diff\"] = train_data[\"final_sel_text_token\"].apply(set) - train_data[\"text_token\"].apply(set)\n",
        "\n",
        "train_data[[\"text\",\"text_token\",\"selected_text\",\"sel_text_token\",\"set_diff\",\"final_set_diff\",\"final_sel_text_token\",\"idx\"]].iloc[11807:11808]"
      ],
      "execution_count": 11,
      "outputs": [
        {
          "output_type": "execute_result",
          "data": {
            "text/html": [
              "<div>\n",
              "<style scoped>\n",
              "    .dataframe tbody tr th:only-of-type {\n",
              "        vertical-align: middle;\n",
              "    }\n",
              "\n",
              "    .dataframe tbody tr th {\n",
              "        vertical-align: top;\n",
              "    }\n",
              "\n",
              "    .dataframe thead th {\n",
              "        text-align: right;\n",
              "    }\n",
              "</style>\n",
              "<table border=\"1\" class=\"dataframe\">\n",
              "  <thead>\n",
              "    <tr style=\"text-align: right;\">\n",
              "      <th></th>\n",
              "      <th>text</th>\n",
              "      <th>text_token</th>\n",
              "      <th>selected_text</th>\n",
              "      <th>sel_text_token</th>\n",
              "      <th>set_diff</th>\n",
              "      <th>final_set_diff</th>\n",
              "      <th>final_sel_text_token</th>\n",
              "      <th>idx</th>\n",
              "    </tr>\n",
              "  </thead>\n",
              "  <tbody>\n",
              "    <tr>\n",
              "      <th>11808</th>\n",
              "      <td>4 hours of sleep, a migraine, again? what is wrong with me? hate my life</td>\n",
              "      <td>[4, hours, of, sleep, ,, a, migraine, ,, again, ?, what, is, wrong, with, me, ?, hate, my, life]</td>\n",
              "      <td>hat</td>\n",
              "      <td>[hat]</td>\n",
              "      <td>{hat}</td>\n",
              "      <td>{}</td>\n",
              "      <td>[hate]</td>\n",
              "      <td>11808</td>\n",
              "    </tr>\n",
              "  </tbody>\n",
              "</table>\n",
              "</div>"
            ],
            "text/plain": [
              "                                                                           text  ...    idx\n",
              "11808  4 hours of sleep, a migraine, again? what is wrong with me? hate my life  ...  11808\n",
              "\n",
              "[1 rows x 8 columns]"
            ]
          },
          "metadata": {
            "tags": []
          },
          "execution_count": 11
        }
      ]
    },
    {
      "cell_type": "code",
      "metadata": {
        "id": "GurwWvhmZNnR",
        "colab_type": "code",
        "colab": {
          "base_uri": "https://localhost:8080/",
          "height": 49
        },
        "outputId": "964ae101-ef84-4051-b2aa-78b2c4aef55e"
      },
      "source": [
        "train_data[train_data['final_set_diff'].apply(len) > 0]"
      ],
      "execution_count": 12,
      "outputs": [
        {
          "output_type": "execute_result",
          "data": {
            "text/html": [
              "<div>\n",
              "<style scoped>\n",
              "    .dataframe tbody tr th:only-of-type {\n",
              "        vertical-align: middle;\n",
              "    }\n",
              "\n",
              "    .dataframe tbody tr th {\n",
              "        vertical-align: top;\n",
              "    }\n",
              "\n",
              "    .dataframe thead th {\n",
              "        text-align: right;\n",
              "    }\n",
              "</style>\n",
              "<table border=\"1\" class=\"dataframe\">\n",
              "  <thead>\n",
              "    <tr style=\"text-align: right;\">\n",
              "      <th></th>\n",
              "      <th>textID</th>\n",
              "      <th>text</th>\n",
              "      <th>selected_text</th>\n",
              "      <th>sentiment</th>\n",
              "      <th>idx</th>\n",
              "      <th>old_text</th>\n",
              "      <th>old_sel_text</th>\n",
              "      <th>text_token</th>\n",
              "      <th>sel_text_token</th>\n",
              "      <th>set_diff</th>\n",
              "      <th>final_sel_text_token</th>\n",
              "      <th>final_set_diff</th>\n",
              "    </tr>\n",
              "  </thead>\n",
              "  <tbody>\n",
              "  </tbody>\n",
              "</table>\n",
              "</div>"
            ],
            "text/plain": [
              "Empty DataFrame\n",
              "Columns: [textID, text, selected_text, sentiment, idx, old_text, old_sel_text, text_token, sel_text_token, set_diff, final_sel_text_token, final_set_diff]\n",
              "Index: []"
            ]
          },
          "metadata": {
            "tags": []
          },
          "execution_count": 12
        }
      ]
    },
    {
      "cell_type": "code",
      "metadata": {
        "id": "LMXufNDcql2d",
        "colab_type": "code",
        "colab": {
          "base_uri": "https://localhost:8080/",
          "height": 34
        },
        "outputId": "7b9d1229-fe31-4855-83c6-fe124fdfef1d"
      },
      "source": [
        "train_data[train_data['set_diff'].apply(len) > 0].shape"
      ],
      "execution_count": 13,
      "outputs": [
        {
          "output_type": "execute_result",
          "data": {
            "text/plain": [
              "(1971, 12)"
            ]
          },
          "metadata": {
            "tags": []
          },
          "execution_count": 13
        }
      ]
    },
    {
      "cell_type": "code",
      "metadata": {
        "id": "JZ8ZTWhwZ5K_",
        "colab_type": "code",
        "colab": {
          "base_uri": "https://localhost:8080/",
          "height": 306
        },
        "outputId": "e3f25f56-4027-4f86-c3d0-e38c374eb8f2"
      },
      "source": [
        "train_data[\"sel_text_token\"] = train_data[\"final_sel_text_token\"].copy()\n",
        "train_data = train_data[[\"textID\",\"text\",\"text_token\",\"selected_text\",\"sel_text_token\",\"sentiment\",\"old_text\",\"old_sel_text\",\"idx\"]]\n",
        "train_data.head()"
      ],
      "execution_count": 14,
      "outputs": [
        {
          "output_type": "execute_result",
          "data": {
            "text/html": [
              "<div>\n",
              "<style scoped>\n",
              "    .dataframe tbody tr th:only-of-type {\n",
              "        vertical-align: middle;\n",
              "    }\n",
              "\n",
              "    .dataframe tbody tr th {\n",
              "        vertical-align: top;\n",
              "    }\n",
              "\n",
              "    .dataframe thead th {\n",
              "        text-align: right;\n",
              "    }\n",
              "</style>\n",
              "<table border=\"1\" class=\"dataframe\">\n",
              "  <thead>\n",
              "    <tr style=\"text-align: right;\">\n",
              "      <th></th>\n",
              "      <th>textID</th>\n",
              "      <th>text</th>\n",
              "      <th>text_token</th>\n",
              "      <th>selected_text</th>\n",
              "      <th>sel_text_token</th>\n",
              "      <th>sentiment</th>\n",
              "      <th>old_text</th>\n",
              "      <th>old_sel_text</th>\n",
              "      <th>idx</th>\n",
              "    </tr>\n",
              "  </thead>\n",
              "  <tbody>\n",
              "    <tr>\n",
              "      <th>0</th>\n",
              "      <td>cb774db0d1</td>\n",
              "      <td>i`d have responded, if i were going</td>\n",
              "      <td>[i, `, d, have, responded, ,, if, i, were, going]</td>\n",
              "      <td>i`d have responded, if i were going</td>\n",
              "      <td>[i, `, d, have, responded, ,, if, i, were, going]</td>\n",
              "      <td>neutral</td>\n",
              "      <td>I`d have responded, if I were going</td>\n",
              "      <td>I`d have responded, if I were going</td>\n",
              "      <td>0</td>\n",
              "    </tr>\n",
              "    <tr>\n",
              "      <th>1</th>\n",
              "      <td>549e992a42</td>\n",
              "      <td>sooo sad i will miss you here in san diego!!!</td>\n",
              "      <td>[sooo, sad, i, will, miss, you, here, in, san, diego, !!!]</td>\n",
              "      <td>sooo sad</td>\n",
              "      <td>[sooo, sad]</td>\n",
              "      <td>negative</td>\n",
              "      <td>Sooo SAD I will miss you here in San Diego!!!</td>\n",
              "      <td>Sooo SAD</td>\n",
              "      <td>1</td>\n",
              "    </tr>\n",
              "    <tr>\n",
              "      <th>2</th>\n",
              "      <td>088c60f138</td>\n",
              "      <td>my boss is bullying me...</td>\n",
              "      <td>[my, boss, is, bullying, me, ...]</td>\n",
              "      <td>bullying me</td>\n",
              "      <td>[bullying, me]</td>\n",
              "      <td>negative</td>\n",
              "      <td>my boss is bullying me...</td>\n",
              "      <td>bullying me</td>\n",
              "      <td>2</td>\n",
              "    </tr>\n",
              "    <tr>\n",
              "      <th>3</th>\n",
              "      <td>9642c003ef</td>\n",
              "      <td>what interview! leave me alone</td>\n",
              "      <td>[what, interview, !, leave, me, alone]</td>\n",
              "      <td>leave me alone</td>\n",
              "      <td>[leave, me, alone]</td>\n",
              "      <td>negative</td>\n",
              "      <td>what interview! leave me alone</td>\n",
              "      <td>leave me alone</td>\n",
              "      <td>3</td>\n",
              "    </tr>\n",
              "    <tr>\n",
              "      <th>4</th>\n",
              "      <td>358bd9e861</td>\n",
              "      <td>sons of ****, why couldn`t they put them on the releases we already bought</td>\n",
              "      <td>[sons, of, ****,, why, couldn, `, t, they, put, them, on, the, releases, we, already, bought]</td>\n",
              "      <td>sons of ****,</td>\n",
              "      <td>[sons, of, ****,]</td>\n",
              "      <td>negative</td>\n",
              "      <td>Sons of ****, why couldn`t they put them on the releases we already bought</td>\n",
              "      <td>Sons of ****,</td>\n",
              "      <td>4</td>\n",
              "    </tr>\n",
              "  </tbody>\n",
              "</table>\n",
              "</div>"
            ],
            "text/plain": [
              "       textID  ... idx\n",
              "0  cb774db0d1  ...   0\n",
              "1  549e992a42  ...   1\n",
              "2  088c60f138  ...   2\n",
              "3  9642c003ef  ...   3\n",
              "4  358bd9e861  ...   4\n",
              "\n",
              "[5 rows x 9 columns]"
            ]
          },
          "metadata": {
            "tags": []
          },
          "execution_count": 14
        }
      ]
    },
    {
      "cell_type": "code",
      "metadata": {
        "id": "e3i28mDAFjf6",
        "colab_type": "code",
        "colab": {
          "base_uri": "https://localhost:8080/",
          "height": 278
        },
        "outputId": "d85a0cd1-0bd5-4603-e86f-b00df1c268a2"
      },
      "source": [
        "train_data.iloc[14170:14173]"
      ],
      "execution_count": 15,
      "outputs": [
        {
          "output_type": "execute_result",
          "data": {
            "text/html": [
              "<div>\n",
              "<style scoped>\n",
              "    .dataframe tbody tr th:only-of-type {\n",
              "        vertical-align: middle;\n",
              "    }\n",
              "\n",
              "    .dataframe tbody tr th {\n",
              "        vertical-align: top;\n",
              "    }\n",
              "\n",
              "    .dataframe thead th {\n",
              "        text-align: right;\n",
              "    }\n",
              "</style>\n",
              "<table border=\"1\" class=\"dataframe\">\n",
              "  <thead>\n",
              "    <tr style=\"text-align: right;\">\n",
              "      <th></th>\n",
              "      <th>textID</th>\n",
              "      <th>text</th>\n",
              "      <th>text_token</th>\n",
              "      <th>selected_text</th>\n",
              "      <th>sel_text_token</th>\n",
              "      <th>sentiment</th>\n",
              "      <th>old_text</th>\n",
              "      <th>old_sel_text</th>\n",
              "      <th>idx</th>\n",
              "    </tr>\n",
              "  </thead>\n",
              "  <tbody>\n",
              "    <tr>\n",
              "      <th>14171</th>\n",
              "      <td>2e4c791638</td>\n",
              "      <td>yay! i finally made sales at the gallery; really helps when the artists are there</td>\n",
              "      <td>[yay, !, i, finally, made, sales, at, the, gallery, ;, really, helps, when, the, artists, are, there]</td>\n",
              "      <td>helps</td>\n",
              "      <td>[helps]</td>\n",
              "      <td>positive</td>\n",
              "      <td>Yay! I finally made sales at the gallery; Really helps when the artists are there</td>\n",
              "      <td>helps</td>\n",
              "      <td>14171</td>\n",
              "    </tr>\n",
              "    <tr>\n",
              "      <th>14172</th>\n",
              "      <td>c155efab1b</td>\n",
              "      <td>hey honey bunny here big bunny hugs</td>\n",
              "      <td>[hey, honey, bunny, here, big, bunny, hugs]</td>\n",
              "      <td>unny</td>\n",
              "      <td>[bunny]</td>\n",
              "      <td>positive</td>\n",
              "      <td>Hey Honey  Bunny here  big bunny hugs</td>\n",
              "      <td>unny</td>\n",
              "      <td>14172</td>\n",
              "    </tr>\n",
              "    <tr>\n",
              "      <th>14173</th>\n",
              "      <td>454efa3d41</td>\n",
              "      <td>iya, nyokap gue pernah berkata demikian :-| and it`s so hard to share what we have</td>\n",
              "      <td>[iya, ,, nyokap, gue, pernah, berkata, demikian, :-, and, it, `, s, so, hard, to, share, what, we, have]</td>\n",
              "      <td>nd it`s so hard</td>\n",
              "      <td>[and, it, `, s, so, hard]</td>\n",
              "      <td>negative</td>\n",
              "      <td>iya, nyokap gue pernah berkata demikian  :-|  and it`s so hard to share what we have</td>\n",
              "      <td>nd it`s so hard</td>\n",
              "      <td>14173</td>\n",
              "    </tr>\n",
              "  </tbody>\n",
              "</table>\n",
              "</div>"
            ],
            "text/plain": [
              "           textID  ...    idx\n",
              "14171  2e4c791638  ...  14171\n",
              "14172  c155efab1b  ...  14172\n",
              "14173  454efa3d41  ...  14173\n",
              "\n",
              "[3 rows x 9 columns]"
            ]
          },
          "metadata": {
            "tags": []
          },
          "execution_count": 15
        }
      ]
    },
    {
      "cell_type": "markdown",
      "metadata": {
        "id": "0FnvVuKKb7m3",
        "colab_type": "text"
      },
      "source": [
        "#### Get the test data ready"
      ]
    },
    {
      "cell_type": "code",
      "metadata": {
        "id": "M39HiDMVcBBp",
        "colab_type": "code",
        "colab": {
          "base_uri": "https://localhost:8080/",
          "height": 323
        },
        "outputId": "c6fb292c-1f7e-405a-edd6-450e4bbaa588"
      },
      "source": [
        "pd.set_option(\"display.max_rows\",500)\n",
        "\n",
        "sub =  r\"[\\w]+|[\\d.#$%&+-/@,!?;\\^_={}\\(\\)*:<>`'\\d]+\"\n",
        "test_data[\"text\"] = test_data[\"text\"].str.lower()\n",
        "test_data[\"text_token\"]= test_data[\"text\"].str.findall(sub)\n",
        "\n",
        "test_data.tail()"
      ],
      "execution_count": 16,
      "outputs": [
        {
          "output_type": "execute_result",
          "data": {
            "text/html": [
              "<div>\n",
              "<style scoped>\n",
              "    .dataframe tbody tr th:only-of-type {\n",
              "        vertical-align: middle;\n",
              "    }\n",
              "\n",
              "    .dataframe tbody tr th {\n",
              "        vertical-align: top;\n",
              "    }\n",
              "\n",
              "    .dataframe thead th {\n",
              "        text-align: right;\n",
              "    }\n",
              "</style>\n",
              "<table border=\"1\" class=\"dataframe\">\n",
              "  <thead>\n",
              "    <tr style=\"text-align: right;\">\n",
              "      <th></th>\n",
              "      <th>textID</th>\n",
              "      <th>text</th>\n",
              "      <th>sentiment</th>\n",
              "      <th>idx</th>\n",
              "      <th>old_text</th>\n",
              "      <th>text_token</th>\n",
              "    </tr>\n",
              "  </thead>\n",
              "  <tbody>\n",
              "    <tr>\n",
              "      <th>3529</th>\n",
              "      <td>e5f0e6ef4b</td>\n",
              "      <td>its at 3 am, im very tired but i can`t sleep but i try it</td>\n",
              "      <td>negative</td>\n",
              "      <td>3529</td>\n",
              "      <td>its at 3 am, im very tired but i can`t sleep  but i try it</td>\n",
              "      <td>[its, at, 3, am, ,, im, very, tired, but, i, can, `, t, sleep, but, i, try, it]</td>\n",
              "    </tr>\n",
              "    <tr>\n",
              "      <th>3530</th>\n",
              "      <td>416863ce47</td>\n",
              "      <td>all alone in this old house again. thanks for the net which keeps me alive and kicking! whoever invented the net, i wanna kiss your hair!</td>\n",
              "      <td>positive</td>\n",
              "      <td>3530</td>\n",
              "      <td>All alone in this old house again.  Thanks for the net which keeps me alive and kicking! Whoever invented the net, i wanna kiss your hair!</td>\n",
              "      <td>[all, alone, in, this, old, house, again, ., thanks, for, the, net, which, keeps, me, alive, and, kicking, !, whoever, invented, the, net, ,, i, wanna, kiss, your, hair, !]</td>\n",
              "    </tr>\n",
              "    <tr>\n",
              "      <th>3531</th>\n",
              "      <td>6332da480c</td>\n",
              "      <td>i know what you mean. my little dog is sinking into depression... he wants to move someplace tropical</td>\n",
              "      <td>negative</td>\n",
              "      <td>3531</td>\n",
              "      <td>I know what you mean. My little dog is sinking into depression... he wants to move someplace tropical</td>\n",
              "      <td>[i, know, what, you, mean, ., my, little, dog, is, sinking, into, depression, ..., he, wants, to, move, someplace, tropical]</td>\n",
              "    </tr>\n",
              "    <tr>\n",
              "      <th>3532</th>\n",
              "      <td>df1baec676</td>\n",
              "      <td>_sutra what is your next youtube video gonna be about? i love your videos!</td>\n",
              "      <td>positive</td>\n",
              "      <td>3532</td>\n",
              "      <td>_sutra what is your next youtube video gonna be about? I love your videos!</td>\n",
              "      <td>[_sutra, what, is, your, next, youtube, video, gonna, be, about, ?, i, love, your, videos, !]</td>\n",
              "    </tr>\n",
              "    <tr>\n",
              "      <th>3533</th>\n",
              "      <td>469e15c5a8</td>\n",
              "      <td>url - omgssh ang cute ng bby.!</td>\n",
              "      <td>positive</td>\n",
              "      <td>3533</td>\n",
              "      <td>http://twitpic.com/4woj2 - omgssh  ang cute ng bby.!</td>\n",
              "      <td>[url, -, omgssh, ang, cute, ng, bby, .!]</td>\n",
              "    </tr>\n",
              "  </tbody>\n",
              "</table>\n",
              "</div>"
            ],
            "text/plain": [
              "          textID  ...                                                                                                                                                                    text_token\n",
              "3529  e5f0e6ef4b  ...                                                                                               [its, at, 3, am, ,, im, very, tired, but, i, can, `, t, sleep, but, i, try, it]\n",
              "3530  416863ce47  ...  [all, alone, in, this, old, house, again, ., thanks, for, the, net, which, keeps, me, alive, and, kicking, !, whoever, invented, the, net, ,, i, wanna, kiss, your, hair, !]\n",
              "3531  6332da480c  ...                                                  [i, know, what, you, mean, ., my, little, dog, is, sinking, into, depression, ..., he, wants, to, move, someplace, tropical]\n",
              "3532  df1baec676  ...                                                                                 [_sutra, what, is, your, next, youtube, video, gonna, be, about, ?, i, love, your, videos, !]\n",
              "3533  469e15c5a8  ...                                                                                                                                      [url, -, omgssh, ang, cute, ng, bby, .!]\n",
              "\n",
              "[5 rows x 6 columns]"
            ]
          },
          "metadata": {
            "tags": []
          },
          "execution_count": 16
        }
      ]
    },
    {
      "cell_type": "markdown",
      "metadata": {
        "id": "CyU403ZAdcl5",
        "colab_type": "text"
      },
      "source": [
        "How many words that are there in test text that are not there in the train text?"
      ]
    },
    {
      "cell_type": "code",
      "metadata": {
        "id": "oB2wvYawdTng",
        "colab_type": "code",
        "colab": {
          "base_uri": "https://localhost:8080/",
          "height": 34
        },
        "outputId": "0efe9968-2551-4663-a7fa-eca73f59c446"
      },
      "source": [
        "test_train_diff = set(test_data[\"text_token\"].sum()) - set(train_data[\"text_token\"].sum())\n",
        "len(test_train_diff)"
      ],
      "execution_count": 17,
      "outputs": [
        {
          "output_type": "execute_result",
          "data": {
            "text/plain": [
              "1910"
            ]
          },
          "metadata": {
            "tags": []
          },
          "execution_count": 17
        }
      ]
    },
    {
      "cell_type": "markdown",
      "metadata": {
        "id": "jUeVA69jeYvH",
        "colab_type": "text"
      },
      "source": [
        "#### Let's lemmatize to ensure that we reduce the number of missing text"
      ]
    },
    {
      "cell_type": "code",
      "metadata": {
        "id": "i_R0v3Y8ejeU",
        "colab_type": "code",
        "colab": {}
      },
      "source": [
        "### Lemmatize train words\n",
        "unique_train_words = list(set(train_data[\"text_token\"].sum()))\n",
        "\n",
        "unique_lemma_train_words = []\n",
        "train_lemma_words = {}\n",
        "\n",
        "separator = ', '\n",
        "doc = nlp(separator.join(unique_train_words))\n",
        "\n",
        "for token in doc:\n",
        "  if token.text != token.lemma_:\n",
        "    train_lemma_words[token.text] = token.lemma_\n",
        "  unique_lemma_train_words.append(token.lemma_)\n",
        "\n"
      ],
      "execution_count": 18,
      "outputs": []
    },
    {
      "cell_type": "code",
      "metadata": {
        "id": "0IMXECrlg69d",
        "colab_type": "code",
        "colab": {}
      },
      "source": [
        "### Lemmatize test words\n",
        "\n",
        "unique_test_words = list(set(test_data[\"text_token\"].sum()))\n",
        "\n",
        "unique_lemma_test_words = []\n",
        "test_lemma_words = {}\n",
        "\n",
        "separator = ', '\n",
        "doc = nlp(separator.join(unique_test_words))\n",
        "\n",
        "for token in doc:\n",
        "  if token.text != token.lemma_:\n",
        "    test_lemma_words[token.text] = token.lemma_\n",
        "  unique_lemma_test_words.append(token.lemma_)\n"
      ],
      "execution_count": 19,
      "outputs": []
    },
    {
      "cell_type": "code",
      "metadata": {
        "id": "BXXzMGkqgHdj",
        "colab_type": "code",
        "colab": {
          "base_uri": "https://localhost:8080/",
          "height": 51
        },
        "outputId": "4af0795f-e87d-4f40-af3a-5b8b79fbac9a"
      },
      "source": [
        "print (f'The number of training words lemmatized: {len(train_lemma_words)}')\n",
        "print (f'The number of training words lemmatized: {len(test_lemma_words)}')"
      ],
      "execution_count": 20,
      "outputs": [
        {
          "output_type": "stream",
          "text": [
            "The number of training words lemmatized: 4217\n",
            "The number of training words lemmatized: 1315\n"
          ],
          "name": "stdout"
        }
      ]
    },
    {
      "cell_type": "code",
      "metadata": {
        "id": "H6rT6DEUixb6",
        "colab_type": "code",
        "colab": {
          "base_uri": "https://localhost:8080/",
          "height": 34
        },
        "outputId": "58771327-766f-4e9b-d0b2-d80ad35378cc"
      },
      "source": [
        "### Number of words still in test set that's not part of training set\n",
        "test_train_diff = set(unique_lemma_test_words) - set(unique_lemma_train_words)\n",
        "len(test_train_diff)"
      ],
      "execution_count": 21,
      "outputs": [
        {
          "output_type": "execute_result",
          "data": {
            "text/plain": [
              "1675"
            ]
          },
          "metadata": {
            "tags": []
          },
          "execution_count": 21
        }
      ]
    },
    {
      "cell_type": "markdown",
      "metadata": {
        "id": "_4ViiDv_jyNm",
        "colab_type": "text"
      },
      "source": [
        "There are 1669 more words left. Let's include lemmatized words into test and train token."
      ]
    },
    {
      "cell_type": "code",
      "metadata": {
        "id": "tcVsKLcNj-u0",
        "colab_type": "code",
        "colab": {}
      },
      "source": [
        "def update_lemmatized_token(row,token_column,lemma_word_dict):\n",
        "  updated_words = {}\n",
        "  try:\n",
        "    for i, item in enumerate(row[token_column]):\n",
        "      if item in lemma_word_dict.keys():\n",
        "        row[token_column][i] = lemma_word_dict[item]\n",
        "        updated_words[lemma_word_dict[item]] = item\n",
        "  except:\n",
        "    print(row)\n",
        "    print(\"\\n\")\n",
        "  return updated_words\n"
      ],
      "execution_count": 22,
      "outputs": []
    },
    {
      "cell_type": "code",
      "metadata": {
        "id": "0MPMJbFpKHkV",
        "colab_type": "code",
        "colab": {
          "base_uri": "https://localhost:8080/",
          "height": 97
        },
        "outputId": "d697d3d2-478f-4bc4-e0d1-6d558ecaf2d9"
      },
      "source": [
        "train_data.iloc[2365:2366]"
      ],
      "execution_count": 23,
      "outputs": [
        {
          "output_type": "execute_result",
          "data": {
            "text/html": [
              "<div>\n",
              "<style scoped>\n",
              "    .dataframe tbody tr th:only-of-type {\n",
              "        vertical-align: middle;\n",
              "    }\n",
              "\n",
              "    .dataframe tbody tr th {\n",
              "        vertical-align: top;\n",
              "    }\n",
              "\n",
              "    .dataframe thead th {\n",
              "        text-align: right;\n",
              "    }\n",
              "</style>\n",
              "<table border=\"1\" class=\"dataframe\">\n",
              "  <thead>\n",
              "    <tr style=\"text-align: right;\">\n",
              "      <th></th>\n",
              "      <th>textID</th>\n",
              "      <th>text</th>\n",
              "      <th>text_token</th>\n",
              "      <th>selected_text</th>\n",
              "      <th>sel_text_token</th>\n",
              "      <th>sentiment</th>\n",
              "      <th>old_text</th>\n",
              "      <th>old_sel_text</th>\n",
              "      <th>idx</th>\n",
              "    </tr>\n",
              "  </thead>\n",
              "  <tbody>\n",
              "    <tr>\n",
              "      <th>2366</th>\n",
              "      <td>38b714ce6c</td>\n",
              "      <td>i know - but there are loads of others left</td>\n",
              "      <td>[i, know, -, but, there, are, loads, of, others, left]</td>\n",
              "      <td>i know - but there are loads of others left</td>\n",
              "      <td>[i, know, -, but, there, are, loads, of, others, left]</td>\n",
              "      <td>neutral</td>\n",
              "      <td>I know - but there are loads of others left</td>\n",
              "      <td>I know - but there are loads of others left</td>\n",
              "      <td>2366</td>\n",
              "    </tr>\n",
              "  </tbody>\n",
              "</table>\n",
              "</div>"
            ],
            "text/plain": [
              "          textID  ...   idx\n",
              "2366  38b714ce6c  ...  2366\n",
              "\n",
              "[1 rows x 9 columns]"
            ]
          },
          "metadata": {
            "tags": []
          },
          "execution_count": 23
        }
      ]
    },
    {
      "cell_type": "code",
      "metadata": {
        "id": "SBxJUUaTlVNI",
        "colab_type": "code",
        "colab": {}
      },
      "source": [
        "train_data[\"text_lemmetized_words\"] = train_data.apply(update_lemmatized_token,args=(\"text_token\",train_lemma_words),axis=1)\n",
        "train_data[\"sel_text_lemmetized_words\"] = train_data.apply(update_lemmatized_token,args=(\"sel_text_token\",train_lemma_words),axis=1)"
      ],
      "execution_count": 24,
      "outputs": []
    },
    {
      "cell_type": "code",
      "metadata": {
        "id": "boVrS7Weo9m-",
        "colab_type": "code",
        "colab": {
          "base_uri": "https://localhost:8080/",
          "height": 199
        },
        "outputId": "ee8e87df-800c-4f76-b244-21ba2b1a3a19"
      },
      "source": [
        "train_data.iloc[2365:2366]"
      ],
      "execution_count": 25,
      "outputs": [
        {
          "output_type": "execute_result",
          "data": {
            "text/html": [
              "<div>\n",
              "<style scoped>\n",
              "    .dataframe tbody tr th:only-of-type {\n",
              "        vertical-align: middle;\n",
              "    }\n",
              "\n",
              "    .dataframe tbody tr th {\n",
              "        vertical-align: top;\n",
              "    }\n",
              "\n",
              "    .dataframe thead th {\n",
              "        text-align: right;\n",
              "    }\n",
              "</style>\n",
              "<table border=\"1\" class=\"dataframe\">\n",
              "  <thead>\n",
              "    <tr style=\"text-align: right;\">\n",
              "      <th></th>\n",
              "      <th>textID</th>\n",
              "      <th>text</th>\n",
              "      <th>text_token</th>\n",
              "      <th>selected_text</th>\n",
              "      <th>sel_text_token</th>\n",
              "      <th>sentiment</th>\n",
              "      <th>old_text</th>\n",
              "      <th>old_sel_text</th>\n",
              "      <th>idx</th>\n",
              "      <th>text_lemmetized_words</th>\n",
              "      <th>sel_text_lemmetized_words</th>\n",
              "    </tr>\n",
              "  </thead>\n",
              "  <tbody>\n",
              "    <tr>\n",
              "      <th>2366</th>\n",
              "      <td>38b714ce6c</td>\n",
              "      <td>i know - but there are loads of others left</td>\n",
              "      <td>[-PRON-, know, -, but, there, be, load, of, other, leave]</td>\n",
              "      <td>i know - but there are loads of others left</td>\n",
              "      <td>[-PRON-, know, -, but, there, be, load, of, other, leave]</td>\n",
              "      <td>neutral</td>\n",
              "      <td>I know - but there are loads of others left</td>\n",
              "      <td>I know - but there are loads of others left</td>\n",
              "      <td>2366</td>\n",
              "      <td>{'-PRON-': 'i', 'be': 'are', 'load': 'loads', 'other': 'others', 'leave': 'left'}</td>\n",
              "      <td>{'-PRON-': 'i', 'be': 'are', 'load': 'loads', 'other': 'others', 'leave': 'left'}</td>\n",
              "    </tr>\n",
              "  </tbody>\n",
              "</table>\n",
              "</div>"
            ],
            "text/plain": [
              "          textID  ...                                                          sel_text_lemmetized_words\n",
              "2366  38b714ce6c  ...  {'-PRON-': 'i', 'be': 'are', 'load': 'loads', 'other': 'others', 'leave': 'left'}\n",
              "\n",
              "[1 rows x 11 columns]"
            ]
          },
          "metadata": {
            "tags": []
          },
          "execution_count": 25
        }
      ]
    },
    {
      "cell_type": "code",
      "metadata": {
        "id": "Oj2ZDQz3HM1h",
        "colab_type": "code",
        "colab": {
          "base_uri": "https://localhost:8080/",
          "height": 287
        },
        "outputId": "7d1c5158-5983-458e-ef93-b7734af9fb4d"
      },
      "source": [
        "train_data.iloc[5352:5353]"
      ],
      "execution_count": 26,
      "outputs": [
        {
          "output_type": "execute_result",
          "data": {
            "text/html": [
              "<div>\n",
              "<style scoped>\n",
              "    .dataframe tbody tr th:only-of-type {\n",
              "        vertical-align: middle;\n",
              "    }\n",
              "\n",
              "    .dataframe tbody tr th {\n",
              "        vertical-align: top;\n",
              "    }\n",
              "\n",
              "    .dataframe thead th {\n",
              "        text-align: right;\n",
              "    }\n",
              "</style>\n",
              "<table border=\"1\" class=\"dataframe\">\n",
              "  <thead>\n",
              "    <tr style=\"text-align: right;\">\n",
              "      <th></th>\n",
              "      <th>textID</th>\n",
              "      <th>text</th>\n",
              "      <th>text_token</th>\n",
              "      <th>selected_text</th>\n",
              "      <th>sel_text_token</th>\n",
              "      <th>sentiment</th>\n",
              "      <th>old_text</th>\n",
              "      <th>old_sel_text</th>\n",
              "      <th>idx</th>\n",
              "      <th>text_lemmetized_words</th>\n",
              "      <th>sel_text_lemmetized_words</th>\n",
              "    </tr>\n",
              "  </thead>\n",
              "  <tbody>\n",
              "    <tr>\n",
              "      <th>5353</th>\n",
              "      <td>4ead488f3e</td>\n",
              "      <td>i waited too long to buy pink tickets! now we`re going to be in nose bleed!! how sad we`re taking binoculars...</td>\n",
              "      <td>[-PRON-, wait, too, long, to, buy, pink, ticket, !, now, -PRON-, `, be, go, to, be, in, nose, bleed, !!, how, sad, -PRON-, `, be, taking, binocular, ...]</td>\n",
              "      <td>w sad</td>\n",
              "      <td>[sad]</td>\n",
              "      <td>negative</td>\n",
              "      <td>i waited too long to buy pink tickets!  now we`re going to be in nose bleed!!  how sad  we`re taking binoculars...</td>\n",
              "      <td>w sad</td>\n",
              "      <td>5353</td>\n",
              "      <td>{'-PRON-': 'we', 'wait': 'waited', 'ticket': 'tickets', 'be': 're', 'go': 'going', 'binocular': 'binoculars'}</td>\n",
              "      <td>{}</td>\n",
              "    </tr>\n",
              "  </tbody>\n",
              "</table>\n",
              "</div>"
            ],
            "text/plain": [
              "          textID  ... sel_text_lemmetized_words\n",
              "5353  4ead488f3e  ...                        {}\n",
              "\n",
              "[1 rows x 11 columns]"
            ]
          },
          "metadata": {
            "tags": []
          },
          "execution_count": 26
        }
      ]
    },
    {
      "cell_type": "code",
      "metadata": {
        "id": "a1A0571CkC-c",
        "colab_type": "code",
        "colab": {}
      },
      "source": [
        "test_data[\"text_lemmetized_words\"] = test_data.apply(update_lemmatized_token,args=(\"text_token\",test_lemma_words),axis=1)"
      ],
      "execution_count": 27,
      "outputs": []
    },
    {
      "cell_type": "code",
      "metadata": {
        "id": "aXl1tq-ApPL1",
        "colab_type": "code",
        "colab": {
          "base_uri": "https://localhost:8080/",
          "height": 289
        },
        "outputId": "f297bca4-89d6-49cf-f4e8-ebc3cd1719d8"
      },
      "source": [
        "test_data.head()"
      ],
      "execution_count": 28,
      "outputs": [
        {
          "output_type": "execute_result",
          "data": {
            "text/html": [
              "<div>\n",
              "<style scoped>\n",
              "    .dataframe tbody tr th:only-of-type {\n",
              "        vertical-align: middle;\n",
              "    }\n",
              "\n",
              "    .dataframe tbody tr th {\n",
              "        vertical-align: top;\n",
              "    }\n",
              "\n",
              "    .dataframe thead th {\n",
              "        text-align: right;\n",
              "    }\n",
              "</style>\n",
              "<table border=\"1\" class=\"dataframe\">\n",
              "  <thead>\n",
              "    <tr style=\"text-align: right;\">\n",
              "      <th></th>\n",
              "      <th>textID</th>\n",
              "      <th>text</th>\n",
              "      <th>sentiment</th>\n",
              "      <th>idx</th>\n",
              "      <th>old_text</th>\n",
              "      <th>text_token</th>\n",
              "      <th>text_lemmetized_words</th>\n",
              "    </tr>\n",
              "  </thead>\n",
              "  <tbody>\n",
              "    <tr>\n",
              "      <th>0</th>\n",
              "      <td>f87dea47db</td>\n",
              "      <td>last session of the day url</td>\n",
              "      <td>neutral</td>\n",
              "      <td>0</td>\n",
              "      <td>Last session of the day  http://twitpic.com/67ezh</td>\n",
              "      <td>[last, session, of, the, day, url]</td>\n",
              "      <td>{}</td>\n",
              "    </tr>\n",
              "    <tr>\n",
              "      <th>1</th>\n",
              "      <td>96d74cb729</td>\n",
              "      <td>shanghai is also really exciting (precisely -- skyscrapers galore). good tweeps in china: (sh) (bj).</td>\n",
              "      <td>positive</td>\n",
              "      <td>1</td>\n",
              "      <td>Shanghai is also really exciting (precisely -- skyscrapers galore). Good tweeps in China:  (SH)  (BJ).</td>\n",
              "      <td>[shanghai, be, also, really, exciting, (, precisely, --, skyscraper, galore, )., good, tweep, in, china, :, (, sh, ), (, bj, ).]</td>\n",
              "      <td>{'be': 'is', 'skyscraper': 'skyscrapers', 'tweep': 'tweeps'}</td>\n",
              "    </tr>\n",
              "    <tr>\n",
              "      <th>2</th>\n",
              "      <td>eee518ae67</td>\n",
              "      <td>recession hit veronique branquinho, she has to quit her company, such a shame!</td>\n",
              "      <td>negative</td>\n",
              "      <td>2</td>\n",
              "      <td>Recession hit Veronique Branquinho, she has to quit her company, such a shame!</td>\n",
              "      <td>[recession, hit, veronique, branquinho, ,, -PRON-, have, to, quit, -PRON-, company, ,, such, going to, shame, !]</td>\n",
              "      <td>{'-PRON-': 'her', 'have': 'has', 'going to': 'a'}</td>\n",
              "    </tr>\n",
              "    <tr>\n",
              "      <th>3</th>\n",
              "      <td>01082688c6</td>\n",
              "      <td>happy bday!</td>\n",
              "      <td>positive</td>\n",
              "      <td>3</td>\n",
              "      <td>happy bday!</td>\n",
              "      <td>[happy, bday, !]</td>\n",
              "      <td>{}</td>\n",
              "    </tr>\n",
              "    <tr>\n",
              "      <th>4</th>\n",
              "      <td>33987a8ee5</td>\n",
              "      <td>url - i like it!!</td>\n",
              "      <td>positive</td>\n",
              "      <td>4</td>\n",
              "      <td>http://twitpic.com/4w75p - I like it!!</td>\n",
              "      <td>[url, -, -PRON-, like, -PRON-, !!]</td>\n",
              "      <td>{'-PRON-': 'it'}</td>\n",
              "    </tr>\n",
              "  </tbody>\n",
              "</table>\n",
              "</div>"
            ],
            "text/plain": [
              "       textID  ...                                         text_lemmetized_words\n",
              "0  f87dea47db  ...                                                            {}\n",
              "1  96d74cb729  ...  {'be': 'is', 'skyscraper': 'skyscrapers', 'tweep': 'tweeps'}\n",
              "2  eee518ae67  ...             {'-PRON-': 'her', 'have': 'has', 'going to': 'a'}\n",
              "3  01082688c6  ...                                                            {}\n",
              "4  33987a8ee5  ...                                              {'-PRON-': 'it'}\n",
              "\n",
              "[5 rows x 7 columns]"
            ]
          },
          "metadata": {
            "tags": []
          },
          "execution_count": 28
        }
      ]
    },
    {
      "cell_type": "markdown",
      "metadata": {
        "id": "LFRQL1tOqKNu",
        "colab_type": "text"
      },
      "source": [
        "There are still 1660 words in test dataset that are not there in train. Let's do spelling correction on those words to see if that helps."
      ]
    },
    {
      "cell_type": "code",
      "metadata": {
        "id": "5Bx2_1bDrkqG",
        "colab_type": "code",
        "colab": {}
      },
      "source": [
        "#misspelled = spell.unknown(test_train_diff)"
      ],
      "execution_count": 29,
      "outputs": []
    },
    {
      "cell_type": "code",
      "metadata": {
        "id": "pv6l4LCkrrC7",
        "colab_type": "code",
        "colab": {}
      },
      "source": [
        "#spell_corrected_word = []\n",
        "#corrected_word_dict = {}\n",
        "\n",
        "#for item in misspelled:\n",
        "#  corrected_word_dict[item] = spell.correction(item)\n",
        " # spell_corrected_word.append(spell.correction(item))"
      ],
      "execution_count": 30,
      "outputs": []
    },
    {
      "cell_type": "code",
      "metadata": {
        "id": "La7aby2JsD-u",
        "colab_type": "code",
        "colab": {}
      },
      "source": [
        "def update_misspelled_token(row,token_column,mispell_word_dict):\n",
        "  updated_words = {}\n",
        "  for i, item in enumerate(row[token_column]):\n",
        "    if item in mispell_word_dict.keys():\n",
        "      row[token_column][i] = mispell_word_dict[item]\n",
        "      updated_words[mispell_word_dict[item]] = item\n",
        "  return updated_words"
      ],
      "execution_count": 31,
      "outputs": []
    },
    {
      "cell_type": "code",
      "metadata": {
        "id": "aIHaqNx6sTZd",
        "colab_type": "code",
        "colab": {}
      },
      "source": [
        "#test_data[\"text_misspelled_words\"] = test_data.apply(update_misspelled_token,args=(\"text_token\",corrected_word_dict),axis=1)"
      ],
      "execution_count": 32,
      "outputs": []
    },
    {
      "cell_type": "code",
      "metadata": {
        "id": "PzcbZ-rIw_0f",
        "colab_type": "code",
        "colab": {
          "base_uri": "https://localhost:8080/",
          "height": 391
        },
        "outputId": "3f7d3249-c522-4df8-dbe3-17ce6ff038f0"
      },
      "source": [
        "test_data.tail()"
      ],
      "execution_count": 33,
      "outputs": [
        {
          "output_type": "execute_result",
          "data": {
            "text/html": [
              "<div>\n",
              "<style scoped>\n",
              "    .dataframe tbody tr th:only-of-type {\n",
              "        vertical-align: middle;\n",
              "    }\n",
              "\n",
              "    .dataframe tbody tr th {\n",
              "        vertical-align: top;\n",
              "    }\n",
              "\n",
              "    .dataframe thead th {\n",
              "        text-align: right;\n",
              "    }\n",
              "</style>\n",
              "<table border=\"1\" class=\"dataframe\">\n",
              "  <thead>\n",
              "    <tr style=\"text-align: right;\">\n",
              "      <th></th>\n",
              "      <th>textID</th>\n",
              "      <th>text</th>\n",
              "      <th>sentiment</th>\n",
              "      <th>idx</th>\n",
              "      <th>old_text</th>\n",
              "      <th>text_token</th>\n",
              "      <th>text_lemmetized_words</th>\n",
              "    </tr>\n",
              "  </thead>\n",
              "  <tbody>\n",
              "    <tr>\n",
              "      <th>3529</th>\n",
              "      <td>e5f0e6ef4b</td>\n",
              "      <td>its at 3 am, im very tired but i can`t sleep but i try it</td>\n",
              "      <td>negative</td>\n",
              "      <td>3529</td>\n",
              "      <td>its at 3 am, im very tired but i can`t sleep  but i try it</td>\n",
              "      <td>[-PRON-, at, 3, a.m., ,, im, very, tired, but, -PRON-, can, `, t, sleep, but, -PRON-, try, -PRON-]</td>\n",
              "      <td>{'-PRON-': 'it', 'a.m.': 'am'}</td>\n",
              "    </tr>\n",
              "    <tr>\n",
              "      <th>3530</th>\n",
              "      <td>416863ce47</td>\n",
              "      <td>all alone in this old house again. thanks for the net which keeps me alive and kicking! whoever invented the net, i wanna kiss your hair!</td>\n",
              "      <td>positive</td>\n",
              "      <td>3530</td>\n",
              "      <td>All alone in this old house again.  Thanks for the net which keeps me alive and kicking! Whoever invented the net, i wanna kiss your hair!</td>\n",
              "      <td>[all, alone, in, this, old, house, again, ., thank, for, the, net, which, keep, -PRON-, alive, and, kicking, !, whoever, invent, the, net, ,, -PRON-, wanna, kiss, -PRON-, hair, !]</td>\n",
              "      <td>{'thank': 'thanks', 'keep': 'keeps', '-PRON-': 'your', 'invent': 'invented'}</td>\n",
              "    </tr>\n",
              "    <tr>\n",
              "      <th>3531</th>\n",
              "      <td>6332da480c</td>\n",
              "      <td>i know what you mean. my little dog is sinking into depression... he wants to move someplace tropical</td>\n",
              "      <td>negative</td>\n",
              "      <td>3531</td>\n",
              "      <td>I know what you mean. My little dog is sinking into depression... he wants to move someplace tropical</td>\n",
              "      <td>[-PRON-, know, what, -PRON-, mean, ., -PRON-, little, dog, be, sinking, into, depression, ..., -PRON-, want, to, move, someplace, tropical]</td>\n",
              "      <td>{'-PRON-': 'he', 'be': 'is', 'want': 'wants'}</td>\n",
              "    </tr>\n",
              "    <tr>\n",
              "      <th>3532</th>\n",
              "      <td>df1baec676</td>\n",
              "      <td>_sutra what is your next youtube video gonna be about? i love your videos!</td>\n",
              "      <td>positive</td>\n",
              "      <td>3532</td>\n",
              "      <td>_sutra what is your next youtube video gonna be about? I love your videos!</td>\n",
              "      <td>[_sutra, what, be, -PRON-, next, youtube, video, gonna, be, about, ?, -PRON-, love, -PRON-, videos, !]</td>\n",
              "      <td>{'be': 'is', '-PRON-': 'your'}</td>\n",
              "    </tr>\n",
              "    <tr>\n",
              "      <th>3533</th>\n",
              "      <td>469e15c5a8</td>\n",
              "      <td>url - omgssh ang cute ng bby.!</td>\n",
              "      <td>positive</td>\n",
              "      <td>3533</td>\n",
              "      <td>http://twitpic.com/4woj2 - omgssh  ang cute ng bby.!</td>\n",
              "      <td>[url, -, omgssh, ang, cute, ng, bby, .!]</td>\n",
              "      <td>{}</td>\n",
              "    </tr>\n",
              "  </tbody>\n",
              "</table>\n",
              "</div>"
            ],
            "text/plain": [
              "          textID  ...                                                         text_lemmetized_words\n",
              "3529  e5f0e6ef4b  ...                                                {'-PRON-': 'it', 'a.m.': 'am'}\n",
              "3530  416863ce47  ...  {'thank': 'thanks', 'keep': 'keeps', '-PRON-': 'your', 'invent': 'invented'}\n",
              "3531  6332da480c  ...                                 {'-PRON-': 'he', 'be': 'is', 'want': 'wants'}\n",
              "3532  df1baec676  ...                                                {'be': 'is', '-PRON-': 'your'}\n",
              "3533  469e15c5a8  ...                                                                            {}\n",
              "\n",
              "[5 rows x 7 columns]"
            ]
          },
          "metadata": {
            "tags": []
          },
          "execution_count": 33
        }
      ]
    },
    {
      "cell_type": "markdown",
      "metadata": {
        "id": "TEO1XdP31Mvj",
        "colab_type": "text"
      },
      "source": [
        "#### Save the train and test_dataset"
      ]
    },
    {
      "cell_type": "code",
      "metadata": {
        "id": "LJC2cmG_1Q4V",
        "colab_type": "code",
        "colab": {
          "base_uri": "https://localhost:8080/",
          "height": 51
        },
        "outputId": "acff826d-5b83-49eb-b238-1e37c3d21b03"
      },
      "source": [
        "### Drop the neutral for now\n",
        "#train_data = train_data[train_data.sentiment != 'neutral']\n",
        "#test_data = test_data[test_data.sentiment != 'neutral']\n",
        "\n",
        "print(train_data.shape)\n",
        "print(test_data.shape)"
      ],
      "execution_count": 34,
      "outputs": [
        {
          "output_type": "stream",
          "text": [
            "(27480, 11)\n",
            "(3534, 7)\n"
          ],
          "name": "stdout"
        }
      ]
    },
    {
      "cell_type": "code",
      "metadata": {
        "id": "augaqvTc10si",
        "colab_type": "code",
        "colab": {
          "base_uri": "https://localhost:8080/",
          "height": 289
        },
        "outputId": "1dfa680c-21c9-472c-e5f1-5cb5547f89a9"
      },
      "source": [
        "test_data.head()"
      ],
      "execution_count": 35,
      "outputs": [
        {
          "output_type": "execute_result",
          "data": {
            "text/html": [
              "<div>\n",
              "<style scoped>\n",
              "    .dataframe tbody tr th:only-of-type {\n",
              "        vertical-align: middle;\n",
              "    }\n",
              "\n",
              "    .dataframe tbody tr th {\n",
              "        vertical-align: top;\n",
              "    }\n",
              "\n",
              "    .dataframe thead th {\n",
              "        text-align: right;\n",
              "    }\n",
              "</style>\n",
              "<table border=\"1\" class=\"dataframe\">\n",
              "  <thead>\n",
              "    <tr style=\"text-align: right;\">\n",
              "      <th></th>\n",
              "      <th>textID</th>\n",
              "      <th>text</th>\n",
              "      <th>sentiment</th>\n",
              "      <th>idx</th>\n",
              "      <th>old_text</th>\n",
              "      <th>text_token</th>\n",
              "      <th>text_lemmetized_words</th>\n",
              "    </tr>\n",
              "  </thead>\n",
              "  <tbody>\n",
              "    <tr>\n",
              "      <th>0</th>\n",
              "      <td>f87dea47db</td>\n",
              "      <td>last session of the day url</td>\n",
              "      <td>neutral</td>\n",
              "      <td>0</td>\n",
              "      <td>Last session of the day  http://twitpic.com/67ezh</td>\n",
              "      <td>[last, session, of, the, day, url]</td>\n",
              "      <td>{}</td>\n",
              "    </tr>\n",
              "    <tr>\n",
              "      <th>1</th>\n",
              "      <td>96d74cb729</td>\n",
              "      <td>shanghai is also really exciting (precisely -- skyscrapers galore). good tweeps in china: (sh) (bj).</td>\n",
              "      <td>positive</td>\n",
              "      <td>1</td>\n",
              "      <td>Shanghai is also really exciting (precisely -- skyscrapers galore). Good tweeps in China:  (SH)  (BJ).</td>\n",
              "      <td>[shanghai, be, also, really, exciting, (, precisely, --, skyscraper, galore, )., good, tweep, in, china, :, (, sh, ), (, bj, ).]</td>\n",
              "      <td>{'be': 'is', 'skyscraper': 'skyscrapers', 'tweep': 'tweeps'}</td>\n",
              "    </tr>\n",
              "    <tr>\n",
              "      <th>2</th>\n",
              "      <td>eee518ae67</td>\n",
              "      <td>recession hit veronique branquinho, she has to quit her company, such a shame!</td>\n",
              "      <td>negative</td>\n",
              "      <td>2</td>\n",
              "      <td>Recession hit Veronique Branquinho, she has to quit her company, such a shame!</td>\n",
              "      <td>[recession, hit, veronique, branquinho, ,, -PRON-, have, to, quit, -PRON-, company, ,, such, going to, shame, !]</td>\n",
              "      <td>{'-PRON-': 'her', 'have': 'has', 'going to': 'a'}</td>\n",
              "    </tr>\n",
              "    <tr>\n",
              "      <th>3</th>\n",
              "      <td>01082688c6</td>\n",
              "      <td>happy bday!</td>\n",
              "      <td>positive</td>\n",
              "      <td>3</td>\n",
              "      <td>happy bday!</td>\n",
              "      <td>[happy, bday, !]</td>\n",
              "      <td>{}</td>\n",
              "    </tr>\n",
              "    <tr>\n",
              "      <th>4</th>\n",
              "      <td>33987a8ee5</td>\n",
              "      <td>url - i like it!!</td>\n",
              "      <td>positive</td>\n",
              "      <td>4</td>\n",
              "      <td>http://twitpic.com/4w75p - I like it!!</td>\n",
              "      <td>[url, -, -PRON-, like, -PRON-, !!]</td>\n",
              "      <td>{'-PRON-': 'it'}</td>\n",
              "    </tr>\n",
              "  </tbody>\n",
              "</table>\n",
              "</div>"
            ],
            "text/plain": [
              "       textID  ...                                         text_lemmetized_words\n",
              "0  f87dea47db  ...                                                            {}\n",
              "1  96d74cb729  ...  {'be': 'is', 'skyscraper': 'skyscrapers', 'tweep': 'tweeps'}\n",
              "2  eee518ae67  ...             {'-PRON-': 'her', 'have': 'has', 'going to': 'a'}\n",
              "3  01082688c6  ...                                                            {}\n",
              "4  33987a8ee5  ...                                              {'-PRON-': 'it'}\n",
              "\n",
              "[5 rows x 7 columns]"
            ]
          },
          "metadata": {
            "tags": []
          },
          "execution_count": 35
        }
      ]
    },
    {
      "cell_type": "code",
      "metadata": {
        "id": "DhokxnHf132f",
        "colab_type": "code",
        "colab": {}
      },
      "source": [
        "train_data[\"text\"] = train_data[\"text_token\"].apply(lambda x: ' '.join(x))\n",
        "train_data[\"selected_text\"] = train_data[\"sel_text_token\"].apply(lambda x: ' '.join(x))\n",
        "test_data[\"text\"] = test_data[\"text_token\"].apply(lambda x: ' '.join(x))"
      ],
      "execution_count": 36,
      "outputs": []
    },
    {
      "cell_type": "code",
      "metadata": {
        "id": "GW8-s36PKyka",
        "colab_type": "code",
        "colab": {
          "base_uri": "https://localhost:8080/",
          "height": 182
        },
        "outputId": "912c1a44-dbce-481a-af3f-0323534bcf98"
      },
      "source": [
        "train_data.iloc[2365:2366]"
      ],
      "execution_count": 37,
      "outputs": [
        {
          "output_type": "execute_result",
          "data": {
            "text/html": [
              "<div>\n",
              "<style scoped>\n",
              "    .dataframe tbody tr th:only-of-type {\n",
              "        vertical-align: middle;\n",
              "    }\n",
              "\n",
              "    .dataframe tbody tr th {\n",
              "        vertical-align: top;\n",
              "    }\n",
              "\n",
              "    .dataframe thead th {\n",
              "        text-align: right;\n",
              "    }\n",
              "</style>\n",
              "<table border=\"1\" class=\"dataframe\">\n",
              "  <thead>\n",
              "    <tr style=\"text-align: right;\">\n",
              "      <th></th>\n",
              "      <th>textID</th>\n",
              "      <th>text</th>\n",
              "      <th>text_token</th>\n",
              "      <th>selected_text</th>\n",
              "      <th>sel_text_token</th>\n",
              "      <th>sentiment</th>\n",
              "      <th>old_text</th>\n",
              "      <th>old_sel_text</th>\n",
              "      <th>idx</th>\n",
              "      <th>text_lemmetized_words</th>\n",
              "      <th>sel_text_lemmetized_words</th>\n",
              "    </tr>\n",
              "  </thead>\n",
              "  <tbody>\n",
              "    <tr>\n",
              "      <th>2366</th>\n",
              "      <td>38b714ce6c</td>\n",
              "      <td>-PRON- know - but there be load of other leave</td>\n",
              "      <td>[-PRON-, know, -, but, there, be, load, of, other, leave]</td>\n",
              "      <td>-PRON- know - but there be load of other leave</td>\n",
              "      <td>[-PRON-, know, -, but, there, be, load, of, other, leave]</td>\n",
              "      <td>neutral</td>\n",
              "      <td>I know - but there are loads of others left</td>\n",
              "      <td>I know - but there are loads of others left</td>\n",
              "      <td>2366</td>\n",
              "      <td>{'-PRON-': 'i', 'be': 'are', 'load': 'loads', 'other': 'others', 'leave': 'left'}</td>\n",
              "      <td>{'-PRON-': 'i', 'be': 'are', 'load': 'loads', 'other': 'others', 'leave': 'left'}</td>\n",
              "    </tr>\n",
              "  </tbody>\n",
              "</table>\n",
              "</div>"
            ],
            "text/plain": [
              "          textID  ...                                                          sel_text_lemmetized_words\n",
              "2366  38b714ce6c  ...  {'-PRON-': 'i', 'be': 'are', 'load': 'loads', 'other': 'others', 'leave': 'left'}\n",
              "\n",
              "[1 rows x 11 columns]"
            ]
          },
          "metadata": {
            "tags": []
          },
          "execution_count": 37
        }
      ]
    },
    {
      "cell_type": "code",
      "metadata": {
        "id": "pIkbNp3S2kj8",
        "colab_type": "code",
        "colab": {
          "base_uri": "https://localhost:8080/",
          "height": 289
        },
        "outputId": "dd459f7b-229c-40f9-9ea9-e70d886abb1a"
      },
      "source": [
        "test_data.head()"
      ],
      "execution_count": 38,
      "outputs": [
        {
          "output_type": "execute_result",
          "data": {
            "text/html": [
              "<div>\n",
              "<style scoped>\n",
              "    .dataframe tbody tr th:only-of-type {\n",
              "        vertical-align: middle;\n",
              "    }\n",
              "\n",
              "    .dataframe tbody tr th {\n",
              "        vertical-align: top;\n",
              "    }\n",
              "\n",
              "    .dataframe thead th {\n",
              "        text-align: right;\n",
              "    }\n",
              "</style>\n",
              "<table border=\"1\" class=\"dataframe\">\n",
              "  <thead>\n",
              "    <tr style=\"text-align: right;\">\n",
              "      <th></th>\n",
              "      <th>textID</th>\n",
              "      <th>text</th>\n",
              "      <th>sentiment</th>\n",
              "      <th>idx</th>\n",
              "      <th>old_text</th>\n",
              "      <th>text_token</th>\n",
              "      <th>text_lemmetized_words</th>\n",
              "    </tr>\n",
              "  </thead>\n",
              "  <tbody>\n",
              "    <tr>\n",
              "      <th>0</th>\n",
              "      <td>f87dea47db</td>\n",
              "      <td>last session of the day url</td>\n",
              "      <td>neutral</td>\n",
              "      <td>0</td>\n",
              "      <td>Last session of the day  http://twitpic.com/67ezh</td>\n",
              "      <td>[last, session, of, the, day, url]</td>\n",
              "      <td>{}</td>\n",
              "    </tr>\n",
              "    <tr>\n",
              "      <th>1</th>\n",
              "      <td>96d74cb729</td>\n",
              "      <td>shanghai be also really exciting ( precisely -- skyscraper galore ). good tweep in china : ( sh ) ( bj ).</td>\n",
              "      <td>positive</td>\n",
              "      <td>1</td>\n",
              "      <td>Shanghai is also really exciting (precisely -- skyscrapers galore). Good tweeps in China:  (SH)  (BJ).</td>\n",
              "      <td>[shanghai, be, also, really, exciting, (, precisely, --, skyscraper, galore, )., good, tweep, in, china, :, (, sh, ), (, bj, ).]</td>\n",
              "      <td>{'be': 'is', 'skyscraper': 'skyscrapers', 'tweep': 'tweeps'}</td>\n",
              "    </tr>\n",
              "    <tr>\n",
              "      <th>2</th>\n",
              "      <td>eee518ae67</td>\n",
              "      <td>recession hit veronique branquinho , -PRON- have to quit -PRON- company , such going to shame !</td>\n",
              "      <td>negative</td>\n",
              "      <td>2</td>\n",
              "      <td>Recession hit Veronique Branquinho, she has to quit her company, such a shame!</td>\n",
              "      <td>[recession, hit, veronique, branquinho, ,, -PRON-, have, to, quit, -PRON-, company, ,, such, going to, shame, !]</td>\n",
              "      <td>{'-PRON-': 'her', 'have': 'has', 'going to': 'a'}</td>\n",
              "    </tr>\n",
              "    <tr>\n",
              "      <th>3</th>\n",
              "      <td>01082688c6</td>\n",
              "      <td>happy bday !</td>\n",
              "      <td>positive</td>\n",
              "      <td>3</td>\n",
              "      <td>happy bday!</td>\n",
              "      <td>[happy, bday, !]</td>\n",
              "      <td>{}</td>\n",
              "    </tr>\n",
              "    <tr>\n",
              "      <th>4</th>\n",
              "      <td>33987a8ee5</td>\n",
              "      <td>url - -PRON- like -PRON- !!</td>\n",
              "      <td>positive</td>\n",
              "      <td>4</td>\n",
              "      <td>http://twitpic.com/4w75p - I like it!!</td>\n",
              "      <td>[url, -, -PRON-, like, -PRON-, !!]</td>\n",
              "      <td>{'-PRON-': 'it'}</td>\n",
              "    </tr>\n",
              "  </tbody>\n",
              "</table>\n",
              "</div>"
            ],
            "text/plain": [
              "       textID  ...                                         text_lemmetized_words\n",
              "0  f87dea47db  ...                                                            {}\n",
              "1  96d74cb729  ...  {'be': 'is', 'skyscraper': 'skyscrapers', 'tweep': 'tweeps'}\n",
              "2  eee518ae67  ...             {'-PRON-': 'her', 'have': 'has', 'going to': 'a'}\n",
              "3  01082688c6  ...                                                            {}\n",
              "4  33987a8ee5  ...                                              {'-PRON-': 'it'}\n",
              "\n",
              "[5 rows x 7 columns]"
            ]
          },
          "metadata": {
            "tags": []
          },
          "execution_count": 38
        }
      ]
    },
    {
      "cell_type": "markdown",
      "metadata": {
        "id": "yVVhE9-gvYN-",
        "colab_type": "text"
      },
      "source": [
        "Add sentiment to the Text such that LSTM knows about the sentiment"
      ]
    },
    {
      "cell_type": "code",
      "metadata": {
        "id": "Sgdoo4scvdwD",
        "colab_type": "code",
        "colab": {
          "base_uri": "https://localhost:8080/",
          "height": 765
        },
        "outputId": "b9306735-3256-4be7-df27-27b0a589e6f2"
      },
      "source": [
        "train_data[\"text\"] = train_data[\"sentiment\"] + \" \" + train_data[\"text\"] + \" \"+ train_data[\"sentiment\"]\n",
        "test_data[\"text\"] = test_data[\"sentiment\"] + \" \" + test_data[\"text\"] + \" \"+ test_data[\"sentiment\"]\n",
        "train_data.head()"
      ],
      "execution_count": 39,
      "outputs": [
        {
          "output_type": "execute_result",
          "data": {
            "text/html": [
              "<div>\n",
              "<style scoped>\n",
              "    .dataframe tbody tr th:only-of-type {\n",
              "        vertical-align: middle;\n",
              "    }\n",
              "\n",
              "    .dataframe tbody tr th {\n",
              "        vertical-align: top;\n",
              "    }\n",
              "\n",
              "    .dataframe thead th {\n",
              "        text-align: right;\n",
              "    }\n",
              "</style>\n",
              "<table border=\"1\" class=\"dataframe\">\n",
              "  <thead>\n",
              "    <tr style=\"text-align: right;\">\n",
              "      <th></th>\n",
              "      <th>textID</th>\n",
              "      <th>text</th>\n",
              "      <th>text_token</th>\n",
              "      <th>selected_text</th>\n",
              "      <th>sel_text_token</th>\n",
              "      <th>sentiment</th>\n",
              "      <th>old_text</th>\n",
              "      <th>old_sel_text</th>\n",
              "      <th>idx</th>\n",
              "      <th>text_lemmetized_words</th>\n",
              "      <th>sel_text_lemmetized_words</th>\n",
              "    </tr>\n",
              "  </thead>\n",
              "  <tbody>\n",
              "    <tr>\n",
              "      <th>0</th>\n",
              "      <td>cb774db0d1</td>\n",
              "      <td>neutral -PRON- ` would have respond , if -PRON- be go neutral</td>\n",
              "      <td>[-PRON-, `, would, have, respond, ,, if, -PRON-, be, go]</td>\n",
              "      <td>-PRON- ` would have respond , if -PRON- be go</td>\n",
              "      <td>[-PRON-, `, would, have, respond, ,, if, -PRON-, be, go]</td>\n",
              "      <td>neutral</td>\n",
              "      <td>I`d have responded, if I were going</td>\n",
              "      <td>I`d have responded, if I were going</td>\n",
              "      <td>0</td>\n",
              "      <td>{'-PRON-': 'i', 'would': 'd', 'respond': 'responded', 'be': 'were', 'go': 'going'}</td>\n",
              "      <td>{'-PRON-': 'i', 'would': 'd', 'respond': 'responded', 'be': 'were', 'go': 'going'}</td>\n",
              "    </tr>\n",
              "    <tr>\n",
              "      <th>1</th>\n",
              "      <td>549e992a42</td>\n",
              "      <td>negative sooo sad -PRON- will miss -PRON- here in san diego !!! negative</td>\n",
              "      <td>[sooo, sad, -PRON-, will, miss, -PRON-, here, in, san, diego, !!!]</td>\n",
              "      <td>sooo sad</td>\n",
              "      <td>[sooo, sad]</td>\n",
              "      <td>negative</td>\n",
              "      <td>Sooo SAD I will miss you here in San Diego!!!</td>\n",
              "      <td>Sooo SAD</td>\n",
              "      <td>1</td>\n",
              "      <td>{'-PRON-': 'you'}</td>\n",
              "      <td>{}</td>\n",
              "    </tr>\n",
              "    <tr>\n",
              "      <th>2</th>\n",
              "      <td>088c60f138</td>\n",
              "      <td>negative -PRON- boss be bullying -PRON- ... negative</td>\n",
              "      <td>[-PRON-, boss, be, bullying, -PRON-, ...]</td>\n",
              "      <td>bullying -PRON-</td>\n",
              "      <td>[bullying, -PRON-]</td>\n",
              "      <td>negative</td>\n",
              "      <td>my boss is bullying me...</td>\n",
              "      <td>bullying me</td>\n",
              "      <td>2</td>\n",
              "      <td>{'-PRON-': 'me', 'be': 'is'}</td>\n",
              "      <td>{'-PRON-': 'me'}</td>\n",
              "    </tr>\n",
              "    <tr>\n",
              "      <th>3</th>\n",
              "      <td>9642c003ef</td>\n",
              "      <td>negative what interview ! leave -PRON- alone negative</td>\n",
              "      <td>[what, interview, !, leave, -PRON-, alone]</td>\n",
              "      <td>leave -PRON- alone</td>\n",
              "      <td>[leave, -PRON-, alone]</td>\n",
              "      <td>negative</td>\n",
              "      <td>what interview! leave me alone</td>\n",
              "      <td>leave me alone</td>\n",
              "      <td>3</td>\n",
              "      <td>{'-PRON-': 'me'}</td>\n",
              "      <td>{'-PRON-': 'me'}</td>\n",
              "    </tr>\n",
              "    <tr>\n",
              "      <th>4</th>\n",
              "      <td>358bd9e861</td>\n",
              "      <td>negative son of ****, why couldn ` t -PRON- put -PRON- on the release -PRON- already buy negative</td>\n",
              "      <td>[son, of, ****,, why, couldn, `, t, -PRON-, put, -PRON-, on, the, release, -PRON-, already, buy]</td>\n",
              "      <td>son of ****,</td>\n",
              "      <td>[son, of, ****,]</td>\n",
              "      <td>negative</td>\n",
              "      <td>Sons of ****, why couldn`t they put them on the releases we already bought</td>\n",
              "      <td>Sons of ****,</td>\n",
              "      <td>4</td>\n",
              "      <td>{'son': 'sons', '-PRON-': 'we', 'release': 'releases', 'buy': 'bought'}</td>\n",
              "      <td>{'son': 'sons'}</td>\n",
              "    </tr>\n",
              "  </tbody>\n",
              "</table>\n",
              "</div>"
            ],
            "text/plain": [
              "       textID  ...                                                           sel_text_lemmetized_words\n",
              "0  cb774db0d1  ...  {'-PRON-': 'i', 'would': 'd', 'respond': 'responded', 'be': 'were', 'go': 'going'}\n",
              "1  549e992a42  ...                                                                                  {}\n",
              "2  088c60f138  ...                                                                    {'-PRON-': 'me'}\n",
              "3  9642c003ef  ...                                                                    {'-PRON-': 'me'}\n",
              "4  358bd9e861  ...                                                                     {'son': 'sons'}\n",
              "\n",
              "[5 rows x 11 columns]"
            ]
          },
          "metadata": {
            "tags": []
          },
          "execution_count": 39
        }
      ]
    },
    {
      "cell_type": "code",
      "metadata": {
        "id": "q2q-ds0LwhnE",
        "colab_type": "code",
        "colab": {
          "base_uri": "https://localhost:8080/",
          "height": 289
        },
        "outputId": "6a683dd3-c5ae-489d-cff1-2ad9c48ff796"
      },
      "source": [
        "test_data.head()"
      ],
      "execution_count": 40,
      "outputs": [
        {
          "output_type": "execute_result",
          "data": {
            "text/html": [
              "<div>\n",
              "<style scoped>\n",
              "    .dataframe tbody tr th:only-of-type {\n",
              "        vertical-align: middle;\n",
              "    }\n",
              "\n",
              "    .dataframe tbody tr th {\n",
              "        vertical-align: top;\n",
              "    }\n",
              "\n",
              "    .dataframe thead th {\n",
              "        text-align: right;\n",
              "    }\n",
              "</style>\n",
              "<table border=\"1\" class=\"dataframe\">\n",
              "  <thead>\n",
              "    <tr style=\"text-align: right;\">\n",
              "      <th></th>\n",
              "      <th>textID</th>\n",
              "      <th>text</th>\n",
              "      <th>sentiment</th>\n",
              "      <th>idx</th>\n",
              "      <th>old_text</th>\n",
              "      <th>text_token</th>\n",
              "      <th>text_lemmetized_words</th>\n",
              "    </tr>\n",
              "  </thead>\n",
              "  <tbody>\n",
              "    <tr>\n",
              "      <th>0</th>\n",
              "      <td>f87dea47db</td>\n",
              "      <td>neutral last session of the day url neutral</td>\n",
              "      <td>neutral</td>\n",
              "      <td>0</td>\n",
              "      <td>Last session of the day  http://twitpic.com/67ezh</td>\n",
              "      <td>[last, session, of, the, day, url]</td>\n",
              "      <td>{}</td>\n",
              "    </tr>\n",
              "    <tr>\n",
              "      <th>1</th>\n",
              "      <td>96d74cb729</td>\n",
              "      <td>positive shanghai be also really exciting ( precisely -- skyscraper galore ). good tweep in china : ( sh ) ( bj ). positive</td>\n",
              "      <td>positive</td>\n",
              "      <td>1</td>\n",
              "      <td>Shanghai is also really exciting (precisely -- skyscrapers galore). Good tweeps in China:  (SH)  (BJ).</td>\n",
              "      <td>[shanghai, be, also, really, exciting, (, precisely, --, skyscraper, galore, )., good, tweep, in, china, :, (, sh, ), (, bj, ).]</td>\n",
              "      <td>{'be': 'is', 'skyscraper': 'skyscrapers', 'tweep': 'tweeps'}</td>\n",
              "    </tr>\n",
              "    <tr>\n",
              "      <th>2</th>\n",
              "      <td>eee518ae67</td>\n",
              "      <td>negative recession hit veronique branquinho , -PRON- have to quit -PRON- company , such going to shame ! negative</td>\n",
              "      <td>negative</td>\n",
              "      <td>2</td>\n",
              "      <td>Recession hit Veronique Branquinho, she has to quit her company, such a shame!</td>\n",
              "      <td>[recession, hit, veronique, branquinho, ,, -PRON-, have, to, quit, -PRON-, company, ,, such, going to, shame, !]</td>\n",
              "      <td>{'-PRON-': 'her', 'have': 'has', 'going to': 'a'}</td>\n",
              "    </tr>\n",
              "    <tr>\n",
              "      <th>3</th>\n",
              "      <td>01082688c6</td>\n",
              "      <td>positive happy bday ! positive</td>\n",
              "      <td>positive</td>\n",
              "      <td>3</td>\n",
              "      <td>happy bday!</td>\n",
              "      <td>[happy, bday, !]</td>\n",
              "      <td>{}</td>\n",
              "    </tr>\n",
              "    <tr>\n",
              "      <th>4</th>\n",
              "      <td>33987a8ee5</td>\n",
              "      <td>positive url - -PRON- like -PRON- !! positive</td>\n",
              "      <td>positive</td>\n",
              "      <td>4</td>\n",
              "      <td>http://twitpic.com/4w75p - I like it!!</td>\n",
              "      <td>[url, -, -PRON-, like, -PRON-, !!]</td>\n",
              "      <td>{'-PRON-': 'it'}</td>\n",
              "    </tr>\n",
              "  </tbody>\n",
              "</table>\n",
              "</div>"
            ],
            "text/plain": [
              "       textID  ...                                         text_lemmetized_words\n",
              "0  f87dea47db  ...                                                            {}\n",
              "1  96d74cb729  ...  {'be': 'is', 'skyscraper': 'skyscrapers', 'tweep': 'tweeps'}\n",
              "2  eee518ae67  ...             {'-PRON-': 'her', 'have': 'has', 'going to': 'a'}\n",
              "3  01082688c6  ...                                                            {}\n",
              "4  33987a8ee5  ...                                              {'-PRON-': 'it'}\n",
              "\n",
              "[5 rows x 7 columns]"
            ]
          },
          "metadata": {
            "tags": []
          },
          "execution_count": 40
        }
      ]
    },
    {
      "cell_type": "code",
      "metadata": {
        "id": "SGj3Xm0s4hyq",
        "colab_type": "code",
        "colab": {
          "base_uri": "https://localhost:8080/",
          "height": 51
        },
        "outputId": "a4c32d0a-188b-4e4d-fe76-8e8f87c701cb"
      },
      "source": [
        "valid_data = train_data.sample(frac=0.05)\n",
        "train_data = train_data.loc[~train_data.index.isin(valid_data.index)]\n",
        "print(valid_data.shape)\n",
        "print(train_data.shape)"
      ],
      "execution_count": 41,
      "outputs": [
        {
          "output_type": "stream",
          "text": [
            "(1374, 11)\n",
            "(26106, 11)\n"
          ],
          "name": "stdout"
        }
      ]
    },
    {
      "cell_type": "code",
      "metadata": {
        "id": "ARcMcQhu4jsI",
        "colab_type": "code",
        "colab": {
          "base_uri": "https://localhost:8080/",
          "height": 374
        },
        "outputId": "f80c6524-66f7-43d6-e0fe-ce42b0b972fe"
      },
      "source": [
        "test_data[\"selected_text\"] = test_data[\"old_text\"].copy()\n",
        "test_data.head()"
      ],
      "execution_count": 42,
      "outputs": [
        {
          "output_type": "execute_result",
          "data": {
            "text/html": [
              "<div>\n",
              "<style scoped>\n",
              "    .dataframe tbody tr th:only-of-type {\n",
              "        vertical-align: middle;\n",
              "    }\n",
              "\n",
              "    .dataframe tbody tr th {\n",
              "        vertical-align: top;\n",
              "    }\n",
              "\n",
              "    .dataframe thead th {\n",
              "        text-align: right;\n",
              "    }\n",
              "</style>\n",
              "<table border=\"1\" class=\"dataframe\">\n",
              "  <thead>\n",
              "    <tr style=\"text-align: right;\">\n",
              "      <th></th>\n",
              "      <th>textID</th>\n",
              "      <th>text</th>\n",
              "      <th>sentiment</th>\n",
              "      <th>idx</th>\n",
              "      <th>old_text</th>\n",
              "      <th>text_token</th>\n",
              "      <th>text_lemmetized_words</th>\n",
              "      <th>selected_text</th>\n",
              "    </tr>\n",
              "  </thead>\n",
              "  <tbody>\n",
              "    <tr>\n",
              "      <th>0</th>\n",
              "      <td>f87dea47db</td>\n",
              "      <td>neutral last session of the day url neutral</td>\n",
              "      <td>neutral</td>\n",
              "      <td>0</td>\n",
              "      <td>Last session of the day  http://twitpic.com/67ezh</td>\n",
              "      <td>[last, session, of, the, day, url]</td>\n",
              "      <td>{}</td>\n",
              "      <td>Last session of the day  http://twitpic.com/67ezh</td>\n",
              "    </tr>\n",
              "    <tr>\n",
              "      <th>1</th>\n",
              "      <td>96d74cb729</td>\n",
              "      <td>positive shanghai be also really exciting ( precisely -- skyscraper galore ). good tweep in china : ( sh ) ( bj ). positive</td>\n",
              "      <td>positive</td>\n",
              "      <td>1</td>\n",
              "      <td>Shanghai is also really exciting (precisely -- skyscrapers galore). Good tweeps in China:  (SH)  (BJ).</td>\n",
              "      <td>[shanghai, be, also, really, exciting, (, precisely, --, skyscraper, galore, )., good, tweep, in, china, :, (, sh, ), (, bj, ).]</td>\n",
              "      <td>{'be': 'is', 'skyscraper': 'skyscrapers', 'tweep': 'tweeps'}</td>\n",
              "      <td>Shanghai is also really exciting (precisely -- skyscrapers galore). Good tweeps in China:  (SH)  (BJ).</td>\n",
              "    </tr>\n",
              "    <tr>\n",
              "      <th>2</th>\n",
              "      <td>eee518ae67</td>\n",
              "      <td>negative recession hit veronique branquinho , -PRON- have to quit -PRON- company , such going to shame ! negative</td>\n",
              "      <td>negative</td>\n",
              "      <td>2</td>\n",
              "      <td>Recession hit Veronique Branquinho, she has to quit her company, such a shame!</td>\n",
              "      <td>[recession, hit, veronique, branquinho, ,, -PRON-, have, to, quit, -PRON-, company, ,, such, going to, shame, !]</td>\n",
              "      <td>{'-PRON-': 'her', 'have': 'has', 'going to': 'a'}</td>\n",
              "      <td>Recession hit Veronique Branquinho, she has to quit her company, such a shame!</td>\n",
              "    </tr>\n",
              "    <tr>\n",
              "      <th>3</th>\n",
              "      <td>01082688c6</td>\n",
              "      <td>positive happy bday ! positive</td>\n",
              "      <td>positive</td>\n",
              "      <td>3</td>\n",
              "      <td>happy bday!</td>\n",
              "      <td>[happy, bday, !]</td>\n",
              "      <td>{}</td>\n",
              "      <td>happy bday!</td>\n",
              "    </tr>\n",
              "    <tr>\n",
              "      <th>4</th>\n",
              "      <td>33987a8ee5</td>\n",
              "      <td>positive url - -PRON- like -PRON- !! positive</td>\n",
              "      <td>positive</td>\n",
              "      <td>4</td>\n",
              "      <td>http://twitpic.com/4w75p - I like it!!</td>\n",
              "      <td>[url, -, -PRON-, like, -PRON-, !!]</td>\n",
              "      <td>{'-PRON-': 'it'}</td>\n",
              "      <td>http://twitpic.com/4w75p - I like it!!</td>\n",
              "    </tr>\n",
              "  </tbody>\n",
              "</table>\n",
              "</div>"
            ],
            "text/plain": [
              "       textID  ...                                                                                            selected_text\n",
              "0  f87dea47db  ...                                                        Last session of the day  http://twitpic.com/67ezh\n",
              "1  96d74cb729  ...   Shanghai is also really exciting (precisely -- skyscrapers galore). Good tweeps in China:  (SH)  (BJ).\n",
              "2  eee518ae67  ...                           Recession hit Veronique Branquinho, she has to quit her company, such a shame!\n",
              "3  01082688c6  ...                                                                                              happy bday!\n",
              "4  33987a8ee5  ...                                                                   http://twitpic.com/4w75p - I like it!!\n",
              "\n",
              "[5 rows x 8 columns]"
            ]
          },
          "metadata": {
            "tags": []
          },
          "execution_count": 42
        }
      ]
    },
    {
      "cell_type": "code",
      "metadata": {
        "id": "wRP3h8H44rkC",
        "colab_type": "code",
        "colab": {}
      },
      "source": [
        "train_data[[\"text\",\"selected_text\",\"idx\",\"sentiment\"]].to_csv(data_folder + \"/train_transform.csv\",index=False)\n",
        "valid_data[[\"text\",\"selected_text\",\"idx\",\"sentiment\"]].to_csv(data_folder + \"/valid_transform.csv\",index=False)\n",
        "test_data[[\"text\",\"selected_text\",\"idx\",\"sentiment\"]].to_csv(data_folder + \"/test_transform.csv\",index=False)"
      ],
      "execution_count": 43,
      "outputs": []
    },
    {
      "cell_type": "code",
      "metadata": {
        "id": "-_ZeNVS-LATM",
        "colab_type": "code",
        "colab": {
          "base_uri": "https://localhost:8080/",
          "height": 80
        },
        "outputId": "c7c9aa44-179c-4f11-e01f-6d35c8b762b6"
      },
      "source": [
        "train_data[[\"text\",\"selected_text\",\"idx\",\"sentiment\"]].iloc[2365:2366]"
      ],
      "execution_count": 44,
      "outputs": [
        {
          "output_type": "execute_result",
          "data": {
            "text/html": [
              "<div>\n",
              "<style scoped>\n",
              "    .dataframe tbody tr th:only-of-type {\n",
              "        vertical-align: middle;\n",
              "    }\n",
              "\n",
              "    .dataframe tbody tr th {\n",
              "        vertical-align: top;\n",
              "    }\n",
              "\n",
              "    .dataframe thead th {\n",
              "        text-align: right;\n",
              "    }\n",
              "</style>\n",
              "<table border=\"1\" class=\"dataframe\">\n",
              "  <thead>\n",
              "    <tr style=\"text-align: right;\">\n",
              "      <th></th>\n",
              "      <th>text</th>\n",
              "      <th>selected_text</th>\n",
              "      <th>idx</th>\n",
              "      <th>sentiment</th>\n",
              "    </tr>\n",
              "  </thead>\n",
              "  <tbody>\n",
              "    <tr>\n",
              "      <th>2489</th>\n",
              "      <td>positive how fun !! -PRON- like the beach , but -PRON- tend to get really dark fast . positive</td>\n",
              "      <td>!! -PRON- like the beach ,</td>\n",
              "      <td>2489</td>\n",
              "      <td>positive</td>\n",
              "    </tr>\n",
              "  </tbody>\n",
              "</table>\n",
              "</div>"
            ],
            "text/plain": [
              "                                                                                                text  ... sentiment\n",
              "2489  positive how fun !! -PRON- like the beach , but -PRON- tend to get really dark fast . positive  ...  positive\n",
              "\n",
              "[1 rows x 4 columns]"
            ]
          },
          "metadata": {
            "tags": []
          },
          "execution_count": 44
        }
      ]
    }
  ]
}
