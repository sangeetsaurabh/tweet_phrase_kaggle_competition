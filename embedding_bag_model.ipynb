{
  "nbformat": 4,
  "nbformat_minor": 0,
  "metadata": {
    "colab": {
      "name": "embedding_bag_model.ipynb",
      "provenance": [],
      "machine_shape": "hm",
      "authorship_tag": "ABX9TyOdBlTskszSwsPxDFjXHKMw",
      "include_colab_link": true
    },
    "kernelspec": {
      "name": "python3",
      "display_name": "Python 3"
    },
    "accelerator": "GPU"
  },
  "cells": [
    {
      "cell_type": "markdown",
      "metadata": {
        "id": "view-in-github",
        "colab_type": "text"
      },
      "source": [
        "<a href=\"https://colab.research.google.com/github/sangeetsaurabh/tweet_sentiment_extraction/blob/master/embedding_bag_model.ipynb\" target=\"_parent\"><img src=\"https://colab.research.google.com/assets/colab-badge.svg\" alt=\"Open In Colab\"/></a>"
      ]
    },
    {
      "cell_type": "markdown",
      "metadata": {
        "id": "fRN5feaVrpk5",
        "colab_type": "text"
      },
      "source": [
        "This Notebook is being created to train and embedding by predicting the emotion of the tweet. Goal to train the embedding it to visualize positive, negative and neutral words in Training and Test dataset."
      ]
    },
    {
      "cell_type": "code",
      "metadata": {
        "id": "2e4snsiPOraN",
        "colab_type": "code",
        "colab": {
          "base_uri": "https://localhost:8080/",
          "height": 394
        },
        "outputId": "0f931e58-850b-4431-f3b5-faa519eaedd9"
      },
      "source": [
        "!pip3 install torchtext==0.6.0"
      ],
      "execution_count": 1,
      "outputs": [
        {
          "output_type": "stream",
          "text": [
            "Collecting torchtext==0.6.0\n",
            "\u001b[?25l  Downloading https://files.pythonhosted.org/packages/f2/17/e7c588245aece7aa93f360894179374830daf60d7ed0bbb59332de3b3b61/torchtext-0.6.0-py3-none-any.whl (64kB)\n",
            "\r\u001b[K     |█████                           | 10kB 29.1MB/s eta 0:00:01\r\u001b[K     |██████████▏                     | 20kB 1.7MB/s eta 0:00:01\r\u001b[K     |███████████████▎                | 30kB 2.3MB/s eta 0:00:01\r\u001b[K     |████████████████████▍           | 40kB 2.5MB/s eta 0:00:01\r\u001b[K     |█████████████████████████▌      | 51kB 2.0MB/s eta 0:00:01\r\u001b[K     |██████████████████████████████▋ | 61kB 2.3MB/s eta 0:00:01\r\u001b[K     |████████████████████████████████| 71kB 2.0MB/s \n",
            "\u001b[?25hRequirement already satisfied: torch in /usr/local/lib/python3.6/dist-packages (from torchtext==0.6.0) (1.5.1+cu101)\n",
            "Requirement already satisfied: tqdm in /usr/local/lib/python3.6/dist-packages (from torchtext==0.6.0) (4.41.1)\n",
            "Requirement already satisfied: requests in /usr/local/lib/python3.6/dist-packages (from torchtext==0.6.0) (2.23.0)\n",
            "Requirement already satisfied: numpy in /usr/local/lib/python3.6/dist-packages (from torchtext==0.6.0) (1.18.5)\n",
            "Collecting sentencepiece\n",
            "\u001b[?25l  Downloading https://files.pythonhosted.org/packages/d4/a4/d0a884c4300004a78cca907a6ff9a5e9fe4f090f5d95ab341c53d28cbc58/sentencepiece-0.1.91-cp36-cp36m-manylinux1_x86_64.whl (1.1MB)\n",
            "\u001b[K     |████████████████████████████████| 1.1MB 6.9MB/s \n",
            "\u001b[?25hRequirement already satisfied: six in /usr/local/lib/python3.6/dist-packages (from torchtext==0.6.0) (1.12.0)\n",
            "Requirement already satisfied: future in /usr/local/lib/python3.6/dist-packages (from torch->torchtext==0.6.0) (0.16.0)\n",
            "Requirement already satisfied: chardet<4,>=3.0.2 in /usr/local/lib/python3.6/dist-packages (from requests->torchtext==0.6.0) (3.0.4)\n",
            "Requirement already satisfied: certifi>=2017.4.17 in /usr/local/lib/python3.6/dist-packages (from requests->torchtext==0.6.0) (2020.6.20)\n",
            "Requirement already satisfied: urllib3!=1.25.0,!=1.25.1,<1.26,>=1.21.1 in /usr/local/lib/python3.6/dist-packages (from requests->torchtext==0.6.0) (1.24.3)\n",
            "Requirement already satisfied: idna<3,>=2.5 in /usr/local/lib/python3.6/dist-packages (from requests->torchtext==0.6.0) (2.9)\n",
            "Installing collected packages: sentencepiece, torchtext\n",
            "  Found existing installation: torchtext 0.3.1\n",
            "    Uninstalling torchtext-0.3.1:\n",
            "      Successfully uninstalled torchtext-0.3.1\n",
            "Successfully installed sentencepiece-0.1.91 torchtext-0.6.0\n"
          ],
          "name": "stdout"
        }
      ]
    },
    {
      "cell_type": "markdown",
      "metadata": {
        "id": "eBP8vcayrUoT",
        "colab_type": "text"
      },
      "source": [
        "#### Mount the Google Drive"
      ]
    },
    {
      "cell_type": "code",
      "metadata": {
        "id": "X1A4RNcydk7g",
        "colab_type": "code",
        "colab": {
          "base_uri": "https://localhost:8080/",
          "height": 122
        },
        "outputId": "a70cf1a5-bbdd-43a3-f87d-f0704c7e5251"
      },
      "source": [
        "from google.colab import drive\n",
        "drive.mount('/content/drive')"
      ],
      "execution_count": 2,
      "outputs": [
        {
          "output_type": "stream",
          "text": [
            "Go to this URL in a browser: https://accounts.google.com/o/oauth2/auth?client_id=947318989803-6bn6qk8qdgf4n4g3pfee6491hc0brc4i.apps.googleusercontent.com&redirect_uri=urn%3aietf%3awg%3aoauth%3a2.0%3aoob&response_type=code&scope=email%20https%3a%2f%2fwww.googleapis.com%2fauth%2fdocs.test%20https%3a%2f%2fwww.googleapis.com%2fauth%2fdrive%20https%3a%2f%2fwww.googleapis.com%2fauth%2fdrive.photos.readonly%20https%3a%2f%2fwww.googleapis.com%2fauth%2fpeopleapi.readonly\n",
            "\n",
            "Enter your authorization code:\n",
            "··········\n",
            "Mounted at /content/drive\n"
          ],
          "name": "stdout"
        }
      ]
    },
    {
      "cell_type": "code",
      "metadata": {
        "id": "ibWYPmIyffqv",
        "colab_type": "code",
        "colab": {}
      },
      "source": [
        "data_folder = \"/content/drive/My Drive/tweet-sentiment-extraction/data\"\n",
        "tmp_folder = '/tmp'"
      ],
      "execution_count": 3,
      "outputs": []
    },
    {
      "cell_type": "code",
      "metadata": {
        "id": "xEDMYOlxB3C2",
        "colab_type": "code",
        "colab": {
          "base_uri": "https://localhost:8080/",
          "height": 35
        },
        "outputId": "17ba43c4-9cc0-45da-8d6a-8583cf3a09cd"
      },
      "source": [
        "import sys,os\n",
        "sys.path.append(\"/content/drive/My Drive/\")\n",
        "os.getcwd()"
      ],
      "execution_count": 4,
      "outputs": [
        {
          "output_type": "execute_result",
          "data": {
            "application/vnd.google.colaboratory.intrinsic": {
              "type": "string"
            },
            "text/plain": [
              "'/content'"
            ]
          },
          "metadata": {
            "tags": []
          },
          "execution_count": 4
        }
      ]
    },
    {
      "cell_type": "code",
      "metadata": {
        "id": "AxtNHMteDMex",
        "colab_type": "code",
        "colab": {}
      },
      "source": [
        "import util\n",
        "from util.translation import *"
      ],
      "execution_count": 5,
      "outputs": []
    },
    {
      "cell_type": "code",
      "metadata": {
        "id": "HD9njaR4deL1",
        "colab_type": "code",
        "colab": {}
      },
      "source": [
        "import pandas as pd\n",
        "import re\n",
        "from collections import Collection\n",
        "\n",
        "import torch\n",
        "import torch.nn as nn\n",
        "import torch.optim as optim\n",
        "\n",
        "from torchtext.datasets import TranslationDataset\n",
        "from torchtext.data import Field, BucketIterator,Pipeline,LabelField\n",
        "from torchtext.data.metrics import bleu_score\n",
        "\n",
        "import spacy\n",
        "import numpy as np\n",
        "\n",
        "import random\n",
        "import math\n",
        "import time\n",
        "import matplotlib.pyplot as plt\n",
        "\n",
        "\n",
        "import warnings\n",
        "warnings.filterwarnings('ignore')"
      ],
      "execution_count": 6,
      "outputs": []
    },
    {
      "cell_type": "code",
      "metadata": {
        "id": "TixGG6FOFunn",
        "colab_type": "code",
        "colab": {
          "base_uri": "https://localhost:8080/",
          "height": 34
        },
        "outputId": "746e9b9c-10ab-427c-a9ea-a2cefb35f047"
      },
      "source": [
        "device = torch.device('cuda' if torch.cuda.is_available() else 'cpu')\n",
        "device"
      ],
      "execution_count": 7,
      "outputs": [
        {
          "output_type": "execute_result",
          "data": {
            "text/plain": [
              "device(type='cuda')"
            ]
          },
          "metadata": {
            "tags": []
          },
          "execution_count": 7
        }
      ]
    },
    {
      "cell_type": "markdown",
      "metadata": {
        "id": "gap551eqrkd1",
        "colab_type": "text"
      },
      "source": [
        "#### Load Training and Test dataset"
      ]
    },
    {
      "cell_type": "code",
      "metadata": {
        "id": "VJXslzVXfrM5",
        "colab_type": "code",
        "colab": {
          "base_uri": "https://localhost:8080/",
          "height": 51
        },
        "outputId": "bef541c2-a7cf-4f69-fba8-a4d63327c2e4"
      },
      "source": [
        "pd.set_option('display.max_colwidth', None)\n",
        "pd.set_option('display.max_rows', 500)\n",
        "\n",
        "train_data = pd.read_csv(data_folder + \"/train.csv\")\n",
        "test_data = pd.read_csv(data_folder + \"/test.csv\")\n",
        "\n",
        "print(train_data.shape)\n",
        "print(test_data.shape)"
      ],
      "execution_count": 8,
      "outputs": [
        {
          "output_type": "stream",
          "text": [
            "(27481, 4)\n",
            "(3534, 3)\n"
          ],
          "name": "stdout"
        }
      ]
    },
    {
      "cell_type": "code",
      "metadata": {
        "id": "GjJHvCdp_2us",
        "colab_type": "code",
        "colab": {}
      },
      "source": [
        "### Removing rows with null value\n",
        "train_data = train_data[train_data.text == train_data.text]\n",
        "test_data = test_data[test_data.text == test_data.text]"
      ],
      "execution_count": 9,
      "outputs": []
    },
    {
      "cell_type": "code",
      "metadata": {
        "id": "miEf8vMH_5ZY",
        "colab_type": "code",
        "colab": {
          "base_uri": "https://localhost:8080/",
          "height": 51
        },
        "outputId": "93c5a39c-d3d1-4790-ddf7-af4ad6db932b"
      },
      "source": [
        "### Drop the neutral for now\n",
        "train_data = train_data[train_data.sentiment != 'neutral']\n",
        "test_data = test_data[test_data.sentiment != 'neutral']\n",
        "\n",
        "print(train_data.shape)\n",
        "print(test_data.shape)"
      ],
      "execution_count": 10,
      "outputs": [
        {
          "output_type": "stream",
          "text": [
            "(16363, 4)\n",
            "(2104, 3)\n"
          ],
          "name": "stdout"
        }
      ]
    },
    {
      "cell_type": "code",
      "metadata": {
        "id": "o1oHgJgrhlS8",
        "colab_type": "code",
        "colab": {
          "base_uri": "https://localhost:8080/",
          "height": 204
        },
        "outputId": "3a8a60c9-1bff-414e-bf85-e7fc6ba32eb6"
      },
      "source": [
        "test_data.head()"
      ],
      "execution_count": 11,
      "outputs": [
        {
          "output_type": "execute_result",
          "data": {
            "text/html": [
              "<div>\n",
              "<style scoped>\n",
              "    .dataframe tbody tr th:only-of-type {\n",
              "        vertical-align: middle;\n",
              "    }\n",
              "\n",
              "    .dataframe tbody tr th {\n",
              "        vertical-align: top;\n",
              "    }\n",
              "\n",
              "    .dataframe thead th {\n",
              "        text-align: right;\n",
              "    }\n",
              "</style>\n",
              "<table border=\"1\" class=\"dataframe\">\n",
              "  <thead>\n",
              "    <tr style=\"text-align: right;\">\n",
              "      <th></th>\n",
              "      <th>textID</th>\n",
              "      <th>text</th>\n",
              "      <th>sentiment</th>\n",
              "    </tr>\n",
              "  </thead>\n",
              "  <tbody>\n",
              "    <tr>\n",
              "      <th>1</th>\n",
              "      <td>96d74cb729</td>\n",
              "      <td>Shanghai is also really exciting (precisely -- skyscrapers galore). Good tweeps in China:  (SH)  (BJ).</td>\n",
              "      <td>positive</td>\n",
              "    </tr>\n",
              "    <tr>\n",
              "      <th>2</th>\n",
              "      <td>eee518ae67</td>\n",
              "      <td>Recession hit Veronique Branquinho, she has to quit her company, such a shame!</td>\n",
              "      <td>negative</td>\n",
              "    </tr>\n",
              "    <tr>\n",
              "      <th>3</th>\n",
              "      <td>01082688c6</td>\n",
              "      <td>happy bday!</td>\n",
              "      <td>positive</td>\n",
              "    </tr>\n",
              "    <tr>\n",
              "      <th>4</th>\n",
              "      <td>33987a8ee5</td>\n",
              "      <td>http://twitpic.com/4w75p - I like it!!</td>\n",
              "      <td>positive</td>\n",
              "    </tr>\n",
              "    <tr>\n",
              "      <th>5</th>\n",
              "      <td>726e501993</td>\n",
              "      <td>that`s great!! weee!! visitors!</td>\n",
              "      <td>positive</td>\n",
              "    </tr>\n",
              "  </tbody>\n",
              "</table>\n",
              "</div>"
            ],
            "text/plain": [
              "       textID  ... sentiment\n",
              "1  96d74cb729  ...  positive\n",
              "2  eee518ae67  ...  negative\n",
              "3  01082688c6  ...  positive\n",
              "4  33987a8ee5  ...  positive\n",
              "5  726e501993  ...  positive\n",
              "\n",
              "[5 rows x 3 columns]"
            ]
          },
          "metadata": {
            "tags": []
          },
          "execution_count": 11
        }
      ]
    },
    {
      "cell_type": "code",
      "metadata": {
        "id": "IbHRwbH0Qtx2",
        "colab_type": "code",
        "colab": {
          "base_uri": "https://localhost:8080/",
          "height": 204
        },
        "outputId": "488db630-1770-499a-e642-1f8b2f23a91e"
      },
      "source": [
        "train_data.head(5)"
      ],
      "execution_count": 12,
      "outputs": [
        {
          "output_type": "execute_result",
          "data": {
            "text/html": [
              "<div>\n",
              "<style scoped>\n",
              "    .dataframe tbody tr th:only-of-type {\n",
              "        vertical-align: middle;\n",
              "    }\n",
              "\n",
              "    .dataframe tbody tr th {\n",
              "        vertical-align: top;\n",
              "    }\n",
              "\n",
              "    .dataframe thead th {\n",
              "        text-align: right;\n",
              "    }\n",
              "</style>\n",
              "<table border=\"1\" class=\"dataframe\">\n",
              "  <thead>\n",
              "    <tr style=\"text-align: right;\">\n",
              "      <th></th>\n",
              "      <th>textID</th>\n",
              "      <th>text</th>\n",
              "      <th>selected_text</th>\n",
              "      <th>sentiment</th>\n",
              "    </tr>\n",
              "  </thead>\n",
              "  <tbody>\n",
              "    <tr>\n",
              "      <th>1</th>\n",
              "      <td>549e992a42</td>\n",
              "      <td>Sooo SAD I will miss you here in San Diego!!!</td>\n",
              "      <td>Sooo SAD</td>\n",
              "      <td>negative</td>\n",
              "    </tr>\n",
              "    <tr>\n",
              "      <th>2</th>\n",
              "      <td>088c60f138</td>\n",
              "      <td>my boss is bullying me...</td>\n",
              "      <td>bullying me</td>\n",
              "      <td>negative</td>\n",
              "    </tr>\n",
              "    <tr>\n",
              "      <th>3</th>\n",
              "      <td>9642c003ef</td>\n",
              "      <td>what interview! leave me alone</td>\n",
              "      <td>leave me alone</td>\n",
              "      <td>negative</td>\n",
              "    </tr>\n",
              "    <tr>\n",
              "      <th>4</th>\n",
              "      <td>358bd9e861</td>\n",
              "      <td>Sons of ****, why couldn`t they put them on the releases we already bought</td>\n",
              "      <td>Sons of ****,</td>\n",
              "      <td>negative</td>\n",
              "    </tr>\n",
              "    <tr>\n",
              "      <th>6</th>\n",
              "      <td>6e0c6d75b1</td>\n",
              "      <td>2am feedings for the baby are fun when he is all smiles and coos</td>\n",
              "      <td>fun</td>\n",
              "      <td>positive</td>\n",
              "    </tr>\n",
              "  </tbody>\n",
              "</table>\n",
              "</div>"
            ],
            "text/plain": [
              "       textID  ... sentiment\n",
              "1  549e992a42  ...  negative\n",
              "2  088c60f138  ...  negative\n",
              "3  9642c003ef  ...  negative\n",
              "4  358bd9e861  ...  negative\n",
              "6  6e0c6d75b1  ...  positive\n",
              "\n",
              "[5 rows x 4 columns]"
            ]
          },
          "metadata": {
            "tags": []
          },
          "execution_count": 12
        }
      ]
    },
    {
      "cell_type": "code",
      "metadata": {
        "id": "Boow0GdtgaL2",
        "colab_type": "code",
        "colab": {
          "base_uri": "https://localhost:8080/",
          "height": 68
        },
        "outputId": "d3648e0d-42d2-4838-82ea-d8c8eda9b7ac"
      },
      "source": [
        "train_data.sentiment.value_counts()"
      ],
      "execution_count": 14,
      "outputs": [
        {
          "output_type": "execute_result",
          "data": {
            "text/plain": [
              "positive    8582\n",
              "negative    7781\n",
              "Name: sentiment, dtype: int64"
            ]
          },
          "metadata": {
            "tags": []
          },
          "execution_count": 14
        }
      ]
    },
    {
      "cell_type": "code",
      "metadata": {
        "id": "ABoCOILLggtR",
        "colab_type": "code",
        "colab": {
          "base_uri": "https://localhost:8080/",
          "height": 68
        },
        "outputId": "0eec5a83-d67c-4e61-f1ae-9e390b3467bf"
      },
      "source": [
        "test_data.sentiment.value_counts()"
      ],
      "execution_count": 15,
      "outputs": [
        {
          "output_type": "execute_result",
          "data": {
            "text/plain": [
              "positive    1103\n",
              "negative    1001\n",
              "Name: sentiment, dtype: int64"
            ]
          },
          "metadata": {
            "tags": []
          },
          "execution_count": 15
        }
      ]
    },
    {
      "cell_type": "markdown",
      "metadata": {
        "id": "PGjR1mx6Lrv9",
        "colab_type": "text"
      },
      "source": [
        "#### Save the data to load into Torch dataset"
      ]
    },
    {
      "cell_type": "code",
      "metadata": {
        "id": "qTT3ib_GZT3f",
        "colab_type": "code",
        "colab": {}
      },
      "source": [
        "train_data[\"idx\"] = train_data.index\n",
        "test_data[\"idx\"] = test_data.index"
      ],
      "execution_count": 16,
      "outputs": []
    },
    {
      "cell_type": "code",
      "metadata": {
        "id": "lBKJb2dGiZwI",
        "colab_type": "code",
        "colab": {}
      },
      "source": [
        "train_data[\"sentiment_label\"] = np.where(train_data.sentiment == 'positive', 1, 0)\n",
        "test_data[\"sentiment_label\"] = np.where(test_data.sentiment == 'positive', 1, 0)"
      ],
      "execution_count": 17,
      "outputs": []
    },
    {
      "cell_type": "code",
      "metadata": {
        "id": "tP0DK-H_Zc9E",
        "colab_type": "code",
        "colab": {
          "base_uri": "https://localhost:8080/",
          "height": 204
        },
        "outputId": "3e78a469-1c6e-4e29-e3df-a69dd704143d"
      },
      "source": [
        "train_data.head()"
      ],
      "execution_count": 18,
      "outputs": [
        {
          "output_type": "execute_result",
          "data": {
            "text/html": [
              "<div>\n",
              "<style scoped>\n",
              "    .dataframe tbody tr th:only-of-type {\n",
              "        vertical-align: middle;\n",
              "    }\n",
              "\n",
              "    .dataframe tbody tr th {\n",
              "        vertical-align: top;\n",
              "    }\n",
              "\n",
              "    .dataframe thead th {\n",
              "        text-align: right;\n",
              "    }\n",
              "</style>\n",
              "<table border=\"1\" class=\"dataframe\">\n",
              "  <thead>\n",
              "    <tr style=\"text-align: right;\">\n",
              "      <th></th>\n",
              "      <th>textID</th>\n",
              "      <th>text</th>\n",
              "      <th>selected_text</th>\n",
              "      <th>sentiment</th>\n",
              "      <th>idx</th>\n",
              "      <th>sentiment_label</th>\n",
              "    </tr>\n",
              "  </thead>\n",
              "  <tbody>\n",
              "    <tr>\n",
              "      <th>1</th>\n",
              "      <td>549e992a42</td>\n",
              "      <td>Sooo SAD I will miss you here in San Diego!!!</td>\n",
              "      <td>Sooo SAD</td>\n",
              "      <td>negative</td>\n",
              "      <td>1</td>\n",
              "      <td>0</td>\n",
              "    </tr>\n",
              "    <tr>\n",
              "      <th>2</th>\n",
              "      <td>088c60f138</td>\n",
              "      <td>my boss is bullying me...</td>\n",
              "      <td>bullying me</td>\n",
              "      <td>negative</td>\n",
              "      <td>2</td>\n",
              "      <td>0</td>\n",
              "    </tr>\n",
              "    <tr>\n",
              "      <th>3</th>\n",
              "      <td>9642c003ef</td>\n",
              "      <td>what interview! leave me alone</td>\n",
              "      <td>leave me alone</td>\n",
              "      <td>negative</td>\n",
              "      <td>3</td>\n",
              "      <td>0</td>\n",
              "    </tr>\n",
              "    <tr>\n",
              "      <th>4</th>\n",
              "      <td>358bd9e861</td>\n",
              "      <td>Sons of ****, why couldn`t they put them on the releases we already bought</td>\n",
              "      <td>Sons of ****,</td>\n",
              "      <td>negative</td>\n",
              "      <td>4</td>\n",
              "      <td>0</td>\n",
              "    </tr>\n",
              "    <tr>\n",
              "      <th>6</th>\n",
              "      <td>6e0c6d75b1</td>\n",
              "      <td>2am feedings for the baby are fun when he is all smiles and coos</td>\n",
              "      <td>fun</td>\n",
              "      <td>positive</td>\n",
              "      <td>6</td>\n",
              "      <td>1</td>\n",
              "    </tr>\n",
              "  </tbody>\n",
              "</table>\n",
              "</div>"
            ],
            "text/plain": [
              "       textID  ... sentiment_label\n",
              "1  549e992a42  ...               0\n",
              "2  088c60f138  ...               0\n",
              "3  9642c003ef  ...               0\n",
              "4  358bd9e861  ...               0\n",
              "6  6e0c6d75b1  ...               1\n",
              "\n",
              "[5 rows x 6 columns]"
            ]
          },
          "metadata": {
            "tags": []
          },
          "execution_count": 18
        }
      ]
    },
    {
      "cell_type": "code",
      "metadata": {
        "id": "3lWrPZXyapI4",
        "colab_type": "code",
        "colab": {
          "base_uri": "https://localhost:8080/",
          "height": 204
        },
        "outputId": "1408c3a3-c48d-4db5-c6b4-30f5461c9486"
      },
      "source": [
        "test_data.tail()"
      ],
      "execution_count": 19,
      "outputs": [
        {
          "output_type": "execute_result",
          "data": {
            "text/html": [
              "<div>\n",
              "<style scoped>\n",
              "    .dataframe tbody tr th:only-of-type {\n",
              "        vertical-align: middle;\n",
              "    }\n",
              "\n",
              "    .dataframe tbody tr th {\n",
              "        vertical-align: top;\n",
              "    }\n",
              "\n",
              "    .dataframe thead th {\n",
              "        text-align: right;\n",
              "    }\n",
              "</style>\n",
              "<table border=\"1\" class=\"dataframe\">\n",
              "  <thead>\n",
              "    <tr style=\"text-align: right;\">\n",
              "      <th></th>\n",
              "      <th>textID</th>\n",
              "      <th>text</th>\n",
              "      <th>sentiment</th>\n",
              "      <th>idx</th>\n",
              "      <th>sentiment_label</th>\n",
              "    </tr>\n",
              "  </thead>\n",
              "  <tbody>\n",
              "    <tr>\n",
              "      <th>3529</th>\n",
              "      <td>e5f0e6ef4b</td>\n",
              "      <td>its at 3 am, im very tired but i can`t sleep  but i try it</td>\n",
              "      <td>negative</td>\n",
              "      <td>3529</td>\n",
              "      <td>0</td>\n",
              "    </tr>\n",
              "    <tr>\n",
              "      <th>3530</th>\n",
              "      <td>416863ce47</td>\n",
              "      <td>All alone in this old house again.  Thanks for the net which keeps me alive and kicking! Whoever invented the net, i wanna kiss your hair!</td>\n",
              "      <td>positive</td>\n",
              "      <td>3530</td>\n",
              "      <td>1</td>\n",
              "    </tr>\n",
              "    <tr>\n",
              "      <th>3531</th>\n",
              "      <td>6332da480c</td>\n",
              "      <td>I know what you mean. My little dog is sinking into depression... he wants to move someplace tropical</td>\n",
              "      <td>negative</td>\n",
              "      <td>3531</td>\n",
              "      <td>0</td>\n",
              "    </tr>\n",
              "    <tr>\n",
              "      <th>3532</th>\n",
              "      <td>df1baec676</td>\n",
              "      <td>_sutra what is your next youtube video gonna be about? I love your videos!</td>\n",
              "      <td>positive</td>\n",
              "      <td>3532</td>\n",
              "      <td>1</td>\n",
              "    </tr>\n",
              "    <tr>\n",
              "      <th>3533</th>\n",
              "      <td>469e15c5a8</td>\n",
              "      <td>http://twitpic.com/4woj2 - omgssh  ang cute ng bby.!</td>\n",
              "      <td>positive</td>\n",
              "      <td>3533</td>\n",
              "      <td>1</td>\n",
              "    </tr>\n",
              "  </tbody>\n",
              "</table>\n",
              "</div>"
            ],
            "text/plain": [
              "          textID  ... sentiment_label\n",
              "3529  e5f0e6ef4b  ...               0\n",
              "3530  416863ce47  ...               1\n",
              "3531  6332da480c  ...               0\n",
              "3532  df1baec676  ...               1\n",
              "3533  469e15c5a8  ...               1\n",
              "\n",
              "[5 rows x 5 columns]"
            ]
          },
          "metadata": {
            "tags": []
          },
          "execution_count": 19
        }
      ]
    },
    {
      "cell_type": "markdown",
      "metadata": {
        "id": "gX6v-xmrshqu",
        "colab_type": "text"
      },
      "source": [
        "Save the data in a format such that PyTorch out of box data loader can be used to load the data"
      ]
    },
    {
      "cell_type": "code",
      "metadata": {
        "id": "GS82F_5iMDUe",
        "colab_type": "code",
        "colab": {}
      },
      "source": [
        "train_data[\"text\"].to_csv(data_folder + \"/train_data.text\",index=False,header=False)\n",
        "train_data[\"selected_text\"].to_csv(data_folder + \"/train_data.stext\",index=False,header=False)\n",
        "train_data[\"sentiment_label\"].to_csv(data_folder + \"/train_data.sentiment\",index=False,header=False)\n",
        "train_data[\"idx\"].to_csv(data_folder + \"/train_data.textid\",index=False,header=False)"
      ],
      "execution_count": 22,
      "outputs": []
    },
    {
      "cell_type": "code",
      "metadata": {
        "id": "gPxh0xyiGAjk",
        "colab_type": "code",
        "colab": {}
      },
      "source": [
        "test_data[\"text\"].to_csv(data_folder + \"/test_data.text\",index=False,header=False)\n",
        "test_data[\"text\"].to_csv(data_folder + \"/test_data.stext\",index=False,header=False)\n",
        "test_data[\"sentiment_label\"].to_csv(data_folder + \"/test_data.sentiment\",index=False,header=False)\n",
        "test_data[\"idx\"].to_csv(data_folder + \"/test_data.textid\",index=False,header=False)"
      ],
      "execution_count": 21,
      "outputs": []
    },
    {
      "cell_type": "markdown",
      "metadata": {
        "id": "q5gXO_g8pwqU",
        "colab_type": "text"
      },
      "source": [
        "Save the positive and negative sentiment separately"
      ]
    },
    {
      "cell_type": "code",
      "metadata": {
        "id": "M05mJqmMpvX-",
        "colab_type": "code",
        "colab": {}
      },
      "source": [
        "test_data[test_data.sentiment_label == 1][\"text\"].to_csv(data_folder + \"/test_data_positive.text\",index=False,header=False)\n",
        "test_data[test_data.sentiment_label == 1][\"text\"].to_csv(data_folder + \"/test_data_positive.stext\",index=False,header=False)\n",
        "test_data[test_data.sentiment_label == 1][\"sentiment_label\"].to_csv(data_folder + \"/test_data_positive.sentiment\",index=False,header=False)\n",
        "test_data[test_data.sentiment_label == 1][\"idx\"].to_csv(data_folder + \"/test_data_positive.textid\",index=False,header=False)"
      ],
      "execution_count": 23,
      "outputs": []
    },
    {
      "cell_type": "code",
      "metadata": {
        "id": "JTfNJwxpqSUn",
        "colab_type": "code",
        "colab": {}
      },
      "source": [
        "test_data[test_data.sentiment_label == 0][\"text\"].to_csv(data_folder + \"/test_data_negative.text\",index=False,header=False)\n",
        "test_data[test_data.sentiment_label == 0][\"text\"].to_csv(data_folder + \"/test_data_negative.stext\",index=False,header=False)\n",
        "test_data[test_data.sentiment_label == 0][\"sentiment_label\"].to_csv(data_folder + \"/test_data_negative.sentiment\",index=False,header=False)\n",
        "test_data[test_data.sentiment_label == 0][\"idx\"].to_csv(data_folder + \"/test_data_negative.textid\",index=False,header=False)"
      ],
      "execution_count": 24,
      "outputs": []
    },
    {
      "cell_type": "code",
      "metadata": {
        "colab_type": "code",
        "id": "jgYO8y4X61VY",
        "colab": {}
      },
      "source": [
        "train_data[train_data.sentiment_label == 1][\"text\"].to_csv(data_folder + \"/train_data_positive.text\",index=False,header=False)\n",
        "train_data[train_data.sentiment_label == 1][\"selected_text\"].to_csv(data_folder + \"/train_data_positive.stext\",index=False,header=False)\n",
        "train_data[train_data.sentiment_label == 1][\"sentiment_label\"].to_csv(data_folder + \"/train_data_positive.sentiment\",index=False,header=False)\n",
        "train_data[train_data.sentiment_label == 1][\"idx\"].to_csv(data_folder + \"/train_data_positive.textid\",index=False,header=False)"
      ],
      "execution_count": 25,
      "outputs": []
    },
    {
      "cell_type": "code",
      "metadata": {
        "colab_type": "code",
        "id": "6cjj0uL261Vh",
        "colab": {}
      },
      "source": [
        "train_data[train_data.sentiment_label == 0][\"text\"].to_csv(data_folder + \"/train_data_negative.text\",index=False,header=False)\n",
        "train_data[train_data.sentiment_label == 0][\"selected_text\"].to_csv(data_folder + \"/train_data_negative.stext\",index=False,header=False)\n",
        "train_data[train_data.sentiment_label == 0][\"sentiment_label\"].to_csv(data_folder + \"/train_data_negative.sentiment\",index=False,header=False)\n",
        "train_data[train_data.sentiment_label == 0][\"idx\"].to_csv(data_folder + \"/train_data_negative.textid\",index=False,header=False)"
      ],
      "execution_count": 26,
      "outputs": []
    },
    {
      "cell_type": "code",
      "metadata": {
        "id": "QL647322AjlM",
        "colab_type": "code",
        "colab": {
          "base_uri": "https://localhost:8080/",
          "height": 128
        },
        "outputId": "04aba01d-fc33-4cf1-d49b-bf6f44634465"
      },
      "source": [
        "train_data[(train_data.selected_text.str.contains('disappoint', case=False, regex=False)) & (train_data.sentiment_label == 1)]"
      ],
      "execution_count": 27,
      "outputs": [
        {
          "output_type": "execute_result",
          "data": {
            "text/html": [
              "<div>\n",
              "<style scoped>\n",
              "    .dataframe tbody tr th:only-of-type {\n",
              "        vertical-align: middle;\n",
              "    }\n",
              "\n",
              "    .dataframe tbody tr th {\n",
              "        vertical-align: top;\n",
              "    }\n",
              "\n",
              "    .dataframe thead th {\n",
              "        text-align: right;\n",
              "    }\n",
              "</style>\n",
              "<table border=\"1\" class=\"dataframe\">\n",
              "  <thead>\n",
              "    <tr style=\"text-align: right;\">\n",
              "      <th></th>\n",
              "      <th>textID</th>\n",
              "      <th>text</th>\n",
              "      <th>selected_text</th>\n",
              "      <th>sentiment</th>\n",
              "      <th>idx</th>\n",
              "      <th>sentiment_label</th>\n",
              "    </tr>\n",
              "  </thead>\n",
              "  <tbody>\n",
              "    <tr>\n",
              "      <th>22638</th>\n",
              "      <td>add1c95bee</td>\n",
              "      <td>Star Trek.. Did not disappoint!  5 star!!</td>\n",
              "      <td>Did not disappoint!  5 star!!</td>\n",
              "      <td>positive</td>\n",
              "      <td>22638</td>\n",
              "      <td>1</td>\n",
              "    </tr>\n",
              "    <tr>\n",
              "      <th>23747</th>\n",
              "      <td>73714f7a1a</td>\n",
              "      <td>aww i hope it does fly by because JT episodes are usually really good (and it`s early but so far this ep hassn`t disappointed)</td>\n",
              "      <td>aww i hope it does fly by because JT episodes are usually really good (and it`s early but so far this ep hassn`t disappointed)</td>\n",
              "      <td>positive</td>\n",
              "      <td>23747</td>\n",
              "      <td>1</td>\n",
              "    </tr>\n",
              "  </tbody>\n",
              "</table>\n",
              "</div>"
            ],
            "text/plain": [
              "           textID  ... sentiment_label\n",
              "22638  add1c95bee  ...               1\n",
              "23747  73714f7a1a  ...               1\n",
              "\n",
              "[2 rows x 6 columns]"
            ]
          },
          "metadata": {
            "tags": []
          },
          "execution_count": 27
        }
      ]
    },
    {
      "cell_type": "markdown",
      "metadata": {
        "id": "ifQOTlF2OPvs",
        "colab_type": "text"
      },
      "source": [
        "#### Load the Torch dataset"
      ]
    },
    {
      "cell_type": "code",
      "metadata": {
        "id": "01ZL6nRUdx4a",
        "colab_type": "code",
        "colab": {}
      },
      "source": [
        "from typing import Collection\n",
        "import html\n",
        "BOS,EOS,FLD,UNK,PAD = 'xxbos','xxeos','xxfld','xxunk','xxpad'\n",
        "TK_MAJ,TK_UP,TK_REP,TK_WREP = 'xxmaj','xxup','xxrep','xxwrep'\n",
        "\n",
        "def spec_add_spaces(t:str) -> str:\n",
        "    \"Add spaces around / and # in `t`. \\n\"\n",
        "    #print(t)\n",
        "    return re.sub(r'([/#\\n/.])', r' \\1 ', t)\n",
        "\n",
        "\n",
        "def rm_useless_spaces(t:str) -> str:\n",
        "    \"Remove multiple spaces in `t`.\"\n",
        "    return re.sub(' {2,}', ' ', t)\n",
        "\n",
        "\n",
        "def replace_rep(t:str) -> str:\n",
        "    \"Replace repetitions at the character level in `t`.\"\n",
        "    def _replace_rep(m:Collection[str]) -> str:\n",
        "        c,cc = m.groups()\n",
        "        return f' {TK_REP} {len(cc)+1} {c} '\n",
        "    re_rep = re.compile(r'(\\S)(\\1{3,})')\n",
        "    return re_rep.sub(_replace_rep, t)\n",
        "\n",
        "def replace_wrep(t:str) -> str:\n",
        "    \"Replace word repetitions in `t`.\"\n",
        "    def _replace_wrep(m:Collection[str]) -> str:\n",
        "        c,cc = m.groups()\n",
        "        return f' {TK_WREP} {len(cc.split())+1} {c} '\n",
        "    re_wrep = re.compile(r'(\\b\\w+\\W+)(\\1{3,})')\n",
        "    return re_wrep.sub(_replace_wrep, t)\n",
        "\n",
        "def fix_html(x:str) -> str:\n",
        "    \"List of replacements from html strings in `x`.\"\n",
        "    re1 = re.compile(r'  +')\n",
        "    x = x.replace('#39;', \"'\").replace('amp;', '&').replace('#146;', \"'\").replace(\n",
        "        'nbsp;', ' ').replace('#36;', '$').replace('\\\\n', \"\\n\").replace('quot;', \"'\").replace(\n",
        "        '<br />', \"\\n\").replace('\\\\\"', '\"').replace('<unk>',UNK).replace(' @.@ ','.').replace(\n",
        "        ' @-@ ','-').replace(' @,@ ',',').replace('\\\\', ' \\\\ ')\n",
        "    return re1.sub(' ', html.unescape(x))\n",
        "\n",
        "def replace_all_caps(x:Collection[str]) -> Collection[str]:\n",
        "    \"Replace tokens in ALL CAPS in `x` by their lower version and add `TK_UP` before.\"\n",
        "    res = []\n",
        "    for t in x:\n",
        "        if t.isupper() and len(t) > 1: res.append(TK_UP); res.append(t.lower())\n",
        "        else: res.append(t)\n",
        "    return res\n",
        "\n",
        "def deal_caps(x:Collection[str]) -> Collection[str]:\n",
        "    \"Replace all Capitalized tokens in `x` by their lower version and add `TK_MAJ` before.\"\n",
        "    res = []\n",
        "    for t in x:\n",
        "        if t == '': continue\n",
        "        if t[0].isupper() and len(t) > 1 and t[1:].islower(): res.append(TK_MAJ)\n",
        "        res.append(t.lower())\n",
        "    return res\n",
        "\n",
        "def convert_int(x:Collection[str]) -> Collection[str]:\n",
        "    \"Replace all Capitalized tokens in `x` by their lower version and add `TK_MAJ` before.\"\n",
        "    res = []\n",
        "    for t in x:\n",
        "        res.append(int(t))\n",
        "    return res\n",
        "\n",
        "text_pre_rules = [fix_html, replace_rep, replace_wrep, spec_add_spaces, rm_useless_spaces]\n",
        "text_post_rules = [replace_all_caps, deal_caps]\n",
        "numeric_rules = [convert_int]"
      ],
      "execution_count": 28,
      "outputs": []
    },
    {
      "cell_type": "code",
      "metadata": {
        "id": "FidQCItpy6Fr",
        "colab_type": "code",
        "colab": {}
      },
      "source": [
        "def sequential_transforms(transforms=[]):\n",
        "    def _forward(txt_input):\n",
        "        #print(txt_input)\n",
        "        for transform in transforms:\n",
        "            #print(transform)\n",
        "            txt_input = transform(txt_input)\n",
        "        return txt_input\n",
        "    return _forward"
      ],
      "execution_count": 29,
      "outputs": []
    },
    {
      "cell_type": "code",
      "metadata": {
        "id": "rk_MPD0ZzTGL",
        "colab_type": "code",
        "colab": {}
      },
      "source": [
        "text_preprocess = sequential_transforms(text_pre_rules)\n",
        "\n",
        "text_post_preprocess = sequential_transforms(text_post_rules)\n",
        "\n",
        "numeric_post_preprocess = sequential_transforms(numeric_rules)"
      ],
      "execution_count": 30,
      "outputs": []
    },
    {
      "cell_type": "code",
      "metadata": {
        "id": "vgOjYdMbbvXY",
        "colab_type": "code",
        "colab": {}
      },
      "source": [
        "spacy_en = spacy.load('en')"
      ],
      "execution_count": 31,
      "outputs": []
    },
    {
      "cell_type": "code",
      "metadata": {
        "id": "EjI6eILIbm1g",
        "colab_type": "code",
        "colab": {}
      },
      "source": [
        "def tokenize_src(text):\n",
        "    \"\"\"\n",
        "    Tokenizes text from a string into a list of strings (tokens) and reverses it\n",
        "    \"\"\"\n",
        "    #return [tok.text for tok in spacy_en.tokenizer(text)][::-1]\n",
        "    text = text_preprocess(text)\n",
        "    return [tok.text for tok in spacy_en.tokenizer(text)]\n",
        "\n",
        "def tokenize_trg(text):\n",
        "    \"\"\"\n",
        "    Tokenizes English text from a string into a list of strings (tokens)\n",
        "    \"\"\"\n",
        "    text = text_preprocess(text)\n",
        "    return [tok.text for tok in spacy_en.tokenizer(text)]"
      ],
      "execution_count": 32,
      "outputs": []
    },
    {
      "cell_type": "code",
      "metadata": {
        "id": "TmMcSkcmcW3E",
        "colab_type": "code",
        "colab": {}
      },
      "source": [
        "src_sentences = Field(tokenize = tokenize_src, \n",
        "              init_token = '<sos>', \n",
        "              eos_token = '<eos>', \n",
        "              lower = False,\n",
        "              preprocessing = text_post_preprocess,\n",
        "              include_lengths = True)\n",
        "              #postprocessing = text_post_preprocess)\n",
        "\n",
        "trg_sentences = Field(tokenize = tokenize_trg,\n",
        "              init_token = '<sos>', \n",
        "              eos_token = '<eos>', \n",
        "              lower = False,\n",
        "              preprocessing = text_post_preprocess,\n",
        "              include_lengths = True)\n",
        "              #postprocessing = text_post_preprocess)\n",
        "\n",
        "#label_sentences = Field(sequential=False,use_vocab=False,postprocessing=numeric_post_preprocess)\n",
        "label_sentences = LabelField(dtype = torch.float, use_vocab=False, preprocessing=float)\n",
        "              #init_token = '<sos>', \n",
        "              #eos_token = '<eos>', \n",
        "              #lower = False,\n",
        "              #preprocessing = text_post_preprocess,\n",
        "              #include_lengths = True)\n",
        "              #postprocessing = text_post_preprocess)\n",
        "\n",
        "idx_sentences = Field(sequential=False,use_vocab=False,preprocessing=int) #,unk_token=None)"
      ],
      "execution_count": 33,
      "outputs": []
    },
    {
      "cell_type": "markdown",
      "metadata": {
        "id": "XACZm4IrdA35",
        "colab_type": "text"
      },
      "source": [
        "Build the Train and Test Datasets"
      ]
    },
    {
      "cell_type": "code",
      "metadata": {
        "id": "X4JqEV7xc-4o",
        "colab_type": "code",
        "colab": {}
      },
      "source": [
        "(train_dataset, test_dataset) = TranslationDataset_c.splits(exts = ('.text','.sentiment','.textid','.stext'), path=data_folder,\n",
        "                                                    fields = (src_sentences,label_sentences,idx_sentences, trg_sentences),train='train_data',validation='test_data',test=None)"
      ],
      "execution_count": 34,
      "outputs": []
    },
    {
      "cell_type": "code",
      "metadata": {
        "id": "x13Jw_U3Pwzo",
        "colab_type": "code",
        "colab": {
          "base_uri": "https://localhost:8080/",
          "height": 85
        },
        "outputId": "ac35440c-b668-4d9d-f138-14b6cdb8c460"
      },
      "source": [
        "vars(train_dataset.examples[1])"
      ],
      "execution_count": 35,
      "outputs": [
        {
          "output_type": "execute_result",
          "data": {
            "text/plain": [
              "{'idx': 2,\n",
              " 'label': 0.0,\n",
              " 'src': ['my', 'boss', 'is', 'bullying', 'me', '.', '.', '.'],\n",
              " 'trg': ['bullying', 'me']}"
            ]
          },
          "metadata": {
            "tags": []
          },
          "execution_count": 35
        }
      ]
    },
    {
      "cell_type": "code",
      "metadata": {
        "id": "D3id4XRYIb5Z",
        "colab_type": "code",
        "colab": {
          "base_uri": "https://localhost:8080/",
          "height": 765
        },
        "outputId": "30a45db9-c4fc-49c5-c877-cf7634da73d9"
      },
      "source": [
        "vars(test_dataset.examples[1])"
      ],
      "execution_count": 36,
      "outputs": [
        {
          "output_type": "execute_result",
          "data": {
            "text/plain": [
              "{'idx': 2,\n",
              " 'label': 0.0,\n",
              " 'src': ['\"',\n",
              "  'xxmaj',\n",
              "  'recession',\n",
              "  'hit',\n",
              "  'xxmaj',\n",
              "  'veronique',\n",
              "  'xxmaj',\n",
              "  'branquinho',\n",
              "  ',',\n",
              "  'she',\n",
              "  'has',\n",
              "  'to',\n",
              "  'quit',\n",
              "  'her',\n",
              "  'company',\n",
              "  ',',\n",
              "  'such',\n",
              "  'a',\n",
              "  'shame',\n",
              "  '!',\n",
              "  '\"'],\n",
              " 'trg': ['\"',\n",
              "  'xxmaj',\n",
              "  'recession',\n",
              "  'hit',\n",
              "  'xxmaj',\n",
              "  'veronique',\n",
              "  'xxmaj',\n",
              "  'branquinho',\n",
              "  ',',\n",
              "  'she',\n",
              "  'has',\n",
              "  'to',\n",
              "  'quit',\n",
              "  'her',\n",
              "  'company',\n",
              "  ',',\n",
              "  'such',\n",
              "  'a',\n",
              "  'shame',\n",
              "  '!',\n",
              "  '\"']}"
            ]
          },
          "metadata": {
            "tags": []
          },
          "execution_count": 36
        }
      ]
    },
    {
      "cell_type": "code",
      "metadata": {
        "id": "sMSLIO-ylW5l",
        "colab_type": "code",
        "colab": {
          "base_uri": "https://localhost:8080/",
          "height": 34
        },
        "outputId": "67c0a41b-74b0-4b7c-aa94-c4a19e40ac3c"
      },
      "source": [
        "print(vars(train_dataset.examples[20]))"
      ],
      "execution_count": 37,
      "outputs": [
        {
          "output_type": "stream",
          "text": [
            "{'src': ['i', 'hope', 'unni', 'will', 'make', 'the', 'audition', '.', 'fighting', 'dahye', 'unni', '!'], 'label': 1.0, 'idx': 31, 'trg': ['hope']}\n"
          ],
          "name": "stdout"
        }
      ]
    },
    {
      "cell_type": "code",
      "metadata": {
        "id": "OotAy4FTqOZh",
        "colab_type": "code",
        "colab": {
          "base_uri": "https://localhost:8080/",
          "height": 54
        },
        "outputId": "0ec18f21-95c2-48e7-b0b9-70a10c443059"
      },
      "source": [
        "print(vars(test_dataset.examples[19]))"
      ],
      "execution_count": 38,
      "outputs": [
        {
          "output_type": "stream",
          "text": [
            "{'src': ['look', 'who', 'i', 'found', 'just', 'for', 'you', '---', '>', 'http', ':', '/', '/', 'twitter', '.', 'com', '/', 'xxup', 'djt2009'], 'label': 1.0, 'idx': 28, 'trg': ['look', 'who', 'i', 'found', 'just', 'for', 'you', '---', '>', 'http', ':', '/', '/', 'twitter', '.', 'com', '/', 'xxup', 'djt2009']}\n"
          ],
          "name": "stdout"
        }
      ]
    },
    {
      "cell_type": "code",
      "metadata": {
        "id": "67ACNZiFqh5b",
        "colab_type": "code",
        "colab": {
          "base_uri": "https://localhost:8080/",
          "height": 80
        },
        "outputId": "e86f105b-06b6-4323-8192-5ea92c7fb586"
      },
      "source": [
        "test_data[test_data.idx == 28]"
      ],
      "execution_count": 39,
      "outputs": [
        {
          "output_type": "execute_result",
          "data": {
            "text/html": [
              "<div>\n",
              "<style scoped>\n",
              "    .dataframe tbody tr th:only-of-type {\n",
              "        vertical-align: middle;\n",
              "    }\n",
              "\n",
              "    .dataframe tbody tr th {\n",
              "        vertical-align: top;\n",
              "    }\n",
              "\n",
              "    .dataframe thead th {\n",
              "        text-align: right;\n",
              "    }\n",
              "</style>\n",
              "<table border=\"1\" class=\"dataframe\">\n",
              "  <thead>\n",
              "    <tr style=\"text-align: right;\">\n",
              "      <th></th>\n",
              "      <th>textID</th>\n",
              "      <th>text</th>\n",
              "      <th>sentiment</th>\n",
              "      <th>idx</th>\n",
              "      <th>sentiment_label</th>\n",
              "    </tr>\n",
              "  </thead>\n",
              "  <tbody>\n",
              "    <tr>\n",
              "      <th>28</th>\n",
              "      <td>1fa8e6ad66</td>\n",
              "      <td>look who I found just for you  ---&gt;  http://twitter.com/DJT2009</td>\n",
              "      <td>positive</td>\n",
              "      <td>28</td>\n",
              "      <td>1</td>\n",
              "    </tr>\n",
              "  </tbody>\n",
              "</table>\n",
              "</div>"
            ],
            "text/plain": [
              "        textID  ... sentiment_label\n",
              "28  1fa8e6ad66  ...               1\n",
              "\n",
              "[1 rows x 5 columns]"
            ]
          },
          "metadata": {
            "tags": []
          },
          "execution_count": 39
        }
      ]
    },
    {
      "cell_type": "code",
      "metadata": {
        "id": "JoE8lWqflwF0",
        "colab_type": "code",
        "colab": {
          "base_uri": "https://localhost:8080/",
          "height": 51
        },
        "outputId": "4d92c949-5d12-41bb-fab4-1b86e098690d"
      },
      "source": [
        "print(f\"Number of training examples: {len(train_dataset.examples)}\")\n",
        "print(f\"Number of validation examples: {len(test_dataset.examples)}\")"
      ],
      "execution_count": 40,
      "outputs": [
        {
          "output_type": "stream",
          "text": [
            "Number of training examples: 16363\n",
            "Number of validation examples: 2104\n"
          ],
          "name": "stdout"
        }
      ]
    },
    {
      "cell_type": "markdown",
      "metadata": {
        "id": "g05bjiqOotsr",
        "colab_type": "text"
      },
      "source": [
        "Build the vocab"
      ]
    },
    {
      "cell_type": "code",
      "metadata": {
        "id": "6QnIAAbklzc8",
        "colab_type": "code",
        "colab": {
          "base_uri": "https://localhost:8080/",
          "height": 51
        },
        "outputId": "635b847c-8e6c-41a9-bfbc-18dc0170b5eb"
      },
      "source": [
        "src_sentences.build_vocab(train_dataset, min_freq = 1)\n",
        "#label_sentences.build_vocab(train_dataset,min_freq = 1)\n",
        "trg_sentences.build_vocab(train_dataset, min_freq = 1)\n",
        "#idx_sentences.build_vocab(train_dataset, min_freq = 1)\n",
        "\n",
        "print(f\"Unique tokens in source (Text) vocabulary: {len(src_sentences.vocab)}\")\n",
        "print(f\"Unique tokens in target (Special Text) vocabulary: {len(trg_sentences.vocab)}\")"
      ],
      "execution_count": 41,
      "outputs": [
        {
          "output_type": "stream",
          "text": [
            "Unique tokens in source (Text) vocabulary: 18956\n",
            "Unique tokens in target (Special Text) vocabulary: 7069\n"
          ],
          "name": "stdout"
        }
      ]
    },
    {
      "cell_type": "markdown",
      "metadata": {
        "id": "yXC5Ad2VdQVD",
        "colab_type": "text"
      },
      "source": [
        "#### Build the Embedding Bag model"
      ]
    },
    {
      "cell_type": "code",
      "metadata": {
        "id": "CuN_DUVYx858",
        "colab_type": "code",
        "colab": {}
      },
      "source": [
        "import torch.nn as nn\n",
        "import torch.nn.functional as F\n",
        "class TextSentiment(nn.Module):\n",
        "    def __init__(self, vocab_size, embed_dim, num_class):\n",
        "        super().__init__()\n",
        "        self.embedding = nn.EmbeddingBag(vocab_size, embed_dim, sparse=True)\n",
        "        self.fc = nn.Linear(embed_dim, num_class)\n",
        "        self.init_weights()\n",
        "\n",
        "    def init_weights(self):\n",
        "        initrange = 0.5\n",
        "        self.embedding.weight.data.uniform_(-initrange, initrange)\n",
        "        self.fc.weight.data.uniform_(-initrange, initrange)\n",
        "        self.fc.bias.data.zero_()\n",
        "\n",
        "    def forward(self, text, offsets):\n",
        "        embedded = self.embedding(text, offsets)\n",
        "        return self.fc(embedded)"
      ],
      "execution_count": 42,
      "outputs": []
    },
    {
      "cell_type": "code",
      "metadata": {
        "id": "TUgeNiNnx85_",
        "colab_type": "code",
        "colab": {
          "base_uri": "https://localhost:8080/",
          "height": 85
        },
        "outputId": "2e4bb057-f71a-4990-e207-84eab7555b0d"
      },
      "source": [
        "VOCAB_SIZE = len(src_sentences.vocab)\n",
        "EMBED_DIM = 32\n",
        "NUM_CLASS = 2\n",
        "model = TextSentiment(VOCAB_SIZE, EMBED_DIM, NUM_CLASS).to(device)\n",
        "model"
      ],
      "execution_count": 43,
      "outputs": [
        {
          "output_type": "execute_result",
          "data": {
            "text/plain": [
              "TextSentiment(\n",
              "  (embedding): EmbeddingBag(18956, 32, mode=mean)\n",
              "  (fc): Linear(in_features=32, out_features=2, bias=True)\n",
              ")"
            ]
          },
          "metadata": {
            "tags": []
          },
          "execution_count": 43
        }
      ]
    },
    {
      "cell_type": "markdown",
      "metadata": {
        "id": "KPFXj-2pd7j-",
        "colab_type": "text"
      },
      "source": [
        "#### Train the model"
      ]
    },
    {
      "cell_type": "code",
      "metadata": {
        "id": "hI8H_8FEykRT",
        "colab_type": "code",
        "colab": {}
      },
      "source": [
        "BATCH_SIZE = 32\n",
        "train_iterator, valid_iterator = BucketIterator.splits(\n",
        "    (train_dataset, test_dataset), \n",
        "    batch_size = BATCH_SIZE, \n",
        "    device = device)"
      ],
      "execution_count": 44,
      "outputs": []
    },
    {
      "cell_type": "code",
      "metadata": {
        "id": "jtkp7S2uQvXR",
        "colab_type": "code",
        "colab": {}
      },
      "source": [
        "def generate_batch(batch):\n",
        "    #### Build text data\n",
        "    text = []\n",
        "    for bs in range(batch.src[0].shape[1]):\n",
        "      text.append(batch.src[0][:batch.src[1][bs],bs])\n",
        "    text = torch.cat(text)\n",
        "    #print(text.shape)\n",
        "\n",
        "    #### Build offsets\n",
        "    offset = list(batch.src[1].cpu().detach().numpy())\n",
        "    offsets = [0] + offset[:-1]\n",
        "    offsets = torch.tensor(offsets).cumsum(dim=0)\n",
        "    #print(offsets.shape)\n",
        "    #print(offsets[-1].item() + offset[-1])\n",
        "\n",
        "    ### Build label\n",
        "    label = batch.label.type(torch.LongTensor)\n",
        "    #print(label.shape)\n",
        "\n",
        "    ### Build IDx\n",
        "    idx = batch.idx\n",
        "    #print(idx.shape)\n",
        "    \n",
        "    return text, offsets, label,idx"
      ],
      "execution_count": 45,
      "outputs": []
    },
    {
      "cell_type": "code",
      "metadata": {
        "id": "IlZqdSTjcAgN",
        "colab_type": "code",
        "colab": {
          "base_uri": "https://localhost:8080/",
          "height": 102
        },
        "outputId": "221da1bb-7617-491a-a4b5-73f7fbaaabb2"
      },
      "source": [
        "for i, batch in enumerate(valid_iterator):\n",
        "  (text, offsets, cls,idx) = generate_batch(batch)\n",
        "  #print(text.shape)\n",
        "  #print(offsets.shape)\n",
        "  print(cls)\n",
        "  print(idx.cpu().detach().numpy())\n",
        "  break\n",
        "\n"
      ],
      "execution_count": 46,
      "outputs": [
        {
          "output_type": "stream",
          "text": [
            "tensor([0, 1, 1, 1, 1, 0, 0, 0, 1, 0, 1, 1, 0, 1, 1, 0, 0, 1, 1, 1, 0, 1, 1, 0,\n",
            "        1, 0, 1, 1, 1, 0, 1, 1])\n",
            "[ 977  962  890  853  809  795  793  774  665  659  417  333  207  139\n",
            "  130   49   16    3 3403 3373 3050 2592 2420 2177 1757 1581 1398  295\n",
            "  194 2141 1353  706]\n"
          ],
          "name": "stdout"
        }
      ]
    },
    {
      "cell_type": "code",
      "metadata": {
        "id": "ye5pqBS5gd9z",
        "colab_type": "code",
        "colab": {
          "base_uri": "https://localhost:8080/",
          "height": 34
        },
        "outputId": "4c79bddc-a6db-423f-90b4-e138b90689eb"
      },
      "source": [
        "len(train_dataset)"
      ],
      "execution_count": 47,
      "outputs": [
        {
          "output_type": "execute_result",
          "data": {
            "text/plain": [
              "16363"
            ]
          },
          "metadata": {
            "tags": []
          },
          "execution_count": 47
        }
      ]
    },
    {
      "cell_type": "code",
      "metadata": {
        "id": "un7rShS7x86E",
        "colab_type": "code",
        "colab": {}
      },
      "source": [
        "from torch.utils.data import DataLoader\n",
        "\n",
        "def train_func(train_dataset,test_dataset):\n",
        "\n",
        "    # Train the model\n",
        "    train_loss = 0\n",
        "    train_acc = 0\n",
        "    train_iterator, valid_iterator = BucketIterator.splits((train_dataset, test_dataset), batch_size = BATCH_SIZE, device = device)\n",
        "\n",
        "    for i, batch in enumerate(train_iterator):\n",
        "        (text, offsets, cls,idx) = generate_batch(batch)\n",
        "        optimizer.zero_grad()\n",
        "        text, offsets, cls = text.to(device), offsets.to(device), cls.to(device)\n",
        "        output = model(text, offsets)\n",
        "        loss = criterion(output, cls)\n",
        "        train_loss += loss.item()\n",
        "        loss.backward()\n",
        "        optimizer.step()\n",
        "        train_acc += (output.argmax(1) == cls).sum().item()\n",
        "\n",
        "    # Adjust the learning rate\n",
        "    scheduler.step()\n",
        "\n",
        "    return train_loss / len(train_dataset), train_acc / len(train_dataset)\n",
        "\n",
        "def test_func(train_dataset,test_dataset):\n",
        "    loss = 0\n",
        "    acc = 0\n",
        "    predicted_idx = []\n",
        "    predicted_output = []\n",
        "\n",
        "    train_iterator, valid_iterator = BucketIterator.splits((train_dataset, test_dataset), batch_size = BATCH_SIZE, device = device)\n",
        "\n",
        "    for i, batch in enumerate(valid_iterator):\n",
        "        (text, offsets, cls,txt_idx) = generate_batch(batch)\n",
        "        text, offsets, cls = text.to(device), offsets.to(device), cls.to(device)\n",
        "\n",
        "        with torch.no_grad():\n",
        "            output = model(text, offsets)\n",
        "            loss = criterion(output, cls)\n",
        "            loss += loss.item()\n",
        "            acc += (output.argmax(1) == cls).sum().item()\n",
        "            #for i in range(output.shape[0]):\n",
        "            if len(predicted_output) == 0:\n",
        "              predicted_output = list(output.argmax(1).cpu().detach().numpy())\n",
        "              predicted_idx = list(txt_idx.cpu().detach().numpy())\n",
        "            else:\n",
        "              predicted_output = predicted_output + list(output.argmax(1).cpu().detach().numpy())\n",
        "              predicted_idx = predicted_idx + list(txt_idx.cpu().detach().numpy())\n",
        "\n",
        "    return loss / len(test_dataset), acc / len(test_dataset),predicted_output,predicted_idx,output"
      ],
      "execution_count": 48,
      "outputs": []
    },
    {
      "cell_type": "code",
      "metadata": {
        "id": "OE8wyTKXx86G",
        "colab_type": "code",
        "colab": {
          "base_uri": "https://localhost:8080/",
          "height": 1000
        },
        "outputId": "24e8a3cc-ddda-4a42-fc6e-258508fa78dc"
      },
      "source": [
        "N_EPOCHS = 20\n",
        "min_valid_loss = float('inf')\n",
        "\n",
        "criterion = torch.nn.CrossEntropyLoss().to(device)\n",
        "optimizer = torch.optim.SGD(model.parameters(), lr=4.0)\n",
        "scheduler = torch.optim.lr_scheduler.StepLR(optimizer, 1, gamma=0.9)\n",
        "\n",
        "for epoch in range(N_EPOCHS):\n",
        "\n",
        "    start_time = time.time()\n",
        "    train_loss, train_acc = train_func(train_dataset, test_dataset)\n",
        "    #valid_loss, valid_acc, valid_idx ,valid_output = test_func(train_dataset,test_dataset)\n",
        "    valid_loss, valid_acc,valid_output,predicted_idx,output = test_func(train_dataset,test_dataset)\n",
        "\n",
        "    secs = int(time.time() - start_time)\n",
        "    mins = secs / 60\n",
        "    secs = secs % 60\n",
        "\n",
        "    print('Epoch: %d' %(epoch + 1), \" | time in %d minutes, %d seconds\" %(mins, secs))\n",
        "    print(f'\\tLoss: {train_loss:.4f}(train)\\t|\\tAcc: {train_acc * 100:.1f}%(train)')\n",
        "    print(f'\\tLoss: {valid_loss:.4f}(valid)\\t|\\tAcc: {valid_acc * 100:.1f}%(valid)')"
      ],
      "execution_count": 49,
      "outputs": [
        {
          "output_type": "stream",
          "text": [
            "Epoch: 1  | time in 0 minutes, 1 seconds\n",
            "\tLoss: 0.0192(train)\t|\tAcc: 69.2%(train)\n",
            "\tLoss: 0.0006(valid)\t|\tAcc: 72.9%(valid)\n",
            "Epoch: 2  | time in 0 minutes, 1 seconds\n",
            "\tLoss: 0.0126(train)\t|\tAcc: 82.1%(train)\n",
            "\tLoss: 0.0004(valid)\t|\tAcc: 84.4%(valid)\n",
            "Epoch: 3  | time in 0 minutes, 1 seconds\n",
            "\tLoss: 0.0104(train)\t|\tAcc: 85.8%(train)\n",
            "\tLoss: 0.0004(valid)\t|\tAcc: 85.6%(valid)\n",
            "Epoch: 4  | time in 0 minutes, 1 seconds\n",
            "\tLoss: 0.0092(train)\t|\tAcc: 87.7%(train)\n",
            "\tLoss: 0.0004(valid)\t|\tAcc: 86.4%(valid)\n",
            "Epoch: 5  | time in 0 minutes, 1 seconds\n",
            "\tLoss: 0.0083(train)\t|\tAcc: 89.4%(train)\n",
            "\tLoss: 0.0004(valid)\t|\tAcc: 87.3%(valid)\n",
            "Epoch: 6  | time in 0 minutes, 1 seconds\n",
            "\tLoss: 0.0077(train)\t|\tAcc: 90.7%(train)\n",
            "\tLoss: 0.0004(valid)\t|\tAcc: 87.6%(valid)\n",
            "Epoch: 7  | time in 0 minutes, 1 seconds\n",
            "\tLoss: 0.0071(train)\t|\tAcc: 91.6%(train)\n",
            "\tLoss: 0.0004(valid)\t|\tAcc: 88.0%(valid)\n",
            "Epoch: 8  | time in 0 minutes, 1 seconds\n",
            "\tLoss: 0.0066(train)\t|\tAcc: 92.3%(train)\n",
            "\tLoss: 0.0004(valid)\t|\tAcc: 88.0%(valid)\n",
            "Epoch: 9  | time in 0 minutes, 1 seconds\n",
            "\tLoss: 0.0062(train)\t|\tAcc: 93.0%(train)\n",
            "\tLoss: 0.0004(valid)\t|\tAcc: 87.9%(valid)\n",
            "Epoch: 10  | time in 0 minutes, 1 seconds\n",
            "\tLoss: 0.0058(train)\t|\tAcc: 93.5%(train)\n",
            "\tLoss: 0.0004(valid)\t|\tAcc: 87.8%(valid)\n",
            "Epoch: 11  | time in 0 minutes, 1 seconds\n",
            "\tLoss: 0.0055(train)\t|\tAcc: 94.1%(train)\n",
            "\tLoss: 0.0004(valid)\t|\tAcc: 87.6%(valid)\n",
            "Epoch: 12  | time in 0 minutes, 1 seconds\n",
            "\tLoss: 0.0052(train)\t|\tAcc: 94.6%(train)\n",
            "\tLoss: 0.0004(valid)\t|\tAcc: 87.6%(valid)\n",
            "Epoch: 13  | time in 0 minutes, 1 seconds\n",
            "\tLoss: 0.0050(train)\t|\tAcc: 94.9%(train)\n",
            "\tLoss: 0.0004(valid)\t|\tAcc: 87.4%(valid)\n",
            "Epoch: 14  | time in 0 minutes, 1 seconds\n",
            "\tLoss: 0.0048(train)\t|\tAcc: 95.2%(train)\n",
            "\tLoss: 0.0004(valid)\t|\tAcc: 87.5%(valid)\n",
            "Epoch: 15  | time in 0 minutes, 1 seconds\n",
            "\tLoss: 0.0046(train)\t|\tAcc: 95.5%(train)\n",
            "\tLoss: 0.0004(valid)\t|\tAcc: 87.5%(valid)\n",
            "Epoch: 16  | time in 0 minutes, 1 seconds\n",
            "\tLoss: 0.0044(train)\t|\tAcc: 95.8%(train)\n",
            "\tLoss: 0.0004(valid)\t|\tAcc: 87.5%(valid)\n",
            "Epoch: 17  | time in 0 minutes, 1 seconds\n",
            "\tLoss: 0.0042(train)\t|\tAcc: 96.0%(train)\n",
            "\tLoss: 0.0004(valid)\t|\tAcc: 87.5%(valid)\n",
            "Epoch: 18  | time in 0 minutes, 1 seconds\n",
            "\tLoss: 0.0041(train)\t|\tAcc: 96.2%(train)\n",
            "\tLoss: 0.0004(valid)\t|\tAcc: 87.5%(valid)\n",
            "Epoch: 19  | time in 0 minutes, 1 seconds\n",
            "\tLoss: 0.0039(train)\t|\tAcc: 96.3%(train)\n",
            "\tLoss: 0.0004(valid)\t|\tAcc: 87.5%(valid)\n",
            "Epoch: 20  | time in 0 minutes, 1 seconds\n",
            "\tLoss: 0.0038(train)\t|\tAcc: 96.5%(train)\n",
            "\tLoss: 0.0004(valid)\t|\tAcc: 87.5%(valid)\n"
          ],
          "name": "stdout"
        }
      ]
    },
    {
      "cell_type": "code",
      "metadata": {
        "id": "rwZp7l-Hx86I",
        "colab_type": "code",
        "colab": {
          "base_uri": "https://localhost:8080/",
          "height": 51
        },
        "outputId": "60daa3e5-9551-49d5-94d0-8e474a9fdb21"
      },
      "source": [
        "print('Checking the results of test dataset...')\n",
        "test_loss, test_acc, test_output,test_id, output = test_func(train_dataset, test_dataset)\n",
        "print(f'\\tLoss: {test_loss:.4f}(test)\\t|\\tAcc: {test_acc * 100:.1f}%(test)')"
      ],
      "execution_count": 50,
      "outputs": [
        {
          "output_type": "stream",
          "text": [
            "Checking the results of test dataset...\n",
            "\tLoss: 0.0004(test)\t|\tAcc: 87.5%(test)\n"
          ],
          "name": "stdout"
        }
      ]
    },
    {
      "cell_type": "code",
      "metadata": {
        "id": "vjoEjWQedN3B",
        "colab_type": "code",
        "colab": {
          "base_uri": "https://localhost:8080/",
          "height": 204
        },
        "outputId": "158daa86-e50f-474a-9e87-e659101a05a5"
      },
      "source": [
        "import pandas as pd\n",
        "pd.set_option('display.max_colwidth', None)\n",
        "\n",
        "test_results = pd.DataFrame()\n",
        "test_results[\"idx\"] = test_id\n",
        "#test_results.set_index(\"txt_idx\",inplace=True)\n",
        "#test_results[\"text\"] = \"\"\n",
        "#test_results[\"labels\"] = -1\n",
        "#for i in test_idx:\n",
        "#     idx, label, text = test.__getdata__(i)\n",
        "#     test_results.loc[i, \"text\"] = text\n",
        "#     test_results.loc[i, \"labels\"] = label\n",
        "\n",
        "test_results[\"predicted_output\"] = test_output\n",
        "\n",
        "test_results.head()"
      ],
      "execution_count": 51,
      "outputs": [
        {
          "output_type": "execute_result",
          "data": {
            "text/html": [
              "<div>\n",
              "<style scoped>\n",
              "    .dataframe tbody tr th:only-of-type {\n",
              "        vertical-align: middle;\n",
              "    }\n",
              "\n",
              "    .dataframe tbody tr th {\n",
              "        vertical-align: top;\n",
              "    }\n",
              "\n",
              "    .dataframe thead th {\n",
              "        text-align: right;\n",
              "    }\n",
              "</style>\n",
              "<table border=\"1\" class=\"dataframe\">\n",
              "  <thead>\n",
              "    <tr style=\"text-align: right;\">\n",
              "      <th></th>\n",
              "      <th>idx</th>\n",
              "      <th>predicted_output</th>\n",
              "    </tr>\n",
              "  </thead>\n",
              "  <tbody>\n",
              "    <tr>\n",
              "      <th>0</th>\n",
              "      <td>977</td>\n",
              "      <td>0</td>\n",
              "    </tr>\n",
              "    <tr>\n",
              "      <th>1</th>\n",
              "      <td>962</td>\n",
              "      <td>0</td>\n",
              "    </tr>\n",
              "    <tr>\n",
              "      <th>2</th>\n",
              "      <td>890</td>\n",
              "      <td>1</td>\n",
              "    </tr>\n",
              "    <tr>\n",
              "      <th>3</th>\n",
              "      <td>853</td>\n",
              "      <td>1</td>\n",
              "    </tr>\n",
              "    <tr>\n",
              "      <th>4</th>\n",
              "      <td>809</td>\n",
              "      <td>1</td>\n",
              "    </tr>\n",
              "  </tbody>\n",
              "</table>\n",
              "</div>"
            ],
            "text/plain": [
              "   idx  predicted_output\n",
              "0  977                 0\n",
              "1  962                 0\n",
              "2  890                 1\n",
              "3  853                 1\n",
              "4  809                 1"
            ]
          },
          "metadata": {
            "tags": []
          },
          "execution_count": 51
        }
      ]
    },
    {
      "cell_type": "code",
      "metadata": {
        "id": "bhh2Dq281o5K",
        "colab_type": "code",
        "colab": {
          "base_uri": "https://localhost:8080/",
          "height": 204
        },
        "outputId": "6d06e802-8ef7-483c-fbee-a6f19f741497"
      },
      "source": [
        "test_data.head()"
      ],
      "execution_count": 52,
      "outputs": [
        {
          "output_type": "execute_result",
          "data": {
            "text/html": [
              "<div>\n",
              "<style scoped>\n",
              "    .dataframe tbody tr th:only-of-type {\n",
              "        vertical-align: middle;\n",
              "    }\n",
              "\n",
              "    .dataframe tbody tr th {\n",
              "        vertical-align: top;\n",
              "    }\n",
              "\n",
              "    .dataframe thead th {\n",
              "        text-align: right;\n",
              "    }\n",
              "</style>\n",
              "<table border=\"1\" class=\"dataframe\">\n",
              "  <thead>\n",
              "    <tr style=\"text-align: right;\">\n",
              "      <th></th>\n",
              "      <th>textID</th>\n",
              "      <th>text</th>\n",
              "      <th>sentiment</th>\n",
              "      <th>idx</th>\n",
              "      <th>sentiment_label</th>\n",
              "    </tr>\n",
              "  </thead>\n",
              "  <tbody>\n",
              "    <tr>\n",
              "      <th>1</th>\n",
              "      <td>96d74cb729</td>\n",
              "      <td>Shanghai is also really exciting (precisely -- skyscrapers galore). Good tweeps in China:  (SH)  (BJ).</td>\n",
              "      <td>positive</td>\n",
              "      <td>1</td>\n",
              "      <td>1</td>\n",
              "    </tr>\n",
              "    <tr>\n",
              "      <th>2</th>\n",
              "      <td>eee518ae67</td>\n",
              "      <td>Recession hit Veronique Branquinho, she has to quit her company, such a shame!</td>\n",
              "      <td>negative</td>\n",
              "      <td>2</td>\n",
              "      <td>0</td>\n",
              "    </tr>\n",
              "    <tr>\n",
              "      <th>3</th>\n",
              "      <td>01082688c6</td>\n",
              "      <td>happy bday!</td>\n",
              "      <td>positive</td>\n",
              "      <td>3</td>\n",
              "      <td>1</td>\n",
              "    </tr>\n",
              "    <tr>\n",
              "      <th>4</th>\n",
              "      <td>33987a8ee5</td>\n",
              "      <td>http://twitpic.com/4w75p - I like it!!</td>\n",
              "      <td>positive</td>\n",
              "      <td>4</td>\n",
              "      <td>1</td>\n",
              "    </tr>\n",
              "    <tr>\n",
              "      <th>5</th>\n",
              "      <td>726e501993</td>\n",
              "      <td>that`s great!! weee!! visitors!</td>\n",
              "      <td>positive</td>\n",
              "      <td>5</td>\n",
              "      <td>1</td>\n",
              "    </tr>\n",
              "  </tbody>\n",
              "</table>\n",
              "</div>"
            ],
            "text/plain": [
              "       textID  ... sentiment_label\n",
              "1  96d74cb729  ...               1\n",
              "2  eee518ae67  ...               0\n",
              "3  01082688c6  ...               1\n",
              "4  33987a8ee5  ...               1\n",
              "5  726e501993  ...               1\n",
              "\n",
              "[5 rows x 5 columns]"
            ]
          },
          "metadata": {
            "tags": []
          },
          "execution_count": 52
        }
      ]
    },
    {
      "cell_type": "code",
      "metadata": {
        "id": "y8bJEQWJ10jD",
        "colab_type": "code",
        "colab": {
          "base_uri": "https://localhost:8080/",
          "height": 204
        },
        "outputId": "22e0f842-58d0-4f75-a0ff-48b3857956c8"
      },
      "source": [
        "test_results = pd.merge(test_data, test_results, how='left',on=\"idx\")\n",
        "test_results.head()"
      ],
      "execution_count": 53,
      "outputs": [
        {
          "output_type": "execute_result",
          "data": {
            "text/html": [
              "<div>\n",
              "<style scoped>\n",
              "    .dataframe tbody tr th:only-of-type {\n",
              "        vertical-align: middle;\n",
              "    }\n",
              "\n",
              "    .dataframe tbody tr th {\n",
              "        vertical-align: top;\n",
              "    }\n",
              "\n",
              "    .dataframe thead th {\n",
              "        text-align: right;\n",
              "    }\n",
              "</style>\n",
              "<table border=\"1\" class=\"dataframe\">\n",
              "  <thead>\n",
              "    <tr style=\"text-align: right;\">\n",
              "      <th></th>\n",
              "      <th>textID</th>\n",
              "      <th>text</th>\n",
              "      <th>sentiment</th>\n",
              "      <th>idx</th>\n",
              "      <th>sentiment_label</th>\n",
              "      <th>predicted_output</th>\n",
              "    </tr>\n",
              "  </thead>\n",
              "  <tbody>\n",
              "    <tr>\n",
              "      <th>0</th>\n",
              "      <td>96d74cb729</td>\n",
              "      <td>Shanghai is also really exciting (precisely -- skyscrapers galore). Good tweeps in China:  (SH)  (BJ).</td>\n",
              "      <td>positive</td>\n",
              "      <td>1</td>\n",
              "      <td>1</td>\n",
              "      <td>1</td>\n",
              "    </tr>\n",
              "    <tr>\n",
              "      <th>1</th>\n",
              "      <td>eee518ae67</td>\n",
              "      <td>Recession hit Veronique Branquinho, she has to quit her company, such a shame!</td>\n",
              "      <td>negative</td>\n",
              "      <td>2</td>\n",
              "      <td>0</td>\n",
              "      <td>0</td>\n",
              "    </tr>\n",
              "    <tr>\n",
              "      <th>2</th>\n",
              "      <td>01082688c6</td>\n",
              "      <td>happy bday!</td>\n",
              "      <td>positive</td>\n",
              "      <td>3</td>\n",
              "      <td>1</td>\n",
              "      <td>1</td>\n",
              "    </tr>\n",
              "    <tr>\n",
              "      <th>3</th>\n",
              "      <td>33987a8ee5</td>\n",
              "      <td>http://twitpic.com/4w75p - I like it!!</td>\n",
              "      <td>positive</td>\n",
              "      <td>4</td>\n",
              "      <td>1</td>\n",
              "      <td>1</td>\n",
              "    </tr>\n",
              "    <tr>\n",
              "      <th>4</th>\n",
              "      <td>726e501993</td>\n",
              "      <td>that`s great!! weee!! visitors!</td>\n",
              "      <td>positive</td>\n",
              "      <td>5</td>\n",
              "      <td>1</td>\n",
              "      <td>1</td>\n",
              "    </tr>\n",
              "  </tbody>\n",
              "</table>\n",
              "</div>"
            ],
            "text/plain": [
              "       textID  ... predicted_output\n",
              "0  96d74cb729  ...                1\n",
              "1  eee518ae67  ...                0\n",
              "2  01082688c6  ...                1\n",
              "3  33987a8ee5  ...                1\n",
              "4  726e501993  ...                1\n",
              "\n",
              "[5 rows x 6 columns]"
            ]
          },
          "metadata": {
            "tags": []
          },
          "execution_count": 53
        }
      ]
    },
    {
      "cell_type": "code",
      "metadata": {
        "id": "7yoH69YLh1TZ",
        "colab_type": "code",
        "colab": {
          "base_uri": "https://localhost:8080/",
          "height": 34
        },
        "outputId": "594530c0-7282-42ad-96b4-3c7a365efed6"
      },
      "source": [
        "(test_results[test_results.sentiment_label == test_results.predicted_output].shape[0])/test_results.shape[0]"
      ],
      "execution_count": 54,
      "outputs": [
        {
          "output_type": "execute_result",
          "data": {
            "text/plain": [
              "0.8745247148288974"
            ]
          },
          "metadata": {
            "tags": []
          },
          "execution_count": 54
        }
      ]
    },
    {
      "cell_type": "markdown",
      "metadata": {
        "id": "kE38VA-ythz7",
        "colab_type": "text"
      },
      "source": [
        "#### Test the results"
      ]
    },
    {
      "cell_type": "code",
      "metadata": {
        "id": "swtnqYLMx86L",
        "colab_type": "code",
        "colab": {
          "base_uri": "https://localhost:8080/",
          "height": 68
        },
        "outputId": "9f6fa9ee-e683-43d2-ae7b-f9de2f757535"
      },
      "source": [
        "from torchtext.data.utils import ngrams_iterator\n",
        "from torchtext.data.utils import get_tokenizer\n",
        "\n",
        "ag_news_label = {0 : \"Negative\",\n",
        "                 1 : \"Positive\",\n",
        "    }\n",
        "\n",
        "def predict(text, model, vocab, ngrams):\n",
        "    #tokenizer = get_tokenizer(\"basic_english\")\n",
        "    with torch.no_grad():\n",
        "        text = torch.tensor([vocab[token]\n",
        "                            for token in tokenize_src(text)])\n",
        "        output = model(text, torch.tensor([0]))\n",
        "        print (output)\n",
        "        output = 1 / (1 + np.exp(-output.detach().numpy()))\n",
        "        print(output.round(3))\n",
        "        return output.argmax(1).item()\n",
        "\n",
        "ex_text_str = \"MEMPHIS, Tenn. – Four days ago, Jon Rahm was \\\n",
        "    enduring the season’s worst weather conditions on Sunday at The \\\n",
        "    Open on his way to a closing 75 at Royal Portrush, which \\\n",
        "    considering the wind and the rain was a respectable showing. \\\n",
        "    Thursday’s first round at the WGC-FedEx St. Jude Invitational \\\n",
        "    was another story. With temperatures in the mid-80s and hardly any \\\n",
        "    wind, the Spaniard was 13 strokes better in a flawless round. \\\n",
        "    Thanks to his best putting performance on the PGA Tour, Rahm \\\n",
        "    finished with an 8-under 62 for a three-stroke lead, which \\\n",
        "    was even more impressive considering he’d never played the \\\n",
        "    front nine at TPC Southwind.\"\n",
        "\n",
        "ex_text_str = \"This was a horrible movie!\"\n",
        "#ex_text_str = 'This movie was a ok type movie. I will recommend watching.'\n",
        "\n",
        "vocab = src_sentences.vocab.stoi\n",
        "model = model.to(\"cpu\")\n",
        "\n",
        "print(\"This is a %s news\" %ag_news_label[predict(ex_text_str, model, vocab, 1)])"
      ],
      "execution_count": 56,
      "outputs": [
        {
          "output_type": "stream",
          "text": [
            "tensor([[ 9.2047, -9.1373]])\n",
            "[[1. 0.]]\n",
            "This is a Negative news\n"
          ],
          "name": "stdout"
        }
      ]
    },
    {
      "cell_type": "code",
      "metadata": {
        "id": "cJs_j_DCpdwS",
        "colab_type": "code",
        "colab": {
          "base_uri": "https://localhost:8080/",
          "height": 34
        },
        "outputId": "eb997c57-8f86-4a54-8cfb-b4359aa807d7"
      },
      "source": [
        "vocab[\"horrible\"]"
      ],
      "execution_count": 57,
      "outputs": [
        {
          "output_type": "execute_result",
          "data": {
            "text/plain": [
              "695"
            ]
          },
          "metadata": {
            "tags": []
          },
          "execution_count": 57
        }
      ]
    },
    {
      "cell_type": "code",
      "metadata": {
        "id": "2UkIwbNFpf9q",
        "colab_type": "code",
        "colab": {
          "base_uri": "https://localhost:8080/",
          "height": 34
        },
        "outputId": "600ad3ab-c0f6-4402-e77b-c98a19681cc6"
      },
      "source": [
        "tokenize_src"
      ],
      "execution_count": 58,
      "outputs": [
        {
          "output_type": "execute_result",
          "data": {
            "text/plain": [
              "<function __main__.tokenize_src>"
            ]
          },
          "metadata": {
            "tags": []
          },
          "execution_count": 58
        }
      ]
    },
    {
      "cell_type": "markdown",
      "metadata": {
        "id": "Fhto8-zSsMBH",
        "colab_type": "text"
      },
      "source": [
        "### Save the model embeddings\n",
        "\n",
        "Saved embeddings will be used to visualize positive and negative words"
      ]
    },
    {
      "cell_type": "code",
      "metadata": {
        "id": "FHlx3M5E37mF",
        "colab_type": "code",
        "colab": {
          "base_uri": "https://localhost:8080/",
          "height": 35
        },
        "outputId": "b8b29699-a3d2-46f0-9237-769a69a32316"
      },
      "source": [
        "data_folder"
      ],
      "execution_count": 59,
      "outputs": [
        {
          "output_type": "execute_result",
          "data": {
            "application/vnd.google.colaboratory.intrinsic": {
              "type": "string"
            },
            "text/plain": [
              "'/content/drive/My Drive/tweet-sentiment-extraction/data'"
            ]
          },
          "metadata": {
            "tags": []
          },
          "execution_count": 59
        }
      ]
    },
    {
      "cell_type": "code",
      "metadata": {
        "id": "mSOqXTyjr-OX",
        "colab_type": "code",
        "colab": {}
      },
      "source": [
        "embedding_csv = model.embedding.weight.cpu().detach().numpy()\n",
        "np.savetxt(data_folder + \"/embedding.csv\",embedding_csv,delimiter=',')"
      ],
      "execution_count": 60,
      "outputs": []
    },
    {
      "cell_type": "code",
      "metadata": {
        "id": "RPhh4omgtFEs",
        "colab_type": "code",
        "colab": {}
      },
      "source": [
        "embedding_labels = pd.DataFrame(src_sentences.vocab.itos)\n",
        "embedding_labels.to_csv(data_folder + \"/embedding_labels.csv\",index=False)"
      ],
      "execution_count": 61,
      "outputs": []
    }
  ]
}