{
  "nbformat": 4,
  "nbformat_minor": 0,
  "metadata": {
    "kernelspec": {
      "display_name": "Python 3",
      "language": "python",
      "name": "python3"
    },
    "language_info": {
      "codemirror_mode": {
        "name": "ipython",
        "version": 3
      },
      "file_extension": ".py",
      "mimetype": "text/x-python",
      "name": "python",
      "nbconvert_exporter": "python",
      "pygments_lexer": "ipython3",
      "version": "3.7.6"
    },
    "colab": {
      "name": "tweet-sentiment-xlm-roberta-pytorch.ipynb",
      "provenance": [],
      "collapsed_sections": [],
      "machine_shape": "hm",
      "include_colab_link": true
    },
    "accelerator": "GPU",
    "widgets": {
      "application/vnd.jupyter.widget-state+json": {
        "1db5a6d1b7894428a8abca4859737037": {
          "model_module": "@jupyter-widgets/controls",
          "model_name": "HBoxModel",
          "state": {
            "_view_name": "HBoxView",
            "_dom_classes": [],
            "_model_name": "HBoxModel",
            "_view_module": "@jupyter-widgets/controls",
            "_model_module_version": "1.5.0",
            "_view_count": null,
            "_view_module_version": "1.5.0",
            "box_style": "",
            "layout": "IPY_MODEL_49615211ef684a2fb0ac223529467cda",
            "_model_module": "@jupyter-widgets/controls",
            "children": [
              "IPY_MODEL_985f4b73a437424ebacc065f02dc50cb",
              "IPY_MODEL_fdb7b420276146fd9e2a77647ecc7662"
            ]
          }
        },
        "49615211ef684a2fb0ac223529467cda": {
          "model_module": "@jupyter-widgets/base",
          "model_name": "LayoutModel",
          "state": {
            "_view_name": "LayoutView",
            "grid_template_rows": null,
            "right": null,
            "justify_content": null,
            "_view_module": "@jupyter-widgets/base",
            "overflow": null,
            "_model_module_version": "1.2.0",
            "_view_count": null,
            "flex_flow": null,
            "width": null,
            "min_width": null,
            "border": null,
            "align_items": null,
            "bottom": null,
            "_model_module": "@jupyter-widgets/base",
            "top": null,
            "grid_column": null,
            "overflow_y": null,
            "overflow_x": null,
            "grid_auto_flow": null,
            "grid_area": null,
            "grid_template_columns": null,
            "flex": null,
            "_model_name": "LayoutModel",
            "justify_items": null,
            "grid_row": null,
            "max_height": null,
            "align_content": null,
            "visibility": null,
            "align_self": null,
            "height": null,
            "min_height": null,
            "padding": null,
            "grid_auto_rows": null,
            "grid_gap": null,
            "max_width": null,
            "order": null,
            "_view_module_version": "1.2.0",
            "grid_template_areas": null,
            "object_position": null,
            "object_fit": null,
            "grid_auto_columns": null,
            "margin": null,
            "display": null,
            "left": null
          }
        },
        "985f4b73a437424ebacc065f02dc50cb": {
          "model_module": "@jupyter-widgets/controls",
          "model_name": "FloatProgressModel",
          "state": {
            "_view_name": "ProgressView",
            "style": "IPY_MODEL_d9ed02615a324429ac493be054de2e24",
            "_dom_classes": [],
            "description": "Downloading: 100%",
            "_model_name": "FloatProgressModel",
            "bar_style": "success",
            "max": 5069051,
            "_view_module": "@jupyter-widgets/controls",
            "_model_module_version": "1.5.0",
            "value": 5069051,
            "_view_count": null,
            "_view_module_version": "1.5.0",
            "orientation": "horizontal",
            "min": 0,
            "description_tooltip": null,
            "_model_module": "@jupyter-widgets/controls",
            "layout": "IPY_MODEL_2c9cc95acd4f41f1ae3f0abea556cdfe"
          }
        },
        "fdb7b420276146fd9e2a77647ecc7662": {
          "model_module": "@jupyter-widgets/controls",
          "model_name": "HTMLModel",
          "state": {
            "_view_name": "HTMLView",
            "style": "IPY_MODEL_fbe53aa93f7b4e238f43ae2b75951d57",
            "_dom_classes": [],
            "description": "",
            "_model_name": "HTMLModel",
            "placeholder": "​",
            "_view_module": "@jupyter-widgets/controls",
            "_model_module_version": "1.5.0",
            "value": " 5.07M/5.07M [00:02&lt;00:00, 2.53MB/s]",
            "_view_count": null,
            "_view_module_version": "1.5.0",
            "description_tooltip": null,
            "_model_module": "@jupyter-widgets/controls",
            "layout": "IPY_MODEL_29cd4fb923234e18a08ec894a1a84b4e"
          }
        },
        "d9ed02615a324429ac493be054de2e24": {
          "model_module": "@jupyter-widgets/controls",
          "model_name": "ProgressStyleModel",
          "state": {
            "_view_name": "StyleView",
            "_model_name": "ProgressStyleModel",
            "description_width": "initial",
            "_view_module": "@jupyter-widgets/base",
            "_model_module_version": "1.5.0",
            "_view_count": null,
            "_view_module_version": "1.2.0",
            "bar_color": null,
            "_model_module": "@jupyter-widgets/controls"
          }
        },
        "2c9cc95acd4f41f1ae3f0abea556cdfe": {
          "model_module": "@jupyter-widgets/base",
          "model_name": "LayoutModel",
          "state": {
            "_view_name": "LayoutView",
            "grid_template_rows": null,
            "right": null,
            "justify_content": null,
            "_view_module": "@jupyter-widgets/base",
            "overflow": null,
            "_model_module_version": "1.2.0",
            "_view_count": null,
            "flex_flow": null,
            "width": null,
            "min_width": null,
            "border": null,
            "align_items": null,
            "bottom": null,
            "_model_module": "@jupyter-widgets/base",
            "top": null,
            "grid_column": null,
            "overflow_y": null,
            "overflow_x": null,
            "grid_auto_flow": null,
            "grid_area": null,
            "grid_template_columns": null,
            "flex": null,
            "_model_name": "LayoutModel",
            "justify_items": null,
            "grid_row": null,
            "max_height": null,
            "align_content": null,
            "visibility": null,
            "align_self": null,
            "height": null,
            "min_height": null,
            "padding": null,
            "grid_auto_rows": null,
            "grid_gap": null,
            "max_width": null,
            "order": null,
            "_view_module_version": "1.2.0",
            "grid_template_areas": null,
            "object_position": null,
            "object_fit": null,
            "grid_auto_columns": null,
            "margin": null,
            "display": null,
            "left": null
          }
        },
        "fbe53aa93f7b4e238f43ae2b75951d57": {
          "model_module": "@jupyter-widgets/controls",
          "model_name": "DescriptionStyleModel",
          "state": {
            "_view_name": "StyleView",
            "_model_name": "DescriptionStyleModel",
            "description_width": "",
            "_view_module": "@jupyter-widgets/base",
            "_model_module_version": "1.5.0",
            "_view_count": null,
            "_view_module_version": "1.2.0",
            "_model_module": "@jupyter-widgets/controls"
          }
        },
        "29cd4fb923234e18a08ec894a1a84b4e": {
          "model_module": "@jupyter-widgets/base",
          "model_name": "LayoutModel",
          "state": {
            "_view_name": "LayoutView",
            "grid_template_rows": null,
            "right": null,
            "justify_content": null,
            "_view_module": "@jupyter-widgets/base",
            "overflow": null,
            "_model_module_version": "1.2.0",
            "_view_count": null,
            "flex_flow": null,
            "width": null,
            "min_width": null,
            "border": null,
            "align_items": null,
            "bottom": null,
            "_model_module": "@jupyter-widgets/base",
            "top": null,
            "grid_column": null,
            "overflow_y": null,
            "overflow_x": null,
            "grid_auto_flow": null,
            "grid_area": null,
            "grid_template_columns": null,
            "flex": null,
            "_model_name": "LayoutModel",
            "justify_items": null,
            "grid_row": null,
            "max_height": null,
            "align_content": null,
            "visibility": null,
            "align_self": null,
            "height": null,
            "min_height": null,
            "padding": null,
            "grid_auto_rows": null,
            "grid_gap": null,
            "max_width": null,
            "order": null,
            "_view_module_version": "1.2.0",
            "grid_template_areas": null,
            "object_position": null,
            "object_fit": null,
            "grid_auto_columns": null,
            "margin": null,
            "display": null,
            "left": null
          }
        },
        "400bdeb2a381436a8252fe9cb3a40a72": {
          "model_module": "@jupyter-widgets/controls",
          "model_name": "HBoxModel",
          "state": {
            "_view_name": "HBoxView",
            "_dom_classes": [],
            "_model_name": "HBoxModel",
            "_view_module": "@jupyter-widgets/controls",
            "_model_module_version": "1.5.0",
            "_view_count": null,
            "_view_module_version": "1.5.0",
            "box_style": "",
            "layout": "IPY_MODEL_fb3c13b29d1f43098f9360b8c8d41170",
            "_model_module": "@jupyter-widgets/controls",
            "children": [
              "IPY_MODEL_1a07313843a6461e885b5c0694e5a03e",
              "IPY_MODEL_c2bca732f7264bb3bf28f095721d08aa"
            ]
          }
        },
        "fb3c13b29d1f43098f9360b8c8d41170": {
          "model_module": "@jupyter-widgets/base",
          "model_name": "LayoutModel",
          "state": {
            "_view_name": "LayoutView",
            "grid_template_rows": null,
            "right": null,
            "justify_content": null,
            "_view_module": "@jupyter-widgets/base",
            "overflow": null,
            "_model_module_version": "1.2.0",
            "_view_count": null,
            "flex_flow": null,
            "width": null,
            "min_width": null,
            "border": null,
            "align_items": null,
            "bottom": null,
            "_model_module": "@jupyter-widgets/base",
            "top": null,
            "grid_column": null,
            "overflow_y": null,
            "overflow_x": null,
            "grid_auto_flow": null,
            "grid_area": null,
            "grid_template_columns": null,
            "flex": null,
            "_model_name": "LayoutModel",
            "justify_items": null,
            "grid_row": null,
            "max_height": null,
            "align_content": null,
            "visibility": null,
            "align_self": null,
            "height": null,
            "min_height": null,
            "padding": null,
            "grid_auto_rows": null,
            "grid_gap": null,
            "max_width": null,
            "order": null,
            "_view_module_version": "1.2.0",
            "grid_template_areas": null,
            "object_position": null,
            "object_fit": null,
            "grid_auto_columns": null,
            "margin": null,
            "display": null,
            "left": null
          }
        },
        "1a07313843a6461e885b5c0694e5a03e": {
          "model_module": "@jupyter-widgets/controls",
          "model_name": "FloatProgressModel",
          "state": {
            "_view_name": "ProgressView",
            "style": "IPY_MODEL_569521c8108f4746be2fd8ec125f0e0c",
            "_dom_classes": [],
            "description": "Downloading: 100%",
            "_model_name": "FloatProgressModel",
            "bar_style": "success",
            "max": 512,
            "_view_module": "@jupyter-widgets/controls",
            "_model_module_version": "1.5.0",
            "value": 512,
            "_view_count": null,
            "_view_module_version": "1.5.0",
            "orientation": "horizontal",
            "min": 0,
            "description_tooltip": null,
            "_model_module": "@jupyter-widgets/controls",
            "layout": "IPY_MODEL_2eb6590ce24f46269529090c9f8e1edd"
          }
        },
        "c2bca732f7264bb3bf28f095721d08aa": {
          "model_module": "@jupyter-widgets/controls",
          "model_name": "HTMLModel",
          "state": {
            "_view_name": "HTMLView",
            "style": "IPY_MODEL_8d3185feb4e44aa1b889b8427089c2fb",
            "_dom_classes": [],
            "description": "",
            "_model_name": "HTMLModel",
            "placeholder": "​",
            "_view_module": "@jupyter-widgets/controls",
            "_model_module_version": "1.5.0",
            "value": " 512/512 [00:35&lt;00:00, 14.6B/s]",
            "_view_count": null,
            "_view_module_version": "1.5.0",
            "description_tooltip": null,
            "_model_module": "@jupyter-widgets/controls",
            "layout": "IPY_MODEL_a834cd9e36344a3485f728e3e6d4b760"
          }
        },
        "569521c8108f4746be2fd8ec125f0e0c": {
          "model_module": "@jupyter-widgets/controls",
          "model_name": "ProgressStyleModel",
          "state": {
            "_view_name": "StyleView",
            "_model_name": "ProgressStyleModel",
            "description_width": "initial",
            "_view_module": "@jupyter-widgets/base",
            "_model_module_version": "1.5.0",
            "_view_count": null,
            "_view_module_version": "1.2.0",
            "bar_color": null,
            "_model_module": "@jupyter-widgets/controls"
          }
        },
        "2eb6590ce24f46269529090c9f8e1edd": {
          "model_module": "@jupyter-widgets/base",
          "model_name": "LayoutModel",
          "state": {
            "_view_name": "LayoutView",
            "grid_template_rows": null,
            "right": null,
            "justify_content": null,
            "_view_module": "@jupyter-widgets/base",
            "overflow": null,
            "_model_module_version": "1.2.0",
            "_view_count": null,
            "flex_flow": null,
            "width": null,
            "min_width": null,
            "border": null,
            "align_items": null,
            "bottom": null,
            "_model_module": "@jupyter-widgets/base",
            "top": null,
            "grid_column": null,
            "overflow_y": null,
            "overflow_x": null,
            "grid_auto_flow": null,
            "grid_area": null,
            "grid_template_columns": null,
            "flex": null,
            "_model_name": "LayoutModel",
            "justify_items": null,
            "grid_row": null,
            "max_height": null,
            "align_content": null,
            "visibility": null,
            "align_self": null,
            "height": null,
            "min_height": null,
            "padding": null,
            "grid_auto_rows": null,
            "grid_gap": null,
            "max_width": null,
            "order": null,
            "_view_module_version": "1.2.0",
            "grid_template_areas": null,
            "object_position": null,
            "object_fit": null,
            "grid_auto_columns": null,
            "margin": null,
            "display": null,
            "left": null
          }
        },
        "8d3185feb4e44aa1b889b8427089c2fb": {
          "model_module": "@jupyter-widgets/controls",
          "model_name": "DescriptionStyleModel",
          "state": {
            "_view_name": "StyleView",
            "_model_name": "DescriptionStyleModel",
            "description_width": "",
            "_view_module": "@jupyter-widgets/base",
            "_model_module_version": "1.5.0",
            "_view_count": null,
            "_view_module_version": "1.2.0",
            "_model_module": "@jupyter-widgets/controls"
          }
        },
        "a834cd9e36344a3485f728e3e6d4b760": {
          "model_module": "@jupyter-widgets/base",
          "model_name": "LayoutModel",
          "state": {
            "_view_name": "LayoutView",
            "grid_template_rows": null,
            "right": null,
            "justify_content": null,
            "_view_module": "@jupyter-widgets/base",
            "overflow": null,
            "_model_module_version": "1.2.0",
            "_view_count": null,
            "flex_flow": null,
            "width": null,
            "min_width": null,
            "border": null,
            "align_items": null,
            "bottom": null,
            "_model_module": "@jupyter-widgets/base",
            "top": null,
            "grid_column": null,
            "overflow_y": null,
            "overflow_x": null,
            "grid_auto_flow": null,
            "grid_area": null,
            "grid_template_columns": null,
            "flex": null,
            "_model_name": "LayoutModel",
            "justify_items": null,
            "grid_row": null,
            "max_height": null,
            "align_content": null,
            "visibility": null,
            "align_self": null,
            "height": null,
            "min_height": null,
            "padding": null,
            "grid_auto_rows": null,
            "grid_gap": null,
            "max_width": null,
            "order": null,
            "_view_module_version": "1.2.0",
            "grid_template_areas": null,
            "object_position": null,
            "object_fit": null,
            "grid_auto_columns": null,
            "margin": null,
            "display": null,
            "left": null
          }
        },
        "6e721b57ce9f4575a2c130e39f4a10ff": {
          "model_module": "@jupyter-widgets/controls",
          "model_name": "HBoxModel",
          "state": {
            "_view_name": "HBoxView",
            "_dom_classes": [],
            "_model_name": "HBoxModel",
            "_view_module": "@jupyter-widgets/controls",
            "_model_module_version": "1.5.0",
            "_view_count": null,
            "_view_module_version": "1.5.0",
            "box_style": "",
            "layout": "IPY_MODEL_546a99105fe24148a4e9b8873207778e",
            "_model_module": "@jupyter-widgets/controls",
            "children": [
              "IPY_MODEL_93bd89bb23514fc5967d670f2abf701d",
              "IPY_MODEL_d057c2372d644cf28e784074bfc922c4"
            ]
          }
        },
        "546a99105fe24148a4e9b8873207778e": {
          "model_module": "@jupyter-widgets/base",
          "model_name": "LayoutModel",
          "state": {
            "_view_name": "LayoutView",
            "grid_template_rows": null,
            "right": null,
            "justify_content": null,
            "_view_module": "@jupyter-widgets/base",
            "overflow": null,
            "_model_module_version": "1.2.0",
            "_view_count": null,
            "flex_flow": null,
            "width": null,
            "min_width": null,
            "border": null,
            "align_items": null,
            "bottom": null,
            "_model_module": "@jupyter-widgets/base",
            "top": null,
            "grid_column": null,
            "overflow_y": null,
            "overflow_x": null,
            "grid_auto_flow": null,
            "grid_area": null,
            "grid_template_columns": null,
            "flex": null,
            "_model_name": "LayoutModel",
            "justify_items": null,
            "grid_row": null,
            "max_height": null,
            "align_content": null,
            "visibility": null,
            "align_self": null,
            "height": null,
            "min_height": null,
            "padding": null,
            "grid_auto_rows": null,
            "grid_gap": null,
            "max_width": null,
            "order": null,
            "_view_module_version": "1.2.0",
            "grid_template_areas": null,
            "object_position": null,
            "object_fit": null,
            "grid_auto_columns": null,
            "margin": null,
            "display": null,
            "left": null
          }
        },
        "93bd89bb23514fc5967d670f2abf701d": {
          "model_module": "@jupyter-widgets/controls",
          "model_name": "FloatProgressModel",
          "state": {
            "_view_name": "ProgressView",
            "style": "IPY_MODEL_4eb01e3ef705421a868b735d17944ec9",
            "_dom_classes": [],
            "description": "Downloading: 100%",
            "_model_name": "FloatProgressModel",
            "bar_style": "success",
            "max": 1115590446,
            "_view_module": "@jupyter-widgets/controls",
            "_model_module_version": "1.5.0",
            "value": 1115590446,
            "_view_count": null,
            "_view_module_version": "1.5.0",
            "orientation": "horizontal",
            "min": 0,
            "description_tooltip": null,
            "_model_module": "@jupyter-widgets/controls",
            "layout": "IPY_MODEL_57ab7945b482442ea743057a1ee9d4bb"
          }
        },
        "d057c2372d644cf28e784074bfc922c4": {
          "model_module": "@jupyter-widgets/controls",
          "model_name": "HTMLModel",
          "state": {
            "_view_name": "HTMLView",
            "style": "IPY_MODEL_e9bf3462f8324d77922a707759dd04e3",
            "_dom_classes": [],
            "description": "",
            "_model_name": "HTMLModel",
            "placeholder": "​",
            "_view_module": "@jupyter-widgets/controls",
            "_model_module_version": "1.5.0",
            "value": " 1.12G/1.12G [00:34&lt;00:00, 32.4MB/s]",
            "_view_count": null,
            "_view_module_version": "1.5.0",
            "description_tooltip": null,
            "_model_module": "@jupyter-widgets/controls",
            "layout": "IPY_MODEL_a650f4057ba64814a98270bc7e974d51"
          }
        },
        "4eb01e3ef705421a868b735d17944ec9": {
          "model_module": "@jupyter-widgets/controls",
          "model_name": "ProgressStyleModel",
          "state": {
            "_view_name": "StyleView",
            "_model_name": "ProgressStyleModel",
            "description_width": "initial",
            "_view_module": "@jupyter-widgets/base",
            "_model_module_version": "1.5.0",
            "_view_count": null,
            "_view_module_version": "1.2.0",
            "bar_color": null,
            "_model_module": "@jupyter-widgets/controls"
          }
        },
        "57ab7945b482442ea743057a1ee9d4bb": {
          "model_module": "@jupyter-widgets/base",
          "model_name": "LayoutModel",
          "state": {
            "_view_name": "LayoutView",
            "grid_template_rows": null,
            "right": null,
            "justify_content": null,
            "_view_module": "@jupyter-widgets/base",
            "overflow": null,
            "_model_module_version": "1.2.0",
            "_view_count": null,
            "flex_flow": null,
            "width": null,
            "min_width": null,
            "border": null,
            "align_items": null,
            "bottom": null,
            "_model_module": "@jupyter-widgets/base",
            "top": null,
            "grid_column": null,
            "overflow_y": null,
            "overflow_x": null,
            "grid_auto_flow": null,
            "grid_area": null,
            "grid_template_columns": null,
            "flex": null,
            "_model_name": "LayoutModel",
            "justify_items": null,
            "grid_row": null,
            "max_height": null,
            "align_content": null,
            "visibility": null,
            "align_self": null,
            "height": null,
            "min_height": null,
            "padding": null,
            "grid_auto_rows": null,
            "grid_gap": null,
            "max_width": null,
            "order": null,
            "_view_module_version": "1.2.0",
            "grid_template_areas": null,
            "object_position": null,
            "object_fit": null,
            "grid_auto_columns": null,
            "margin": null,
            "display": null,
            "left": null
          }
        },
        "e9bf3462f8324d77922a707759dd04e3": {
          "model_module": "@jupyter-widgets/controls",
          "model_name": "DescriptionStyleModel",
          "state": {
            "_view_name": "StyleView",
            "_model_name": "DescriptionStyleModel",
            "description_width": "",
            "_view_module": "@jupyter-widgets/base",
            "_model_module_version": "1.5.0",
            "_view_count": null,
            "_view_module_version": "1.2.0",
            "_model_module": "@jupyter-widgets/controls"
          }
        },
        "a650f4057ba64814a98270bc7e974d51": {
          "model_module": "@jupyter-widgets/base",
          "model_name": "LayoutModel",
          "state": {
            "_view_name": "LayoutView",
            "grid_template_rows": null,
            "right": null,
            "justify_content": null,
            "_view_module": "@jupyter-widgets/base",
            "overflow": null,
            "_model_module_version": "1.2.0",
            "_view_count": null,
            "flex_flow": null,
            "width": null,
            "min_width": null,
            "border": null,
            "align_items": null,
            "bottom": null,
            "_model_module": "@jupyter-widgets/base",
            "top": null,
            "grid_column": null,
            "overflow_y": null,
            "overflow_x": null,
            "grid_auto_flow": null,
            "grid_area": null,
            "grid_template_columns": null,
            "flex": null,
            "_model_name": "LayoutModel",
            "justify_items": null,
            "grid_row": null,
            "max_height": null,
            "align_content": null,
            "visibility": null,
            "align_self": null,
            "height": null,
            "min_height": null,
            "padding": null,
            "grid_auto_rows": null,
            "grid_gap": null,
            "max_width": null,
            "order": null,
            "_view_module_version": "1.2.0",
            "grid_template_areas": null,
            "object_position": null,
            "object_fit": null,
            "grid_auto_columns": null,
            "margin": null,
            "display": null,
            "left": null
          }
        },
        "ce9ffa56cf484ad38032d52c77a06dfd": {
          "model_module": "@jupyter-widgets/controls",
          "model_name": "HBoxModel",
          "state": {
            "_view_name": "HBoxView",
            "_dom_classes": [],
            "_model_name": "HBoxModel",
            "_view_module": "@jupyter-widgets/controls",
            "_model_module_version": "1.5.0",
            "_view_count": null,
            "_view_module_version": "1.5.0",
            "box_style": "",
            "layout": "IPY_MODEL_6f5c60fb9de74d75ba530fd57210269a",
            "_model_module": "@jupyter-widgets/controls",
            "children": [
              "IPY_MODEL_c0e53ed3e3ed42de88ad7f8cbdacf6eb",
              "IPY_MODEL_003bc875bd9b47baa5629052ca002fa6"
            ]
          }
        },
        "6f5c60fb9de74d75ba530fd57210269a": {
          "model_module": "@jupyter-widgets/base",
          "model_name": "LayoutModel",
          "state": {
            "_view_name": "LayoutView",
            "grid_template_rows": null,
            "right": null,
            "justify_content": null,
            "_view_module": "@jupyter-widgets/base",
            "overflow": null,
            "_model_module_version": "1.2.0",
            "_view_count": null,
            "flex_flow": null,
            "width": null,
            "min_width": null,
            "border": null,
            "align_items": null,
            "bottom": null,
            "_model_module": "@jupyter-widgets/base",
            "top": null,
            "grid_column": null,
            "overflow_y": null,
            "overflow_x": null,
            "grid_auto_flow": null,
            "grid_area": null,
            "grid_template_columns": null,
            "flex": null,
            "_model_name": "LayoutModel",
            "justify_items": null,
            "grid_row": null,
            "max_height": null,
            "align_content": null,
            "visibility": null,
            "align_self": null,
            "height": null,
            "min_height": null,
            "padding": null,
            "grid_auto_rows": null,
            "grid_gap": null,
            "max_width": null,
            "order": null,
            "_view_module_version": "1.2.0",
            "grid_template_areas": null,
            "object_position": null,
            "object_fit": null,
            "grid_auto_columns": null,
            "margin": null,
            "display": null,
            "left": null
          }
        },
        "c0e53ed3e3ed42de88ad7f8cbdacf6eb": {
          "model_module": "@jupyter-widgets/controls",
          "model_name": "FloatProgressModel",
          "state": {
            "_view_name": "ProgressView",
            "style": "IPY_MODEL_71541ed5c67142479aa2525629217622",
            "_dom_classes": [],
            "description": "Downloading: 100%",
            "_model_name": "FloatProgressModel",
            "bar_style": "success",
            "max": 512,
            "_view_module": "@jupyter-widgets/controls",
            "_model_module_version": "1.5.0",
            "value": 512,
            "_view_count": null,
            "_view_module_version": "1.5.0",
            "orientation": "horizontal",
            "min": 0,
            "description_tooltip": null,
            "_model_module": "@jupyter-widgets/controls",
            "layout": "IPY_MODEL_9bc2f4556c2f4123b27bcd8fddf74a01"
          }
        },
        "003bc875bd9b47baa5629052ca002fa6": {
          "model_module": "@jupyter-widgets/controls",
          "model_name": "HTMLModel",
          "state": {
            "_view_name": "HTMLView",
            "style": "IPY_MODEL_5bcc75e95c4a485daec9b121633a4fd5",
            "_dom_classes": [],
            "description": "",
            "_model_name": "HTMLModel",
            "placeholder": "​",
            "_view_module": "@jupyter-widgets/controls",
            "_model_module_version": "1.5.0",
            "value": " 512/512 [00:00&lt;00:00, 1.44kB/s]",
            "_view_count": null,
            "_view_module_version": "1.5.0",
            "description_tooltip": null,
            "_model_module": "@jupyter-widgets/controls",
            "layout": "IPY_MODEL_d018016a555049d0a2887887261902d6"
          }
        },
        "71541ed5c67142479aa2525629217622": {
          "model_module": "@jupyter-widgets/controls",
          "model_name": "ProgressStyleModel",
          "state": {
            "_view_name": "StyleView",
            "_model_name": "ProgressStyleModel",
            "description_width": "initial",
            "_view_module": "@jupyter-widgets/base",
            "_model_module_version": "1.5.0",
            "_view_count": null,
            "_view_module_version": "1.2.0",
            "bar_color": null,
            "_model_module": "@jupyter-widgets/controls"
          }
        },
        "9bc2f4556c2f4123b27bcd8fddf74a01": {
          "model_module": "@jupyter-widgets/base",
          "model_name": "LayoutModel",
          "state": {
            "_view_name": "LayoutView",
            "grid_template_rows": null,
            "right": null,
            "justify_content": null,
            "_view_module": "@jupyter-widgets/base",
            "overflow": null,
            "_model_module_version": "1.2.0",
            "_view_count": null,
            "flex_flow": null,
            "width": null,
            "min_width": null,
            "border": null,
            "align_items": null,
            "bottom": null,
            "_model_module": "@jupyter-widgets/base",
            "top": null,
            "grid_column": null,
            "overflow_y": null,
            "overflow_x": null,
            "grid_auto_flow": null,
            "grid_area": null,
            "grid_template_columns": null,
            "flex": null,
            "_model_name": "LayoutModel",
            "justify_items": null,
            "grid_row": null,
            "max_height": null,
            "align_content": null,
            "visibility": null,
            "align_self": null,
            "height": null,
            "min_height": null,
            "padding": null,
            "grid_auto_rows": null,
            "grid_gap": null,
            "max_width": null,
            "order": null,
            "_view_module_version": "1.2.0",
            "grid_template_areas": null,
            "object_position": null,
            "object_fit": null,
            "grid_auto_columns": null,
            "margin": null,
            "display": null,
            "left": null
          }
        },
        "5bcc75e95c4a485daec9b121633a4fd5": {
          "model_module": "@jupyter-widgets/controls",
          "model_name": "DescriptionStyleModel",
          "state": {
            "_view_name": "StyleView",
            "_model_name": "DescriptionStyleModel",
            "description_width": "",
            "_view_module": "@jupyter-widgets/base",
            "_model_module_version": "1.5.0",
            "_view_count": null,
            "_view_module_version": "1.2.0",
            "_model_module": "@jupyter-widgets/controls"
          }
        },
        "d018016a555049d0a2887887261902d6": {
          "model_module": "@jupyter-widgets/base",
          "model_name": "LayoutModel",
          "state": {
            "_view_name": "LayoutView",
            "grid_template_rows": null,
            "right": null,
            "justify_content": null,
            "_view_module": "@jupyter-widgets/base",
            "overflow": null,
            "_model_module_version": "1.2.0",
            "_view_count": null,
            "flex_flow": null,
            "width": null,
            "min_width": null,
            "border": null,
            "align_items": null,
            "bottom": null,
            "_model_module": "@jupyter-widgets/base",
            "top": null,
            "grid_column": null,
            "overflow_y": null,
            "overflow_x": null,
            "grid_auto_flow": null,
            "grid_area": null,
            "grid_template_columns": null,
            "flex": null,
            "_model_name": "LayoutModel",
            "justify_items": null,
            "grid_row": null,
            "max_height": null,
            "align_content": null,
            "visibility": null,
            "align_self": null,
            "height": null,
            "min_height": null,
            "padding": null,
            "grid_auto_rows": null,
            "grid_gap": null,
            "max_width": null,
            "order": null,
            "_view_module_version": "1.2.0",
            "grid_template_areas": null,
            "object_position": null,
            "object_fit": null,
            "grid_auto_columns": null,
            "margin": null,
            "display": null,
            "left": null
          }
        },
        "d224fcaac95b401a8b8c7d28f8598b5c": {
          "model_module": "@jupyter-widgets/controls",
          "model_name": "HBoxModel",
          "state": {
            "_view_name": "HBoxView",
            "_dom_classes": [],
            "_model_name": "HBoxModel",
            "_view_module": "@jupyter-widgets/controls",
            "_model_module_version": "1.5.0",
            "_view_count": null,
            "_view_module_version": "1.5.0",
            "box_style": "",
            "layout": "IPY_MODEL_f2e9975e8cee46f18e5c173573d70efd",
            "_model_module": "@jupyter-widgets/controls",
            "children": [
              "IPY_MODEL_4d82109da3a440018a93b05d69fcfe7e",
              "IPY_MODEL_db26510155f84239a916572315fd45b8"
            ]
          }
        },
        "f2e9975e8cee46f18e5c173573d70efd": {
          "model_module": "@jupyter-widgets/base",
          "model_name": "LayoutModel",
          "state": {
            "_view_name": "LayoutView",
            "grid_template_rows": null,
            "right": null,
            "justify_content": null,
            "_view_module": "@jupyter-widgets/base",
            "overflow": null,
            "_model_module_version": "1.2.0",
            "_view_count": null,
            "flex_flow": null,
            "width": null,
            "min_width": null,
            "border": null,
            "align_items": null,
            "bottom": null,
            "_model_module": "@jupyter-widgets/base",
            "top": null,
            "grid_column": null,
            "overflow_y": null,
            "overflow_x": null,
            "grid_auto_flow": null,
            "grid_area": null,
            "grid_template_columns": null,
            "flex": null,
            "_model_name": "LayoutModel",
            "justify_items": null,
            "grid_row": null,
            "max_height": null,
            "align_content": null,
            "visibility": null,
            "align_self": null,
            "height": null,
            "min_height": null,
            "padding": null,
            "grid_auto_rows": null,
            "grid_gap": null,
            "max_width": null,
            "order": null,
            "_view_module_version": "1.2.0",
            "grid_template_areas": null,
            "object_position": null,
            "object_fit": null,
            "grid_auto_columns": null,
            "margin": null,
            "display": null,
            "left": null
          }
        },
        "4d82109da3a440018a93b05d69fcfe7e": {
          "model_module": "@jupyter-widgets/controls",
          "model_name": "FloatProgressModel",
          "state": {
            "_view_name": "ProgressView",
            "style": "IPY_MODEL_bacefe5addfc45789b40e6a83c7b3cce",
            "_dom_classes": [],
            "description": "Downloading: 100%",
            "_model_name": "FloatProgressModel",
            "bar_style": "success",
            "max": 1115590446,
            "_view_module": "@jupyter-widgets/controls",
            "_model_module_version": "1.5.0",
            "value": 1115590446,
            "_view_count": null,
            "_view_module_version": "1.5.0",
            "orientation": "horizontal",
            "min": 0,
            "description_tooltip": null,
            "_model_module": "@jupyter-widgets/controls",
            "layout": "IPY_MODEL_09cd74c3f3744665bf975ee3e4816b7b"
          }
        },
        "db26510155f84239a916572315fd45b8": {
          "model_module": "@jupyter-widgets/controls",
          "model_name": "HTMLModel",
          "state": {
            "_view_name": "HTMLView",
            "style": "IPY_MODEL_b893477906a240f584531ae154bd66c3",
            "_dom_classes": [],
            "description": "",
            "_model_name": "HTMLModel",
            "placeholder": "​",
            "_view_module": "@jupyter-widgets/controls",
            "_model_module_version": "1.5.0",
            "value": " 1.12G/1.12G [03:42&lt;00:00, 5.01MB/s]",
            "_view_count": null,
            "_view_module_version": "1.5.0",
            "description_tooltip": null,
            "_model_module": "@jupyter-widgets/controls",
            "layout": "IPY_MODEL_5576965207d64c7398e2de6c2f8c3269"
          }
        },
        "bacefe5addfc45789b40e6a83c7b3cce": {
          "model_module": "@jupyter-widgets/controls",
          "model_name": "ProgressStyleModel",
          "state": {
            "_view_name": "StyleView",
            "_model_name": "ProgressStyleModel",
            "description_width": "initial",
            "_view_module": "@jupyter-widgets/base",
            "_model_module_version": "1.5.0",
            "_view_count": null,
            "_view_module_version": "1.2.0",
            "bar_color": null,
            "_model_module": "@jupyter-widgets/controls"
          }
        },
        "09cd74c3f3744665bf975ee3e4816b7b": {
          "model_module": "@jupyter-widgets/base",
          "model_name": "LayoutModel",
          "state": {
            "_view_name": "LayoutView",
            "grid_template_rows": null,
            "right": null,
            "justify_content": null,
            "_view_module": "@jupyter-widgets/base",
            "overflow": null,
            "_model_module_version": "1.2.0",
            "_view_count": null,
            "flex_flow": null,
            "width": null,
            "min_width": null,
            "border": null,
            "align_items": null,
            "bottom": null,
            "_model_module": "@jupyter-widgets/base",
            "top": null,
            "grid_column": null,
            "overflow_y": null,
            "overflow_x": null,
            "grid_auto_flow": null,
            "grid_area": null,
            "grid_template_columns": null,
            "flex": null,
            "_model_name": "LayoutModel",
            "justify_items": null,
            "grid_row": null,
            "max_height": null,
            "align_content": null,
            "visibility": null,
            "align_self": null,
            "height": null,
            "min_height": null,
            "padding": null,
            "grid_auto_rows": null,
            "grid_gap": null,
            "max_width": null,
            "order": null,
            "_view_module_version": "1.2.0",
            "grid_template_areas": null,
            "object_position": null,
            "object_fit": null,
            "grid_auto_columns": null,
            "margin": null,
            "display": null,
            "left": null
          }
        },
        "b893477906a240f584531ae154bd66c3": {
          "model_module": "@jupyter-widgets/controls",
          "model_name": "DescriptionStyleModel",
          "state": {
            "_view_name": "StyleView",
            "_model_name": "DescriptionStyleModel",
            "description_width": "",
            "_view_module": "@jupyter-widgets/base",
            "_model_module_version": "1.5.0",
            "_view_count": null,
            "_view_module_version": "1.2.0",
            "_model_module": "@jupyter-widgets/controls"
          }
        },
        "5576965207d64c7398e2de6c2f8c3269": {
          "model_module": "@jupyter-widgets/base",
          "model_name": "LayoutModel",
          "state": {
            "_view_name": "LayoutView",
            "grid_template_rows": null,
            "right": null,
            "justify_content": null,
            "_view_module": "@jupyter-widgets/base",
            "overflow": null,
            "_model_module_version": "1.2.0",
            "_view_count": null,
            "flex_flow": null,
            "width": null,
            "min_width": null,
            "border": null,
            "align_items": null,
            "bottom": null,
            "_model_module": "@jupyter-widgets/base",
            "top": null,
            "grid_column": null,
            "overflow_y": null,
            "overflow_x": null,
            "grid_auto_flow": null,
            "grid_area": null,
            "grid_template_columns": null,
            "flex": null,
            "_model_name": "LayoutModel",
            "justify_items": null,
            "grid_row": null,
            "max_height": null,
            "align_content": null,
            "visibility": null,
            "align_self": null,
            "height": null,
            "min_height": null,
            "padding": null,
            "grid_auto_rows": null,
            "grid_gap": null,
            "max_width": null,
            "order": null,
            "_view_module_version": "1.2.0",
            "grid_template_areas": null,
            "object_position": null,
            "object_fit": null,
            "grid_auto_columns": null,
            "margin": null,
            "display": null,
            "left": null
          }
        }
      }
    }
  },
  "cells": [
    {
      "cell_type": "markdown",
      "metadata": {
        "id": "view-in-github",
        "colab_type": "text"
      },
      "source": [
        "<a href=\"https://colab.research.google.com/github/sangeetsaurabh/tweet_phrase_kaggle_competition/blob/master/pytorch_transformer/tweet_sentiment_xlm_roberta_pytorch.ipynb\" target=\"_parent\"><img src=\"https://colab.research.google.com/assets/colab-badge.svg\" alt=\"Open In Colab\"/></a>"
      ]
    },
    {
      "cell_type": "markdown",
      "metadata": {
        "id": "jeTsLQOjk1a6",
        "colab_type": "text"
      },
      "source": [
        "# Libraries"
      ]
    },
    {
      "cell_type": "code",
      "metadata": {
        "id": "YbbtZkHdlREm",
        "colab_type": "code",
        "colab": {
          "base_uri": "https://localhost:8080/",
          "height": 615
        },
        "outputId": "6b47a64e-c061-4fc7-befa-ae8ceece53c2"
      },
      "source": [
        "!pip install transformers"
      ],
      "execution_count": 1,
      "outputs": [
        {
          "output_type": "stream",
          "text": [
            "Collecting transformers\n",
            "\u001b[?25l  Downloading https://files.pythonhosted.org/packages/82/25/89050e69ed53c2a3b7f8c67844b3c8339c1192612ba89a172cf85b298948/transformers-3.0.1-py3-none-any.whl (757kB)\n",
            "\u001b[K     |████████████████████████████████| 757kB 2.8MB/s \n",
            "\u001b[?25hRequirement already satisfied: filelock in /usr/local/lib/python3.6/dist-packages (from transformers) (3.0.12)\n",
            "Collecting sentencepiece!=0.1.92\n",
            "\u001b[?25l  Downloading https://files.pythonhosted.org/packages/d4/a4/d0a884c4300004a78cca907a6ff9a5e9fe4f090f5d95ab341c53d28cbc58/sentencepiece-0.1.91-cp36-cp36m-manylinux1_x86_64.whl (1.1MB)\n",
            "\u001b[K     |████████████████████████████████| 1.1MB 13.2MB/s \n",
            "\u001b[?25hRequirement already satisfied: numpy in /usr/local/lib/python3.6/dist-packages (from transformers) (1.18.5)\n",
            "Requirement already satisfied: tqdm>=4.27 in /usr/local/lib/python3.6/dist-packages (from transformers) (4.41.1)\n",
            "Collecting sacremoses\n",
            "\u001b[?25l  Downloading https://files.pythonhosted.org/packages/7d/34/09d19aff26edcc8eb2a01bed8e98f13a1537005d31e95233fd48216eed10/sacremoses-0.0.43.tar.gz (883kB)\n",
            "\u001b[K     |████████████████████████████████| 890kB 12.9MB/s \n",
            "\u001b[?25hRequirement already satisfied: dataclasses; python_version < \"3.7\" in /usr/local/lib/python3.6/dist-packages (from transformers) (0.7)\n",
            "Requirement already satisfied: packaging in /usr/local/lib/python3.6/dist-packages (from transformers) (20.4)\n",
            "Collecting tokenizers==0.8.0-rc4\n",
            "\u001b[?25l  Downloading https://files.pythonhosted.org/packages/e8/bd/e5abec46af977c8a1375c1dca7cb1e5b3ec392ef279067af7f6bc50491a0/tokenizers-0.8.0rc4-cp36-cp36m-manylinux1_x86_64.whl (3.0MB)\n",
            "\u001b[K     |████████████████████████████████| 3.0MB 24.3MB/s \n",
            "\u001b[?25hRequirement already satisfied: regex!=2019.12.17 in /usr/local/lib/python3.6/dist-packages (from transformers) (2019.12.20)\n",
            "Requirement already satisfied: requests in /usr/local/lib/python3.6/dist-packages (from transformers) (2.23.0)\n",
            "Requirement already satisfied: six in /usr/local/lib/python3.6/dist-packages (from sacremoses->transformers) (1.12.0)\n",
            "Requirement already satisfied: click in /usr/local/lib/python3.6/dist-packages (from sacremoses->transformers) (7.1.2)\n",
            "Requirement already satisfied: joblib in /usr/local/lib/python3.6/dist-packages (from sacremoses->transformers) (0.15.1)\n",
            "Requirement already satisfied: pyparsing>=2.0.2 in /usr/local/lib/python3.6/dist-packages (from packaging->transformers) (2.4.7)\n",
            "Requirement already satisfied: chardet<4,>=3.0.2 in /usr/local/lib/python3.6/dist-packages (from requests->transformers) (3.0.4)\n",
            "Requirement already satisfied: urllib3!=1.25.0,!=1.25.1,<1.26,>=1.21.1 in /usr/local/lib/python3.6/dist-packages (from requests->transformers) (1.24.3)\n",
            "Requirement already satisfied: idna<3,>=2.5 in /usr/local/lib/python3.6/dist-packages (from requests->transformers) (2.9)\n",
            "Requirement already satisfied: certifi>=2017.4.17 in /usr/local/lib/python3.6/dist-packages (from requests->transformers) (2020.6.20)\n",
            "Building wheels for collected packages: sacremoses\n",
            "  Building wheel for sacremoses (setup.py) ... \u001b[?25l\u001b[?25hdone\n",
            "  Created wheel for sacremoses: filename=sacremoses-0.0.43-cp36-none-any.whl size=893260 sha256=c8e746442770131c81e267314b1d43d21f5ce655c44f8b00277e2dfabb8b2554\n",
            "  Stored in directory: /root/.cache/pip/wheels/29/3c/fd/7ce5c3f0666dab31a50123635e6fb5e19ceb42ce38d4e58f45\n",
            "Successfully built sacremoses\n",
            "Installing collected packages: sentencepiece, sacremoses, tokenizers, transformers\n",
            "Successfully installed sacremoses-0.0.43 sentencepiece-0.1.91 tokenizers-0.8.0rc4 transformers-3.0.1\n"
          ],
          "name": "stdout"
        }
      ]
    },
    {
      "cell_type": "code",
      "metadata": {
        "_cell_guid": "b1076dfc-b9ad-4769-8c92-a6c4dae69d19",
        "_uuid": "8f2839f25d086af736a60e9eeb907d3b93b6e0e5",
        "id": "wJ6ZL0XWk1a7",
        "colab_type": "code",
        "colab": {}
      },
      "source": [
        "import numpy as np\n",
        "import pandas as pd\n",
        "import os\n",
        "import warnings\n",
        "import random\n",
        "import torch \n",
        "from torch import nn\n",
        "import torch.optim as optim\n",
        "from sklearn.model_selection import StratifiedKFold\n",
        "import tokenizers\n",
        "from transformers import RobertaModel, RobertaConfig, RobertaTokenizer\n",
        "from transformers import XLMRobertaModel, XLMRobertaConfig, XLMRobertaTokenizer\n",
        "\n",
        "warnings.filterwarnings('ignore')"
      ],
      "execution_count": 2,
      "outputs": []
    },
    {
      "cell_type": "markdown",
      "metadata": {
        "id": "m4lLQE-6k1a_",
        "colab_type": "text"
      },
      "source": [
        "# Seed"
      ]
    },
    {
      "cell_type": "code",
      "metadata": {
        "_cell_guid": "79c7e3d0-c299-4dcb-8224-4455121ee9b0",
        "_uuid": "d629ff2d2480ee46fbb7e2d37f6b5fab8052498a",
        "id": "D5bCQ6f3k1bA",
        "colab_type": "code",
        "colab": {}
      },
      "source": [
        "def seed_everything(seed_value):\n",
        "    random.seed(seed_value)\n",
        "    np.random.seed(seed_value)\n",
        "    torch.manual_seed(seed_value)\n",
        "    os.environ['PYTHONHASHSEED'] = str(seed_value)\n",
        "    \n",
        "    if torch.cuda.is_available(): \n",
        "        torch.cuda.manual_seed(seed_value)\n",
        "        torch.cuda.manual_seed_all(seed_value)\n",
        "        torch.backends.cudnn.deterministic = True\n",
        "        torch.backends.cudnn.benchmark = True\n",
        "\n",
        "seed = 42\n",
        "seed_everything(seed)"
      ],
      "execution_count": 3,
      "outputs": []
    },
    {
      "cell_type": "markdown",
      "metadata": {
        "id": "mYj8GJnqlYzv",
        "colab_type": "text"
      },
      "source": [
        "### Set up the path"
      ]
    },
    {
      "cell_type": "code",
      "metadata": {
        "id": "1Y3MIJyd4IA1",
        "colab_type": "code",
        "colab": {
          "base_uri": "https://localhost:8080/",
          "height": 122
        },
        "outputId": "dae4df18-039b-40c4-c90c-bfc5f66289db"
      },
      "source": [
        "from google.colab import drive\n",
        "drive.mount('/content/drive')"
      ],
      "execution_count": 4,
      "outputs": [
        {
          "output_type": "stream",
          "text": [
            "Go to this URL in a browser: https://accounts.google.com/o/oauth2/auth?client_id=947318989803-6bn6qk8qdgf4n4g3pfee6491hc0brc4i.apps.googleusercontent.com&redirect_uri=urn%3aietf%3awg%3aoauth%3a2.0%3aoob&response_type=code&scope=email%20https%3a%2f%2fwww.googleapis.com%2fauth%2fdocs.test%20https%3a%2f%2fwww.googleapis.com%2fauth%2fdrive%20https%3a%2f%2fwww.googleapis.com%2fauth%2fdrive.photos.readonly%20https%3a%2f%2fwww.googleapis.com%2fauth%2fpeopleapi.readonly\n",
            "\n",
            "Enter your authorization code:\n",
            "··········\n",
            "Mounted at /content/drive\n"
          ],
          "name": "stdout"
        }
      ]
    },
    {
      "cell_type": "code",
      "metadata": {
        "id": "dndOiMWUST2n",
        "colab_type": "code",
        "colab": {}
      },
      "source": [
        "data_folder = \"/content/drive/My Drive/tweet-sentiment-extraction/data\"\n",
        "xlm_robert_folder = \"/content/drive/My Drive/tweet-sentiment-extraction/xlm_robert/\"\n",
        "tmp_folder = '/tmp'"
      ],
      "execution_count": 5,
      "outputs": []
    },
    {
      "cell_type": "code",
      "metadata": {
        "id": "oo1JsKTSlb-m",
        "colab_type": "code",
        "colab": {
          "base_uri": "https://localhost:8080/",
          "height": 35
        },
        "outputId": "9699c52d-0c17-4678-c27c-c74aaf57239e"
      },
      "source": [
        "import shutil\n",
        "shutil.copyfile('/content/drive/My Drive/tweet-sentiment-extraction/data/roberta-large-merges.txt', '/tmp/roberta-large-merges.txt')\n",
        "shutil.copyfile('/content/drive/My Drive/tweet-sentiment-extraction/data/roberta-large-vocab.json', '/tmp/roberta-large-vocab.json')\n",
        "shutil.copyfile('/content/drive/My Drive/tweet-sentiment-extraction/data/roberta-base-config.json', '/tmp/roberta-base-config.json')\n"
      ],
      "execution_count": 6,
      "outputs": [
        {
          "output_type": "execute_result",
          "data": {
            "application/vnd.google.colaboratory.intrinsic": {
              "type": "string"
            },
            "text/plain": [
              "'/tmp/roberta-base-config.json'"
            ]
          },
          "metadata": {
            "tags": []
          },
          "execution_count": 6
        }
      ]
    },
    {
      "cell_type": "code",
      "metadata": {
        "id": "kZdEIk8FIpoG",
        "colab_type": "code",
        "colab": {
          "base_uri": "https://localhost:8080/",
          "height": 100,
          "referenced_widgets": [
            "1db5a6d1b7894428a8abca4859737037",
            "49615211ef684a2fb0ac223529467cda",
            "985f4b73a437424ebacc065f02dc50cb",
            "fdb7b420276146fd9e2a77647ecc7662",
            "d9ed02615a324429ac493be054de2e24",
            "2c9cc95acd4f41f1ae3f0abea556cdfe",
            "fbe53aa93f7b4e238f43ae2b75951d57",
            "29cd4fb923234e18a08ec894a1a84b4e"
          ]
        },
        "outputId": "14ae202b-67f4-4e29-e952-9373a1a16721"
      },
      "source": [
        "from transformers import RobertaTokenizer, RobertaForMaskedLM, XLMRobertaTokenizer\n",
        "import torch\n",
        "\n",
        "tokenizer3 = XLMRobertaTokenizer.from_pretrained('xlm-roberta-base', lowercase=True, add_prefix_space=True)\n",
        "print(tokenizer3.decode(tokenizer3.encode(\"I am the king\", \"Positive\")))\n",
        "print(tokenizer3.encode(\"I am the king\", \"Positive\"))\n",
        "\n",
        "\n"
      ],
      "execution_count": 7,
      "outputs": [
        {
          "output_type": "display_data",
          "data": {
            "application/vnd.jupyter.widget-view+json": {
              "model_id": "1db5a6d1b7894428a8abca4859737037",
              "version_minor": 0,
              "version_major": 2
            },
            "text/plain": [
              "HBox(children=(FloatProgress(value=0.0, description='Downloading', max=5069051.0, style=ProgressStyle(descript…"
            ]
          },
          "metadata": {
            "tags": []
          }
        },
        {
          "output_type": "stream",
          "text": [
            "\n",
            "<s> I am the king</s></s> Positive</s>\n",
            "[0, 87, 444, 70, 60097, 2, 2, 156060, 13, 2]\n"
          ],
          "name": "stdout"
        }
      ]
    },
    {
      "cell_type": "code",
      "metadata": {
        "id": "cXckJXlzPLHZ",
        "colab_type": "code",
        "colab": {
          "base_uri": "https://localhost:8080/",
          "height": 34
        },
        "outputId": "40234324-c862-4473-a3b5-706196667e35"
      },
      "source": [
        "tokenizer3.vocab_size"
      ],
      "execution_count": 8,
      "outputs": [
        {
          "output_type": "execute_result",
          "data": {
            "text/plain": [
              "250002"
            ]
          },
          "metadata": {
            "tags": []
          },
          "execution_count": 8
        }
      ]
    },
    {
      "cell_type": "markdown",
      "metadata": {
        "id": "JI0yX860k1bC",
        "colab_type": "text"
      },
      "source": [
        "# Data Loader"
      ]
    },
    {
      "cell_type": "code",
      "metadata": {
        "id": "67_F83yvUfGa",
        "colab_type": "code",
        "colab": {
          "base_uri": "https://localhost:8080/",
          "height": 272
        },
        "outputId": "edd0bb6c-07f2-4af3-e370-adc31ad3f792"
      },
      "source": [
        "!pip install protobuf\n",
        "!wget https://raw.githubusercontent.com/google/sentencepiece/master/python/sentencepiece_pb2.py\n",
        "!pip install sentencepiece"
      ],
      "execution_count": 9,
      "outputs": [
        {
          "output_type": "stream",
          "text": [
            "Requirement already satisfied: protobuf in /usr/local/lib/python3.6/dist-packages (3.10.0)\n",
            "Requirement already satisfied: six>=1.9 in /usr/local/lib/python3.6/dist-packages (from protobuf) (1.12.0)\n",
            "Requirement already satisfied: setuptools in /usr/local/lib/python3.6/dist-packages (from protobuf) (47.3.1)\n",
            "--2020-07-03 17:58:24--  https://raw.githubusercontent.com/google/sentencepiece/master/python/sentencepiece_pb2.py\n",
            "Resolving raw.githubusercontent.com (raw.githubusercontent.com)... 151.101.0.133, 151.101.64.133, 151.101.128.133, ...\n",
            "Connecting to raw.githubusercontent.com (raw.githubusercontent.com)|151.101.0.133|:443... connected.\n",
            "HTTP request sent, awaiting response... 200 OK\n",
            "Length: 7382 (7.2K) [text/plain]\n",
            "Saving to: ‘sentencepiece_pb2.py’\n",
            "\n",
            "sentencepiece_pb2.p 100%[===================>]   7.21K  --.-KB/s    in 0s      \n",
            "\n",
            "2020-07-03 17:58:25 (76.6 MB/s) - ‘sentencepiece_pb2.py’ saved [7382/7382]\n",
            "\n",
            "Requirement already satisfied: sentencepiece in /usr/local/lib/python3.6/dist-packages (0.1.91)\n"
          ],
          "name": "stdout"
        }
      ]
    },
    {
      "cell_type": "code",
      "metadata": {
        "id": "8_NRMJ_uTOc-",
        "colab_type": "code",
        "colab": {
          "base_uri": "https://localhost:8080/",
          "height": 204
        },
        "outputId": "7a768a83-58fc-467c-8997-60ffa0dc78da"
      },
      "source": [
        "!wget https://s3.amazonaws.com/models.huggingface.co/bert/xlm-roberta-base-sentencepiece.bpe.model"
      ],
      "execution_count": 10,
      "outputs": [
        {
          "output_type": "stream",
          "text": [
            "--2020-07-03 17:58:30--  https://s3.amazonaws.com/models.huggingface.co/bert/xlm-roberta-base-sentencepiece.bpe.model\n",
            "Resolving s3.amazonaws.com (s3.amazonaws.com)... 54.231.49.75\n",
            "Connecting to s3.amazonaws.com (s3.amazonaws.com)|54.231.49.75|:443... connected.\n",
            "HTTP request sent, awaiting response... 200 OK\n",
            "Length: 5069051 (4.8M) [binary/octet-stream]\n",
            "Saving to: ‘xlm-roberta-base-sentencepiece.bpe.model’\n",
            "\n",
            "xlm-roberta-base-se 100%[===================>]   4.83M  3.29MB/s    in 1.5s    \n",
            "\n",
            "2020-07-03 17:58:32 (3.29 MB/s) - ‘xlm-roberta-base-sentencepiece.bpe.model’ saved [5069051/5069051]\n",
            "\n"
          ],
          "name": "stdout"
        }
      ]
    },
    {
      "cell_type": "code",
      "metadata": {
        "id": "2xnOIV-7N0uU",
        "colab_type": "code",
        "colab": {}
      },
      "source": [
        "import sentencepiece_pb2\n",
        "import sentencepiece as spm\n",
        "class SentencePieceTokenizer:\n",
        "    def __init__(self):\n",
        "        self.sp = spm.SentencePieceProcessor()\n",
        "        #self.sp.load(os.path.join(model_path, \"spiece.model\"))\n",
        "        self.sp.load(\"xlm-roberta-base-sentencepiece.bpe.model\")\n",
        "    \n",
        "    def encode(self, sentence):\n",
        "        spt = sentencepiece_pb2.SentencePieceText()\n",
        "        spt.ParseFromString(self.sp.encode_as_serialized_proto(sentence))\n",
        "        offsets = []\n",
        "        tokens = []\n",
        "        for piece in spt.pieces:\n",
        "            tokens.append(piece.id)\n",
        "            offsets.append((piece.begin, piece.end))\n",
        "        return tokens, offsets"
      ],
      "execution_count": 11,
      "outputs": []
    },
    {
      "cell_type": "code",
      "metadata": {
        "id": "lDgqk-ctUPQZ",
        "colab_type": "code",
        "colab": {}
      },
      "source": [
        "tokenizer1 = SentencePieceTokenizer()"
      ],
      "execution_count": 12,
      "outputs": []
    },
    {
      "cell_type": "code",
      "metadata": {
        "id": "mZZEDQ83U0o4",
        "colab_type": "code",
        "colab": {
          "base_uri": "https://localhost:8080/",
          "height": 34
        },
        "outputId": "bcba3293-01e7-48c0-9a86-2b9935209c61"
      },
      "source": [
        "tokenizer1.encode(\"positive\")\n",
        "[0, 87, 444, 70, 60097, 2, 2, 156060, 13, 2]"
      ],
      "execution_count": 13,
      "outputs": [
        {
          "output_type": "execute_result",
          "data": {
            "text/plain": [
              "[0, 87, 444, 70, 60097, 2, 2, 156060, 13, 2]"
            ]
          },
          "metadata": {
            "tags": []
          },
          "execution_count": 13
        }
      ]
    },
    {
      "cell_type": "code",
      "metadata": {
        "id": "muzGuWFtHMwv",
        "colab_type": "code",
        "colab": {
          "base_uri": "https://localhost:8080/",
          "height": 35
        },
        "outputId": "b972ad72-73bd-49a7-8d21-97bd81137885"
      },
      "source": [
        "tokenizer1.sp.id_to_piece(87)"
      ],
      "execution_count": 14,
      "outputs": [
        {
          "output_type": "execute_result",
          "data": {
            "application/vnd.google.colaboratory.intrinsic": {
              "type": "string"
            },
            "text/plain": [
              "'▁el'"
            ]
          },
          "metadata": {
            "tags": []
          },
          "execution_count": 14
        }
      ]
    },
    {
      "cell_type": "code",
      "metadata": {
        "id": "kVguZhoqk1bD",
        "colab_type": "code",
        "colab": {}
      },
      "source": [
        "class TweetDataset(torch.utils.data.Dataset):\n",
        "    def __init__(self, df, max_len=96):\n",
        "        self.df = df\n",
        "        self.max_len = max_len\n",
        "        self.labeled = 'selected_text' in df\n",
        "        self.tokenizer1 = SentencePieceTokenizer()\n",
        "        #self.tokenizer2 = tokenizers.ByteLevelBPETokenizer(\n",
        "        #    vocab_file='/tmp/roberta-large-vocab.json', \n",
        "        #    merges_file='/tmp/roberta-large-merges.txt', \n",
        "        #    lowercase=True,\n",
        "        #    add_prefix_space=True)\n",
        "\n",
        "    def __getitem__(self, index):\n",
        "        data = {}\n",
        "        row = self.df.iloc[index]\n",
        "        \n",
        "        ids, masks, tweet, offsets,row_id = self.get_input_data(row)\n",
        "\n",
        "        data['ids'] = ids\n",
        "        data['masks'] = masks\n",
        "        data['tweet'] = tweet\n",
        "        data['offsets'] = offsets\n",
        "        data['row_id'] = row_id\n",
        "        \n",
        "        if self.labeled:\n",
        "            #print(\"I came here\")\n",
        "            start_idx, end_idx = self.get_target_idx(row, tweet, offsets)\n",
        "            data['start_idx'] = start_idx\n",
        "            data['end_idx'] = end_idx\n",
        "        \n",
        "        return data\n",
        "\n",
        "    def __len__(self):\n",
        "        return len(self.df)\n",
        "    \n",
        "    def get_input_data(self, row):\n",
        "        tweet = \" \" + \" \".join(row.text.lower().split())\n",
        "        encoding_ids, encoding_offsets = self.tokenizer1.encode(tweet)\n",
        "        sentiment_id, _ = self.tokenizer1.encode(row.sentiment)\n",
        "        ids = [0] + sentiment_id + [2, 2] + encoding_ids + [2]\n",
        "        offsets = [(0, 0)] * 4 + encoding_offsets + [(0, 0)]\n",
        "                \n",
        "        pad_len = self.max_len - len(ids)\n",
        "        if pad_len > 0:\n",
        "            ids += [1] * pad_len\n",
        "            offsets += [(0, 0)] * pad_len\n",
        "        \n",
        "        ids = torch.tensor(ids)\n",
        "        masks = torch.where(ids != 1, torch.tensor(1), torch.tensor(0))\n",
        "        offsets = torch.tensor(offsets)\n",
        "        \n",
        "        return ids, masks, tweet, offsets, row.idx\n",
        "        \n",
        "    def get_target_idx(self, row, tweet, offsets):\n",
        "        selected_text = \" \" +  \" \".join(row.selected_text.lower().split())\n",
        "        #print(selected_text)\n",
        "        #print(row.idx)\n",
        "\n",
        "        len_st = len(selected_text) - 1\n",
        "        idx0 = None\n",
        "        idx1 = None\n",
        "\n",
        "        for ind in (i for i, e in enumerate(tweet) if e == selected_text[1]):\n",
        "            if \" \" + tweet[ind: ind+len_st] == selected_text:\n",
        "                idx0 = ind\n",
        "                idx1 = ind + len_st - 1\n",
        "                break\n",
        "\n",
        "        char_targets = [0] * len(tweet)\n",
        "        if idx0 != None and idx1 != None:\n",
        "            for ct in range(idx0, idx1 + 1):\n",
        "                char_targets[ct] = 1\n",
        "\n",
        "        target_idx = []\n",
        "        for j, (offset1, offset2) in enumerate(offsets):\n",
        "            if sum(char_targets[offset1: offset2]) > 0:\n",
        "                target_idx.append(j)\n",
        "\n",
        "        start_idx = target_idx[0]\n",
        "        end_idx = target_idx[-1]\n",
        "        \n",
        "        return start_idx, end_idx\n",
        "        \n",
        "def get_train_val_loaders(df, train_idx, val_idx, batch_size=8):\n",
        "    train_df = df.iloc[train_idx]\n",
        "    val_df = df.iloc[val_idx]\n",
        "\n",
        "    train_loader = torch.utils.data.DataLoader(\n",
        "        TweetDataset(train_df), \n",
        "        batch_size=batch_size, \n",
        "        shuffle=True, \n",
        "        num_workers=2,\n",
        "        drop_last=True)\n",
        "\n",
        "    val_loader = torch.utils.data.DataLoader(\n",
        "        TweetDataset(val_df), \n",
        "        batch_size=batch_size, \n",
        "        shuffle=False, \n",
        "        num_workers=2)\n",
        "\n",
        "    dataloaders_dict = {\"train\": train_loader, \"val\": val_loader}\n",
        "\n",
        "    return dataloaders_dict\n",
        "\n",
        "def get_test_loader(df, batch_size=32):\n",
        "    loader = torch.utils.data.DataLoader(\n",
        "        TweetDataset(df), \n",
        "        batch_size=batch_size, \n",
        "        shuffle=False, \n",
        "        num_workers=2)    \n",
        "    return loader"
      ],
      "execution_count": 15,
      "outputs": []
    },
    {
      "cell_type": "markdown",
      "metadata": {
        "id": "yzORv-V8k1bF",
        "colab_type": "text"
      },
      "source": [
        "# Model"
      ]
    },
    {
      "cell_type": "code",
      "metadata": {
        "id": "KCxgXZfck1bG",
        "colab_type": "code",
        "colab": {}
      },
      "source": [
        "class TweetModel(nn.Module):\n",
        "    def __init__(self):\n",
        "        super(TweetModel, self).__init__()\n",
        "        config = XLMRobertaConfig.from_pretrained(\n",
        "            'xlm-roberta-base', output_hidden_states=True)    \n",
        "        self.roberta = XLMRobertaModel.from_pretrained(\n",
        "            'xlm-roberta-base', config=config)\n",
        "        #config = RobertaConfig.from_pretrained(\n",
        "        #    'roberta-large', output_hidden_states=True)    \n",
        "        #self.roberta = RobertaModel.from_pretrained(\n",
        "        #    'roberta-large', config=config)\n",
        "        self.dropout = nn.Dropout(0.5)\n",
        "        self.fc = nn.Linear(config.hidden_size, 2)\n",
        "        nn.init.normal_(self.fc.weight, std=0.02)\n",
        "        nn.init.normal_(self.fc.bias, 0)\n",
        "\n",
        "    def forward(self, input_ids, attention_mask):\n",
        "        _, _, hs = self.roberta(input_ids, attention_mask)\n",
        "         \n",
        "        x = torch.stack([hs[-1], hs[-2], hs[-3], hs[-4]])\n",
        "        x = torch.mean(x, 0)\n",
        "        x = self.dropout(x)\n",
        "        x = self.fc(x)\n",
        "        start_logits, end_logits = x.split(1, dim=-1)\n",
        "        start_logits = start_logits.squeeze(-1)\n",
        "        end_logits = end_logits.squeeze(-1)\n",
        "                \n",
        "        return start_logits, end_logits"
      ],
      "execution_count": 16,
      "outputs": []
    },
    {
      "cell_type": "markdown",
      "metadata": {
        "id": "uwHYGgeGk1bI",
        "colab_type": "text"
      },
      "source": [
        "# Loss Function"
      ]
    },
    {
      "cell_type": "code",
      "metadata": {
        "id": "W7h1A8crk1bJ",
        "colab_type": "code",
        "colab": {}
      },
      "source": [
        "def loss_fn(start_logits, end_logits, start_positions, end_positions):\n",
        "    ce_loss = nn.CrossEntropyLoss()\n",
        "    start_loss = ce_loss(start_logits, start_positions)\n",
        "    end_loss = ce_loss(end_logits, end_positions)    \n",
        "    total_loss = start_loss + end_loss\n",
        "    return total_loss"
      ],
      "execution_count": 17,
      "outputs": []
    },
    {
      "cell_type": "markdown",
      "metadata": {
        "id": "L_wqVZF1k1bL",
        "colab_type": "text"
      },
      "source": [
        "# Evaluation Function"
      ]
    },
    {
      "cell_type": "code",
      "metadata": {
        "id": "-6Sz7INHk1bM",
        "colab_type": "code",
        "colab": {}
      },
      "source": [
        "def get_selected_text(text, start_idx, end_idx, offsets):\n",
        "    selected_text = \"\"\n",
        "    for ix in range(start_idx, end_idx + 1):\n",
        "        selected_text += text[offsets[ix][0]: offsets[ix][1]]\n",
        "        if (ix + 1) < len(offsets) and offsets[ix][1] < offsets[ix + 1][0]:\n",
        "            selected_text += \" \"\n",
        "    return selected_text\n",
        "\n",
        "def jaccard(str1, str2): \n",
        "    a = set(str1.lower().split()) \n",
        "    b = set(str2.lower().split())\n",
        "    c = a.intersection(b)\n",
        "    return float(len(c)) / (len(a) + len(b) - len(c))\n",
        "\n",
        "def compute_jaccard_score(text, start_idx, end_idx, start_logits, end_logits, offsets):\n",
        "    start_pred = np.argmax(start_logits)\n",
        "    end_pred = np.argmax(end_logits)\n",
        "    if start_pred > end_pred:\n",
        "        pred = text\n",
        "    else:\n",
        "        pred = get_selected_text(text, start_pred, end_pred, offsets)\n",
        "        \n",
        "    true = get_selected_text(text, start_idx, end_idx, offsets)\n",
        "    \n",
        "    return jaccard(true, pred)"
      ],
      "execution_count": 18,
      "outputs": []
    },
    {
      "cell_type": "markdown",
      "metadata": {
        "id": "MMLoBn1bk1bP",
        "colab_type": "text"
      },
      "source": [
        "# Training Function"
      ]
    },
    {
      "cell_type": "code",
      "metadata": {
        "id": "dqgKSirbk1bP",
        "colab_type": "code",
        "colab": {}
      },
      "source": [
        "def train_model(model, dataloaders_dict, criterion, optimizer, num_epochs, filename):\n",
        "    model.cuda()\n",
        "\n",
        "    for epoch in range(num_epochs):\n",
        "        for phase in ['train', 'val']:\n",
        "            if phase == 'train':\n",
        "                model.train()\n",
        "            else:\n",
        "                model.eval()\n",
        "\n",
        "            epoch_loss = 0.0\n",
        "            epoch_jaccard = 0.0\n",
        "            \n",
        "            for data in (dataloaders_dict[phase]):\n",
        "                ids = data['ids'].cuda()\n",
        "                masks = data['masks'].cuda()\n",
        "                tweet = data['tweet']\n",
        "                offsets = data['offsets'].numpy()\n",
        "                start_idx = data['start_idx'].cuda()\n",
        "                end_idx = data['end_idx'].cuda()\n",
        "\n",
        "                optimizer.zero_grad()\n",
        "\n",
        "                with torch.set_grad_enabled(phase == 'train'):\n",
        "\n",
        "                    start_logits, end_logits = model(ids, masks)\n",
        "\n",
        "                    loss = criterion(start_logits, end_logits, start_idx, end_idx)\n",
        "                    \n",
        "                    if phase == 'train':\n",
        "                        loss.backward()\n",
        "                        optimizer.step()\n",
        "\n",
        "                    epoch_loss += loss.item() * len(ids)\n",
        "                    \n",
        "                    start_idx = start_idx.cpu().detach().numpy()\n",
        "                    end_idx = end_idx.cpu().detach().numpy()\n",
        "                    start_logits = torch.softmax(start_logits, dim=1).cpu().detach().numpy()\n",
        "                    end_logits = torch.softmax(end_logits, dim=1).cpu().detach().numpy()\n",
        "                    \n",
        "                    for i in range(len(ids)):                        \n",
        "                        jaccard_score = compute_jaccard_score(\n",
        "                            tweet[i],\n",
        "                            start_idx[i],\n",
        "                            end_idx[i],\n",
        "                            start_logits[i], \n",
        "                            end_logits[i], \n",
        "                            offsets[i])\n",
        "                        epoch_jaccard += jaccard_score\n",
        "                    \n",
        "            epoch_loss = epoch_loss / len(dataloaders_dict[phase].dataset)\n",
        "            epoch_jaccard = epoch_jaccard / len(dataloaders_dict[phase].dataset)\n",
        "            \n",
        "            print('Epoch {}/{} | {:^5} | Loss: {:.4f} | Jaccard: {:.4f}'.format(\n",
        "                epoch + 1, num_epochs, phase, epoch_loss, epoch_jaccard))\n",
        "    \n",
        "    torch.save(model.state_dict(), filename)"
      ],
      "execution_count": 19,
      "outputs": []
    },
    {
      "cell_type": "markdown",
      "metadata": {
        "id": "zM_sg0ynk1bS",
        "colab_type": "text"
      },
      "source": [
        "# Training"
      ]
    },
    {
      "cell_type": "code",
      "metadata": {
        "id": "PPK-f4Elk1bS",
        "colab_type": "code",
        "colab": {}
      },
      "source": [
        "num_epochs = 3\n",
        "batch_size = 32\n",
        "skf = StratifiedKFold(n_splits=10, shuffle=True, random_state=seed)"
      ],
      "execution_count": 20,
      "outputs": []
    },
    {
      "cell_type": "code",
      "metadata": {
        "id": "BQazW_MDk1bU",
        "colab_type": "code",
        "colab": {
          "base_uri": "https://localhost:8080/",
          "height": 1000,
          "referenced_widgets": [
            "400bdeb2a381436a8252fe9cb3a40a72",
            "fb3c13b29d1f43098f9360b8c8d41170",
            "1a07313843a6461e885b5c0694e5a03e",
            "c2bca732f7264bb3bf28f095721d08aa",
            "569521c8108f4746be2fd8ec125f0e0c",
            "2eb6590ce24f46269529090c9f8e1edd",
            "8d3185feb4e44aa1b889b8427089c2fb",
            "a834cd9e36344a3485f728e3e6d4b760",
            "6e721b57ce9f4575a2c130e39f4a10ff",
            "546a99105fe24148a4e9b8873207778e",
            "93bd89bb23514fc5967d670f2abf701d",
            "d057c2372d644cf28e784074bfc922c4",
            "4eb01e3ef705421a868b735d17944ec9",
            "57ab7945b482442ea743057a1ee9d4bb",
            "e9bf3462f8324d77922a707759dd04e3",
            "a650f4057ba64814a98270bc7e974d51"
          ]
        },
        "outputId": "6bdfe06b-ff53-452a-a0c3-fc6bc3512f2a"
      },
      "source": [
        "train_df = pd.read_csv(data_folder + '/train.csv')\n",
        "train_df['text'] = train_df['text'].astype(str)\n",
        "train_df['selected_text'] = train_df['selected_text'].astype(str)\n",
        "train_df['idx'] = train_df.index.copy()\n",
        "\n",
        "for fold, (train_idx, val_idx) in enumerate(skf.split(train_df, train_df.sentiment), start=1): \n",
        "    print(f'Fold: {fold}')\n",
        "\n",
        "    model = TweetModel()\n",
        "    optimizer = optim.AdamW(model.parameters(), lr=3e-5, betas=(0.9, 0.999))\n",
        "    criterion = loss_fn    \n",
        "    dataloaders_dict = get_train_val_loaders(train_df, train_idx, val_idx, batch_size)\n",
        "    #print(dataloaders_dict)\n",
        "\n",
        "\n",
        "    train_model(\n",
        "        model, \n",
        "        dataloaders_dict,\n",
        "        criterion, \n",
        "        optimizer, \n",
        "        num_epochs,\n",
        "        xlm_robert_folder + f'roberta_fold{fold}.pth')"
      ],
      "execution_count": 21,
      "outputs": [
        {
          "output_type": "stream",
          "text": [
            "Fold: 1\n"
          ],
          "name": "stdout"
        },
        {
          "output_type": "display_data",
          "data": {
            "application/vnd.jupyter.widget-view+json": {
              "model_id": "400bdeb2a381436a8252fe9cb3a40a72",
              "version_minor": 0,
              "version_major": 2
            },
            "text/plain": [
              "HBox(children=(FloatProgress(value=0.0, description='Downloading', max=512.0, style=ProgressStyle(description_…"
            ]
          },
          "metadata": {
            "tags": []
          }
        },
        {
          "output_type": "stream",
          "text": [
            "\n"
          ],
          "name": "stdout"
        },
        {
          "output_type": "display_data",
          "data": {
            "application/vnd.jupyter.widget-view+json": {
              "model_id": "6e721b57ce9f4575a2c130e39f4a10ff",
              "version_minor": 0,
              "version_major": 2
            },
            "text/plain": [
              "HBox(children=(FloatProgress(value=0.0, description='Downloading', max=1115590446.0, style=ProgressStyle(descr…"
            ]
          },
          "metadata": {
            "tags": []
          }
        },
        {
          "output_type": "stream",
          "text": [
            "\n",
            "Epoch 1/3 | train | Loss: 2.9527 | Jaccard: 0.6035\n",
            "Epoch 1/3 |  val  | Loss: 2.2656 | Jaccard: 0.6453\n",
            "Epoch 2/3 | train | Loss: 2.2483 | Jaccard: 0.6528\n",
            "Epoch 2/3 |  val  | Loss: 2.1182 | Jaccard: 0.6593\n",
            "Epoch 3/3 | train | Loss: 2.0476 | Jaccard: 0.6710\n",
            "Epoch 3/3 |  val  | Loss: 2.0333 | Jaccard: 0.6638\n",
            "Fold: 2\n",
            "Epoch 1/3 | train | Loss: 2.9759 | Jaccard: 0.6062\n",
            "Epoch 1/3 |  val  | Loss: 2.3006 | Jaccard: 0.6479\n",
            "Epoch 2/3 | train | Loss: 2.2204 | Jaccard: 0.6561\n",
            "Epoch 2/3 |  val  | Loss: 2.1119 | Jaccard: 0.6678\n",
            "Epoch 3/3 | train | Loss: 2.0195 | Jaccard: 0.6757\n",
            "Epoch 3/3 |  val  | Loss: 2.0506 | Jaccard: 0.6751\n",
            "Fold: 3\n",
            "Epoch 1/3 | train | Loss: 2.9129 | Jaccard: 0.6074\n",
            "Epoch 1/3 |  val  | Loss: 2.2820 | Jaccard: 0.6509\n",
            "Epoch 2/3 | train | Loss: 2.1698 | Jaccard: 0.6607\n",
            "Epoch 2/3 |  val  | Loss: 2.0825 | Jaccard: 0.6677\n",
            "Epoch 3/3 | train | Loss: 1.9534 | Jaccard: 0.6813\n",
            "Epoch 3/3 |  val  | Loss: 2.0722 | Jaccard: 0.6770\n",
            "Fold: 4\n",
            "Epoch 1/3 | train | Loss: 2.9105 | Jaccard: 0.6079\n",
            "Epoch 1/3 |  val  | Loss: 2.1506 | Jaccard: 0.6761\n",
            "Epoch 2/3 | train | Loss: 2.1938 | Jaccard: 0.6570\n",
            "Epoch 2/3 |  val  | Loss: 1.9536 | Jaccard: 0.6884\n",
            "Epoch 3/3 | train | Loss: 1.9551 | Jaccard: 0.6828\n",
            "Epoch 3/3 |  val  | Loss: 1.9166 | Jaccard: 0.6786\n",
            "Fold: 5\n",
            "Epoch 1/3 | train | Loss: 3.0078 | Jaccard: 0.6043\n",
            "Epoch 1/3 |  val  | Loss: 2.2409 | Jaccard: 0.6543\n",
            "Epoch 2/3 | train | Loss: 2.2027 | Jaccard: 0.6563\n",
            "Epoch 2/3 |  val  | Loss: 2.0466 | Jaccard: 0.6751\n",
            "Epoch 3/3 | train | Loss: 2.0071 | Jaccard: 0.6775\n",
            "Epoch 3/3 |  val  | Loss: 1.9788 | Jaccard: 0.6831\n",
            "Fold: 6\n",
            "Epoch 1/3 | train | Loss: 2.8808 | Jaccard: 0.6101\n",
            "Epoch 1/3 |  val  | Loss: 2.1863 | Jaccard: 0.6607\n",
            "Epoch 2/3 | train | Loss: 2.1571 | Jaccard: 0.6610\n",
            "Epoch 2/3 |  val  | Loss: 1.9915 | Jaccard: 0.6743\n",
            "Epoch 3/3 | train | Loss: 1.9167 | Jaccard: 0.6864\n",
            "Epoch 3/3 |  val  | Loss: 1.9130 | Jaccard: 0.6927\n",
            "Fold: 7\n",
            "Epoch 1/3 | train | Loss: 2.9845 | Jaccard: 0.5985\n",
            "Epoch 1/3 |  val  | Loss: 2.2793 | Jaccard: 0.6578\n",
            "Epoch 2/3 | train | Loss: 2.2408 | Jaccard: 0.6531\n",
            "Epoch 2/3 |  val  | Loss: 1.9776 | Jaccard: 0.6836\n",
            "Epoch 3/3 | train | Loss: 2.0171 | Jaccard: 0.6758\n",
            "Epoch 3/3 |  val  | Loss: 1.9220 | Jaccard: 0.6879\n",
            "Fold: 8\n",
            "Epoch 1/3 | train | Loss: 2.8921 | Jaccard: 0.6088\n",
            "Epoch 1/3 |  val  | Loss: 2.2046 | Jaccard: 0.6596\n",
            "Epoch 2/3 | train | Loss: 2.1543 | Jaccard: 0.6613\n",
            "Epoch 2/3 |  val  | Loss: 1.9995 | Jaccard: 0.6780\n",
            "Epoch 3/3 | train | Loss: 2.0054 | Jaccard: 0.6793\n",
            "Epoch 3/3 |  val  | Loss: 2.0061 | Jaccard: 0.6826\n",
            "Fold: 9\n",
            "Epoch 1/3 | train | Loss: 2.8699 | Jaccard: 0.6108\n",
            "Epoch 1/3 |  val  | Loss: 2.2330 | Jaccard: 0.6542\n",
            "Epoch 2/3 | train | Loss: 2.1579 | Jaccard: 0.6565\n",
            "Epoch 2/3 |  val  | Loss: 2.0735 | Jaccard: 0.6786\n",
            "Epoch 3/3 | train | Loss: 1.9528 | Jaccard: 0.6829\n",
            "Epoch 3/3 |  val  | Loss: 2.0650 | Jaccard: 0.6780\n",
            "Fold: 10\n",
            "Epoch 1/3 | train | Loss: 2.8724 | Jaccard: 0.6095\n",
            "Epoch 1/3 |  val  | Loss: 2.1915 | Jaccard: 0.6508\n",
            "Epoch 2/3 | train | Loss: 2.1382 | Jaccard: 0.6656\n",
            "Epoch 2/3 |  val  | Loss: 2.0397 | Jaccard: 0.6699\n",
            "Epoch 3/3 | train | Loss: 1.9182 | Jaccard: 0.6857\n",
            "Epoch 3/3 |  val  | Loss: 1.9564 | Jaccard: 0.6776\n"
          ],
          "name": "stdout"
        }
      ]
    },
    {
      "cell_type": "code",
      "metadata": {
        "id": "QoRqsLZOu7C-",
        "colab_type": "code",
        "colab": {
          "base_uri": "https://localhost:8080/",
          "height": 204
        },
        "outputId": "fda4b2db-db11-4d52-a52e-35ced4b06e5d"
      },
      "source": [
        "train_df.head()"
      ],
      "execution_count": 22,
      "outputs": [
        {
          "output_type": "execute_result",
          "data": {
            "text/html": [
              "<div>\n",
              "<style scoped>\n",
              "    .dataframe tbody tr th:only-of-type {\n",
              "        vertical-align: middle;\n",
              "    }\n",
              "\n",
              "    .dataframe tbody tr th {\n",
              "        vertical-align: top;\n",
              "    }\n",
              "\n",
              "    .dataframe thead th {\n",
              "        text-align: right;\n",
              "    }\n",
              "</style>\n",
              "<table border=\"1\" class=\"dataframe\">\n",
              "  <thead>\n",
              "    <tr style=\"text-align: right;\">\n",
              "      <th></th>\n",
              "      <th>textID</th>\n",
              "      <th>text</th>\n",
              "      <th>selected_text</th>\n",
              "      <th>sentiment</th>\n",
              "      <th>idx</th>\n",
              "    </tr>\n",
              "  </thead>\n",
              "  <tbody>\n",
              "    <tr>\n",
              "      <th>0</th>\n",
              "      <td>cb774db0d1</td>\n",
              "      <td>I`d have responded, if I were going</td>\n",
              "      <td>I`d have responded, if I were going</td>\n",
              "      <td>neutral</td>\n",
              "      <td>0</td>\n",
              "    </tr>\n",
              "    <tr>\n",
              "      <th>1</th>\n",
              "      <td>549e992a42</td>\n",
              "      <td>Sooo SAD I will miss you here in San Diego!!!</td>\n",
              "      <td>Sooo SAD</td>\n",
              "      <td>negative</td>\n",
              "      <td>1</td>\n",
              "    </tr>\n",
              "    <tr>\n",
              "      <th>2</th>\n",
              "      <td>088c60f138</td>\n",
              "      <td>my boss is bullying me...</td>\n",
              "      <td>bullying me</td>\n",
              "      <td>negative</td>\n",
              "      <td>2</td>\n",
              "    </tr>\n",
              "    <tr>\n",
              "      <th>3</th>\n",
              "      <td>9642c003ef</td>\n",
              "      <td>what interview! leave me alone</td>\n",
              "      <td>leave me alone</td>\n",
              "      <td>negative</td>\n",
              "      <td>3</td>\n",
              "    </tr>\n",
              "    <tr>\n",
              "      <th>4</th>\n",
              "      <td>358bd9e861</td>\n",
              "      <td>Sons of ****, why couldn`t they put them on t...</td>\n",
              "      <td>Sons of ****,</td>\n",
              "      <td>negative</td>\n",
              "      <td>4</td>\n",
              "    </tr>\n",
              "  </tbody>\n",
              "</table>\n",
              "</div>"
            ],
            "text/plain": [
              "       textID                                               text  ... sentiment idx\n",
              "0  cb774db0d1                I`d have responded, if I were going  ...   neutral   0\n",
              "1  549e992a42      Sooo SAD I will miss you here in San Diego!!!  ...  negative   1\n",
              "2  088c60f138                          my boss is bullying me...  ...  negative   2\n",
              "3  9642c003ef                     what interview! leave me alone  ...  negative   3\n",
              "4  358bd9e861   Sons of ****, why couldn`t they put them on t...  ...  negative   4\n",
              "\n",
              "[5 rows x 5 columns]"
            ]
          },
          "metadata": {
            "tags": []
          },
          "execution_count": 22
        }
      ]
    },
    {
      "cell_type": "markdown",
      "metadata": {
        "id": "mSthskgKk1bX",
        "colab_type": "text"
      },
      "source": [
        "# Inference"
      ]
    },
    {
      "cell_type": "code",
      "metadata": {
        "id": "1PiUqEfVk1bY",
        "colab_type": "code",
        "colab": {
          "base_uri": "https://localhost:8080/",
          "height": 149,
          "referenced_widgets": [
            "ce9ffa56cf484ad38032d52c77a06dfd",
            "6f5c60fb9de74d75ba530fd57210269a",
            "c0e53ed3e3ed42de88ad7f8cbdacf6eb",
            "003bc875bd9b47baa5629052ca002fa6",
            "71541ed5c67142479aa2525629217622",
            "9bc2f4556c2f4123b27bcd8fddf74a01",
            "5bcc75e95c4a485daec9b121633a4fd5",
            "d018016a555049d0a2887887261902d6",
            "d224fcaac95b401a8b8c7d28f8598b5c",
            "f2e9975e8cee46f18e5c173573d70efd",
            "4d82109da3a440018a93b05d69fcfe7e",
            "db26510155f84239a916572315fd45b8",
            "bacefe5addfc45789b40e6a83c7b3cce",
            "09cd74c3f3744665bf975ee3e4816b7b",
            "b893477906a240f584531ae154bd66c3",
            "5576965207d64c7398e2de6c2f8c3269"
          ]
        },
        "outputId": "5597ed8a-533f-4096-9588-8778dce872b3"
      },
      "source": [
        "%%time\n",
        "\n",
        "test_df = pd.read_csv(data_folder + '/test.csv')\n",
        "test_df['text'] = test_df['text'].astype(str)\n",
        "test_df['idx'] = test_df.index.copy()\n",
        "test_loader = get_test_loader(test_df)\n",
        "predictions = []\n",
        "models = []\n",
        "for fold in range(skf.n_splits):\n",
        "    model = TweetModel()\n",
        "    model.cuda()\n",
        "    model.load_state_dict(torch.load(xlm_robert_folder + f'roberta_fold{fold+1}.pth'))\n",
        "    model.eval()\n",
        "    models.append(model)\n",
        "\n",
        "for data in test_loader:\n",
        "    ids = data['ids'].cuda()\n",
        "    masks = data['masks'].cuda()\n",
        "    tweet = data['tweet']\n",
        "    offsets = data['offsets'].numpy()\n",
        "\n",
        "    start_logits = []\n",
        "    end_logits = []\n",
        "    for model in models:\n",
        "        with torch.no_grad():\n",
        "            output = model(ids, masks)\n",
        "            start_logits.append(torch.softmax(output[0], dim=1).cpu().detach().numpy())\n",
        "            end_logits.append(torch.softmax(output[1], dim=1).cpu().detach().numpy())\n",
        "\n",
        "    start_logits = np.mean(start_logits, axis=0)\n",
        "    end_logits = np.mean(end_logits, axis=0)\n",
        "    for i in range(len(ids)):    \n",
        "        start_pred = np.argmax(start_logits[i])\n",
        "        end_pred = np.argmax(end_logits[i])\n",
        "        if start_pred > end_pred:\n",
        "            pred = tweet[i]\n",
        "        else:\n",
        "            pred = get_selected_text(tweet[i], start_pred, end_pred, offsets[i])\n",
        "        predictions.append(pred)"
      ],
      "execution_count": 21,
      "outputs": [
        {
          "output_type": "display_data",
          "data": {
            "application/vnd.jupyter.widget-view+json": {
              "model_id": "ce9ffa56cf484ad38032d52c77a06dfd",
              "version_minor": 0,
              "version_major": 2
            },
            "text/plain": [
              "HBox(children=(FloatProgress(value=0.0, description='Downloading', max=512.0, style=ProgressStyle(description_…"
            ]
          },
          "metadata": {
            "tags": []
          }
        },
        {
          "output_type": "stream",
          "text": [
            "\n"
          ],
          "name": "stdout"
        },
        {
          "output_type": "display_data",
          "data": {
            "application/vnd.jupyter.widget-view+json": {
              "model_id": "d224fcaac95b401a8b8c7d28f8598b5c",
              "version_minor": 0,
              "version_major": 2
            },
            "text/plain": [
              "HBox(children=(FloatProgress(value=0.0, description='Downloading', max=1115590446.0, style=ProgressStyle(descr…"
            ]
          },
          "metadata": {
            "tags": []
          }
        },
        {
          "output_type": "stream",
          "text": [
            "\n",
            "CPU times: user 3min 55s, sys: 55.6 s, total: 4min 50s\n",
            "Wall time: 6min 54s\n"
          ],
          "name": "stdout"
        }
      ]
    },
    {
      "cell_type": "markdown",
      "metadata": {
        "id": "Wz1LmMaIk1ba",
        "colab_type": "text"
      },
      "source": [
        "# Submission"
      ]
    },
    {
      "cell_type": "code",
      "metadata": {
        "id": "erQn4rsTk1bb",
        "colab_type": "code",
        "colab": {
          "base_uri": "https://localhost:8080/",
          "height": 204
        },
        "outputId": "2d71daab-7784-4f20-ff45-35e395fa7161"
      },
      "source": [
        "sub_df = pd.read_csv(data_folder + '/sample_submission.csv')\n",
        "sub_df['selected_text'] = predictions\n",
        "sub_df['selected_text'] = sub_df['selected_text'].apply(lambda x: x.replace('!!!!', '!') if len(x.split())==1 else x)\n",
        "sub_df['selected_text'] = sub_df['selected_text'].apply(lambda x: x.replace('..', '.') if len(x.split())==1 else x)\n",
        "sub_df['selected_text'] = sub_df['selected_text'].apply(lambda x: x.replace('...', '.') if len(x.split())==1 else x)\n",
        "sub_df.to_csv('submission.csv', index=False)\n",
        "sub_df.head()"
      ],
      "execution_count": 23,
      "outputs": [
        {
          "output_type": "execute_result",
          "data": {
            "text/html": [
              "<div>\n",
              "<style scoped>\n",
              "    .dataframe tbody tr th:only-of-type {\n",
              "        vertical-align: middle;\n",
              "    }\n",
              "\n",
              "    .dataframe tbody tr th {\n",
              "        vertical-align: top;\n",
              "    }\n",
              "\n",
              "    .dataframe thead th {\n",
              "        text-align: right;\n",
              "    }\n",
              "</style>\n",
              "<table border=\"1\" class=\"dataframe\">\n",
              "  <thead>\n",
              "    <tr style=\"text-align: right;\">\n",
              "      <th></th>\n",
              "      <th>textID</th>\n",
              "      <th>selected_text</th>\n",
              "    </tr>\n",
              "  </thead>\n",
              "  <tbody>\n",
              "    <tr>\n",
              "      <th>0</th>\n",
              "      <td>f87dea47db</td>\n",
              "      <td>last session of the day</td>\n",
              "    </tr>\n",
              "    <tr>\n",
              "      <th>1</th>\n",
              "      <td>96d74cb729</td>\n",
              "      <td>shanghai is also really exciting (precisely -...</td>\n",
              "    </tr>\n",
              "    <tr>\n",
              "      <th>2</th>\n",
              "      <td>eee518ae67</td>\n",
              "      <td>shame!</td>\n",
              "    </tr>\n",
              "    <tr>\n",
              "      <th>3</th>\n",
              "      <td>01082688c6</td>\n",
              "      <td>happy</td>\n",
              "    </tr>\n",
              "    <tr>\n",
              "      <th>4</th>\n",
              "      <td>33987a8ee5</td>\n",
              "      <td>i like it!!</td>\n",
              "    </tr>\n",
              "  </tbody>\n",
              "</table>\n",
              "</div>"
            ],
            "text/plain": [
              "       textID                                      selected_text\n",
              "0  f87dea47db                            last session of the day\n",
              "1  96d74cb729   shanghai is also really exciting (precisely -...\n",
              "2  eee518ae67                                             shame!\n",
              "3  01082688c6                                              happy\n",
              "4  33987a8ee5                                        i like it!!"
            ]
          },
          "metadata": {
            "tags": []
          },
          "execution_count": 23
        }
      ]
    }
  ]
}