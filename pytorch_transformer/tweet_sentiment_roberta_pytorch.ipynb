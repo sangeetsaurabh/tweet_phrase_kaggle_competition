{
  "nbformat": 4,
  "nbformat_minor": 0,
  "metadata": {
    "kernelspec": {
      "display_name": "Python 3",
      "language": "python",
      "name": "python3"
    },
    "language_info": {
      "codemirror_mode": {
        "name": "ipython",
        "version": 3
      },
      "file_extension": ".py",
      "mimetype": "text/x-python",
      "name": "python",
      "nbconvert_exporter": "python",
      "pygments_lexer": "ipython3",
      "version": "3.7.6"
    },
    "colab": {
      "name": "tweet-sentiment-roberta-pytorch.ipynb",
      "provenance": [],
      "collapsed_sections": [],
      "machine_shape": "hm",
      "include_colab_link": true
    },
    "accelerator": "GPU"
  },
  "cells": [
    {
      "cell_type": "markdown",
      "metadata": {
        "id": "view-in-github",
        "colab_type": "text"
      },
      "source": [
        "<a href=\"https://colab.research.google.com/github/sangeetsaurabh/tweet_sentiment_extraction/blob/master/pytorch_transformer/tweet_sentiment_roberta_pytorch.ipynb\" target=\"_parent\"><img src=\"https://colab.research.google.com/assets/colab-badge.svg\" alt=\"Open In Colab\"/></a>"
      ]
    },
    {
      "cell_type": "markdown",
      "metadata": {
        "id": "m16ne7jVbPBq",
        "colab_type": "text"
      },
      "source": [
        "## Roberta transformer model to predict selected text given tweet and emotion of the tweet as input"
      ]
    },
    {
      "cell_type": "markdown",
      "metadata": {
        "id": "jeTsLQOjk1a6",
        "colab_type": "text"
      },
      "source": [
        "#### Install required libraries"
      ]
    },
    {
      "cell_type": "code",
      "metadata": {
        "id": "YbbtZkHdlREm",
        "colab_type": "code",
        "colab": {
          "base_uri": "https://localhost:8080/",
          "height": 615
        },
        "outputId": "f2d95b10-a2db-4e26-ec24-1a9083a53d14"
      },
      "source": [
        "!pip install transformers"
      ],
      "execution_count": null,
      "outputs": [
        {
          "output_type": "stream",
          "text": [
            "Collecting transformers\n",
            "\u001b[?25l  Downloading https://files.pythonhosted.org/packages/48/35/ad2c5b1b8f99feaaf9d7cdadaeef261f098c6e1a6a2935d4d07662a6b780/transformers-2.11.0-py3-none-any.whl (674kB)\n",
            "\u001b[K     |████████████████████████████████| 675kB 4.9MB/s \n",
            "\u001b[?25hCollecting tokenizers==0.7.0\n",
            "\u001b[?25l  Downloading https://files.pythonhosted.org/packages/14/e5/a26eb4716523808bb0a799fcfdceb6ebf77a18169d9591b2f46a9adb87d9/tokenizers-0.7.0-cp36-cp36m-manylinux1_x86_64.whl (3.8MB)\n",
            "\u001b[K     |████████████████████████████████| 3.8MB 19.6MB/s \n",
            "\u001b[?25hCollecting sentencepiece\n",
            "\u001b[?25l  Downloading https://files.pythonhosted.org/packages/d4/a4/d0a884c4300004a78cca907a6ff9a5e9fe4f090f5d95ab341c53d28cbc58/sentencepiece-0.1.91-cp36-cp36m-manylinux1_x86_64.whl (1.1MB)\n",
            "\u001b[K     |████████████████████████████████| 1.1MB 41.2MB/s \n",
            "\u001b[?25hRequirement already satisfied: regex!=2019.12.17 in /usr/local/lib/python3.6/dist-packages (from transformers) (2019.12.20)\n",
            "Requirement already satisfied: numpy in /usr/local/lib/python3.6/dist-packages (from transformers) (1.18.5)\n",
            "Collecting sacremoses\n",
            "\u001b[?25l  Downloading https://files.pythonhosted.org/packages/7d/34/09d19aff26edcc8eb2a01bed8e98f13a1537005d31e95233fd48216eed10/sacremoses-0.0.43.tar.gz (883kB)\n",
            "\u001b[K     |████████████████████████████████| 890kB 50.0MB/s \n",
            "\u001b[?25hRequirement already satisfied: filelock in /usr/local/lib/python3.6/dist-packages (from transformers) (3.0.12)\n",
            "Requirement already satisfied: tqdm>=4.27 in /usr/local/lib/python3.6/dist-packages (from transformers) (4.41.1)\n",
            "Requirement already satisfied: packaging in /usr/local/lib/python3.6/dist-packages (from transformers) (20.4)\n",
            "Requirement already satisfied: dataclasses; python_version < \"3.7\" in /usr/local/lib/python3.6/dist-packages (from transformers) (0.7)\n",
            "Requirement already satisfied: requests in /usr/local/lib/python3.6/dist-packages (from transformers) (2.23.0)\n",
            "Requirement already satisfied: six in /usr/local/lib/python3.6/dist-packages (from sacremoses->transformers) (1.12.0)\n",
            "Requirement already satisfied: click in /usr/local/lib/python3.6/dist-packages (from sacremoses->transformers) (7.1.2)\n",
            "Requirement already satisfied: joblib in /usr/local/lib/python3.6/dist-packages (from sacremoses->transformers) (0.15.1)\n",
            "Requirement already satisfied: pyparsing>=2.0.2 in /usr/local/lib/python3.6/dist-packages (from packaging->transformers) (2.4.7)\n",
            "Requirement already satisfied: idna<3,>=2.5 in /usr/local/lib/python3.6/dist-packages (from requests->transformers) (2.9)\n",
            "Requirement already satisfied: chardet<4,>=3.0.2 in /usr/local/lib/python3.6/dist-packages (from requests->transformers) (3.0.4)\n",
            "Requirement already satisfied: urllib3!=1.25.0,!=1.25.1,<1.26,>=1.21.1 in /usr/local/lib/python3.6/dist-packages (from requests->transformers) (1.24.3)\n",
            "Requirement already satisfied: certifi>=2017.4.17 in /usr/local/lib/python3.6/dist-packages (from requests->transformers) (2020.4.5.1)\n",
            "Building wheels for collected packages: sacremoses\n",
            "  Building wheel for sacremoses (setup.py) ... \u001b[?25l\u001b[?25hdone\n",
            "  Created wheel for sacremoses: filename=sacremoses-0.0.43-cp36-none-any.whl size=893260 sha256=a77d34de30b2b1798f3f7e7dc6771599a1da0dfb540520de8f723aa41d1157d8\n",
            "  Stored in directory: /root/.cache/pip/wheels/29/3c/fd/7ce5c3f0666dab31a50123635e6fb5e19ceb42ce38d4e58f45\n",
            "Successfully built sacremoses\n",
            "Installing collected packages: tokenizers, sentencepiece, sacremoses, transformers\n",
            "Successfully installed sacremoses-0.0.43 sentencepiece-0.1.91 tokenizers-0.7.0 transformers-2.11.0\n"
          ],
          "name": "stdout"
        }
      ]
    },
    {
      "cell_type": "code",
      "metadata": {
        "_cell_guid": "b1076dfc-b9ad-4769-8c92-a6c4dae69d19",
        "_uuid": "8f2839f25d086af736a60e9eeb907d3b93b6e0e5",
        "id": "wJ6ZL0XWk1a7",
        "colab_type": "code",
        "colab": {}
      },
      "source": [
        "import numpy as np\n",
        "import pandas as pd\n",
        "import os\n",
        "import warnings\n",
        "import random\n",
        "import torch \n",
        "from torch import nn\n",
        "import torch.optim as optim\n",
        "from sklearn.model_selection import StratifiedKFold\n",
        "import tokenizers\n",
        "from transformers import RobertaModel, RobertaConfig\n",
        "\n",
        "warnings.filterwarnings('ignore')"
      ],
      "execution_count": null,
      "outputs": []
    },
    {
      "cell_type": "markdown",
      "metadata": {
        "id": "m4lLQE-6k1a_",
        "colab_type": "text"
      },
      "source": [
        "# Seed"
      ]
    },
    {
      "cell_type": "code",
      "metadata": {
        "_cell_guid": "79c7e3d0-c299-4dcb-8224-4455121ee9b0",
        "_uuid": "d629ff2d2480ee46fbb7e2d37f6b5fab8052498a",
        "id": "D5bCQ6f3k1bA",
        "colab_type": "code",
        "colab": {}
      },
      "source": [
        "def seed_everything(seed_value):\n",
        "    random.seed(seed_value)\n",
        "    np.random.seed(seed_value)\n",
        "    torch.manual_seed(seed_value)\n",
        "    os.environ['PYTHONHASHSEED'] = str(seed_value)\n",
        "    \n",
        "    if torch.cuda.is_available(): \n",
        "        torch.cuda.manual_seed(seed_value)\n",
        "        torch.cuda.manual_seed_all(seed_value)\n",
        "        torch.backends.cudnn.deterministic = True\n",
        "        torch.backends.cudnn.benchmark = True\n",
        "\n",
        "seed = 42\n",
        "seed_everything(seed)"
      ],
      "execution_count": null,
      "outputs": []
    },
    {
      "cell_type": "markdown",
      "metadata": {
        "id": "ABZiB5G0tW7B",
        "colab_type": "text"
      },
      "source": [
        "#### Load Google Drive for file input/output"
      ]
    },
    {
      "cell_type": "code",
      "metadata": {
        "id": "1Y3MIJyd4IA1",
        "colab_type": "code",
        "colab": {
          "base_uri": "https://localhost:8080/",
          "height": 122
        },
        "outputId": "e94eb325-f9e5-460f-b764-f20bc0d17532"
      },
      "source": [
        "from google.colab import drive\n",
        "drive.mount('/content/drive')"
      ],
      "execution_count": null,
      "outputs": [
        {
          "output_type": "stream",
          "text": [
            "Go to this URL in a browser: https://accounts.google.com/o/oauth2/auth?client_id=947318989803-6bn6qk8qdgf4n4g3pfee6491hc0brc4i.apps.googleusercontent.com&redirect_uri=urn%3aietf%3awg%3aoauth%3a2.0%3aoob&response_type=code&scope=email%20https%3a%2f%2fwww.googleapis.com%2fauth%2fdocs.test%20https%3a%2f%2fwww.googleapis.com%2fauth%2fdrive%20https%3a%2f%2fwww.googleapis.com%2fauth%2fdrive.photos.readonly%20https%3a%2f%2fwww.googleapis.com%2fauth%2fpeopleapi.readonly\n",
            "\n",
            "Enter your authorization code:\n",
            "··········\n",
            "Mounted at /content/drive\n"
          ],
          "name": "stdout"
        }
      ]
    },
    {
      "cell_type": "code",
      "metadata": {
        "id": "dndOiMWUST2n",
        "colab_type": "code",
        "colab": {}
      },
      "source": [
        "data_folder = \"/content/drive/My Drive/tweet-sentiment-extraction/data\"\n",
        "roberta_folder = \"/content/drive/My Drive/tweet-sentiment-extraction/roberta/\"\n",
        "tmp_folder = '/tmp'"
      ],
      "execution_count": null,
      "outputs": []
    },
    {
      "cell_type": "code",
      "metadata": {
        "id": "AXo7qOUs6H9d",
        "colab_type": "code",
        "colab": {
          "base_uri": "https://localhost:8080/",
          "height": 34
        },
        "outputId": "3f06b73b-a01b-449a-caf3-528a92f2d995"
      },
      "source": [
        "import shutil\n",
        "shutil.copyfile('/content/drive/My Drive/tweet-sentiment-extraction/data/roberta-large-merges.txt', '/tmp/roberta-large-merges.txt')\n",
        "shutil.copyfile('/content/drive/My Drive/tweet-sentiment-extraction/data/roberta-large-vocab.json', '/tmp/roberta-large-vocab.json')\n",
        "shutil.copyfile('/content/drive/My Drive/tweet-sentiment-extraction/data/roberta-base-config.json', '/tmp/roberta-base-config.json')\n"
      ],
      "execution_count": null,
      "outputs": [
        {
          "output_type": "execute_result",
          "data": {
            "text/plain": [
              "'/tmp/roberta-base-config.json'"
            ]
          },
          "metadata": {
            "tags": []
          },
          "execution_count": 6
        }
      ]
    },
    {
      "cell_type": "markdown",
      "metadata": {
        "id": "JI0yX860k1bC",
        "colab_type": "text"
      },
      "source": [
        "# Data Loader"
      ]
    },
    {
      "cell_type": "code",
      "metadata": {
        "id": "kVguZhoqk1bD",
        "colab_type": "code",
        "colab": {}
      },
      "source": [
        "class TweetDataset(torch.utils.data.Dataset):\n",
        "    def __init__(self, df, max_len=96):\n",
        "        self.df = df\n",
        "        self.max_len = max_len\n",
        "        self.labeled = 'selected_text' in df\n",
        "        self.tokenizer = tokenizers.ByteLevelBPETokenizer(\n",
        "            vocab_file='/tmp/roberta-large-vocab.json', \n",
        "            merges_file='/tmp/roberta-large-merges.txt', \n",
        "            lowercase=True,\n",
        "            add_prefix_space=True)\n",
        "\n",
        "    def __getitem__(self, index):\n",
        "        data = {}\n",
        "        row = self.df.iloc[index]\n",
        "        \n",
        "        ids, masks, tweet, offsets,row_id = self.get_input_data(row)\n",
        "\n",
        "        data['ids'] = ids\n",
        "        data['masks'] = masks\n",
        "        data['tweet'] = tweet\n",
        "        data['offsets'] = offsets\n",
        "        data['row_id'] = row_id\n",
        "        \n",
        "        if self.labeled:\n",
        "            #print(\"I came here\")\n",
        "            start_idx, end_idx = self.get_target_idx(row, tweet, offsets)\n",
        "            data['start_idx'] = start_idx\n",
        "            data['end_idx'] = end_idx\n",
        "        \n",
        "        return data\n",
        "\n",
        "    def __len__(self):\n",
        "        return len(self.df)\n",
        "    \n",
        "    def get_input_data(self, row):\n",
        "        tweet = \" \" + \" \".join(row.text.lower().split())\n",
        "        encoding = self.tokenizer.encode(tweet)\n",
        "        sentiment_id = self.tokenizer.encode(row.sentiment).ids\n",
        "        ids = [0] + sentiment_id + [2, 2] + encoding.ids + [2]\n",
        "        offsets = [(0, 0)] * 4 + encoding.offsets + [(0, 0)]\n",
        "                \n",
        "        pad_len = self.max_len - len(ids)\n",
        "        if pad_len > 0:\n",
        "            ids += [1] * pad_len\n",
        "            offsets += [(0, 0)] * pad_len\n",
        "        \n",
        "        ids = torch.tensor(ids)\n",
        "        masks = torch.where(ids != 1, torch.tensor(1), torch.tensor(0))\n",
        "        offsets = torch.tensor(offsets)\n",
        "        \n",
        "        return ids, masks, tweet, offsets, row.idx\n",
        "        \n",
        "    def get_target_idx(self, row, tweet, offsets):\n",
        "        selected_text = \" \" +  \" \".join(row.selected_text.lower().split())\n",
        "        #print(selected_text)\n",
        "        #print(row.idx)\n",
        "\n",
        "        len_st = len(selected_text) - 1\n",
        "        idx0 = None\n",
        "        idx1 = None\n",
        "\n",
        "        for ind in (i for i, e in enumerate(tweet) if e == selected_text[1]):\n",
        "            if \" \" + tweet[ind: ind+len_st] == selected_text:\n",
        "                idx0 = ind\n",
        "                idx1 = ind + len_st - 1\n",
        "                break\n",
        "\n",
        "        char_targets = [0] * len(tweet)\n",
        "        if idx0 != None and idx1 != None:\n",
        "            for ct in range(idx0, idx1 + 1):\n",
        "                char_targets[ct] = 1\n",
        "\n",
        "        target_idx = []\n",
        "        for j, (offset1, offset2) in enumerate(offsets):\n",
        "            if sum(char_targets[offset1: offset2]) > 0:\n",
        "                target_idx.append(j)\n",
        "\n",
        "        start_idx = target_idx[0]\n",
        "        end_idx = target_idx[-1]\n",
        "        \n",
        "        return start_idx, end_idx\n",
        "        \n",
        "def get_train_val_loaders(df, train_idx, val_idx, batch_size=8):\n",
        "    train_df = df.iloc[train_idx]\n",
        "    val_df = df.iloc[val_idx]\n",
        "\n",
        "    train_loader = torch.utils.data.DataLoader(\n",
        "        TweetDataset(train_df), \n",
        "        batch_size=batch_size, \n",
        "        shuffle=True, \n",
        "        num_workers=2,\n",
        "        drop_last=True)\n",
        "\n",
        "    val_loader = torch.utils.data.DataLoader(\n",
        "        TweetDataset(val_df), \n",
        "        batch_size=batch_size, \n",
        "        shuffle=False, \n",
        "        num_workers=2)\n",
        "\n",
        "    dataloaders_dict = {\"train\": train_loader, \"val\": val_loader}\n",
        "\n",
        "    return dataloaders_dict\n",
        "\n",
        "def get_test_loader(df, batch_size=32):\n",
        "    loader = torch.utils.data.DataLoader(\n",
        "        TweetDataset(df), \n",
        "        batch_size=batch_size, \n",
        "        shuffle=False, \n",
        "        num_workers=2)    \n",
        "    return loader"
      ],
      "execution_count": null,
      "outputs": []
    },
    {
      "cell_type": "markdown",
      "metadata": {
        "id": "yzORv-V8k1bF",
        "colab_type": "text"
      },
      "source": [
        "# Model"
      ]
    },
    {
      "cell_type": "code",
      "metadata": {
        "id": "KCxgXZfck1bG",
        "colab_type": "code",
        "colab": {}
      },
      "source": [
        "class TweetModel(nn.Module):\n",
        "    def __init__(self):\n",
        "        super(TweetModel, self).__init__()\n",
        "        \n",
        "        config = RobertaConfig.from_pretrained(\n",
        "            '/tmp/roberta-base-config.json', output_hidden_states=True)    \n",
        "        self.roberta = RobertaModel.from_pretrained(\n",
        "            '/tmp/pytorch_model.bin', config=config)\n",
        "        self.dropout = nn.Dropout(0.5)\n",
        "        self.fc = nn.Linear(config.hidden_size, 2)\n",
        "        nn.init.normal_(self.fc.weight, std=0.02)\n",
        "        nn.init.normal_(self.fc.bias, 0)\n",
        "\n",
        "    def forward(self, input_ids, attention_mask):\n",
        "        x, _, hs = self.roberta(input_ids, attention_mask)\n",
        "         \n",
        "        #x = torch.stack([hs[-1], hs[-2], hs[-3], hs[-4]])\n",
        "        #x = torch.mean(x, 0)\n",
        "        x = self.dropout(x)\n",
        "        x = self.fc(x)\n",
        "        start_logits, end_logits = x.split(1, dim=-1)\n",
        "        start_logits = start_logits.squeeze(-1)\n",
        "        end_logits = end_logits.squeeze(-1)\n",
        "                \n",
        "        return start_logits, end_logits"
      ],
      "execution_count": null,
      "outputs": []
    },
    {
      "cell_type": "markdown",
      "metadata": {
        "id": "uwHYGgeGk1bI",
        "colab_type": "text"
      },
      "source": [
        "# Loss Function"
      ]
    },
    {
      "cell_type": "code",
      "metadata": {
        "id": "W7h1A8crk1bJ",
        "colab_type": "code",
        "colab": {}
      },
      "source": [
        "def loss_fn(start_logits, end_logits, start_positions, end_positions):\n",
        "    ce_loss = nn.CrossEntropyLoss()\n",
        "    start_loss = ce_loss(start_logits, start_positions)\n",
        "    end_loss = ce_loss(end_logits, end_positions)    \n",
        "    total_loss = start_loss + end_loss\n",
        "    return total_loss"
      ],
      "execution_count": null,
      "outputs": []
    },
    {
      "cell_type": "markdown",
      "metadata": {
        "id": "L_wqVZF1k1bL",
        "colab_type": "text"
      },
      "source": [
        "# Evaluation Function"
      ]
    },
    {
      "cell_type": "code",
      "metadata": {
        "id": "-6Sz7INHk1bM",
        "colab_type": "code",
        "colab": {}
      },
      "source": [
        "def get_selected_text(text, start_idx, end_idx, offsets):\n",
        "    selected_text = \"\"\n",
        "    for ix in range(start_idx, end_idx + 1):\n",
        "        selected_text += text[offsets[ix][0]: offsets[ix][1]]\n",
        "        if (ix + 1) < len(offsets) and offsets[ix][1] < offsets[ix + 1][0]:\n",
        "            selected_text += \" \"\n",
        "    return selected_text\n",
        "\n",
        "def jaccard(str1, str2): \n",
        "    a = set(str1.lower().split()) \n",
        "    b = set(str2.lower().split())\n",
        "    c = a.intersection(b)\n",
        "    return float(len(c)) / (len(a) + len(b) - len(c))\n",
        "\n",
        "def compute_jaccard_score(text, start_idx, end_idx, start_logits, end_logits, offsets):\n",
        "    start_pred = np.argmax(start_logits)\n",
        "    end_pred = np.argmax(end_logits)\n",
        "    if start_pred > end_pred:\n",
        "        pred = text\n",
        "    else:\n",
        "        pred = get_selected_text(text, start_pred, end_pred, offsets)\n",
        "        \n",
        "    true = get_selected_text(text, start_idx, end_idx, offsets)\n",
        "    \n",
        "    return jaccard(true, pred)"
      ],
      "execution_count": null,
      "outputs": []
    },
    {
      "cell_type": "markdown",
      "metadata": {
        "id": "MMLoBn1bk1bP",
        "colab_type": "text"
      },
      "source": [
        "# Training Function"
      ]
    },
    {
      "cell_type": "code",
      "metadata": {
        "id": "dqgKSirbk1bP",
        "colab_type": "code",
        "colab": {}
      },
      "source": [
        "def train_model(model, dataloaders_dict, criterion, optimizer, num_epochs, filename):\n",
        "    model.cuda()\n",
        "\n",
        "    for epoch in range(num_epochs):\n",
        "        for phase in ['train', 'val']:\n",
        "            if phase == 'train':\n",
        "                model.train()\n",
        "            else:\n",
        "                model.eval()\n",
        "\n",
        "            epoch_loss = 0.0\n",
        "            epoch_jaccard = 0.0\n",
        "            \n",
        "            for data in (dataloaders_dict[phase]):\n",
        "                ids = data['ids'].cuda()\n",
        "                masks = data['masks'].cuda()\n",
        "                tweet = data['tweet']\n",
        "                offsets = data['offsets'].numpy()\n",
        "                start_idx = data['start_idx'].cuda()\n",
        "                end_idx = data['end_idx'].cuda()\n",
        "\n",
        "                optimizer.zero_grad()\n",
        "\n",
        "                with torch.set_grad_enabled(phase == 'train'):\n",
        "\n",
        "                    start_logits, end_logits = model(ids, masks)\n",
        "\n",
        "                    loss = criterion(start_logits, end_logits, start_idx, end_idx)\n",
        "                    \n",
        "                    if phase == 'train':\n",
        "                        loss.backward()\n",
        "                        optimizer.step()\n",
        "\n",
        "                    epoch_loss += loss.item() * len(ids)\n",
        "                    \n",
        "                    start_idx = start_idx.cpu().detach().numpy()\n",
        "                    end_idx = end_idx.cpu().detach().numpy()\n",
        "                    start_logits = torch.softmax(start_logits, dim=1).cpu().detach().numpy()\n",
        "                    end_logits = torch.softmax(end_logits, dim=1).cpu().detach().numpy()\n",
        "                    \n",
        "                    for i in range(len(ids)):                        \n",
        "                        jaccard_score = compute_jaccard_score(\n",
        "                            tweet[i],\n",
        "                            start_idx[i],\n",
        "                            end_idx[i],\n",
        "                            start_logits[i], \n",
        "                            end_logits[i], \n",
        "                            offsets[i])\n",
        "                        epoch_jaccard += jaccard_score\n",
        "                    \n",
        "            epoch_loss = epoch_loss / len(dataloaders_dict[phase].dataset)\n",
        "            epoch_jaccard = epoch_jaccard / len(dataloaders_dict[phase].dataset)\n",
        "            \n",
        "            print('Epoch {}/{} | {:^5} | Loss: {:.4f} | Jaccard: {:.4f}'.format(\n",
        "                epoch + 1, num_epochs, phase, epoch_loss, epoch_jaccard))\n",
        "    \n",
        "    torch.save(model.state_dict(), filename)"
      ],
      "execution_count": null,
      "outputs": []
    },
    {
      "cell_type": "markdown",
      "metadata": {
        "id": "zM_sg0ynk1bS",
        "colab_type": "text"
      },
      "source": [
        "# Training"
      ]
    },
    {
      "cell_type": "code",
      "metadata": {
        "id": "PPK-f4Elk1bS",
        "colab_type": "code",
        "colab": {}
      },
      "source": [
        "num_epochs = 3\n",
        "batch_size = 32\n",
        "skf = StratifiedKFold(n_splits=10, shuffle=True, random_state=seed)"
      ],
      "execution_count": null,
      "outputs": []
    },
    {
      "cell_type": "code",
      "metadata": {
        "id": "BQazW_MDk1bU",
        "colab_type": "code",
        "colab": {
          "base_uri": "https://localhost:8080/",
          "height": 1000
        },
        "outputId": "7a7fb89f-8d56-4041-e82d-b848942e6454"
      },
      "source": [
        "train_df = pd.read_csv(data_folder + '/train_transform.csv')\n",
        "train_df['text'] = train_df['text'].astype(str)\n",
        "train_df['selected_text'] = train_df['selected_text'].astype(str)\n",
        "\n",
        "for fold, (train_idx, val_idx) in enumerate(skf.split(train_df, train_df.sentiment), start=1): \n",
        "    print(f'Fold: {fold}')\n",
        "\n",
        "    model = TweetModel()\n",
        "    optimizer = optim.AdamW(model.parameters(), lr=3e-5, betas=(0.9, 0.999))\n",
        "    criterion = loss_fn    \n",
        "    dataloaders_dict = get_train_val_loaders(train_df, train_idx, val_idx, batch_size)\n",
        "    #print(dataloaders_dict)\n",
        "\n",
        "\n",
        "    train_model(\n",
        "        model, \n",
        "        dataloaders_dict,\n",
        "        criterion, \n",
        "        optimizer, \n",
        "        num_epochs,\n",
        "        roberta_folder + f'roberta_fold{fold}.pth')"
      ],
      "execution_count": null,
      "outputs": [
        {
          "output_type": "stream",
          "text": [
            "Fold: 1\n",
            "Epoch 1/3 | train | Loss: 2.0765 | Jaccard: 0.6781\n",
            "Epoch 1/3 |  val  | Loss: 1.6635 | Jaccard: 0.7248\n",
            "Epoch 2/3 | train | Loss: 1.5804 | Jaccard: 0.7290\n",
            "Epoch 2/3 |  val  | Loss: 1.6072 | Jaccard: 0.7266\n",
            "Epoch 3/3 | train | Loss: 1.4285 | Jaccard: 0.7461\n",
            "Epoch 3/3 |  val  | Loss: 1.6994 | Jaccard: 0.7210\n",
            "Fold: 2\n",
            "Epoch 1/3 | train | Loss: 2.0976 | Jaccard: 0.6756\n",
            "Epoch 1/3 |  val  | Loss: 1.6947 | Jaccard: 0.7236\n",
            "Epoch 2/3 | train | Loss: 1.5977 | Jaccard: 0.7244\n",
            "Epoch 2/3 |  val  | Loss: 1.6756 | Jaccard: 0.7214\n",
            "Epoch 3/3 | train | Loss: 1.4507 | Jaccard: 0.7454\n",
            "Epoch 3/3 |  val  | Loss: 1.7187 | Jaccard: 0.7182\n",
            "Fold: 3\n",
            "Epoch 1/3 | train | Loss: 2.1206 | Jaccard: 0.6748\n",
            "Epoch 1/3 |  val  | Loss: 1.6925 | Jaccard: 0.7253\n",
            "Epoch 2/3 | train | Loss: 1.6511 | Jaccard: 0.7193\n",
            "Epoch 2/3 |  val  | Loss: 1.6235 | Jaccard: 0.7286\n",
            "Epoch 3/3 | train | Loss: 1.4495 | Jaccard: 0.7457\n",
            "Epoch 3/3 |  val  | Loss: 1.6343 | Jaccard: 0.7309\n",
            "Fold: 4\n",
            "Epoch 1/3 | train | Loss: 2.1744 | Jaccard: 0.6682\n",
            "Epoch 1/3 |  val  | Loss: 1.5792 | Jaccard: 0.7283\n",
            "Epoch 2/3 | train | Loss: 1.6033 | Jaccard: 0.7201\n",
            "Epoch 2/3 |  val  | Loss: 1.5424 | Jaccard: 0.7370\n",
            "Epoch 3/3 | train | Loss: 1.4613 | Jaccard: 0.7419\n",
            "Epoch 3/3 |  val  | Loss: 1.5712 | Jaccard: 0.7327\n",
            "Fold: 5\n",
            "Epoch 1/3 | train | Loss: 2.1036 | Jaccard: 0.6748\n",
            "Epoch 1/3 |  val  | Loss: 1.6292 | Jaccard: 0.7271\n",
            "Epoch 2/3 | train | Loss: 1.5893 | Jaccard: 0.7285\n",
            "Epoch 2/3 |  val  | Loss: 1.6115 | Jaccard: 0.7248\n",
            "Epoch 3/3 | train | Loss: 1.4386 | Jaccard: 0.7453\n",
            "Epoch 3/3 |  val  | Loss: 1.6619 | Jaccard: 0.7315\n",
            "Fold: 6\n",
            "Epoch 1/3 | train | Loss: 2.0995 | Jaccard: 0.6766\n",
            "Epoch 1/3 |  val  | Loss: 1.6282 | Jaccard: 0.7200\n",
            "Epoch 2/3 | train | Loss: 1.5920 | Jaccard: 0.7237\n",
            "Epoch 2/3 |  val  | Loss: 1.6001 | Jaccard: 0.7248\n",
            "Epoch 3/3 | train | Loss: 1.4469 | Jaccard: 0.7446\n",
            "Epoch 3/3 |  val  | Loss: 1.6144 | Jaccard: 0.7342\n",
            "Fold: 7\n",
            "Epoch 1/3 | train | Loss: 2.1377 | Jaccard: 0.6757\n",
            "Epoch 1/3 |  val  | Loss: 1.6220 | Jaccard: 0.7277\n",
            "Epoch 2/3 | train | Loss: 1.6145 | Jaccard: 0.7232\n",
            "Epoch 2/3 |  val  | Loss: 1.5531 | Jaccard: 0.7310\n",
            "Epoch 3/3 | train | Loss: 1.4641 | Jaccard: 0.7418\n",
            "Epoch 3/3 |  val  | Loss: 1.6012 | Jaccard: 0.7202\n",
            "Fold: 8\n",
            "Epoch 1/3 | train | Loss: 2.0967 | Jaccard: 0.6748\n",
            "Epoch 1/3 |  val  | Loss: 1.6064 | Jaccard: 0.7226\n",
            "Epoch 2/3 | train | Loss: 1.5909 | Jaccard: 0.7265\n",
            "Epoch 2/3 |  val  | Loss: 1.6090 | Jaccard: 0.7259\n",
            "Epoch 3/3 | train | Loss: 1.4819 | Jaccard: 0.7413\n",
            "Epoch 3/3 |  val  | Loss: 1.6017 | Jaccard: 0.7291\n",
            "Fold: 9\n",
            "Epoch 1/3 | train | Loss: 2.0771 | Jaccard: 0.6808\n",
            "Epoch 1/3 |  val  | Loss: 1.6525 | Jaccard: 0.7260\n",
            "Epoch 2/3 | train | Loss: 1.5874 | Jaccard: 0.7270\n",
            "Epoch 2/3 |  val  | Loss: 1.6251 | Jaccard: 0.7232\n",
            "Epoch 3/3 | train | Loss: 1.4381 | Jaccard: 0.7445\n",
            "Epoch 3/3 |  val  | Loss: 1.7042 | Jaccard: 0.7249\n",
            "Fold: 10\n",
            "Epoch 1/3 | train | Loss: 2.1222 | Jaccard: 0.6741\n",
            "Epoch 1/3 |  val  | Loss: 1.6212 | Jaccard: 0.7049\n",
            "Epoch 2/3 | train | Loss: 1.5994 | Jaccard: 0.7256\n",
            "Epoch 2/3 |  val  | Loss: 1.5962 | Jaccard: 0.7166\n",
            "Epoch 3/3 | train | Loss: 1.4526 | Jaccard: 0.7418\n",
            "Epoch 3/3 |  val  | Loss: 1.6494 | Jaccard: 0.7189\n"
          ],
          "name": "stdout"
        }
      ]
    },
    {
      "cell_type": "code",
      "metadata": {
        "id": "QoRqsLZOu7C-",
        "colab_type": "code",
        "colab": {
          "base_uri": "https://localhost:8080/",
          "height": 204
        },
        "outputId": "2ec07ed9-267b-458d-f6b1-0e1a564fe26b"
      },
      "source": [
        "train_df.head()"
      ],
      "execution_count": null,
      "outputs": [
        {
          "output_type": "execute_result",
          "data": {
            "text/html": [
              "<div>\n",
              "<style scoped>\n",
              "    .dataframe tbody tr th:only-of-type {\n",
              "        vertical-align: middle;\n",
              "    }\n",
              "\n",
              "    .dataframe tbody tr th {\n",
              "        vertical-align: top;\n",
              "    }\n",
              "\n",
              "    .dataframe thead th {\n",
              "        text-align: right;\n",
              "    }\n",
              "</style>\n",
              "<table border=\"1\" class=\"dataframe\">\n",
              "  <thead>\n",
              "    <tr style=\"text-align: right;\">\n",
              "      <th></th>\n",
              "      <th>text</th>\n",
              "      <th>selected_text</th>\n",
              "      <th>idx</th>\n",
              "      <th>sentiment</th>\n",
              "    </tr>\n",
              "  </thead>\n",
              "  <tbody>\n",
              "    <tr>\n",
              "      <th>0</th>\n",
              "      <td>-PRON- ` would have respond , if -PRON- be go</td>\n",
              "      <td>-PRON- ` would have respond , if -PRON- be go</td>\n",
              "      <td>0</td>\n",
              "      <td>neutral</td>\n",
              "    </tr>\n",
              "    <tr>\n",
              "      <th>1</th>\n",
              "      <td>sooo sad -PRON- will miss -PRON- here in san d...</td>\n",
              "      <td>sooo sad</td>\n",
              "      <td>1</td>\n",
              "      <td>negative</td>\n",
              "    </tr>\n",
              "    <tr>\n",
              "      <th>2</th>\n",
              "      <td>-PRON- boss be bullying -PRON- ...</td>\n",
              "      <td>bullying -PRON-</td>\n",
              "      <td>2</td>\n",
              "      <td>negative</td>\n",
              "    </tr>\n",
              "    <tr>\n",
              "      <th>3</th>\n",
              "      <td>what interview ! leave -PRON- alone</td>\n",
              "      <td>leave -PRON- alone</td>\n",
              "      <td>3</td>\n",
              "      <td>negative</td>\n",
              "    </tr>\n",
              "    <tr>\n",
              "      <th>4</th>\n",
              "      <td>son of ****, why couldn ` t -PRON- put -PRON- ...</td>\n",
              "      <td>son of ****,</td>\n",
              "      <td>4</td>\n",
              "      <td>negative</td>\n",
              "    </tr>\n",
              "  </tbody>\n",
              "</table>\n",
              "</div>"
            ],
            "text/plain": [
              "                                                text  ... sentiment\n",
              "0      -PRON- ` would have respond , if -PRON- be go  ...   neutral\n",
              "1  sooo sad -PRON- will miss -PRON- here in san d...  ...  negative\n",
              "2                 -PRON- boss be bullying -PRON- ...  ...  negative\n",
              "3                what interview ! leave -PRON- alone  ...  negative\n",
              "4  son of ****, why couldn ` t -PRON- put -PRON- ...  ...  negative\n",
              "\n",
              "[5 rows x 4 columns]"
            ]
          },
          "metadata": {
            "tags": []
          },
          "execution_count": 18
        }
      ]
    },
    {
      "cell_type": "markdown",
      "metadata": {
        "id": "mSthskgKk1bX",
        "colab_type": "text"
      },
      "source": [
        "# Inference"
      ]
    },
    {
      "cell_type": "code",
      "metadata": {
        "id": "1PiUqEfVk1bY",
        "colab_type": "code",
        "colab": {
          "base_uri": "https://localhost:8080/",
          "height": 51
        },
        "outputId": "6d1227a3-2a36-4a8b-92cf-4428cd40b75f"
      },
      "source": [
        "%%time\n",
        "\n",
        "test_df = pd.read_csv(data_folder + '/test.csv')\n",
        "test_df['text'] = test_df['text'].astype(str)\n",
        "test_df['idx'] = test_df.index.copy()\n",
        "test_loader = get_test_loader(test_df)\n",
        "predictions = []\n",
        "models = []\n",
        "for fold in range(skf.n_splits):\n",
        "    model = TweetModel()\n",
        "    model.cuda()\n",
        "    model.load_state_dict(torch.load(roberta_folder + f'roberta_fold{fold+1}.pth'))\n",
        "    model.eval()\n",
        "    models.append(model)\n",
        "\n",
        "for data in test_loader:\n",
        "    ids = data['ids'].cuda()\n",
        "    masks = data['masks'].cuda()\n",
        "    tweet = data['tweet']\n",
        "    offsets = data['offsets'].numpy()\n",
        "\n",
        "    start_logits = []\n",
        "    end_logits = []\n",
        "    for model in models:\n",
        "        with torch.no_grad():\n",
        "            output = model(ids, masks)\n",
        "            start_logits.append(torch.softmax(output[0], dim=1).cpu().detach().numpy())\n",
        "            end_logits.append(torch.softmax(output[1], dim=1).cpu().detach().numpy())\n",
        "\n",
        "    start_logits = np.mean(start_logits, axis=0)\n",
        "    end_logits = np.mean(end_logits, axis=0)\n",
        "    for i in range(len(ids)):    \n",
        "        start_pred = np.argmax(start_logits[i])\n",
        "        end_pred = np.argmax(end_logits[i])\n",
        "        if start_pred > end_pred:\n",
        "            pred = tweet[i]\n",
        "        else:\n",
        "            pred = get_selected_text(tweet[i], start_pred, end_pred, offsets[i])\n",
        "        predictions.append(pred)"
      ],
      "execution_count": null,
      "outputs": [
        {
          "output_type": "stream",
          "text": [
            "CPU times: user 1min 58s, sys: 42.8 s, total: 2min 41s\n",
            "Wall time: 2min 45s\n"
          ],
          "name": "stdout"
        }
      ]
    },
    {
      "cell_type": "markdown",
      "metadata": {
        "id": "Wz1LmMaIk1ba",
        "colab_type": "text"
      },
      "source": [
        "# Submission"
      ]
    },
    {
      "cell_type": "code",
      "metadata": {
        "id": "erQn4rsTk1bb",
        "colab_type": "code",
        "colab": {
          "base_uri": "https://localhost:8080/",
          "height": 204
        },
        "outputId": "bf62a907-fed2-4389-89be-765fe63754d8"
      },
      "source": [
        "#sub_df = pd.read_csv('../input/tweet-sentiment-extraction/sample_submission.csv')\n",
        "sub_df = pd.read_csv(data_folder +\"/sample_submission.csv\")\n",
        "sub_df['selected_text'] = predictions\n",
        "sub_df['selected_text'] = sub_df['selected_text'].apply(lambda x: x.replace('!!!!', '!') if len(x.split())==1 else x)\n",
        "sub_df['selected_text'] = sub_df['selected_text'].apply(lambda x: x.replace('..', '.') if len(x.split())==1 else x)\n",
        "sub_df['selected_text'] = sub_df['selected_text'].apply(lambda x: x.replace('...', '.') if len(x.split())==1 else x)\n",
        "sub_df.to_csv('submission.csv', index=False)\n",
        "sub_df.head()"
      ],
      "execution_count": null,
      "outputs": [
        {
          "output_type": "execute_result",
          "data": {
            "text/html": [
              "<div>\n",
              "<style scoped>\n",
              "    .dataframe tbody tr th:only-of-type {\n",
              "        vertical-align: middle;\n",
              "    }\n",
              "\n",
              "    .dataframe tbody tr th {\n",
              "        vertical-align: top;\n",
              "    }\n",
              "\n",
              "    .dataframe thead th {\n",
              "        text-align: right;\n",
              "    }\n",
              "</style>\n",
              "<table border=\"1\" class=\"dataframe\">\n",
              "  <thead>\n",
              "    <tr style=\"text-align: right;\">\n",
              "      <th></th>\n",
              "      <th>textID</th>\n",
              "      <th>selected_text</th>\n",
              "    </tr>\n",
              "  </thead>\n",
              "  <tbody>\n",
              "    <tr>\n",
              "      <th>0</th>\n",
              "      <td>f87dea47db</td>\n",
              "      <td>last session of the day</td>\n",
              "    </tr>\n",
              "    <tr>\n",
              "      <th>1</th>\n",
              "      <td>96d74cb729</td>\n",
              "      <td>exciting</td>\n",
              "    </tr>\n",
              "    <tr>\n",
              "      <th>2</th>\n",
              "      <td>eee518ae67</td>\n",
              "      <td>such a shame!</td>\n",
              "    </tr>\n",
              "    <tr>\n",
              "      <th>3</th>\n",
              "      <td>01082688c6</td>\n",
              "      <td>happy bday!</td>\n",
              "    </tr>\n",
              "    <tr>\n",
              "      <th>4</th>\n",
              "      <td>33987a8ee5</td>\n",
              "      <td>i like it!!</td>\n",
              "    </tr>\n",
              "  </tbody>\n",
              "</table>\n",
              "</div>"
            ],
            "text/plain": [
              "       textID             selected_text\n",
              "0  f87dea47db   last session of the day\n",
              "1  96d74cb729                  exciting\n",
              "2  eee518ae67             such a shame!\n",
              "3  01082688c6               happy bday!\n",
              "4  33987a8ee5               i like it!!"
            ]
          },
          "metadata": {
            "tags": []
          },
          "execution_count": 22
        }
      ]
    }
  ]
}