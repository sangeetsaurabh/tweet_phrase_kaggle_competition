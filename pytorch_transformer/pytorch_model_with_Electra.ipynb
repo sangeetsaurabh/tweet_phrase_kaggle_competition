{
  "nbformat": 4,
  "nbformat_minor": 0,
  "metadata": {
    "kernelspec": {
      "display_name": "Python 3",
      "language": "python",
      "name": "python3"
    },
    "language_info": {
      "codemirror_mode": {
        "name": "ipython",
        "version": 3
      },
      "file_extension": ".py",
      "mimetype": "text/x-python",
      "name": "python",
      "nbconvert_exporter": "python",
      "pygments_lexer": "ipython3",
      "version": "3.7.6"
    },
    "colab": {
      "name": "pytorch-model-with-Electra.ipynb",
      "provenance": [],
      "machine_shape": "hm",
      "include_colab_link": true
    },
    "accelerator": "GPU",
    "widgets": {
      "application/vnd.jupyter.widget-state+json": {
        "cf42ac0071e14e19ba0ac9863632a00f": {
          "model_module": "@jupyter-widgets/controls",
          "model_name": "HBoxModel",
          "state": {
            "_view_name": "HBoxView",
            "_dom_classes": [],
            "_model_name": "HBoxModel",
            "_view_module": "@jupyter-widgets/controls",
            "_model_module_version": "1.5.0",
            "_view_count": null,
            "_view_module_version": "1.5.0",
            "box_style": "",
            "layout": "IPY_MODEL_60a84688e09340449105920a30547f85",
            "_model_module": "@jupyter-widgets/controls",
            "children": [
              "IPY_MODEL_0e26a599305a4a25a2cf1c91ddf4a95f",
              "IPY_MODEL_1a62434794cd4cd6947aac0a32f8b9f5"
            ]
          }
        },
        "60a84688e09340449105920a30547f85": {
          "model_module": "@jupyter-widgets/base",
          "model_name": "LayoutModel",
          "state": {
            "_view_name": "LayoutView",
            "grid_template_rows": null,
            "right": null,
            "justify_content": null,
            "_view_module": "@jupyter-widgets/base",
            "overflow": null,
            "_model_module_version": "1.2.0",
            "_view_count": null,
            "flex_flow": null,
            "width": null,
            "min_width": null,
            "border": null,
            "align_items": null,
            "bottom": null,
            "_model_module": "@jupyter-widgets/base",
            "top": null,
            "grid_column": null,
            "overflow_y": null,
            "overflow_x": null,
            "grid_auto_flow": null,
            "grid_area": null,
            "grid_template_columns": null,
            "flex": null,
            "_model_name": "LayoutModel",
            "justify_items": null,
            "grid_row": null,
            "max_height": null,
            "align_content": null,
            "visibility": null,
            "align_self": null,
            "height": null,
            "min_height": null,
            "padding": null,
            "grid_auto_rows": null,
            "grid_gap": null,
            "max_width": null,
            "order": null,
            "_view_module_version": "1.2.0",
            "grid_template_areas": null,
            "object_position": null,
            "object_fit": null,
            "grid_auto_columns": null,
            "margin": null,
            "display": null,
            "left": null
          }
        },
        "0e26a599305a4a25a2cf1c91ddf4a95f": {
          "model_module": "@jupyter-widgets/controls",
          "model_name": "FloatProgressModel",
          "state": {
            "_view_name": "ProgressView",
            "style": "IPY_MODEL_6affaf1d0b434328aa2cdb99e8978b9a",
            "_dom_classes": [],
            "description": "Downloading: 100%",
            "_model_name": "FloatProgressModel",
            "bar_style": "success",
            "max": 135011821,
            "_view_module": "@jupyter-widgets/controls",
            "_model_module_version": "1.5.0",
            "value": 135011821,
            "_view_count": null,
            "_view_module_version": "1.5.0",
            "orientation": "horizontal",
            "min": 0,
            "description_tooltip": null,
            "_model_module": "@jupyter-widgets/controls",
            "layout": "IPY_MODEL_7945420f43884dc1a5e998457b052ab3"
          }
        },
        "1a62434794cd4cd6947aac0a32f8b9f5": {
          "model_module": "@jupyter-widgets/controls",
          "model_name": "HTMLModel",
          "state": {
            "_view_name": "HTMLView",
            "style": "IPY_MODEL_4a0517ce8cc14c6394d56792ed89fdec",
            "_dom_classes": [],
            "description": "",
            "_model_name": "HTMLModel",
            "placeholder": "​",
            "_view_module": "@jupyter-widgets/controls",
            "_model_module_version": "1.5.0",
            "value": " 135M/135M [00:03&lt;00:00, 44.6MB/s]",
            "_view_count": null,
            "_view_module_version": "1.5.0",
            "description_tooltip": null,
            "_model_module": "@jupyter-widgets/controls",
            "layout": "IPY_MODEL_b0809231bddc45e2bda7996ef18dfda1"
          }
        },
        "6affaf1d0b434328aa2cdb99e8978b9a": {
          "model_module": "@jupyter-widgets/controls",
          "model_name": "ProgressStyleModel",
          "state": {
            "_view_name": "StyleView",
            "_model_name": "ProgressStyleModel",
            "description_width": "initial",
            "_view_module": "@jupyter-widgets/base",
            "_model_module_version": "1.5.0",
            "_view_count": null,
            "_view_module_version": "1.2.0",
            "bar_color": null,
            "_model_module": "@jupyter-widgets/controls"
          }
        },
        "7945420f43884dc1a5e998457b052ab3": {
          "model_module": "@jupyter-widgets/base",
          "model_name": "LayoutModel",
          "state": {
            "_view_name": "LayoutView",
            "grid_template_rows": null,
            "right": null,
            "justify_content": null,
            "_view_module": "@jupyter-widgets/base",
            "overflow": null,
            "_model_module_version": "1.2.0",
            "_view_count": null,
            "flex_flow": null,
            "width": null,
            "min_width": null,
            "border": null,
            "align_items": null,
            "bottom": null,
            "_model_module": "@jupyter-widgets/base",
            "top": null,
            "grid_column": null,
            "overflow_y": null,
            "overflow_x": null,
            "grid_auto_flow": null,
            "grid_area": null,
            "grid_template_columns": null,
            "flex": null,
            "_model_name": "LayoutModel",
            "justify_items": null,
            "grid_row": null,
            "max_height": null,
            "align_content": null,
            "visibility": null,
            "align_self": null,
            "height": null,
            "min_height": null,
            "padding": null,
            "grid_auto_rows": null,
            "grid_gap": null,
            "max_width": null,
            "order": null,
            "_view_module_version": "1.2.0",
            "grid_template_areas": null,
            "object_position": null,
            "object_fit": null,
            "grid_auto_columns": null,
            "margin": null,
            "display": null,
            "left": null
          }
        },
        "4a0517ce8cc14c6394d56792ed89fdec": {
          "model_module": "@jupyter-widgets/controls",
          "model_name": "DescriptionStyleModel",
          "state": {
            "_view_name": "StyleView",
            "_model_name": "DescriptionStyleModel",
            "description_width": "",
            "_view_module": "@jupyter-widgets/base",
            "_model_module_version": "1.5.0",
            "_view_count": null,
            "_view_module_version": "1.2.0",
            "_model_module": "@jupyter-widgets/controls"
          }
        },
        "b0809231bddc45e2bda7996ef18dfda1": {
          "model_module": "@jupyter-widgets/base",
          "model_name": "LayoutModel",
          "state": {
            "_view_name": "LayoutView",
            "grid_template_rows": null,
            "right": null,
            "justify_content": null,
            "_view_module": "@jupyter-widgets/base",
            "overflow": null,
            "_model_module_version": "1.2.0",
            "_view_count": null,
            "flex_flow": null,
            "width": null,
            "min_width": null,
            "border": null,
            "align_items": null,
            "bottom": null,
            "_model_module": "@jupyter-widgets/base",
            "top": null,
            "grid_column": null,
            "overflow_y": null,
            "overflow_x": null,
            "grid_auto_flow": null,
            "grid_area": null,
            "grid_template_columns": null,
            "flex": null,
            "_model_name": "LayoutModel",
            "justify_items": null,
            "grid_row": null,
            "max_height": null,
            "align_content": null,
            "visibility": null,
            "align_self": null,
            "height": null,
            "min_height": null,
            "padding": null,
            "grid_auto_rows": null,
            "grid_gap": null,
            "max_width": null,
            "order": null,
            "_view_module_version": "1.2.0",
            "grid_template_areas": null,
            "object_position": null,
            "object_fit": null,
            "grid_auto_columns": null,
            "margin": null,
            "display": null,
            "left": null
          }
        }
      }
    }
  },
  "cells": [
    {
      "cell_type": "markdown",
      "metadata": {
        "id": "view-in-github",
        "colab_type": "text"
      },
      "source": [
        "<a href=\"https://colab.research.google.com/github/sangeetsaurabh/tweet_phrase_kaggle_competition/blob/master/pytorch_transformer/pytorch_model_with_Electra.ipynb\" target=\"_parent\"><img src=\"https://colab.research.google.com/assets/colab-badge.svg\" alt=\"Open In Colab\"/></a>"
      ]
    },
    {
      "cell_type": "markdown",
      "metadata": {
        "id": "Es7MatqtZ--1",
        "colab_type": "text"
      },
      "source": [
        "#### Import all the Libraries"
      ]
    },
    {
      "cell_type": "code",
      "metadata": {
        "id": "YfZ1ZGUsaS_y",
        "colab_type": "code",
        "colab": {
          "base_uri": "https://localhost:8080/",
          "height": 122
        },
        "outputId": "09832159-91ee-4abc-e0ae-5b1ddcb51356"
      },
      "source": [
        "!pip install tokenizers"
      ],
      "execution_count": 1,
      "outputs": [
        {
          "output_type": "stream",
          "text": [
            "Collecting tokenizers\n",
            "\u001b[?25l  Downloading https://files.pythonhosted.org/packages/6b/15/1c026f3aeafd26db30cb633d9915aae666a415179afa5943263e5dbd55a6/tokenizers-0.8.0-cp36-cp36m-manylinux1_x86_64.whl (3.0MB)\n",
            "\u001b[K     |████████████████████████████████| 3.0MB 2.8MB/s \n",
            "\u001b[?25hInstalling collected packages: tokenizers\n",
            "Successfully installed tokenizers-0.8.0\n"
          ],
          "name": "stdout"
        }
      ]
    },
    {
      "cell_type": "code",
      "metadata": {
        "id": "XIPaNeNIamYQ",
        "colab_type": "code",
        "colab": {
          "base_uri": "https://localhost:8080/",
          "height": 666
        },
        "outputId": "eb8ae8aa-4715-4471-fb3a-87df13ac599c"
      },
      "source": [
        "!pip install transformers"
      ],
      "execution_count": 2,
      "outputs": [
        {
          "output_type": "stream",
          "text": [
            "Collecting transformers\n",
            "\u001b[?25l  Downloading https://files.pythonhosted.org/packages/82/25/89050e69ed53c2a3b7f8c67844b3c8339c1192612ba89a172cf85b298948/transformers-3.0.1-py3-none-any.whl (757kB)\n",
            "\u001b[K     |████████████████████████████████| 757kB 2.9MB/s \n",
            "\u001b[?25hCollecting tokenizers==0.8.0-rc4\n",
            "\u001b[?25l  Downloading https://files.pythonhosted.org/packages/e8/bd/e5abec46af977c8a1375c1dca7cb1e5b3ec392ef279067af7f6bc50491a0/tokenizers-0.8.0rc4-cp36-cp36m-manylinux1_x86_64.whl (3.0MB)\n",
            "\u001b[K     |████████████████████████████████| 3.0MB 15.8MB/s \n",
            "\u001b[?25hRequirement already satisfied: requests in /usr/local/lib/python3.6/dist-packages (from transformers) (2.23.0)\n",
            "Requirement already satisfied: tqdm>=4.27 in /usr/local/lib/python3.6/dist-packages (from transformers) (4.41.1)\n",
            "Requirement already satisfied: numpy in /usr/local/lib/python3.6/dist-packages (from transformers) (1.18.5)\n",
            "Requirement already satisfied: regex!=2019.12.17 in /usr/local/lib/python3.6/dist-packages (from transformers) (2019.12.20)\n",
            "Requirement already satisfied: packaging in /usr/local/lib/python3.6/dist-packages (from transformers) (20.4)\n",
            "Collecting sacremoses\n",
            "\u001b[?25l  Downloading https://files.pythonhosted.org/packages/7d/34/09d19aff26edcc8eb2a01bed8e98f13a1537005d31e95233fd48216eed10/sacremoses-0.0.43.tar.gz (883kB)\n",
            "\u001b[K     |████████████████████████████████| 890kB 31.6MB/s \n",
            "\u001b[?25hCollecting sentencepiece!=0.1.92\n",
            "\u001b[?25l  Downloading https://files.pythonhosted.org/packages/d4/a4/d0a884c4300004a78cca907a6ff9a5e9fe4f090f5d95ab341c53d28cbc58/sentencepiece-0.1.91-cp36-cp36m-manylinux1_x86_64.whl (1.1MB)\n",
            "\u001b[K     |████████████████████████████████| 1.1MB 47.3MB/s \n",
            "\u001b[?25hRequirement already satisfied: filelock in /usr/local/lib/python3.6/dist-packages (from transformers) (3.0.12)\n",
            "Requirement already satisfied: dataclasses; python_version < \"3.7\" in /usr/local/lib/python3.6/dist-packages (from transformers) (0.7)\n",
            "Requirement already satisfied: chardet<4,>=3.0.2 in /usr/local/lib/python3.6/dist-packages (from requests->transformers) (3.0.4)\n",
            "Requirement already satisfied: idna<3,>=2.5 in /usr/local/lib/python3.6/dist-packages (from requests->transformers) (2.9)\n",
            "Requirement already satisfied: certifi>=2017.4.17 in /usr/local/lib/python3.6/dist-packages (from requests->transformers) (2020.6.20)\n",
            "Requirement already satisfied: urllib3!=1.25.0,!=1.25.1,<1.26,>=1.21.1 in /usr/local/lib/python3.6/dist-packages (from requests->transformers) (1.24.3)\n",
            "Requirement already satisfied: pyparsing>=2.0.2 in /usr/local/lib/python3.6/dist-packages (from packaging->transformers) (2.4.7)\n",
            "Requirement already satisfied: six in /usr/local/lib/python3.6/dist-packages (from packaging->transformers) (1.12.0)\n",
            "Requirement already satisfied: click in /usr/local/lib/python3.6/dist-packages (from sacremoses->transformers) (7.1.2)\n",
            "Requirement already satisfied: joblib in /usr/local/lib/python3.6/dist-packages (from sacremoses->transformers) (0.15.1)\n",
            "Building wheels for collected packages: sacremoses\n",
            "  Building wheel for sacremoses (setup.py) ... \u001b[?25l\u001b[?25hdone\n",
            "  Created wheel for sacremoses: filename=sacremoses-0.0.43-cp36-none-any.whl size=893260 sha256=37c9a745c0a93f43d319469a00744ff5741324ebbb33b28b0088d0c99273c40c\n",
            "  Stored in directory: /root/.cache/pip/wheels/29/3c/fd/7ce5c3f0666dab31a50123635e6fb5e19ceb42ce38d4e58f45\n",
            "Successfully built sacremoses\n",
            "Installing collected packages: tokenizers, sacremoses, sentencepiece, transformers\n",
            "  Found existing installation: tokenizers 0.8.0\n",
            "    Uninstalling tokenizers-0.8.0:\n",
            "      Successfully uninstalled tokenizers-0.8.0\n",
            "Successfully installed sacremoses-0.0.43 sentencepiece-0.1.91 tokenizers-0.8.0rc4 transformers-3.0.1\n"
          ],
          "name": "stdout"
        }
      ]
    },
    {
      "cell_type": "code",
      "metadata": {
        "_cell_guid": "79c7e3d0-c299-4dcb-8224-4455121ee9b0",
        "_uuid": "d629ff2d2480ee46fbb7e2d37f6b5fab8052498a",
        "id": "_PlPz8XhZ--2",
        "colab_type": "code",
        "colab": {}
      },
      "source": [
        "import numpy as np\n",
        "import pandas as pd\n",
        "import os\n",
        "import warnings\n",
        "import random\n",
        "import torch \n",
        "from torch import nn\n",
        "import torch.optim as optim\n",
        "from sklearn.model_selection import StratifiedKFold\n",
        "import tokenizers\n",
        "from transformers import ElectraConfig, ElectraModel, ElectraTokenizer\n",
        "\n",
        "warnings.filterwarnings('ignore')"
      ],
      "execution_count": 3,
      "outputs": []
    },
    {
      "cell_type": "markdown",
      "metadata": {
        "id": "ce8G8_fOZ--_",
        "colab_type": "text"
      },
      "source": [
        "#### Seed"
      ]
    },
    {
      "cell_type": "code",
      "metadata": {
        "id": "1Y3MIJyd4IA1",
        "colab_type": "code",
        "colab": {
          "base_uri": "https://localhost:8080/",
          "height": 122
        },
        "outputId": "7c65fec3-0bba-4a52-f20a-0d3579dc415f"
      },
      "source": [
        "from google.colab import drive\n",
        "drive.mount('/content/drive')"
      ],
      "execution_count": 4,
      "outputs": [
        {
          "output_type": "stream",
          "text": [
            "Go to this URL in a browser: https://accounts.google.com/o/oauth2/auth?client_id=947318989803-6bn6qk8qdgf4n4g3pfee6491hc0brc4i.apps.googleusercontent.com&redirect_uri=urn%3aietf%3awg%3aoauth%3a2.0%3aoob&response_type=code&scope=email%20https%3a%2f%2fwww.googleapis.com%2fauth%2fdocs.test%20https%3a%2f%2fwww.googleapis.com%2fauth%2fdrive%20https%3a%2f%2fwww.googleapis.com%2fauth%2fdrive.photos.readonly%20https%3a%2f%2fwww.googleapis.com%2fauth%2fpeopleapi.readonly\n",
            "\n",
            "Enter your authorization code:\n",
            "··········\n",
            "Mounted at /content/drive\n"
          ],
          "name": "stdout"
        }
      ]
    },
    {
      "cell_type": "code",
      "metadata": {
        "id": "dndOiMWUST2n",
        "colab_type": "code",
        "colab": {}
      },
      "source": [
        "data_folder = \"/content/drive/My Drive/tweet-sentiment-extraction/data\"\n",
        "electra_folder = \"/content/drive/My Drive/tweet-sentiment-extraction/electra/\"\n",
        "tmp_folder = '/tmp'"
      ],
      "execution_count": 5,
      "outputs": []
    },
    {
      "cell_type": "markdown",
      "metadata": {
        "id": "PoZZJKrIZ-_F",
        "colab_type": "text"
      },
      "source": [
        "#### Data Loader"
      ]
    },
    {
      "cell_type": "code",
      "metadata": {
        "id": "JMcEQwVNbjiV",
        "colab_type": "code",
        "colab": {
          "base_uri": "https://localhost:8080/",
          "height": 204
        },
        "outputId": "81c8f577-2fcf-4a6f-dbd2-61b661774103"
      },
      "source": [
        "!wget https://s3.amazonaws.com/models.huggingface.co/bert/google/electra-base-generator/vocab.txt"
      ],
      "execution_count": 6,
      "outputs": [
        {
          "output_type": "stream",
          "text": [
            "--2020-07-05 01:16:02--  https://s3.amazonaws.com/models.huggingface.co/bert/google/electra-base-generator/vocab.txt\n",
            "Resolving s3.amazonaws.com (s3.amazonaws.com)... 52.217.38.182\n",
            "Connecting to s3.amazonaws.com (s3.amazonaws.com)|52.217.38.182|:443... connected.\n",
            "HTTP request sent, awaiting response... 200 OK\n",
            "Length: 231508 (226K) [text/plain]\n",
            "Saving to: ‘vocab.txt’\n",
            "\n",
            "\rvocab.txt             0%[                    ]       0  --.-KB/s               \rvocab.txt           100%[===================>] 226.08K  --.-KB/s    in 0.04s   \n",
            "\n",
            "2020-07-05 01:16:02 (5.30 MB/s) - ‘vocab.txt’ saved [231508/231508]\n",
            "\n"
          ],
          "name": "stdout"
        }
      ]
    },
    {
      "cell_type": "code",
      "metadata": {
        "id": "JnRabuSfZ-_G",
        "colab_type": "code",
        "colab": {}
      },
      "source": [
        "class TweetDataset(torch.utils.data.Dataset):\n",
        "    def __init__(self, df, max_len=128):\n",
        "        self.df = df\n",
        "        self.max_len = max_len\n",
        "        self.labeled = 'selected_text' in df\n",
        "        self.tokenizer = tokenizers.BertWordPieceTokenizer(\n",
        "            vocab_file='vocab.txt', \n",
        "            lowercase=True)\n",
        "        self.tokenizer_1 = ElectraTokenizer(\"vocab.txt\",do_lower_case=True)\n",
        "\n",
        "    def __getitem__(self, index):\n",
        "        data = {}\n",
        "        row = self.df.iloc[index]\n",
        "        \n",
        "        ids, masks, token_type_ids, tweet, offsets,row_id = self.get_input_data(row)\n",
        "\n",
        "        data['ids'] = ids\n",
        "        data['masks'] = masks\n",
        "        data['token_type_ids'] = token_type_ids\n",
        "        data['tweet'] = tweet\n",
        "        data['offsets'] = offsets\n",
        "        data['row_id'] = row_id\n",
        "        \n",
        "        if self.labeled:\n",
        "            #print(\"I came here\")\n",
        "            start_idx, end_idx = self.get_target_idx(row, tweet, offsets)\n",
        "            data['start_idx'] = start_idx\n",
        "            data['end_idx'] = end_idx\n",
        "        \n",
        "        return data\n",
        "\n",
        "    def __len__(self):\n",
        "        return len(self.df)\n",
        "    \n",
        "    def get_input_data(self, row):\n",
        "        tweet = \" \" + \" \".join(row.text.lower().split())\n",
        "\n",
        "        encoding = self.tokenizer.encode(row.sentiment,tweet)\n",
        "        ids = encoding.ids\n",
        "        offsets = encoding.offsets\n",
        "        offsets[1] = (0,0)\n",
        "        token_type_ids = self.tokenizer_1.encode_plus(row.sentiment,tweet,max_length=self.max_len,pad_to_max_length=True,truncation=\"longest_first\")['token_type_ids']\n",
        "            \n",
        "        pad_len = self.max_len - len(ids)\n",
        "        if pad_len > 0:\n",
        "            ids += [0] * pad_len\n",
        "            offsets += [(0, 0)] * pad_len\n",
        "        \n",
        "        ids = torch.tensor(ids)\n",
        "        masks = torch.where(ids != 0, torch.tensor(1), torch.tensor(0))\n",
        "        offsets = torch.tensor(offsets)\n",
        "        token_type_ids = torch.tensor(token_type_ids)\n",
        "        \n",
        "        return ids, masks, token_type_ids, tweet, offsets, row.idx\n",
        "        \n",
        "    def get_target_idx(self, row, tweet, offsets):\n",
        "        selected_text = \" \" +  \" \".join(row.selected_text.lower().split())\n",
        "        #print(selected_text)\n",
        "        #print(row.idx)\n",
        "\n",
        "        len_st = len(selected_text) - 1\n",
        "        idx0 = None\n",
        "        idx1 = None\n",
        "\n",
        "        for ind in (i for i, e in enumerate(tweet) if e == selected_text[1]):\n",
        "            if \" \" + tweet[ind: ind+len_st] == selected_text:\n",
        "                idx0 = ind\n",
        "                idx1 = ind + len_st - 1\n",
        "                break\n",
        "\n",
        "        char_targets = [0] * len(tweet)\n",
        "        if idx0 != None and idx1 != None:\n",
        "            for ct in range(idx0, idx1 + 1):\n",
        "                char_targets[ct] = 1\n",
        "\n",
        "        target_idx = []\n",
        "        for j, (offset1, offset2) in enumerate(offsets):\n",
        "            if sum(char_targets[offset1: offset2]) > 0:\n",
        "                target_idx.append(j)\n",
        "\n",
        "        start_idx = target_idx[0]\n",
        "        end_idx = target_idx[-1]\n",
        "        \n",
        "        return start_idx, end_idx\n",
        "        \n",
        "def get_train_val_loaders(df, train_idx, val_idx, batch_size=8):\n",
        "    train_df = df.iloc[train_idx]\n",
        "    val_df = df.iloc[val_idx]\n",
        "\n",
        "    train_loader = torch.utils.data.DataLoader(\n",
        "        TweetDataset(train_df), \n",
        "        batch_size=batch_size, \n",
        "        shuffle=True, \n",
        "        num_workers=2,\n",
        "        drop_last=True)\n",
        "\n",
        "    val_loader = torch.utils.data.DataLoader(\n",
        "        TweetDataset(val_df), \n",
        "        batch_size=batch_size, \n",
        "        shuffle=False, \n",
        "        num_workers=2)\n",
        "\n",
        "    dataloaders_dict = {\"train\": train_loader, \"val\": val_loader}\n",
        "\n",
        "    return dataloaders_dict\n",
        "\n",
        "def get_test_loader(df, batch_size=32):\n",
        "    loader = torch.utils.data.DataLoader(\n",
        "        TweetDataset(df), \n",
        "        batch_size=batch_size, \n",
        "        shuffle=False, \n",
        "        num_workers=2)    \n",
        "    return loader"
      ],
      "execution_count": 7,
      "outputs": []
    },
    {
      "cell_type": "markdown",
      "metadata": {
        "id": "iHdCeWGBZ-_O",
        "colab_type": "text"
      },
      "source": [
        "#### Model"
      ]
    },
    {
      "cell_type": "code",
      "metadata": {
        "id": "_RRBpsycb18F",
        "colab_type": "code",
        "colab": {
          "base_uri": "https://localhost:8080/",
          "height": 204
        },
        "outputId": "be78cf1c-5a74-42eb-a10d-cbb835b414c0"
      },
      "source": [
        "!wget https://s3.amazonaws.com/models.huggingface.co/bert/google/electra-base-generator/config.json"
      ],
      "execution_count": 8,
      "outputs": [
        {
          "output_type": "stream",
          "text": [
            "--2020-07-05 01:16:03--  https://s3.amazonaws.com/models.huggingface.co/bert/google/electra-base-generator/config.json\n",
            "Resolving s3.amazonaws.com (s3.amazonaws.com)... 52.216.144.29\n",
            "Connecting to s3.amazonaws.com (s3.amazonaws.com)|52.216.144.29|:443... connected.\n",
            "HTTP request sent, awaiting response... 200 OK\n",
            "Length: 463 [application/json]\n",
            "Saving to: ‘config.json’\n",
            "\n",
            "\rconfig.json           0%[                    ]       0  --.-KB/s               \rconfig.json         100%[===================>]     463  --.-KB/s    in 0s      \n",
            "\n",
            "2020-07-05 01:16:03 (17.7 MB/s) - ‘config.json’ saved [463/463]\n",
            "\n"
          ],
          "name": "stdout"
        }
      ]
    },
    {
      "cell_type": "code",
      "metadata": {
        "id": "hCR8YhYoAXkY",
        "colab_type": "code",
        "colab": {
          "base_uri": "https://localhost:8080/",
          "height": 66,
          "referenced_widgets": [
            "cf42ac0071e14e19ba0ac9863632a00f",
            "60a84688e09340449105920a30547f85",
            "0e26a599305a4a25a2cf1c91ddf4a95f",
            "1a62434794cd4cd6947aac0a32f8b9f5",
            "6affaf1d0b434328aa2cdb99e8978b9a",
            "7945420f43884dc1a5e998457b052ab3",
            "4a0517ce8cc14c6394d56792ed89fdec",
            "b0809231bddc45e2bda7996ef18dfda1"
          ]
        },
        "outputId": "af3132da-9255-4f40-9270-f495d1fc3f69"
      },
      "source": [
        "config = ElectraConfig.from_pretrained(\n",
        "            'config.json', output_hidden_states=True)    \n",
        "roberta = ElectraModel.from_pretrained(\n",
        "            'google/electra-base-generator', config=config)"
      ],
      "execution_count": 9,
      "outputs": [
        {
          "output_type": "display_data",
          "data": {
            "application/vnd.jupyter.widget-view+json": {
              "model_id": "cf42ac0071e14e19ba0ac9863632a00f",
              "version_minor": 0,
              "version_major": 2
            },
            "text/plain": [
              "HBox(children=(FloatProgress(value=0.0, description='Downloading', max=135011821.0, style=ProgressStyle(descri…"
            ]
          },
          "metadata": {
            "tags": []
          }
        },
        {
          "output_type": "stream",
          "text": [
            "\n"
          ],
          "name": "stdout"
        }
      ]
    },
    {
      "cell_type": "code",
      "metadata": {
        "id": "gXGA3Mo1AfAD",
        "colab_type": "code",
        "colab": {}
      },
      "source": [
        "config.to_json_file(\"/tmp/electra_config.json\")"
      ],
      "execution_count": 10,
      "outputs": []
    },
    {
      "cell_type": "code",
      "metadata": {
        "id": "KNcClJabAvCR",
        "colab_type": "code",
        "colab": {}
      },
      "source": [
        "roberta.save_pretrained(tmp_folder)"
      ],
      "execution_count": 11,
      "outputs": []
    },
    {
      "cell_type": "code",
      "metadata": {
        "id": "JEOk5cw9Z-_O",
        "colab_type": "code",
        "colab": {}
      },
      "source": [
        "class TweetModel(nn.Module):\n",
        "    def __init__(self):\n",
        "        super(TweetModel, self).__init__()\n",
        "        \n",
        "        config = ElectraConfig.from_pretrained(\n",
        "            '/tmp/electra_config.json', output_hidden_states=True)    \n",
        "        self.roberta = ElectraModel.from_pretrained(\n",
        "            '/tmp/pytorch_model.bin', config=config)\n",
        "        self.dropout = nn.Dropout(0.5)\n",
        "        self.fc = nn.Linear(config.hidden_size, 2)\n",
        "        nn.init.normal_(self.fc.weight, std=0.02)\n",
        "        nn.init.normal_(self.fc.bias, 0)\n",
        "\n",
        "    def forward(self, input_ids, attention_mask,token_type_ids):\n",
        "        _, hs = self.roberta(input_ids, attention_mask,token_type_ids=token_type_ids)\n",
        "         \n",
        "        x = torch.stack([hs[-1], hs[-2], hs[-3], hs[-4]])\n",
        "        x = torch.mean(x, 0)\n",
        "        x = self.dropout(x)\n",
        "        x = self.fc(x)\n",
        "        start_logits, end_logits = x.split(1, dim=-1)\n",
        "        start_logits = start_logits.squeeze(-1)\n",
        "        end_logits = end_logits.squeeze(-1)\n",
        "                \n",
        "        return start_logits, end_logits"
      ],
      "execution_count": 12,
      "outputs": []
    },
    {
      "cell_type": "markdown",
      "metadata": {
        "id": "5j7fRwPuZ-_V",
        "colab_type": "text"
      },
      "source": [
        "##### Loss function"
      ]
    },
    {
      "cell_type": "code",
      "metadata": {
        "id": "OLvqA4D4Z-_W",
        "colab_type": "code",
        "colab": {}
      },
      "source": [
        "def loss_fn(start_logits, end_logits, start_positions, end_positions):\n",
        "    ce_loss = nn.CrossEntropyLoss()\n",
        "    start_loss = ce_loss(start_logits, start_positions)\n",
        "    end_loss = ce_loss(end_logits, end_positions)    \n",
        "    total_loss = start_loss + end_loss\n",
        "    return total_loss"
      ],
      "execution_count": 13,
      "outputs": []
    },
    {
      "cell_type": "markdown",
      "metadata": {
        "id": "SvUUO5FWZ-_d",
        "colab_type": "text"
      },
      "source": [
        "Evaluation Function"
      ]
    },
    {
      "cell_type": "code",
      "metadata": {
        "id": "ISNXfplEZ-_f",
        "colab_type": "code",
        "colab": {}
      },
      "source": [
        "def get_selected_text(text, start_idx, end_idx, offsets):\n",
        "    selected_text = \"\"\n",
        "    for ix in range(start_idx, end_idx + 1):\n",
        "        selected_text += text[offsets[ix][0]: offsets[ix][1]]\n",
        "        if (ix + 1) < len(offsets) and offsets[ix][1] < offsets[ix + 1][0]:\n",
        "            selected_text += \" \"\n",
        "    return selected_text\n",
        "\n",
        "def jaccard(str1, str2): \n",
        "    a = set(str1.lower().split()) \n",
        "    b = set(str2.lower().split())\n",
        "    c = a.intersection(b)\n",
        "    return float(len(c)) / (len(a) + len(b) - len(c))\n",
        "\n",
        "def compute_jaccard_score(text, start_idx, end_idx, start_logits, end_logits, offsets):\n",
        "    start_pred = np.argmax(start_logits)\n",
        "    end_pred = np.argmax(end_logits)\n",
        "    if start_pred > end_pred:\n",
        "        pred = text\n",
        "    else:\n",
        "        pred = get_selected_text(text, start_pred, end_pred, offsets)\n",
        "        \n",
        "    true = get_selected_text(text, start_idx, end_idx, offsets)\n",
        "    \n",
        "    return jaccard(true, pred)"
      ],
      "execution_count": 14,
      "outputs": []
    },
    {
      "cell_type": "markdown",
      "metadata": {
        "id": "G3GRMA3kZ-_k",
        "colab_type": "text"
      },
      "source": [
        "#### Training Function"
      ]
    },
    {
      "cell_type": "code",
      "metadata": {
        "id": "ntQnKK9hZ-_m",
        "colab_type": "code",
        "colab": {}
      },
      "source": [
        "def train_model(model, dataloaders_dict, criterion, optimizer, num_epochs, filename, fold_performance):\n",
        "    model.cuda()\n",
        "    \n",
        "    epoch_score = 0\n",
        "\n",
        "    for epoch in range(num_epochs):\n",
        "        for phase in ['train', 'val']:\n",
        "            if phase == 'train':\n",
        "                model.train()\n",
        "            else:\n",
        "                model.eval()\n",
        "\n",
        "            epoch_loss = 0.0\n",
        "            epoch_jaccard = 0.0\n",
        "            \n",
        "            for data in (dataloaders_dict[phase]):\n",
        "                ids = data['ids'].cuda()\n",
        "                masks = data['masks'].cuda()\n",
        "                token_type_ids = data['token_type_ids'].cuda()\n",
        "                tweet = data['tweet']\n",
        "                offsets = data['offsets'].numpy()\n",
        "                start_idx = data['start_idx'].cuda()\n",
        "                end_idx = data['end_idx'].cuda()\n",
        "\n",
        "                optimizer.zero_grad()\n",
        "\n",
        "                with torch.set_grad_enabled(phase == 'train'):\n",
        "\n",
        "                    start_logits, end_logits = model(ids, masks,token_type_ids)\n",
        "\n",
        "                    loss = criterion(start_logits, end_logits, start_idx, end_idx)\n",
        "                    \n",
        "                    if phase == 'train':\n",
        "                        loss.backward()\n",
        "                        optimizer.step()\n",
        "\n",
        "                    epoch_loss += loss.item() * len(ids)\n",
        "                    \n",
        "                    start_idx = start_idx.cpu().detach().numpy()\n",
        "                    end_idx = end_idx.cpu().detach().numpy()\n",
        "                    start_logits = torch.softmax(start_logits, dim=1).cpu().detach().numpy()\n",
        "                    end_logits = torch.softmax(end_logits, dim=1).cpu().detach().numpy()\n",
        "                    \n",
        "                    for i in range(len(ids)):                        \n",
        "                        jaccard_score = compute_jaccard_score(\n",
        "                            tweet[i],\n",
        "                            start_idx[i],\n",
        "                            end_idx[i],\n",
        "                            start_logits[i], \n",
        "                            end_logits[i], \n",
        "                            offsets[i])\n",
        "                        epoch_jaccard += jaccard_score\n",
        "                    \n",
        "            epoch_loss = epoch_loss / len(dataloaders_dict[phase].dataset)\n",
        "            epoch_jaccard = epoch_jaccard / len(dataloaders_dict[phase].dataset)\n",
        "            \n",
        "            if phase == 'val':\n",
        "                epoch_score += epoch_jaccard\n",
        "            \n",
        "            print('Epoch {}/{} | {:^5} | Loss: {:.4f} | Jaccard: {:.4f}'.format(\n",
        "                epoch + 1, num_epochs, phase, epoch_loss, epoch_jaccard))\n",
        "    \n",
        "    torch.save(model.state_dict(), filename)\n",
        "    return epoch_score/num_epochs"
      ],
      "execution_count": 15,
      "outputs": []
    },
    {
      "cell_type": "markdown",
      "metadata": {
        "id": "U95o5QqWZ-_u",
        "colab_type": "text"
      },
      "source": [
        "#### Training"
      ]
    },
    {
      "cell_type": "code",
      "metadata": {
        "id": "nEmlfEsuZ-_v",
        "colab_type": "code",
        "colab": {}
      },
      "source": [
        "num_epochs = 5\n",
        "batch_size = 32\n",
        "skf = StratifiedKFold(n_splits=10, shuffle=True)"
      ],
      "execution_count": 16,
      "outputs": []
    },
    {
      "cell_type": "code",
      "metadata": {
        "id": "wDON0Ym9Z_AS",
        "colab_type": "code",
        "colab": {
          "base_uri": "https://localhost:8080/",
          "height": 1000
        },
        "outputId": "9a232fa1-dfba-49c9-d62a-1b110bc0c97b"
      },
      "source": [
        "train_df = pd.read_csv(data_folder + '/train.csv')\n",
        "train_df = train_df[train_df.text == train_df.text]\n",
        "train_df['text'] = train_df['text'].astype(str)\n",
        "train_df['selected_text'] = train_df['selected_text'].astype(str)\n",
        "train_df['idx'] = train_df.index.copy()\n",
        "fold_performance = {}\n",
        "\n",
        "\n",
        "for fold, (train_idx, val_idx) in enumerate(skf.split(train_df, train_df.sentiment), start=1): \n",
        "    print(f'Fold: {fold}')\n",
        "\n",
        "    model = TweetModel()\n",
        "    optimizer = optim.AdamW(model.parameters(), lr=2e-5, betas=(0.9, 0.999))\n",
        "    criterion = loss_fn    \n",
        "    dataloaders_dict = get_train_val_loaders(train_df, train_idx, val_idx, batch_size)\n",
        "    #print(dataloaders_dict)\n",
        "\n",
        "\n",
        "    epoch_score = train_model(\n",
        "        model, \n",
        "        dataloaders_dict,\n",
        "        criterion, \n",
        "        optimizer, \n",
        "        num_epochs,\n",
        "        electra_folder + f'roberta_fold{fold}.pth',\n",
        "        fold_performance)\n",
        "    fold_performance[fold] = epoch_score"
      ],
      "execution_count": 17,
      "outputs": [
        {
          "output_type": "stream",
          "text": [
            "Fold: 1\n",
            "Epoch 1/5 | train | Loss: 2.9026 | Jaccard: 0.6097\n",
            "Epoch 1/5 |  val  | Loss: 1.8928 | Jaccard: 0.6805\n",
            "Epoch 2/5 | train | Loss: 1.9302 | Jaccard: 0.6816\n",
            "Epoch 2/5 |  val  | Loss: 1.7803 | Jaccard: 0.7000\n",
            "Epoch 3/5 | train | Loss: 1.7793 | Jaccard: 0.6992\n",
            "Epoch 3/5 |  val  | Loss: 1.7445 | Jaccard: 0.7053\n",
            "Epoch 4/5 | train | Loss: 1.6717 | Jaccard: 0.7112\n",
            "Epoch 4/5 |  val  | Loss: 1.7371 | Jaccard: 0.7034\n",
            "Epoch 5/5 | train | Loss: 1.5853 | Jaccard: 0.7222\n",
            "Epoch 5/5 |  val  | Loss: 1.7597 | Jaccard: 0.7112\n",
            "Fold: 2\n",
            "Epoch 1/5 | train | Loss: 2.8891 | Jaccard: 0.6055\n",
            "Epoch 1/5 |  val  | Loss: 1.9199 | Jaccard: 0.6789\n",
            "Epoch 2/5 | train | Loss: 1.9284 | Jaccard: 0.6818\n",
            "Epoch 2/5 |  val  | Loss: 1.8025 | Jaccard: 0.6966\n",
            "Epoch 3/5 | train | Loss: 1.7663 | Jaccard: 0.6992\n",
            "Epoch 3/5 |  val  | Loss: 1.7687 | Jaccard: 0.6943\n",
            "Epoch 4/5 | train | Loss: 1.6652 | Jaccard: 0.7161\n",
            "Epoch 4/5 |  val  | Loss: 1.7553 | Jaccard: 0.6984\n",
            "Epoch 5/5 | train | Loss: 1.5698 | Jaccard: 0.7241\n",
            "Epoch 5/5 |  val  | Loss: 1.7570 | Jaccard: 0.6992\n",
            "Fold: 3\n",
            "Epoch 1/5 | train | Loss: 2.9118 | Jaccard: 0.6116\n",
            "Epoch 1/5 |  val  | Loss: 1.9186 | Jaccard: 0.6867\n",
            "Epoch 2/5 | train | Loss: 1.9517 | Jaccard: 0.6797\n",
            "Epoch 2/5 |  val  | Loss: 1.7870 | Jaccard: 0.6973\n",
            "Epoch 3/5 | train | Loss: 1.7900 | Jaccard: 0.6939\n",
            "Epoch 3/5 |  val  | Loss: 1.7360 | Jaccard: 0.7061\n",
            "Epoch 4/5 | train | Loss: 1.6798 | Jaccard: 0.7099\n",
            "Epoch 4/5 |  val  | Loss: 1.7515 | Jaccard: 0.7093\n",
            "Epoch 5/5 | train | Loss: 1.5875 | Jaccard: 0.7203\n",
            "Epoch 5/5 |  val  | Loss: 1.7564 | Jaccard: 0.7056\n",
            "Fold: 4\n",
            "Epoch 1/5 | train | Loss: 2.9222 | Jaccard: 0.6133\n",
            "Epoch 1/5 |  val  | Loss: 1.8987 | Jaccard: 0.6901\n",
            "Epoch 2/5 | train | Loss: 1.9338 | Jaccard: 0.6818\n",
            "Epoch 2/5 |  val  | Loss: 1.7751 | Jaccard: 0.7026\n",
            "Epoch 3/5 | train | Loss: 1.7785 | Jaccard: 0.6990\n",
            "Epoch 3/5 |  val  | Loss: 1.7472 | Jaccard: 0.7022\n",
            "Epoch 4/5 | train | Loss: 1.6762 | Jaccard: 0.7091\n",
            "Epoch 4/5 |  val  | Loss: 1.7368 | Jaccard: 0.7090\n",
            "Epoch 5/5 | train | Loss: 1.5778 | Jaccard: 0.7243\n",
            "Epoch 5/5 |  val  | Loss: 1.7826 | Jaccard: 0.7119\n",
            "Fold: 5\n",
            "Epoch 1/5 | train | Loss: 2.8742 | Jaccard: 0.6126\n",
            "Epoch 1/5 |  val  | Loss: 1.9063 | Jaccard: 0.6983\n",
            "Epoch 2/5 | train | Loss: 1.9216 | Jaccard: 0.6830\n",
            "Epoch 2/5 |  val  | Loss: 1.7698 | Jaccard: 0.7026\n",
            "Epoch 3/5 | train | Loss: 1.7693 | Jaccard: 0.6995\n",
            "Epoch 3/5 |  val  | Loss: 1.7405 | Jaccard: 0.7046\n",
            "Epoch 4/5 | train | Loss: 1.6646 | Jaccard: 0.7130\n",
            "Epoch 4/5 |  val  | Loss: 1.7499 | Jaccard: 0.7095\n",
            "Epoch 5/5 | train | Loss: 1.5757 | Jaccard: 0.7252\n",
            "Epoch 5/5 |  val  | Loss: 1.7671 | Jaccard: 0.7097\n",
            "Fold: 6\n",
            "Epoch 1/5 | train | Loss: 3.0406 | Jaccard: 0.5981\n",
            "Epoch 1/5 |  val  | Loss: 1.8846 | Jaccard: 0.6901\n",
            "Epoch 2/5 | train | Loss: 1.9441 | Jaccard: 0.6817\n",
            "Epoch 2/5 |  val  | Loss: 1.8031 | Jaccard: 0.6986\n",
            "Epoch 3/5 | train | Loss: 1.7826 | Jaccard: 0.6995\n",
            "Epoch 3/5 |  val  | Loss: 1.7043 | Jaccard: 0.7086\n",
            "Epoch 4/5 | train | Loss: 1.6708 | Jaccard: 0.7108\n",
            "Epoch 4/5 |  val  | Loss: 1.7018 | Jaccard: 0.7119\n",
            "Epoch 5/5 | train | Loss: 1.5855 | Jaccard: 0.7206\n",
            "Epoch 5/5 |  val  | Loss: 1.7068 | Jaccard: 0.7114\n",
            "Fold: 7\n",
            "Epoch 1/5 | train | Loss: 2.9429 | Jaccard: 0.6081\n",
            "Epoch 1/5 |  val  | Loss: 1.9415 | Jaccard: 0.6897\n",
            "Epoch 2/5 | train | Loss: 1.9370 | Jaccard: 0.6825\n",
            "Epoch 2/5 |  val  | Loss: 1.8214 | Jaccard: 0.6958\n",
            "Epoch 3/5 | train | Loss: 1.7800 | Jaccard: 0.6988\n",
            "Epoch 3/5 |  val  | Loss: 1.7911 | Jaccard: 0.6996\n",
            "Epoch 4/5 | train | Loss: 1.6699 | Jaccard: 0.7126\n",
            "Epoch 4/5 |  val  | Loss: 1.7703 | Jaccard: 0.7049\n",
            "Epoch 5/5 | train | Loss: 1.5800 | Jaccard: 0.7233\n",
            "Epoch 5/5 |  val  | Loss: 1.8120 | Jaccard: 0.7085\n",
            "Fold: 8\n",
            "Epoch 1/5 | train | Loss: 3.0535 | Jaccard: 0.5917\n",
            "Epoch 1/5 |  val  | Loss: 1.9511 | Jaccard: 0.6884\n",
            "Epoch 2/5 | train | Loss: 1.9684 | Jaccard: 0.6750\n",
            "Epoch 2/5 |  val  | Loss: 1.8167 | Jaccard: 0.6998\n",
            "Epoch 3/5 | train | Loss: 1.7899 | Jaccard: 0.6966\n",
            "Epoch 3/5 |  val  | Loss: 1.7579 | Jaccard: 0.6990\n",
            "Epoch 4/5 | train | Loss: 1.6861 | Jaccard: 0.7076\n",
            "Epoch 4/5 |  val  | Loss: 1.7492 | Jaccard: 0.7045\n",
            "Epoch 5/5 | train | Loss: 1.5855 | Jaccard: 0.7221\n",
            "Epoch 5/5 |  val  | Loss: 1.7949 | Jaccard: 0.7045\n",
            "Fold: 9\n",
            "Epoch 1/5 | train | Loss: 2.9084 | Jaccard: 0.6104\n",
            "Epoch 1/5 |  val  | Loss: 1.9440 | Jaccard: 0.6774\n",
            "Epoch 2/5 | train | Loss: 1.9385 | Jaccard: 0.6799\n",
            "Epoch 2/5 |  val  | Loss: 1.8130 | Jaccard: 0.6920\n",
            "Epoch 3/5 | train | Loss: 1.7717 | Jaccard: 0.6992\n",
            "Epoch 3/5 |  val  | Loss: 1.7692 | Jaccard: 0.6954\n",
            "Epoch 4/5 | train | Loss: 1.6578 | Jaccard: 0.7132\n",
            "Epoch 4/5 |  val  | Loss: 1.7601 | Jaccard: 0.6996\n",
            "Epoch 5/5 | train | Loss: 1.5716 | Jaccard: 0.7234\n",
            "Epoch 5/5 |  val  | Loss: 1.7757 | Jaccard: 0.6982\n",
            "Fold: 10\n",
            "Epoch 1/5 | train | Loss: 2.9813 | Jaccard: 0.5969\n",
            "Epoch 1/5 |  val  | Loss: 1.9882 | Jaccard: 0.6736\n",
            "Epoch 2/5 | train | Loss: 1.9658 | Jaccard: 0.6748\n",
            "Epoch 2/5 |  val  | Loss: 1.8373 | Jaccard: 0.6917\n",
            "Epoch 3/5 | train | Loss: 1.7842 | Jaccard: 0.6964\n",
            "Epoch 3/5 |  val  | Loss: 1.7790 | Jaccard: 0.6990\n",
            "Epoch 4/5 | train | Loss: 1.6795 | Jaccard: 0.7095\n",
            "Epoch 4/5 |  val  | Loss: 1.8273 | Jaccard: 0.7043\n",
            "Epoch 5/5 | train | Loss: 1.5769 | Jaccard: 0.7239\n",
            "Epoch 5/5 |  val  | Loss: 1.7748 | Jaccard: 0.7070\n"
          ],
          "name": "stdout"
        }
      ]
    },
    {
      "cell_type": "code",
      "metadata": {
        "id": "K2Vn3ykoZ_AW",
        "colab_type": "code",
        "colab": {
          "base_uri": "https://localhost:8080/",
          "height": 34
        },
        "outputId": "a6c5c37b-8c2e-44d8-ac0d-7ff1598a4d5c"
      },
      "source": [
        "best_model = max(fold_performance, key=fold_performance.get)\n",
        "print(best_model)"
      ],
      "execution_count": 18,
      "outputs": [
        {
          "output_type": "stream",
          "text": [
            "5\n"
          ],
          "name": "stdout"
        }
      ]
    },
    {
      "cell_type": "code",
      "metadata": {
        "id": "XtQGU7h2Z_Aa",
        "colab_type": "code",
        "colab": {
          "base_uri": "https://localhost:8080/",
          "height": 187
        },
        "outputId": "e541acda-2b26-4503-9213-29e5d63153db"
      },
      "source": [
        "fold_performance"
      ],
      "execution_count": 19,
      "outputs": [
        {
          "output_type": "execute_result",
          "data": {
            "text/plain": [
              "{1: 0.7000701779830472,\n",
              " 2: 0.6934972208492283,\n",
              " 3: 0.7010250886662777,\n",
              " 4: 0.7031523762053492,\n",
              " 5: 0.7049223708135355,\n",
              " 6: 0.7041371048666087,\n",
              " 7: 0.6996978620192177,\n",
              " 8: 0.6992276094306504,\n",
              " 9: 0.692510159375797,\n",
              " 10: 0.6951331763146122}"
            ]
          },
          "metadata": {
            "tags": []
          },
          "execution_count": 19
        }
      ]
    },
    {
      "cell_type": "markdown",
      "metadata": {
        "id": "oDt5p3xmZ_Ad",
        "colab_type": "text"
      },
      "source": [
        "#### Run the model against Test dataset"
      ]
    },
    {
      "cell_type": "code",
      "metadata": {
        "id": "m-b7CWRLZ_Ae",
        "colab_type": "code",
        "colab": {
          "base_uri": "https://localhost:8080/",
          "height": 51
        },
        "outputId": "648bb0ea-1fea-4a6a-f05f-fa13134b2531"
      },
      "source": [
        "%%time\n",
        "\n",
        "#test_df = pd.read_csv('../input/tweet-sentiment-extraction/test.csv')\n",
        "test_df = pd.read_csv(data_folder + '/test.csv')\n",
        "test_df['text'] = test_df['text'].astype(str)\n",
        "test_df['idx'] = test_df.index.copy()\n",
        "test_loader = get_test_loader(test_df)\n",
        "predictions = []\n",
        "models = []\n",
        "for fold in range(skf.n_splits):\n",
        "    model = TweetModel()\n",
        "    model.cuda()\n",
        "    model.load_state_dict(torch.load(electra_folder + f'roberta_fold{fold+1}.pth'))\n",
        "    model.eval()\n",
        "    models.append(model)\n",
        "\n",
        "### Use the best model to predict the result\n",
        "#model = TweetModel()\n",
        "#model.cuda()\n",
        "#model.load_state_dict(torch.load(f'roberta_fold{best_model}.pth'))\n",
        "#model.eval()\n",
        "#models.append(model)\n",
        "\n",
        "\n",
        "\n",
        "\n",
        "for data in test_loader:\n",
        "    ids = data['ids'].cuda()\n",
        "    masks = data['masks'].cuda()\n",
        "    token_type_ids = data['token_type_ids'].cuda()\n",
        "    tweet = data['tweet']\n",
        "    offsets = data['offsets'].numpy()\n",
        "    \n",
        "\n",
        "    start_logits = []\n",
        "    end_logits = []\n",
        "    for model in models:\n",
        "        with torch.no_grad():\n",
        "            output = model(ids, masks,token_type_ids)\n",
        "            start_logits.append(torch.softmax(output[0], dim=1).cpu().detach().numpy())\n",
        "            end_logits.append(torch.softmax(output[1], dim=1).cpu().detach().numpy())\n",
        "\n",
        "    start_logits = np.mean(start_logits, axis=0)\n",
        "    end_logits = np.mean(end_logits, axis=0)\n",
        "    for i in range(len(ids)):    \n",
        "        start_pred = np.argmax(start_logits[i])\n",
        "        end_pred = np.argmax(end_logits[i])\n",
        "        if start_pred > end_pred:\n",
        "            pred = tweet[i]\n",
        "        else:\n",
        "            pred = get_selected_text(tweet[i], start_pred, end_pred, offsets[i])\n",
        "        predictions.append(pred)"
      ],
      "execution_count": 23,
      "outputs": [
        {
          "output_type": "stream",
          "text": [
            "CPU times: user 33 s, sys: 5.02 s, total: 38 s\n",
            "Wall time: 38.7 s\n"
          ],
          "name": "stdout"
        }
      ]
    },
    {
      "cell_type": "code",
      "metadata": {
        "id": "ZMjIkrhuZ_Ah",
        "colab_type": "code",
        "colab": {
          "base_uri": "https://localhost:8080/",
          "height": 204
        },
        "outputId": "16aea9de-ee75-49dc-9b58-501f11dc4577"
      },
      "source": [
        "sub_df = pd.read_csv(data_folder + '/sample_submission.csv')\n",
        "sub_df['selected_text'] = predictions\n",
        "sub_df['selected_text'] = sub_df['selected_text'].apply(lambda x: x.replace('!!!!', '!') if len(x.split())==1 else x)\n",
        "sub_df['selected_text'] = sub_df['selected_text'].apply(lambda x: x.replace('..', '.') if len(x.split())==1 else x)\n",
        "sub_df['selected_text'] = sub_df['selected_text'].apply(lambda x: x.replace('...', '.') if len(x.split())==1 else x)\n",
        "sub_df.to_csv('submission.csv', index=False)\n",
        "sub_df.head()"
      ],
      "execution_count": 25,
      "outputs": [
        {
          "output_type": "execute_result",
          "data": {
            "text/html": [
              "<div>\n",
              "<style scoped>\n",
              "    .dataframe tbody tr th:only-of-type {\n",
              "        vertical-align: middle;\n",
              "    }\n",
              "\n",
              "    .dataframe tbody tr th {\n",
              "        vertical-align: top;\n",
              "    }\n",
              "\n",
              "    .dataframe thead th {\n",
              "        text-align: right;\n",
              "    }\n",
              "</style>\n",
              "<table border=\"1\" class=\"dataframe\">\n",
              "  <thead>\n",
              "    <tr style=\"text-align: right;\">\n",
              "      <th></th>\n",
              "      <th>textID</th>\n",
              "      <th>selected_text</th>\n",
              "    </tr>\n",
              "  </thead>\n",
              "  <tbody>\n",
              "    <tr>\n",
              "      <th>0</th>\n",
              "      <td>f87dea47db</td>\n",
              "      <td>last session of the day</td>\n",
              "    </tr>\n",
              "    <tr>\n",
              "      <th>1</th>\n",
              "      <td>96d74cb729</td>\n",
              "      <td>shanghai is also really exciting (precisely -...</td>\n",
              "    </tr>\n",
              "    <tr>\n",
              "      <th>2</th>\n",
              "      <td>eee518ae67</td>\n",
              "      <td>such a shame!</td>\n",
              "    </tr>\n",
              "    <tr>\n",
              "      <th>3</th>\n",
              "      <td>01082688c6</td>\n",
              "      <td>happy bday!</td>\n",
              "    </tr>\n",
              "    <tr>\n",
              "      <th>4</th>\n",
              "      <td>33987a8ee5</td>\n",
              "      <td>i like it!!</td>\n",
              "    </tr>\n",
              "  </tbody>\n",
              "</table>\n",
              "</div>"
            ],
            "text/plain": [
              "       textID                                      selected_text\n",
              "0  f87dea47db                           last session of the day \n",
              "1  96d74cb729   shanghai is also really exciting (precisely -...\n",
              "2  eee518ae67                                      such a shame!\n",
              "3  01082688c6                                        happy bday!\n",
              "4  33987a8ee5                                        i like it!!"
            ]
          },
          "metadata": {
            "tags": []
          },
          "execution_count": 25
        }
      ]
    }
  ]
}