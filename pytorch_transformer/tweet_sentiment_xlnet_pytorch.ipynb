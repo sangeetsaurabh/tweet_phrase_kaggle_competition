{
  "nbformat": 4,
  "nbformat_minor": 0,
  "metadata": {
    "kernelspec": {
      "display_name": "Python 3",
      "language": "python",
      "name": "python3"
    },
    "language_info": {
      "codemirror_mode": {
        "name": "ipython",
        "version": 3
      },
      "file_extension": ".py",
      "mimetype": "text/x-python",
      "name": "python",
      "nbconvert_exporter": "python",
      "pygments_lexer": "ipython3",
      "version": "3.7.6"
    },
    "colab": {
      "name": "tweet-sentiment-xlnet-pytorch.ipynb",
      "provenance": [],
      "collapsed_sections": [],
      "machine_shape": "hm",
      "include_colab_link": true
    },
    "accelerator": "GPU"
  },
  "cells": [
    {
      "cell_type": "markdown",
      "metadata": {
        "id": "view-in-github",
        "colab_type": "text"
      },
      "source": [
        "<a href=\"https://colab.research.google.com/github/sangeetsaurabh/tweet_phrase_kaggle_competition/blob/master/pytorch_transformer/tweet_sentiment_xlnet_pytorch.ipynb\" target=\"_parent\"><img src=\"https://colab.research.google.com/assets/colab-badge.svg\" alt=\"Open In Colab\"/></a>"
      ]
    },
    {
      "cell_type": "markdown",
      "metadata": {
        "id": "jeTsLQOjk1a6",
        "colab_type": "text"
      },
      "source": [
        "# Xlnet Transformer implementation to predict selected text"
      ]
    },
    {
      "cell_type": "markdown",
      "metadata": {
        "id": "Ljd38uzYywJX",
        "colab_type": "text"
      },
      "source": [
        "#### install transformers"
      ]
    },
    {
      "cell_type": "code",
      "metadata": {
        "id": "YbbtZkHdlREm",
        "colab_type": "code",
        "colab": {
          "base_uri": "https://localhost:8080/",
          "height": 340
        },
        "outputId": "6f431e64-90d3-4a9f-e204-19204d8120f9"
      },
      "source": [
        "!pip install transformers"
      ],
      "execution_count": 1,
      "outputs": [
        {
          "output_type": "stream",
          "text": [
            "Requirement already satisfied: transformers in /usr/local/lib/python3.6/dist-packages (3.0.0)\n",
            "Requirement already satisfied: tqdm>=4.27 in /usr/local/lib/python3.6/dist-packages (from transformers) (4.41.1)\n",
            "Requirement already satisfied: filelock in /usr/local/lib/python3.6/dist-packages (from transformers) (3.0.12)\n",
            "Requirement already satisfied: sacremoses in /usr/local/lib/python3.6/dist-packages (from transformers) (0.0.43)\n",
            "Requirement already satisfied: numpy in /usr/local/lib/python3.6/dist-packages (from transformers) (1.18.5)\n",
            "Requirement already satisfied: packaging in /usr/local/lib/python3.6/dist-packages (from transformers) (20.4)\n",
            "Requirement already satisfied: sentencepiece in /usr/local/lib/python3.6/dist-packages (from transformers) (0.1.91)\n",
            "Requirement already satisfied: requests in /usr/local/lib/python3.6/dist-packages (from transformers) (2.23.0)\n",
            "Requirement already satisfied: regex!=2019.12.17 in /usr/local/lib/python3.6/dist-packages (from transformers) (2019.12.20)\n",
            "Requirement already satisfied: dataclasses; python_version < \"3.7\" in /usr/local/lib/python3.6/dist-packages (from transformers) (0.7)\n",
            "Requirement already satisfied: tokenizers==0.8.0-rc4 in /usr/local/lib/python3.6/dist-packages (from transformers) (0.8.0rc4)\n",
            "Requirement already satisfied: joblib in /usr/local/lib/python3.6/dist-packages (from sacremoses->transformers) (0.15.1)\n",
            "Requirement already satisfied: six in /usr/local/lib/python3.6/dist-packages (from sacremoses->transformers) (1.12.0)\n",
            "Requirement already satisfied: click in /usr/local/lib/python3.6/dist-packages (from sacremoses->transformers) (7.1.2)\n",
            "Requirement already satisfied: pyparsing>=2.0.2 in /usr/local/lib/python3.6/dist-packages (from packaging->transformers) (2.4.7)\n",
            "Requirement already satisfied: urllib3!=1.25.0,!=1.25.1,<1.26,>=1.21.1 in /usr/local/lib/python3.6/dist-packages (from requests->transformers) (1.24.3)\n",
            "Requirement already satisfied: certifi>=2017.4.17 in /usr/local/lib/python3.6/dist-packages (from requests->transformers) (2020.6.20)\n",
            "Requirement already satisfied: idna<3,>=2.5 in /usr/local/lib/python3.6/dist-packages (from requests->transformers) (2.9)\n",
            "Requirement already satisfied: chardet<4,>=3.0.2 in /usr/local/lib/python3.6/dist-packages (from requests->transformers) (3.0.4)\n"
          ],
          "name": "stdout"
        }
      ]
    },
    {
      "cell_type": "code",
      "metadata": {
        "_cell_guid": "b1076dfc-b9ad-4769-8c92-a6c4dae69d19",
        "_uuid": "8f2839f25d086af736a60e9eeb907d3b93b6e0e5",
        "id": "wJ6ZL0XWk1a7",
        "colab_type": "code",
        "colab": {}
      },
      "source": [
        "import numpy as np\n",
        "import pandas as pd\n",
        "import os\n",
        "import warnings\n",
        "import random\n",
        "import torch \n",
        "from torch import nn\n",
        "import torch.optim as optim\n",
        "from sklearn.model_selection import StratifiedKFold\n",
        "import tokenizers\n",
        "from transformers import XLMRobertaModel, XLMRobertaConfig, XLMRobertaTokenizer\n",
        "from transformers import XLNetModel,XLNetConfig,XLNetTokenizer\n",
        "\n",
        "warnings.filterwarnings('ignore')\n",
        "pd.set_option('display.max_colwidth', None)"
      ],
      "execution_count": 2,
      "outputs": []
    },
    {
      "cell_type": "markdown",
      "metadata": {
        "id": "m4lLQE-6k1a_",
        "colab_type": "text"
      },
      "source": [
        "# Seed"
      ]
    },
    {
      "cell_type": "code",
      "metadata": {
        "_cell_guid": "79c7e3d0-c299-4dcb-8224-4455121ee9b0",
        "_uuid": "d629ff2d2480ee46fbb7e2d37f6b5fab8052498a",
        "id": "D5bCQ6f3k1bA",
        "colab_type": "code",
        "colab": {}
      },
      "source": [
        "def seed_everything(seed_value):\n",
        "    random.seed(seed_value)\n",
        "    np.random.seed(seed_value)\n",
        "    torch.manual_seed(seed_value)\n",
        "    os.environ['PYTHONHASHSEED'] = str(seed_value)\n",
        "    \n",
        "    if torch.cuda.is_available(): \n",
        "        torch.cuda.manual_seed(seed_value)\n",
        "        torch.cuda.manual_seed_all(seed_value)\n",
        "        torch.backends.cudnn.deterministic = True\n",
        "        torch.backends.cudnn.benchmark = True\n",
        "\n",
        "seed = 42\n",
        "seed_everything(seed)"
      ],
      "execution_count": 3,
      "outputs": []
    },
    {
      "cell_type": "markdown",
      "metadata": {
        "id": "mYj8GJnqlYzv",
        "colab_type": "text"
      },
      "source": [
        "### Set up the path"
      ]
    },
    {
      "cell_type": "code",
      "metadata": {
        "id": "1Y3MIJyd4IA1",
        "colab_type": "code",
        "colab": {
          "base_uri": "https://localhost:8080/",
          "height": 34
        },
        "outputId": "5dabe295-02e3-4901-a15f-e65c923ae644"
      },
      "source": [
        "from google.colab import drive\n",
        "drive.mount('/content/drive')"
      ],
      "execution_count": 4,
      "outputs": [
        {
          "output_type": "stream",
          "text": [
            "Drive already mounted at /content/drive; to attempt to forcibly remount, call drive.mount(\"/content/drive\", force_remount=True).\n"
          ],
          "name": "stdout"
        }
      ]
    },
    {
      "cell_type": "code",
      "metadata": {
        "id": "dndOiMWUST2n",
        "colab_type": "code",
        "colab": {}
      },
      "source": [
        "data_folder = \"/content/drive/My Drive/tweet-sentiment-extraction/data\"\n",
        "xlnet_folder = \"/content/drive/My Drive/tweet-sentiment-extraction/xlnet/\"\n",
        "tmp_folder = '/tmp'"
      ],
      "execution_count": 5,
      "outputs": []
    },
    {
      "cell_type": "markdown",
      "metadata": {
        "id": "vWtNJN7Yy3ey",
        "colab_type": "text"
      },
      "source": [
        "##### install required libraries\n",
        "\n",
        "Install Google sentence piece tokenizer and required files.\n",
        "\n",
        "Given a tweet, we are trying to select subset of text that describes the tweet the best. In order to make the prediction accurately, offsets of each token are required. Sentencepiece tokenizer is being used here as it's easy to get offsets for each token using that tokenizer."
      ]
    },
    {
      "cell_type": "code",
      "metadata": {
        "id": "67_F83yvUfGa",
        "colab_type": "code",
        "colab": {
          "base_uri": "https://localhost:8080/",
          "height": 272
        },
        "outputId": "ba641eae-9dbc-4f31-d344-e0f7d2759a54"
      },
      "source": [
        "!pip install protobuf\n",
        "!wget https://raw.githubusercontent.com/google/sentencepiece/master/python/sentencepiece_pb2.py\n",
        "!pip install sentencepiece"
      ],
      "execution_count": 6,
      "outputs": [
        {
          "output_type": "stream",
          "text": [
            "Requirement already satisfied: protobuf in /usr/local/lib/python3.6/dist-packages (3.10.0)\n",
            "Requirement already satisfied: six>=1.9 in /usr/local/lib/python3.6/dist-packages (from protobuf) (1.12.0)\n",
            "Requirement already satisfied: setuptools in /usr/local/lib/python3.6/dist-packages (from protobuf) (47.3.1)\n",
            "--2020-07-02 18:29:01--  https://raw.githubusercontent.com/google/sentencepiece/master/python/sentencepiece_pb2.py\n",
            "Resolving raw.githubusercontent.com (raw.githubusercontent.com)... 151.101.0.133, 151.101.64.133, 151.101.128.133, ...\n",
            "Connecting to raw.githubusercontent.com (raw.githubusercontent.com)|151.101.0.133|:443... connected.\n",
            "HTTP request sent, awaiting response... 200 OK\n",
            "Length: 7382 (7.2K) [text/plain]\n",
            "Saving to: ‘sentencepiece_pb2.py.3’\n",
            "\n",
            "sentencepiece_pb2.p 100%[===================>]   7.21K  --.-KB/s    in 0s      \n",
            "\n",
            "2020-07-02 18:29:01 (73.8 MB/s) - ‘sentencepiece_pb2.py.3’ saved [7382/7382]\n",
            "\n",
            "Requirement already satisfied: sentencepiece in /usr/local/lib/python3.6/dist-packages (0.1.91)\n"
          ],
          "name": "stdout"
        }
      ]
    },
    {
      "cell_type": "code",
      "metadata": {
        "id": "8_NRMJ_uTOc-",
        "colab_type": "code",
        "colab": {
          "base_uri": "https://localhost:8080/",
          "height": 204
        },
        "outputId": "4011a273-7703-415c-e3cc-ede733b00d64"
      },
      "source": [
        "!wget https://s3.amazonaws.com/models.huggingface.co/bert/xlnet-base-cased-spiece.model"
      ],
      "execution_count": 7,
      "outputs": [
        {
          "output_type": "stream",
          "text": [
            "--2020-07-02 18:29:04--  https://s3.amazonaws.com/models.huggingface.co/bert/xlnet-base-cased-spiece.model\n",
            "Resolving s3.amazonaws.com (s3.amazonaws.com)... 52.217.12.22\n",
            "Connecting to s3.amazonaws.com (s3.amazonaws.com)|52.217.12.22|:443... connected.\n",
            "HTTP request sent, awaiting response... 200 OK\n",
            "Length: 798011 (779K) [binary/octet-stream]\n",
            "Saving to: ‘xlnet-base-cased-spiece.model.3’\n",
            "\n",
            "xlnet-base-cased-sp 100%[===================>] 779.31K  2.46MB/s    in 0.3s    \n",
            "\n",
            "2020-07-02 18:29:04 (2.46 MB/s) - ‘xlnet-base-cased-spiece.model.3’ saved [798011/798011]\n",
            "\n"
          ],
          "name": "stdout"
        }
      ]
    },
    {
      "cell_type": "markdown",
      "metadata": {
        "id": "JI0yX860k1bC",
        "colab_type": "text"
      },
      "source": [
        "# Data Loader"
      ]
    },
    {
      "cell_type": "markdown",
      "metadata": {
        "id": "UzsZzskg1Nnu",
        "colab_type": "text"
      },
      "source": [
        "#### Defining Sentencepiece tokenizer"
      ]
    },
    {
      "cell_type": "code",
      "metadata": {
        "id": "2xnOIV-7N0uU",
        "colab_type": "code",
        "colab": {}
      },
      "source": [
        "import sentencepiece_pb2\n",
        "import sentencepiece as spm\n",
        "class SentencePieceTokenizer:\n",
        "    def __init__(self):\n",
        "        self.sp = spm.SentencePieceProcessor()\n",
        "        #self.sp.load(os.path.join(model_path, \"spiece.model\"))\n",
        "        self.sp.load(\"xlnet-base-cased-spiece.model\")\n",
        "    \n",
        "    def encode(self, sentence):\n",
        "        spt = sentencepiece_pb2.SentencePieceText()\n",
        "        spt.ParseFromString(self.sp.encode_as_serialized_proto(sentence))\n",
        "        offsets = []\n",
        "        tokens = []\n",
        "        for piece in spt.pieces:\n",
        "            tokens.append(piece.id)\n",
        "            offsets.append((piece.begin, piece.end))\n",
        "        return tokens, offsets"
      ],
      "execution_count": 8,
      "outputs": []
    },
    {
      "cell_type": "code",
      "metadata": {
        "id": "3ftDSDKNNp1a",
        "colab_type": "code",
        "colab": {
          "base_uri": "https://localhost:8080/",
          "height": 34
        },
        "outputId": "3b5bff91-176a-4dd2-82f4-2cf644fed8b6"
      },
      "source": [
        "tokenizer1 = SentencePieceTokenizer()\n",
        "tokenizer1.sp.pad_id()"
      ],
      "execution_count": 9,
      "outputs": [
        {
          "output_type": "execute_result",
          "data": {
            "text/plain": [
              "5"
            ]
          },
          "metadata": {
            "tags": []
          },
          "execution_count": 9
        }
      ]
    },
    {
      "cell_type": "code",
      "metadata": {
        "id": "kVguZhoqk1bD",
        "colab_type": "code",
        "colab": {}
      },
      "source": [
        "class TweetDataset(torch.utils.data.Dataset):\n",
        "    def __init__(self, df, max_len=100):\n",
        "        self.df = df\n",
        "        self.max_len = max_len\n",
        "        self.labeled = 'selected_text' in df\n",
        "        self.tokenizer1 = SentencePieceTokenizer()\n",
        "        ### using xlnet inbuilt tokenizer as well as it returns some of the data in the right format to feed into xlnet transformer\n",
        "        self.tokenizer2 = XLNetTokenizer(\"xlnet-base-cased-spiece.model\", do_lower_case=True)\n",
        "        \n",
        "\n",
        "    def __getitem__(self, index):\n",
        "        data = {}\n",
        "        row = self.df.iloc[index]\n",
        "        \n",
        "        ids, masks, token_type_ids, tweet, offsets,row_id = self.get_input_data(row)\n",
        "\n",
        "        data['ids'] = ids\n",
        "        data['masks'] = masks\n",
        "        data['token_type_ids'] = token_type_ids\n",
        "        data['tweet'] = tweet\n",
        "        data['offsets'] = offsets\n",
        "        data['row_id'] = row_id\n",
        "        \n",
        "        if self.labeled:\n",
        "            #print(\"I came here\")\n",
        "            start_idx, end_idx = self.get_target_idx(row, tweet, offsets)\n",
        "            data['start_idx'] = start_idx\n",
        "            data['end_idx'] = end_idx\n",
        "        \n",
        "        return data\n",
        "\n",
        "    def __len__(self):\n",
        "        return len(self.df)\n",
        "    \n",
        "    def get_input_data(self, row):\n",
        "        tweet = \" \" + \" \".join(row.text.lower().split())\n",
        "        encoding_ids, encoding_offsets = self.tokenizer1.encode(tweet)\n",
        "        sentiment_id, _ = self.tokenizer1.encode(row.sentiment)\n",
        "        ids = sentiment_id + [4] + encoding_ids + [4,3]\n",
        "        offsets = [(0, 0)] * 2 + encoding_offsets + [(0, 0)]*2\n",
        "        token_type_ids = self.tokenizer2.create_token_type_ids_from_sequences(sentiment_id,encoding_ids)\n",
        "                \n",
        "        pad_len = self.max_len - len(ids)\n",
        "        if pad_len > 0:\n",
        "            ids = [5] * pad_len + ids\n",
        "            offsets = [(0, 0)] * pad_len + offsets\n",
        "            token_type_ids = [3]*pad_len + token_type_ids\n",
        "        \n",
        "        ids = torch.tensor(ids)\n",
        "        masks = torch.where(ids != 5, torch.tensor(1), torch.tensor(0))\n",
        "        offsets = torch.tensor(offsets)\n",
        "        token_type_ids = torch.tensor(token_type_ids)\n",
        "        \n",
        "        return ids, masks, token_type_ids, tweet, offsets, row.idx\n",
        "        \n",
        "    def get_target_idx(self, row, tweet, offsets):\n",
        "        selected_text = \" \" +  \" \".join(row.selected_text.lower().split())\n",
        "        #print(selected_text)\n",
        "        #print(row.idx)\n",
        "\n",
        "        len_st = len(selected_text) - 1\n",
        "        idx0 = None\n",
        "        idx1 = None\n",
        "\n",
        "        for ind in (i for i, e in enumerate(tweet) if e == selected_text[1]):\n",
        "            if \" \" + tweet[ind: ind+len_st] == selected_text:\n",
        "                idx0 = ind\n",
        "                idx1 = ind + len_st - 1\n",
        "                break\n",
        "\n",
        "        char_targets = [0] * len(tweet)\n",
        "        if idx0 != None and idx1 != None:\n",
        "            for ct in range(idx0, idx1 + 1):\n",
        "                char_targets[ct] = 1\n",
        "\n",
        "        target_idx = []\n",
        "        for j, (offset1, offset2) in enumerate(offsets):\n",
        "            if sum(char_targets[offset1: offset2]) > 0:\n",
        "                target_idx.append(j)\n",
        "\n",
        "        start_idx = target_idx[0]\n",
        "        end_idx = target_idx[-1]\n",
        "        \n",
        "        return start_idx, end_idx\n",
        "        \n",
        "def get_train_val_loaders(df, train_idx, val_idx, batch_size=8):\n",
        "    train_df = df.iloc[train_idx]\n",
        "    val_df = df.iloc[val_idx]\n",
        "\n",
        "    train_loader = torch.utils.data.DataLoader(\n",
        "        TweetDataset(train_df), \n",
        "        batch_size=batch_size, \n",
        "        shuffle=True, \n",
        "        num_workers=2,\n",
        "        drop_last=True)\n",
        "\n",
        "    val_loader = torch.utils.data.DataLoader(\n",
        "        TweetDataset(val_df), \n",
        "        batch_size=batch_size, \n",
        "        shuffle=False, \n",
        "        num_workers=2)\n",
        "\n",
        "    dataloaders_dict = {\"train\": train_loader, \"val\": val_loader}\n",
        "\n",
        "    return dataloaders_dict\n",
        "\n",
        "def get_test_loader(df, batch_size=32):\n",
        "    loader = torch.utils.data.DataLoader(\n",
        "        TweetDataset(df), \n",
        "        batch_size=batch_size, \n",
        "        shuffle=False, \n",
        "        num_workers=2)    \n",
        "    return loader"
      ],
      "execution_count": 10,
      "outputs": []
    },
    {
      "cell_type": "code",
      "metadata": {
        "id": "6uqCO4ZrLisU",
        "colab_type": "code",
        "colab": {}
      },
      "source": [
        "config = XLNetConfig.from_pretrained(\n",
        "            'xlnet-base-cased', output_hidden_states=True)    \n",
        "roberta = XLNetModel.from_pretrained(\n",
        "            'xlnet-base-cased', config=config)"
      ],
      "execution_count": 11,
      "outputs": []
    },
    {
      "cell_type": "code",
      "metadata": {
        "id": "liPRS72hMKJ8",
        "colab_type": "code",
        "colab": {}
      },
      "source": [
        "config.to_json_file(tmp_folder + '/xlnet_config.json')"
      ],
      "execution_count": 12,
      "outputs": []
    },
    {
      "cell_type": "code",
      "metadata": {
        "id": "q5hkLXr8MUWX",
        "colab_type": "code",
        "colab": {}
      },
      "source": [
        "roberta.save_pretrained(tmp_folder)"
      ],
      "execution_count": 13,
      "outputs": []
    },
    {
      "cell_type": "markdown",
      "metadata": {
        "id": "yzORv-V8k1bF",
        "colab_type": "text"
      },
      "source": [
        "# Model"
      ]
    },
    {
      "cell_type": "code",
      "metadata": {
        "id": "KCxgXZfck1bG",
        "colab_type": "code",
        "colab": {}
      },
      "source": [
        "class TweetModel(nn.Module):\n",
        "    def __init__(self):\n",
        "        super(TweetModel, self).__init__()\n",
        "        config = XLNetConfig.from_pretrained(\n",
        "            tmp_folder + '/xlnet_config.json', output_hidden_states=True)    \n",
        "        self.roberta = XLNetModel.from_pretrained(\n",
        "            tmp_folder + '/pytorch_model.bin', config=config)\n",
        "        #config = RobertaConfig.from_pretrained(\n",
        "        #    'roberta-large', output_hidden_states=True)    \n",
        "        #self.roberta = RobertaModel.from_pretrained(\n",
        "        #    'roberta-large', config=config)\n",
        "        self.dropout = nn.Dropout(0.5)\n",
        "        self.fc = nn.Linear(config.hidden_size, 2)\n",
        "        nn.init.normal_(self.fc.weight, std=0.02)\n",
        "        nn.init.normal_(self.fc.bias, 0)\n",
        "\n",
        "    def forward(self, input_ids, attention_mask,token_type_ids):\n",
        "        #_, _, hs = self.roberta(input_ids, attention_mask,token_type_ids=token_type_ids)\n",
        "        _,hs = self.roberta(input_ids, attention_mask,token_type_ids=token_type_ids)\n",
        "        #print(len(output))\n",
        "        #print(output[0].shape)\n",
        "        #for i in range(len(output[1])):\n",
        "        #  print(output[1][i].shape)\n",
        "         \n",
        "        x = torch.stack([hs[-1], hs[-2], hs[-3], hs[-4]])\n",
        "        x = torch.mean(x, 0)\n",
        "        x = self.dropout(x)\n",
        "        x = self.fc(x)\n",
        "        start_logits, end_logits = x.split(1, dim=-1)\n",
        "        start_logits = start_logits.squeeze(-1)\n",
        "        end_logits = end_logits.squeeze(-1)\n",
        "                \n",
        "        return start_logits, end_logits"
      ],
      "execution_count": 14,
      "outputs": []
    },
    {
      "cell_type": "markdown",
      "metadata": {
        "id": "uwHYGgeGk1bI",
        "colab_type": "text"
      },
      "source": [
        "# Loss Function"
      ]
    },
    {
      "cell_type": "code",
      "metadata": {
        "id": "W7h1A8crk1bJ",
        "colab_type": "code",
        "colab": {}
      },
      "source": [
        "def loss_fn(start_logits, end_logits, start_positions, end_positions):\n",
        "    ce_loss = nn.CrossEntropyLoss()\n",
        "    start_loss = ce_loss(start_logits, start_positions)\n",
        "    end_loss = ce_loss(end_logits, end_positions)    \n",
        "    total_loss = start_loss + end_loss\n",
        "    return total_loss"
      ],
      "execution_count": 15,
      "outputs": []
    },
    {
      "cell_type": "markdown",
      "metadata": {
        "id": "L_wqVZF1k1bL",
        "colab_type": "text"
      },
      "source": [
        "# Evaluation Function"
      ]
    },
    {
      "cell_type": "code",
      "metadata": {
        "id": "-6Sz7INHk1bM",
        "colab_type": "code",
        "colab": {}
      },
      "source": [
        "def get_selected_text(text, start_idx, end_idx, offsets):\n",
        "    selected_text = \"\"\n",
        "    for ix in range(start_idx, end_idx + 1):\n",
        "        selected_text += text[offsets[ix][0]: offsets[ix][1]]\n",
        "        if (ix + 1) < len(offsets) and offsets[ix][1] < offsets[ix + 1][0]:\n",
        "            selected_text += \" \"\n",
        "    return selected_text\n",
        "\n",
        "def jaccard(str1, str2): \n",
        "    a = set(str1.lower().split()) \n",
        "    b = set(str2.lower().split())\n",
        "    c = a.intersection(b)\n",
        "    return float(len(c)) / (len(a) + len(b) - len(c))\n",
        "\n",
        "def compute_jaccard_score(text, start_idx, end_idx, start_logits, end_logits, offsets):\n",
        "    start_pred = np.argmax(start_logits)\n",
        "    end_pred = np.argmax(end_logits)\n",
        "    if start_pred > end_pred:\n",
        "        pred = text\n",
        "    else:\n",
        "        pred = get_selected_text(text, start_pred, end_pred, offsets)\n",
        "        \n",
        "    true = get_selected_text(text, start_idx, end_idx, offsets)\n",
        "    \n",
        "    return jaccard(true, pred)"
      ],
      "execution_count": 16,
      "outputs": []
    },
    {
      "cell_type": "markdown",
      "metadata": {
        "id": "MMLoBn1bk1bP",
        "colab_type": "text"
      },
      "source": [
        "# Training Function"
      ]
    },
    {
      "cell_type": "code",
      "metadata": {
        "id": "dqgKSirbk1bP",
        "colab_type": "code",
        "colab": {}
      },
      "source": [
        "def train_model(model, dataloaders_dict, criterion, optimizer, num_epochs, filename):\n",
        "    model.cuda()\n",
        "\n",
        "    for epoch in range(num_epochs):\n",
        "        for phase in ['train', 'val']:\n",
        "            if phase == 'train':\n",
        "                model.train()\n",
        "            else:\n",
        "                model.eval()\n",
        "\n",
        "            epoch_loss = 0.0\n",
        "            epoch_jaccard = 0.0\n",
        "            \n",
        "            for data in (dataloaders_dict[phase]):\n",
        "                ids = data['ids'].cuda()\n",
        "                masks = data['masks'].cuda()\n",
        "                token_type_ids = data['token_type_ids'].cuda()\n",
        "                tweet = data['tweet']\n",
        "                offsets = data['offsets'].numpy()\n",
        "                start_idx = data['start_idx'].cuda()\n",
        "                end_idx = data['end_idx'].cuda()\n",
        "\n",
        "                optimizer.zero_grad()\n",
        "\n",
        "                with torch.set_grad_enabled(phase == 'train'):\n",
        "\n",
        "                    start_logits, end_logits = model(ids, masks,token_type_ids)\n",
        "\n",
        "                    loss = criterion(start_logits, end_logits, start_idx, end_idx)\n",
        "                    \n",
        "                    if phase == 'train':\n",
        "                        loss.backward()\n",
        "                        optimizer.step()\n",
        "\n",
        "                    epoch_loss += loss.item() * len(ids)\n",
        "                    \n",
        "                    start_idx = start_idx.cpu().detach().numpy()\n",
        "                    end_idx = end_idx.cpu().detach().numpy()\n",
        "                    start_logits = torch.softmax(start_logits, dim=1).cpu().detach().numpy()\n",
        "                    end_logits = torch.softmax(end_logits, dim=1).cpu().detach().numpy()\n",
        "                    \n",
        "                    for i in range(len(ids)):                        \n",
        "                        jaccard_score = compute_jaccard_score(\n",
        "                            tweet[i],\n",
        "                            start_idx[i],\n",
        "                            end_idx[i],\n",
        "                            start_logits[i], \n",
        "                            end_logits[i], \n",
        "                            offsets[i])\n",
        "                        epoch_jaccard += jaccard_score\n",
        "                    \n",
        "            epoch_loss = epoch_loss / len(dataloaders_dict[phase].dataset)\n",
        "            epoch_jaccard = epoch_jaccard / len(dataloaders_dict[phase].dataset)\n",
        "            \n",
        "            print('Epoch {}/{} | {:^5} | Loss: {:.4f} | Jaccard: {:.4f}'.format(\n",
        "                epoch + 1, num_epochs, phase, epoch_loss, epoch_jaccard))\n",
        "    \n",
        "    torch.save(model.state_dict(), filename)"
      ],
      "execution_count": 17,
      "outputs": []
    },
    {
      "cell_type": "markdown",
      "metadata": {
        "id": "zM_sg0ynk1bS",
        "colab_type": "text"
      },
      "source": [
        "# Training"
      ]
    },
    {
      "cell_type": "code",
      "metadata": {
        "id": "PPK-f4Elk1bS",
        "colab_type": "code",
        "colab": {}
      },
      "source": [
        "num_epochs = 3\n",
        "batch_size = 32\n",
        "#skf = StratifiedKFold(n_splits=10, shuffle=True, random_state=seed)\n",
        "skf = StratifiedKFold(n_splits=10, shuffle=True)"
      ],
      "execution_count": 18,
      "outputs": []
    },
    {
      "cell_type": "code",
      "metadata": {
        "id": "BQazW_MDk1bU",
        "colab_type": "code",
        "colab": {
          "base_uri": "https://localhost:8080/",
          "height": 1000
        },
        "outputId": "4b43785b-4d73-449d-a547-6ab49f9874dd"
      },
      "source": [
        "train_df = pd.read_csv(data_folder + '/train.csv')\n",
        "train_df = train_df[train_df.text == train_df.text]\n",
        "train_df['text'] = train_df['text'].astype(str)\n",
        "train_df['selected_text'] = train_df['selected_text'].astype(str)\n",
        "train_df['idx'] = train_df.index.copy()\n",
        "\n",
        "for fold, (train_idx, val_idx) in enumerate(skf.split(train_df, train_df.sentiment), start=1): \n",
        "    print(f'Fold: {fold}')\n",
        "\n",
        "    model = TweetModel()\n",
        "    optimizer = optim.AdamW(model.parameters(), lr=2e-5, betas=(0.9, 0.999))\n",
        "    criterion = loss_fn    \n",
        "    dataloaders_dict = get_train_val_loaders(train_df, train_idx, val_idx, batch_size)\n",
        "    #print(dataloaders_dict)\n",
        "\n",
        "\n",
        "    train_model(\n",
        "        model, \n",
        "        dataloaders_dict,\n",
        "        criterion, \n",
        "        optimizer, \n",
        "        num_epochs,\n",
        "        xlnet_folder + f'roberta_fold{fold}.pth')"
      ],
      "execution_count": 19,
      "outputs": [
        {
          "output_type": "stream",
          "text": [
            "Fold: 1\n",
            "Epoch 1/3 | train | Loss: 2.5765 | Jaccard: 0.6337\n",
            "Epoch 1/3 |  val  | Loss: 1.8659 | Jaccard: 0.6791\n",
            "Epoch 2/3 | train | Loss: 1.8052 | Jaccard: 0.6976\n",
            "Epoch 2/3 |  val  | Loss: 1.7979 | Jaccard: 0.6906\n",
            "Epoch 3/3 | train | Loss: 1.6300 | Jaccard: 0.7175\n",
            "Epoch 3/3 |  val  | Loss: 1.7506 | Jaccard: 0.7133\n",
            "Fold: 2\n",
            "Epoch 1/3 | train | Loss: 2.4949 | Jaccard: 0.6409\n",
            "Epoch 1/3 |  val  | Loss: 1.7959 | Jaccard: 0.7002\n",
            "Epoch 2/3 | train | Loss: 1.7712 | Jaccard: 0.7033\n",
            "Epoch 2/3 |  val  | Loss: 1.7530 | Jaccard: 0.7039\n",
            "Epoch 3/3 | train | Loss: 1.6019 | Jaccard: 0.7215\n",
            "Epoch 3/3 |  val  | Loss: 1.7466 | Jaccard: 0.7091\n",
            "Fold: 3\n",
            "Epoch 1/3 | train | Loss: 2.4704 | Jaccard: 0.6427\n",
            "Epoch 1/3 |  val  | Loss: 1.8486 | Jaccard: 0.6967\n",
            "Epoch 2/3 | train | Loss: 1.7641 | Jaccard: 0.7030\n",
            "Epoch 2/3 |  val  | Loss: 1.7434 | Jaccard: 0.7089\n",
            "Epoch 3/3 | train | Loss: 1.5989 | Jaccard: 0.7219\n",
            "Epoch 3/3 |  val  | Loss: 1.7040 | Jaccard: 0.7100\n",
            "Fold: 4\n",
            "Epoch 1/3 | train | Loss: 2.7005 | Jaccard: 0.6331\n",
            "Epoch 1/3 |  val  | Loss: 1.8094 | Jaccard: 0.7093\n",
            "Epoch 2/3 | train | Loss: 1.8194 | Jaccard: 0.6959\n",
            "Epoch 2/3 |  val  | Loss: 1.6819 | Jaccard: 0.7142\n",
            "Epoch 3/3 | train | Loss: 1.6437 | Jaccard: 0.7190\n",
            "Epoch 3/3 |  val  | Loss: 1.6479 | Jaccard: 0.7117\n",
            "Fold: 5\n",
            "Epoch 1/3 | train | Loss: 2.4502 | Jaccard: 0.6477\n",
            "Epoch 1/3 |  val  | Loss: 1.7785 | Jaccard: 0.6977\n",
            "Epoch 2/3 | train | Loss: 1.7566 | Jaccard: 0.7036\n",
            "Epoch 2/3 |  val  | Loss: 1.6954 | Jaccard: 0.7117\n",
            "Epoch 3/3 | train | Loss: 1.5970 | Jaccard: 0.7233\n",
            "Epoch 3/3 |  val  | Loss: 1.6878 | Jaccard: 0.7126\n",
            "Fold: 6\n",
            "Epoch 1/3 | train | Loss: 2.5437 | Jaccard: 0.6403\n",
            "Epoch 1/3 |  val  | Loss: 1.7945 | Jaccard: 0.7028\n",
            "Epoch 2/3 | train | Loss: 1.8043 | Jaccard: 0.6985\n",
            "Epoch 2/3 |  val  | Loss: 1.7052 | Jaccard: 0.7113\n",
            "Epoch 3/3 | train | Loss: 1.6311 | Jaccard: 0.7194\n",
            "Epoch 3/3 |  val  | Loss: 1.6588 | Jaccard: 0.7192\n",
            "Fold: 7\n",
            "Epoch 1/3 | train | Loss: 2.7824 | Jaccard: 0.6276\n",
            "Epoch 1/3 |  val  | Loss: 1.7530 | Jaccard: 0.7099\n",
            "Epoch 2/3 | train | Loss: 1.8647 | Jaccard: 0.6899\n",
            "Epoch 2/3 |  val  | Loss: 1.6133 | Jaccard: 0.7171\n",
            "Epoch 3/3 | train | Loss: 1.6810 | Jaccard: 0.7117\n",
            "Epoch 3/3 |  val  | Loss: 1.6308 | Jaccard: 0.7184\n",
            "Fold: 8\n",
            "Epoch 1/3 | train | Loss: 2.6886 | Jaccard: 0.6314\n",
            "Epoch 1/3 |  val  | Loss: 1.8239 | Jaccard: 0.6979\n",
            "Epoch 2/3 | train | Loss: 1.8097 | Jaccard: 0.6957\n",
            "Epoch 2/3 |  val  | Loss: 1.7388 | Jaccard: 0.7087\n",
            "Epoch 3/3 | train | Loss: 1.6443 | Jaccard: 0.7191\n",
            "Epoch 3/3 |  val  | Loss: 1.7253 | Jaccard: 0.7134\n",
            "Fold: 9\n",
            "Epoch 1/3 | train | Loss: 2.5305 | Jaccard: 0.6411\n",
            "Epoch 1/3 |  val  | Loss: 1.7967 | Jaccard: 0.7060\n",
            "Epoch 2/3 | train | Loss: 1.7688 | Jaccard: 0.7044\n",
            "Epoch 2/3 |  val  | Loss: 1.7198 | Jaccard: 0.7205\n",
            "Epoch 3/3 | train | Loss: 1.6119 | Jaccard: 0.7208\n",
            "Epoch 3/3 |  val  | Loss: 1.7074 | Jaccard: 0.7180\n",
            "Fold: 10\n",
            "Epoch 1/3 | train | Loss: 2.6030 | Jaccard: 0.6367\n",
            "Epoch 1/3 |  val  | Loss: 1.7945 | Jaccard: 0.6958\n",
            "Epoch 2/3 | train | Loss: 1.7988 | Jaccard: 0.7007\n",
            "Epoch 2/3 |  val  | Loss: 1.6865 | Jaccard: 0.7063\n",
            "Epoch 3/3 | train | Loss: 1.6175 | Jaccard: 0.7206\n",
            "Epoch 3/3 |  val  | Loss: 1.6920 | Jaccard: 0.6991\n"
          ],
          "name": "stdout"
        }
      ]
    },
    {
      "cell_type": "code",
      "metadata": {
        "id": "QoRqsLZOu7C-",
        "colab_type": "code",
        "colab": {
          "base_uri": "https://localhost:8080/",
          "height": 204
        },
        "outputId": "2d69b19b-54b3-444e-c173-62eaffbd4056"
      },
      "source": [
        "train_df.head()"
      ],
      "execution_count": 20,
      "outputs": [
        {
          "output_type": "execute_result",
          "data": {
            "text/html": [
              "<div>\n",
              "<style scoped>\n",
              "    .dataframe tbody tr th:only-of-type {\n",
              "        vertical-align: middle;\n",
              "    }\n",
              "\n",
              "    .dataframe tbody tr th {\n",
              "        vertical-align: top;\n",
              "    }\n",
              "\n",
              "    .dataframe thead th {\n",
              "        text-align: right;\n",
              "    }\n",
              "</style>\n",
              "<table border=\"1\" class=\"dataframe\">\n",
              "  <thead>\n",
              "    <tr style=\"text-align: right;\">\n",
              "      <th></th>\n",
              "      <th>textID</th>\n",
              "      <th>text</th>\n",
              "      <th>selected_text</th>\n",
              "      <th>sentiment</th>\n",
              "      <th>idx</th>\n",
              "    </tr>\n",
              "  </thead>\n",
              "  <tbody>\n",
              "    <tr>\n",
              "      <th>0</th>\n",
              "      <td>cb774db0d1</td>\n",
              "      <td>I`d have responded, if I were going</td>\n",
              "      <td>I`d have responded, if I were going</td>\n",
              "      <td>neutral</td>\n",
              "      <td>0</td>\n",
              "    </tr>\n",
              "    <tr>\n",
              "      <th>1</th>\n",
              "      <td>549e992a42</td>\n",
              "      <td>Sooo SAD I will miss you here in San Diego!!!</td>\n",
              "      <td>Sooo SAD</td>\n",
              "      <td>negative</td>\n",
              "      <td>1</td>\n",
              "    </tr>\n",
              "    <tr>\n",
              "      <th>2</th>\n",
              "      <td>088c60f138</td>\n",
              "      <td>my boss is bullying me...</td>\n",
              "      <td>bullying me</td>\n",
              "      <td>negative</td>\n",
              "      <td>2</td>\n",
              "    </tr>\n",
              "    <tr>\n",
              "      <th>3</th>\n",
              "      <td>9642c003ef</td>\n",
              "      <td>what interview! leave me alone</td>\n",
              "      <td>leave me alone</td>\n",
              "      <td>negative</td>\n",
              "      <td>3</td>\n",
              "    </tr>\n",
              "    <tr>\n",
              "      <th>4</th>\n",
              "      <td>358bd9e861</td>\n",
              "      <td>Sons of ****, why couldn`t they put them on the releases we already bought</td>\n",
              "      <td>Sons of ****,</td>\n",
              "      <td>negative</td>\n",
              "      <td>4</td>\n",
              "    </tr>\n",
              "  </tbody>\n",
              "</table>\n",
              "</div>"
            ],
            "text/plain": [
              "       textID  ... idx\n",
              "0  cb774db0d1  ...   0\n",
              "1  549e992a42  ...   1\n",
              "2  088c60f138  ...   2\n",
              "3  9642c003ef  ...   3\n",
              "4  358bd9e861  ...   4\n",
              "\n",
              "[5 rows x 5 columns]"
            ]
          },
          "metadata": {
            "tags": []
          },
          "execution_count": 20
        }
      ]
    },
    {
      "cell_type": "markdown",
      "metadata": {
        "id": "mSthskgKk1bX",
        "colab_type": "text"
      },
      "source": [
        "# Inference"
      ]
    },
    {
      "cell_type": "code",
      "metadata": {
        "id": "1PiUqEfVk1bY",
        "colab_type": "code",
        "colab": {
          "base_uri": "https://localhost:8080/",
          "height": 51
        },
        "outputId": "818c0b90-285d-4d43-aa7b-7f1ececa89a8"
      },
      "source": [
        "%%time\n",
        "\n",
        "test_df = pd.read_csv(data_folder + '/test.csv')\n",
        "test_df[\"idx\"] = test_df.index.copy()\n",
        "test_df['text'] = test_df['text'].astype(str)\n",
        "test_loader = get_test_loader(test_df)\n",
        "predictions = []\n",
        "models = []\n",
        "for fold in range(skf.n_splits):\n",
        "    model = TweetModel()\n",
        "    model.cuda()\n",
        "    model.load_state_dict(torch.load(xlnet_folder + f'roberta_fold{fold+1}.pth'))\n",
        "    model.eval()\n",
        "    models.append(model)\n",
        "\n",
        "for data in test_loader:\n",
        "    ids = data['ids'].cuda()\n",
        "    masks = data['masks'].cuda()\n",
        "    token_type_ids = data['token_type_ids'].cuda()\n",
        "    tweet = data['tweet']\n",
        "    offsets = data['offsets'].numpy()\n",
        "\n",
        "    start_logits = []\n",
        "    end_logits = []\n",
        "    for model in models:\n",
        "        with torch.no_grad():\n",
        "            output = model(ids, masks,token_type_ids)\n",
        "            start_logits.append(torch.softmax(output[0], dim=1).cpu().detach().numpy())\n",
        "            end_logits.append(torch.softmax(output[1], dim=1).cpu().detach().numpy())\n",
        "\n",
        "    start_logits = np.mean(start_logits, axis=0)\n",
        "    end_logits = np.mean(end_logits, axis=0)\n",
        "    for i in range(len(ids)):    \n",
        "        start_pred = np.argmax(start_logits[i])\n",
        "        end_pred = np.argmax(end_logits[i])\n",
        "        if start_pred > end_pred:\n",
        "            pred = tweet[i]\n",
        "        else:\n",
        "            pred = get_selected_text(tweet[i], start_pred, end_pred, offsets[i])\n",
        "        predictions.append(pred)"
      ],
      "execution_count": 21,
      "outputs": [
        {
          "output_type": "stream",
          "text": [
            "CPU times: user 2min 37s, sys: 1min 3s, total: 3min 41s\n",
            "Wall time: 3min 23s\n"
          ],
          "name": "stdout"
        }
      ]
    },
    {
      "cell_type": "markdown",
      "metadata": {
        "id": "Wz1LmMaIk1ba",
        "colab_type": "text"
      },
      "source": [
        "# Submission"
      ]
    },
    {
      "cell_type": "code",
      "metadata": {
        "id": "erQn4rsTk1bb",
        "colab_type": "code",
        "colab": {
          "base_uri": "https://localhost:8080/",
          "height": 204
        },
        "outputId": "21ce8c5c-d35f-4917-b553-c55b86b0d0a6"
      },
      "source": [
        "sub_df = pd.read_csv(data_folder + '/sample_submission.csv')\n",
        "sub_df['selected_text'] = predictions\n",
        "sub_df['selected_text'] = sub_df['selected_text'].apply(lambda x: x.replace('!!!!', '!') if len(x.split())==1 else x)\n",
        "sub_df['selected_text'] = sub_df['selected_text'].apply(lambda x: x.replace('..', '.') if len(x.split())==1 else x)\n",
        "sub_df['selected_text'] = sub_df['selected_text'].apply(lambda x: x.replace('...', '.') if len(x.split())==1 else x)\n",
        "sub_df.to_csv('submission.csv', index=False)\n",
        "sub_df.head()"
      ],
      "execution_count": 22,
      "outputs": [
        {
          "output_type": "execute_result",
          "data": {
            "text/html": [
              "<div>\n",
              "<style scoped>\n",
              "    .dataframe tbody tr th:only-of-type {\n",
              "        vertical-align: middle;\n",
              "    }\n",
              "\n",
              "    .dataframe tbody tr th {\n",
              "        vertical-align: top;\n",
              "    }\n",
              "\n",
              "    .dataframe thead th {\n",
              "        text-align: right;\n",
              "    }\n",
              "</style>\n",
              "<table border=\"1\" class=\"dataframe\">\n",
              "  <thead>\n",
              "    <tr style=\"text-align: right;\">\n",
              "      <th></th>\n",
              "      <th>textID</th>\n",
              "      <th>selected_text</th>\n",
              "    </tr>\n",
              "  </thead>\n",
              "  <tbody>\n",
              "    <tr>\n",
              "      <th>0</th>\n",
              "      <td>f87dea47db</td>\n",
              "      <td>last session of the day</td>\n",
              "    </tr>\n",
              "    <tr>\n",
              "      <th>1</th>\n",
              "      <td>96d74cb729</td>\n",
              "      <td>exciting</td>\n",
              "    </tr>\n",
              "    <tr>\n",
              "      <th>2</th>\n",
              "      <td>eee518ae67</td>\n",
              "      <td>such a shame!</td>\n",
              "    </tr>\n",
              "    <tr>\n",
              "      <th>3</th>\n",
              "      <td>01082688c6</td>\n",
              "      <td>happy</td>\n",
              "    </tr>\n",
              "    <tr>\n",
              "      <th>4</th>\n",
              "      <td>33987a8ee5</td>\n",
              "      <td>i like it!!</td>\n",
              "    </tr>\n",
              "  </tbody>\n",
              "</table>\n",
              "</div>"
            ],
            "text/plain": [
              "       textID            selected_text\n",
              "0  f87dea47db  last session of the day\n",
              "1  96d74cb729                 exciting\n",
              "2  eee518ae67            such a shame!\n",
              "3  01082688c6                    happy\n",
              "4  33987a8ee5              i like it!!"
            ]
          },
          "metadata": {
            "tags": []
          },
          "execution_count": 22
        }
      ]
    },
    {
      "cell_type": "code",
      "metadata": {
        "id": "PAesU3c5Jt6a",
        "colab_type": "code",
        "colab": {
          "base_uri": "https://localhost:8080/",
          "height": 34
        },
        "outputId": "52774a9a-4ad1-4797-9057-9414e2121072"
      },
      "source": [
        "sub_df.shape"
      ],
      "execution_count": 25,
      "outputs": [
        {
          "output_type": "execute_result",
          "data": {
            "text/plain": [
              "(3534, 2)"
            ]
          },
          "metadata": {
            "tags": []
          },
          "execution_count": 25
        }
      ]
    },
    {
      "cell_type": "markdown",
      "metadata": {
        "id": "OYsWs-fieMYQ",
        "colab_type": "text"
      },
      "source": [
        "#### Verification\n",
        "Look at a few selected text to see how they look"
      ]
    },
    {
      "cell_type": "code",
      "metadata": {
        "id": "dQWYzD-ad162",
        "colab_type": "code",
        "colab": {
          "base_uri": "https://localhost:8080/",
          "height": 419
        },
        "outputId": "c95775eb-b8cf-4d6c-8e3a-98d04ae4ee2d"
      },
      "source": [
        "pd.merge(test_df,sub_df,how='left',on='textID')"
      ],
      "execution_count": 28,
      "outputs": [
        {
          "output_type": "execute_result",
          "data": {
            "text/html": [
              "<div>\n",
              "<style scoped>\n",
              "    .dataframe tbody tr th:only-of-type {\n",
              "        vertical-align: middle;\n",
              "    }\n",
              "\n",
              "    .dataframe tbody tr th {\n",
              "        vertical-align: top;\n",
              "    }\n",
              "\n",
              "    .dataframe thead th {\n",
              "        text-align: right;\n",
              "    }\n",
              "</style>\n",
              "<table border=\"1\" class=\"dataframe\">\n",
              "  <thead>\n",
              "    <tr style=\"text-align: right;\">\n",
              "      <th></th>\n",
              "      <th>textID</th>\n",
              "      <th>text</th>\n",
              "      <th>sentiment</th>\n",
              "      <th>idx</th>\n",
              "      <th>selected_text</th>\n",
              "    </tr>\n",
              "  </thead>\n",
              "  <tbody>\n",
              "    <tr>\n",
              "      <th>0</th>\n",
              "      <td>f87dea47db</td>\n",
              "      <td>Last session of the day  http://twitpic.com/67ezh</td>\n",
              "      <td>neutral</td>\n",
              "      <td>0</td>\n",
              "      <td>last session of the day</td>\n",
              "    </tr>\n",
              "    <tr>\n",
              "      <th>1</th>\n",
              "      <td>96d74cb729</td>\n",
              "      <td>Shanghai is also really exciting (precisely -- skyscrapers galore). Good tweeps in China:  (SH)  (BJ).</td>\n",
              "      <td>positive</td>\n",
              "      <td>1</td>\n",
              "      <td>exciting</td>\n",
              "    </tr>\n",
              "    <tr>\n",
              "      <th>2</th>\n",
              "      <td>eee518ae67</td>\n",
              "      <td>Recession hit Veronique Branquinho, she has to quit her company, such a shame!</td>\n",
              "      <td>negative</td>\n",
              "      <td>2</td>\n",
              "      <td>such a shame!</td>\n",
              "    </tr>\n",
              "    <tr>\n",
              "      <th>3</th>\n",
              "      <td>01082688c6</td>\n",
              "      <td>happy bday!</td>\n",
              "      <td>positive</td>\n",
              "      <td>3</td>\n",
              "      <td>happy</td>\n",
              "    </tr>\n",
              "    <tr>\n",
              "      <th>4</th>\n",
              "      <td>33987a8ee5</td>\n",
              "      <td>http://twitpic.com/4w75p - I like it!!</td>\n",
              "      <td>positive</td>\n",
              "      <td>4</td>\n",
              "      <td>i like it!!</td>\n",
              "    </tr>\n",
              "    <tr>\n",
              "      <th>...</th>\n",
              "      <td>...</td>\n",
              "      <td>...</td>\n",
              "      <td>...</td>\n",
              "      <td>...</td>\n",
              "      <td>...</td>\n",
              "    </tr>\n",
              "    <tr>\n",
              "      <th>3529</th>\n",
              "      <td>e5f0e6ef4b</td>\n",
              "      <td>its at 3 am, im very tired but i can`t sleep  but i try it</td>\n",
              "      <td>negative</td>\n",
              "      <td>3529</td>\n",
              "      <td>tired</td>\n",
              "    </tr>\n",
              "    <tr>\n",
              "      <th>3530</th>\n",
              "      <td>416863ce47</td>\n",
              "      <td>All alone in this old house again.  Thanks for the net which keeps me alive and kicking! Whoever invented the net, i wanna kiss your hair!</td>\n",
              "      <td>positive</td>\n",
              "      <td>3530</td>\n",
              "      <td>thanks</td>\n",
              "    </tr>\n",
              "    <tr>\n",
              "      <th>3531</th>\n",
              "      <td>6332da480c</td>\n",
              "      <td>I know what you mean. My little dog is sinking into depression... he wants to move someplace tropical</td>\n",
              "      <td>negative</td>\n",
              "      <td>3531</td>\n",
              "      <td>depression.</td>\n",
              "    </tr>\n",
              "    <tr>\n",
              "      <th>3532</th>\n",
              "      <td>df1baec676</td>\n",
              "      <td>_sutra what is your next youtube video gonna be about? I love your videos!</td>\n",
              "      <td>positive</td>\n",
              "      <td>3532</td>\n",
              "      <td>i love</td>\n",
              "    </tr>\n",
              "    <tr>\n",
              "      <th>3533</th>\n",
              "      <td>469e15c5a8</td>\n",
              "      <td>http://twitpic.com/4woj2 - omgssh  ang cute ng bby.!</td>\n",
              "      <td>positive</td>\n",
              "      <td>3533</td>\n",
              "      <td>cute</td>\n",
              "    </tr>\n",
              "  </tbody>\n",
              "</table>\n",
              "<p>3534 rows × 5 columns</p>\n",
              "</div>"
            ],
            "text/plain": [
              "          textID  ...            selected_text\n",
              "0     f87dea47db  ...  last session of the day\n",
              "1     96d74cb729  ...                 exciting\n",
              "2     eee518ae67  ...            such a shame!\n",
              "3     01082688c6  ...                    happy\n",
              "4     33987a8ee5  ...              i like it!!\n",
              "...          ...  ...                      ...\n",
              "3529  e5f0e6ef4b  ...                    tired\n",
              "3530  416863ce47  ...                   thanks\n",
              "3531  6332da480c  ...              depression.\n",
              "3532  df1baec676  ...                   i love\n",
              "3533  469e15c5a8  ...                     cute\n",
              "\n",
              "[3534 rows x 5 columns]"
            ]
          },
          "metadata": {
            "tags": []
          },
          "execution_count": 28
        }
      ]
    },
    {
      "cell_type": "markdown",
      "metadata": {
        "id": "cMi4jmEfeWhO",
        "colab_type": "text"
      },
      "source": [
        "Hmmm - they look good."
      ]
    }
  ]
}