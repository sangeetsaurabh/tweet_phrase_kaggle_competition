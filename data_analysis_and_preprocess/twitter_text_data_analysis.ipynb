{
  "nbformat": 4,
  "nbformat_minor": 0,
  "metadata": {
    "colab": {
      "name": "twitter text data analysis.ipynb",
      "provenance": [],
      "collapsed_sections": [],
      "machine_shape": "hm",
      "authorship_tag": "ABX9TyOG4f6GQSJc4J3mNg7/8YBt",
      "include_colab_link": true
    },
    "kernelspec": {
      "name": "python3",
      "display_name": "Python 3"
    },
    "accelerator": "TPU"
  },
  "cells": [
    {
      "cell_type": "markdown",
      "metadata": {
        "id": "view-in-github",
        "colab_type": "text"
      },
      "source": [
        "<a href=\"https://colab.research.google.com/github/sangeetsaurabh/tweet_sentiment_extraction/blob/master/twitter_text_data_analysis.ipynb\" target=\"_parent\"><img src=\"https://colab.research.google.com/assets/colab-badge.svg\" alt=\"Open In Colab\"/></a>"
      ]
    },
    {
      "cell_type": "code",
      "metadata": {
        "id": "2e4snsiPOraN",
        "colab_type": "code",
        "colab": {
          "base_uri": "https://localhost:8080/",
          "height": 221
        },
        "outputId": "97cf9626-17b6-4d8a-d67a-08d86094a878"
      },
      "source": [
        "!pip3 install torchtext==0.6.0"
      ],
      "execution_count": 1,
      "outputs": [
        {
          "output_type": "stream",
          "text": [
            "Requirement already satisfied: torchtext==0.6.0 in /usr/local/lib/python3.6/dist-packages (0.6.0)\n",
            "Requirement already satisfied: numpy in /usr/local/lib/python3.6/dist-packages (from torchtext==0.6.0) (1.18.5)\n",
            "Requirement already satisfied: tqdm in /usr/local/lib/python3.6/dist-packages (from torchtext==0.6.0) (4.41.1)\n",
            "Requirement already satisfied: requests in /usr/local/lib/python3.6/dist-packages (from torchtext==0.6.0) (2.23.0)\n",
            "Requirement already satisfied: torch in /usr/local/lib/python3.6/dist-packages (from torchtext==0.6.0) (1.5.1+cu101)\n",
            "Requirement already satisfied: sentencepiece in /usr/local/lib/python3.6/dist-packages (from torchtext==0.6.0) (0.1.91)\n",
            "Requirement already satisfied: six in /usr/local/lib/python3.6/dist-packages (from torchtext==0.6.0) (1.12.0)\n",
            "Requirement already satisfied: chardet<4,>=3.0.2 in /usr/local/lib/python3.6/dist-packages (from requests->torchtext==0.6.0) (3.0.4)\n",
            "Requirement already satisfied: urllib3!=1.25.0,!=1.25.1,<1.26,>=1.21.1 in /usr/local/lib/python3.6/dist-packages (from requests->torchtext==0.6.0) (1.24.3)\n",
            "Requirement already satisfied: idna<3,>=2.5 in /usr/local/lib/python3.6/dist-packages (from requests->torchtext==0.6.0) (2.9)\n",
            "Requirement already satisfied: certifi>=2017.4.17 in /usr/local/lib/python3.6/dist-packages (from requests->torchtext==0.6.0) (2020.6.20)\n",
            "Requirement already satisfied: future in /usr/local/lib/python3.6/dist-packages (from torch->torchtext==0.6.0) (0.16.0)\n"
          ],
          "name": "stdout"
        }
      ]
    },
    {
      "cell_type": "code",
      "metadata": {
        "id": "lt3ZylHTsip7",
        "colab_type": "code",
        "colab": {
          "base_uri": "https://localhost:8080/",
          "height": 153
        },
        "outputId": "c5e00973-68e9-4cb1-a04f-844a2009186b"
      },
      "source": [
        "!sudo apt-get install libhunspell-dev"
      ],
      "execution_count": 2,
      "outputs": [
        {
          "output_type": "stream",
          "text": [
            "Reading package lists... Done\n",
            "Building dependency tree       \n",
            "Reading state information... Done\n",
            "libhunspell-dev is already the newest version (1.6.2-1).\n",
            "The following package was automatically installed and is no longer required:\n",
            "  libnvidia-common-440\n",
            "Use 'sudo apt autoremove' to remove it.\n",
            "0 upgraded, 0 newly installed, 0 to remove and 33 not upgraded.\n"
          ],
          "name": "stdout"
        }
      ]
    },
    {
      "cell_type": "code",
      "metadata": {
        "id": "eH1P2lKquA97",
        "colab_type": "code",
        "colab": {
          "base_uri": "https://localhost:8080/",
          "height": 411
        },
        "outputId": "025dea74-7f18-4c9e-c666-c344c43ea1c4"
      },
      "source": [
        "!pip install spacy_hunspell"
      ],
      "execution_count": 3,
      "outputs": [
        {
          "output_type": "stream",
          "text": [
            "Requirement already satisfied: spacy_hunspell in /usr/local/lib/python3.6/dist-packages (0.1.0)\n",
            "Requirement already satisfied: spacy>=2.0.0 in /usr/local/lib/python3.6/dist-packages (from spacy_hunspell) (2.2.4)\n",
            "Requirement already satisfied: hunspell==0.5.0 in /usr/local/lib/python3.6/dist-packages (from spacy_hunspell) (0.5.0)\n",
            "Requirement already satisfied: srsly<1.1.0,>=1.0.2 in /usr/local/lib/python3.6/dist-packages (from spacy>=2.0.0->spacy_hunspell) (1.0.2)\n",
            "Requirement already satisfied: preshed<3.1.0,>=3.0.2 in /usr/local/lib/python3.6/dist-packages (from spacy>=2.0.0->spacy_hunspell) (3.0.2)\n",
            "Requirement already satisfied: numpy>=1.15.0 in /usr/local/lib/python3.6/dist-packages (from spacy>=2.0.0->spacy_hunspell) (1.18.5)\n",
            "Requirement already satisfied: tqdm<5.0.0,>=4.38.0 in /usr/local/lib/python3.6/dist-packages (from spacy>=2.0.0->spacy_hunspell) (4.41.1)\n",
            "Requirement already satisfied: requests<3.0.0,>=2.13.0 in /usr/local/lib/python3.6/dist-packages (from spacy>=2.0.0->spacy_hunspell) (2.23.0)\n",
            "Requirement already satisfied: murmurhash<1.1.0,>=0.28.0 in /usr/local/lib/python3.6/dist-packages (from spacy>=2.0.0->spacy_hunspell) (1.0.2)\n",
            "Requirement already satisfied: thinc==7.4.0 in /usr/local/lib/python3.6/dist-packages (from spacy>=2.0.0->spacy_hunspell) (7.4.0)\n",
            "Requirement already satisfied: setuptools in /usr/local/lib/python3.6/dist-packages (from spacy>=2.0.0->spacy_hunspell) (47.3.1)\n",
            "Requirement already satisfied: blis<0.5.0,>=0.4.0 in /usr/local/lib/python3.6/dist-packages (from spacy>=2.0.0->spacy_hunspell) (0.4.1)\n",
            "Requirement already satisfied: wasabi<1.1.0,>=0.4.0 in /usr/local/lib/python3.6/dist-packages (from spacy>=2.0.0->spacy_hunspell) (0.7.0)\n",
            "Requirement already satisfied: cymem<2.1.0,>=2.0.2 in /usr/local/lib/python3.6/dist-packages (from spacy>=2.0.0->spacy_hunspell) (2.0.3)\n",
            "Requirement already satisfied: catalogue<1.1.0,>=0.0.7 in /usr/local/lib/python3.6/dist-packages (from spacy>=2.0.0->spacy_hunspell) (1.0.0)\n",
            "Requirement already satisfied: plac<1.2.0,>=0.9.6 in /usr/local/lib/python3.6/dist-packages (from spacy>=2.0.0->spacy_hunspell) (1.1.3)\n",
            "Requirement already satisfied: certifi>=2017.4.17 in /usr/local/lib/python3.6/dist-packages (from requests<3.0.0,>=2.13.0->spacy>=2.0.0->spacy_hunspell) (2020.6.20)\n",
            "Requirement already satisfied: idna<3,>=2.5 in /usr/local/lib/python3.6/dist-packages (from requests<3.0.0,>=2.13.0->spacy>=2.0.0->spacy_hunspell) (2.9)\n",
            "Requirement already satisfied: urllib3!=1.25.0,!=1.25.1,<1.26,>=1.21.1 in /usr/local/lib/python3.6/dist-packages (from requests<3.0.0,>=2.13.0->spacy>=2.0.0->spacy_hunspell) (1.24.3)\n",
            "Requirement already satisfied: chardet<4,>=3.0.2 in /usr/local/lib/python3.6/dist-packages (from requests<3.0.0,>=2.13.0->spacy>=2.0.0->spacy_hunspell) (3.0.4)\n",
            "Requirement already satisfied: importlib-metadata>=0.20; python_version < \"3.8\" in /usr/local/lib/python3.6/dist-packages (from catalogue<1.1.0,>=0.0.7->spacy>=2.0.0->spacy_hunspell) (1.6.1)\n",
            "Requirement already satisfied: zipp>=0.5 in /usr/local/lib/python3.6/dist-packages (from importlib-metadata>=0.20; python_version < \"3.8\"->catalogue<1.1.0,>=0.0.7->spacy>=2.0.0->spacy_hunspell) (3.1.0)\n"
          ],
          "name": "stdout"
        }
      ]
    },
    {
      "cell_type": "code",
      "metadata": {
        "id": "UiJicmMYAWaZ",
        "colab_type": "code",
        "colab": {
          "base_uri": "https://localhost:8080/",
          "height": 34
        },
        "outputId": "90dd17e7-34c3-425f-8e97-811c36aefbcc"
      },
      "source": [
        "!pip3 install Cython"
      ],
      "execution_count": 4,
      "outputs": [
        {
          "output_type": "stream",
          "text": [
            "Requirement already satisfied: Cython in /usr/local/lib/python3.6/dist-packages (0.29.20)\n"
          ],
          "name": "stdout"
        }
      ]
    },
    {
      "cell_type": "code",
      "metadata": {
        "id": "HD9njaR4deL1",
        "colab_type": "code",
        "colab": {}
      },
      "source": [
        "import pandas as pd\n",
        "import re\n",
        "from collections import Collection\n",
        "\n",
        "import torch\n",
        "import torch.nn as nn\n",
        "import torch.optim as optim\n",
        "\n",
        "from torchtext.datasets import TranslationDataset\n",
        "from torchtext.data import Field, BucketIterator\n",
        "from torchtext.data.metrics import bleu_score\n",
        "\n",
        "import spacy\n",
        "import numpy as np\n",
        "\n",
        "import random\n",
        "import math\n",
        "import time\n",
        "import matplotlib.pyplot as plt\n",
        "\n",
        "\n",
        "import warnings\n",
        "warnings.filterwarnings('ignore')"
      ],
      "execution_count": 5,
      "outputs": []
    },
    {
      "cell_type": "markdown",
      "metadata": {
        "id": "pXNJOGT3sWbQ",
        "colab_type": "text"
      },
      "source": [
        "##### Mount the Google drive for input/output"
      ]
    },
    {
      "cell_type": "code",
      "metadata": {
        "id": "X1A4RNcydk7g",
        "colab_type": "code",
        "colab": {
          "base_uri": "https://localhost:8080/",
          "height": 34
        },
        "outputId": "5a2077ac-1adb-4f03-900d-b094fbb634ba"
      },
      "source": [
        "from google.colab import drive\n",
        "drive.mount('/content/drive')"
      ],
      "execution_count": 6,
      "outputs": [
        {
          "output_type": "stream",
          "text": [
            "Drive already mounted at /content/drive; to attempt to forcibly remount, call drive.mount(\"/content/drive\", force_remount=True).\n"
          ],
          "name": "stdout"
        }
      ]
    },
    {
      "cell_type": "code",
      "metadata": {
        "id": "ibWYPmIyffqv",
        "colab_type": "code",
        "colab": {}
      },
      "source": [
        "data_folder = \"/content/drive/My Drive/tweet-sentiment-extraction/data\"\n",
        "tmp_folder = '/tmp'"
      ],
      "execution_count": 7,
      "outputs": []
    },
    {
      "cell_type": "code",
      "metadata": {
        "id": "VJXslzVXfrM5",
        "colab_type": "code",
        "colab": {
          "base_uri": "https://localhost:8080/",
          "height": 51
        },
        "outputId": "d40eef4b-60f2-490e-b080-f3ed81927f55"
      },
      "source": [
        "pd.set_option('display.max_colwidth', None)\n",
        "pd.set_option('display.max_rows', 500)\n",
        "\n",
        "train_data = pd.read_csv(data_folder+ \"/train.csv\")\n",
        "test_data = pd.read_csv(data_folder+ \"/test.csv\")\n",
        "\n",
        "print(train_data.shape)\n",
        "print(test_data.shape)"
      ],
      "execution_count": 8,
      "outputs": [
        {
          "output_type": "stream",
          "text": [
            "(27481, 4)\n",
            "(3534, 3)\n"
          ],
          "name": "stdout"
        }
      ]
    },
    {
      "cell_type": "code",
      "metadata": {
        "id": "GjJHvCdp_2us",
        "colab_type": "code",
        "colab": {}
      },
      "source": [
        "### Removing rows with null value\n",
        "train_data = train_data[train_data.text == train_data.text]\n",
        "test_data = test_data[test_data.text == test_data.text]"
      ],
      "execution_count": 9,
      "outputs": []
    },
    {
      "cell_type": "code",
      "metadata": {
        "id": "o1oHgJgrhlS8",
        "colab_type": "code",
        "colab": {
          "base_uri": "https://localhost:8080/",
          "height": 204
        },
        "outputId": "e7663d60-d419-4b8c-ebbc-29cec491caa5"
      },
      "source": [
        "test_data.head()"
      ],
      "execution_count": 10,
      "outputs": [
        {
          "output_type": "execute_result",
          "data": {
            "text/html": [
              "<div>\n",
              "<style scoped>\n",
              "    .dataframe tbody tr th:only-of-type {\n",
              "        vertical-align: middle;\n",
              "    }\n",
              "\n",
              "    .dataframe tbody tr th {\n",
              "        vertical-align: top;\n",
              "    }\n",
              "\n",
              "    .dataframe thead th {\n",
              "        text-align: right;\n",
              "    }\n",
              "</style>\n",
              "<table border=\"1\" class=\"dataframe\">\n",
              "  <thead>\n",
              "    <tr style=\"text-align: right;\">\n",
              "      <th></th>\n",
              "      <th>textID</th>\n",
              "      <th>text</th>\n",
              "      <th>sentiment</th>\n",
              "    </tr>\n",
              "  </thead>\n",
              "  <tbody>\n",
              "    <tr>\n",
              "      <th>0</th>\n",
              "      <td>f87dea47db</td>\n",
              "      <td>Last session of the day  http://twitpic.com/67ezh</td>\n",
              "      <td>neutral</td>\n",
              "    </tr>\n",
              "    <tr>\n",
              "      <th>1</th>\n",
              "      <td>96d74cb729</td>\n",
              "      <td>Shanghai is also really exciting (precisely -- skyscrapers galore). Good tweeps in China:  (SH)  (BJ).</td>\n",
              "      <td>positive</td>\n",
              "    </tr>\n",
              "    <tr>\n",
              "      <th>2</th>\n",
              "      <td>eee518ae67</td>\n",
              "      <td>Recession hit Veronique Branquinho, she has to quit her company, such a shame!</td>\n",
              "      <td>negative</td>\n",
              "    </tr>\n",
              "    <tr>\n",
              "      <th>3</th>\n",
              "      <td>01082688c6</td>\n",
              "      <td>happy bday!</td>\n",
              "      <td>positive</td>\n",
              "    </tr>\n",
              "    <tr>\n",
              "      <th>4</th>\n",
              "      <td>33987a8ee5</td>\n",
              "      <td>http://twitpic.com/4w75p - I like it!!</td>\n",
              "      <td>positive</td>\n",
              "    </tr>\n",
              "  </tbody>\n",
              "</table>\n",
              "</div>"
            ],
            "text/plain": [
              "       textID  ... sentiment\n",
              "0  f87dea47db  ...   neutral\n",
              "1  96d74cb729  ...  positive\n",
              "2  eee518ae67  ...  negative\n",
              "3  01082688c6  ...  positive\n",
              "4  33987a8ee5  ...  positive\n",
              "\n",
              "[5 rows x 3 columns]"
            ]
          },
          "metadata": {
            "tags": []
          },
          "execution_count": 10
        }
      ]
    },
    {
      "cell_type": "code",
      "metadata": {
        "id": "IbHRwbH0Qtx2",
        "colab_type": "code",
        "colab": {
          "base_uri": "https://localhost:8080/",
          "height": 204
        },
        "outputId": "fbdf1dd7-bde1-4bc8-f0c5-2dee2f598c02"
      },
      "source": [
        "train_data.head(5)"
      ],
      "execution_count": 11,
      "outputs": [
        {
          "output_type": "execute_result",
          "data": {
            "text/html": [
              "<div>\n",
              "<style scoped>\n",
              "    .dataframe tbody tr th:only-of-type {\n",
              "        vertical-align: middle;\n",
              "    }\n",
              "\n",
              "    .dataframe tbody tr th {\n",
              "        vertical-align: top;\n",
              "    }\n",
              "\n",
              "    .dataframe thead th {\n",
              "        text-align: right;\n",
              "    }\n",
              "</style>\n",
              "<table border=\"1\" class=\"dataframe\">\n",
              "  <thead>\n",
              "    <tr style=\"text-align: right;\">\n",
              "      <th></th>\n",
              "      <th>textID</th>\n",
              "      <th>text</th>\n",
              "      <th>selected_text</th>\n",
              "      <th>sentiment</th>\n",
              "    </tr>\n",
              "  </thead>\n",
              "  <tbody>\n",
              "    <tr>\n",
              "      <th>0</th>\n",
              "      <td>cb774db0d1</td>\n",
              "      <td>I`d have responded, if I were going</td>\n",
              "      <td>I`d have responded, if I were going</td>\n",
              "      <td>neutral</td>\n",
              "    </tr>\n",
              "    <tr>\n",
              "      <th>1</th>\n",
              "      <td>549e992a42</td>\n",
              "      <td>Sooo SAD I will miss you here in San Diego!!!</td>\n",
              "      <td>Sooo SAD</td>\n",
              "      <td>negative</td>\n",
              "    </tr>\n",
              "    <tr>\n",
              "      <th>2</th>\n",
              "      <td>088c60f138</td>\n",
              "      <td>my boss is bullying me...</td>\n",
              "      <td>bullying me</td>\n",
              "      <td>negative</td>\n",
              "    </tr>\n",
              "    <tr>\n",
              "      <th>3</th>\n",
              "      <td>9642c003ef</td>\n",
              "      <td>what interview! leave me alone</td>\n",
              "      <td>leave me alone</td>\n",
              "      <td>negative</td>\n",
              "    </tr>\n",
              "    <tr>\n",
              "      <th>4</th>\n",
              "      <td>358bd9e861</td>\n",
              "      <td>Sons of ****, why couldn`t they put them on the releases we already bought</td>\n",
              "      <td>Sons of ****,</td>\n",
              "      <td>negative</td>\n",
              "    </tr>\n",
              "  </tbody>\n",
              "</table>\n",
              "</div>"
            ],
            "text/plain": [
              "       textID  ... sentiment\n",
              "0  cb774db0d1  ...   neutral\n",
              "1  549e992a42  ...  negative\n",
              "2  088c60f138  ...  negative\n",
              "3  9642c003ef  ...  negative\n",
              "4  358bd9e861  ...  negative\n",
              "\n",
              "[5 rows x 4 columns]"
            ]
          },
          "metadata": {
            "tags": []
          },
          "execution_count": 11
        }
      ]
    },
    {
      "cell_type": "code",
      "metadata": {
        "id": "bkdgKM0DmffB",
        "colab_type": "code",
        "colab": {}
      },
      "source": [
        "### Remove spaces before and after sentecnces\n",
        "train_data[\"text_len\"] = train_data[\"text\"].str.strip()\n",
        "train_data[\"sel_text_len\"] = train_data[\"selected_text\"].str.strip()\n",
        "\n",
        "#### Calculate the number of words\n",
        "train_data[\"text_len\"] = train_data[\"text\"].str.split()\n",
        "train_data[\"sel_text_len\"] = train_data[\"selected_text\"].str.split()\n",
        "\n",
        "train_data[\"text_len\"] = train_data[\"text_len\"].str.len()\n",
        "train_data[\"sel_text_len\"] = train_data[\"sel_text_len\"].str.len()"
      ],
      "execution_count": 12,
      "outputs": []
    },
    {
      "cell_type": "code",
      "metadata": {
        "id": "-D1az_o6n19K",
        "colab_type": "code",
        "colab": {
          "base_uri": "https://localhost:8080/",
          "height": 204
        },
        "outputId": "90c63cfc-04f3-474f-d5fb-2a2085ad5468"
      },
      "source": [
        "train_data.head()"
      ],
      "execution_count": 13,
      "outputs": [
        {
          "output_type": "execute_result",
          "data": {
            "text/html": [
              "<div>\n",
              "<style scoped>\n",
              "    .dataframe tbody tr th:only-of-type {\n",
              "        vertical-align: middle;\n",
              "    }\n",
              "\n",
              "    .dataframe tbody tr th {\n",
              "        vertical-align: top;\n",
              "    }\n",
              "\n",
              "    .dataframe thead th {\n",
              "        text-align: right;\n",
              "    }\n",
              "</style>\n",
              "<table border=\"1\" class=\"dataframe\">\n",
              "  <thead>\n",
              "    <tr style=\"text-align: right;\">\n",
              "      <th></th>\n",
              "      <th>textID</th>\n",
              "      <th>text</th>\n",
              "      <th>selected_text</th>\n",
              "      <th>sentiment</th>\n",
              "      <th>text_len</th>\n",
              "      <th>sel_text_len</th>\n",
              "    </tr>\n",
              "  </thead>\n",
              "  <tbody>\n",
              "    <tr>\n",
              "      <th>0</th>\n",
              "      <td>cb774db0d1</td>\n",
              "      <td>I`d have responded, if I were going</td>\n",
              "      <td>I`d have responded, if I were going</td>\n",
              "      <td>neutral</td>\n",
              "      <td>7</td>\n",
              "      <td>7</td>\n",
              "    </tr>\n",
              "    <tr>\n",
              "      <th>1</th>\n",
              "      <td>549e992a42</td>\n",
              "      <td>Sooo SAD I will miss you here in San Diego!!!</td>\n",
              "      <td>Sooo SAD</td>\n",
              "      <td>negative</td>\n",
              "      <td>10</td>\n",
              "      <td>2</td>\n",
              "    </tr>\n",
              "    <tr>\n",
              "      <th>2</th>\n",
              "      <td>088c60f138</td>\n",
              "      <td>my boss is bullying me...</td>\n",
              "      <td>bullying me</td>\n",
              "      <td>negative</td>\n",
              "      <td>5</td>\n",
              "      <td>2</td>\n",
              "    </tr>\n",
              "    <tr>\n",
              "      <th>3</th>\n",
              "      <td>9642c003ef</td>\n",
              "      <td>what interview! leave me alone</td>\n",
              "      <td>leave me alone</td>\n",
              "      <td>negative</td>\n",
              "      <td>5</td>\n",
              "      <td>3</td>\n",
              "    </tr>\n",
              "    <tr>\n",
              "      <th>4</th>\n",
              "      <td>358bd9e861</td>\n",
              "      <td>Sons of ****, why couldn`t they put them on the releases we already bought</td>\n",
              "      <td>Sons of ****,</td>\n",
              "      <td>negative</td>\n",
              "      <td>14</td>\n",
              "      <td>3</td>\n",
              "    </tr>\n",
              "  </tbody>\n",
              "</table>\n",
              "</div>"
            ],
            "text/plain": [
              "       textID  ... sel_text_len\n",
              "0  cb774db0d1  ...            7\n",
              "1  549e992a42  ...            2\n",
              "2  088c60f138  ...            2\n",
              "3  9642c003ef  ...            3\n",
              "4  358bd9e861  ...            3\n",
              "\n",
              "[5 rows x 6 columns]"
            ]
          },
          "metadata": {
            "tags": []
          },
          "execution_count": 13
        }
      ]
    },
    {
      "cell_type": "code",
      "metadata": {
        "id": "7e2e-YWxoOSf",
        "colab_type": "code",
        "colab": {
          "base_uri": "https://localhost:8080/",
          "height": 471
        },
        "outputId": "3e6b5c7c-d0f7-436d-8cfe-43112c83062f"
      },
      "source": [
        "train_data[[\"sentiment\",\"text_len\",\"sel_text_len\"]].boxplot(by=\"sentiment\",column=[\"text_len\",\"sel_text_len\"], showfliers=False,grid=False,layout=(2, 1),figsize=(12,6))\n"
      ],
      "execution_count": 14,
      "outputs": [
        {
          "output_type": "execute_result",
          "data": {
            "text/plain": [
              "array([<matplotlib.axes._subplots.AxesSubplot object at 0x7f81f50bde80>,\n",
              "       <matplotlib.axes._subplots.AxesSubplot object at 0x7f81f2ae0ac8>],\n",
              "      dtype=object)"
            ]
          },
          "metadata": {
            "tags": []
          },
          "execution_count": 14
        },
        {
          "output_type": "display_data",
          "data": {
            "image/png": "[encoded data removed]",
            "text/plain": [
              "<Figure size 864x432 with 2 Axes>"
            ]
          },
          "metadata": {
            "tags": [],
            "needs_background": "light"
          }
        }
      ]
    },
    {
      "cell_type": "code",
      "metadata": {
        "id": "1v4CD6CMpCtK",
        "colab_type": "code",
        "colab": {
          "base_uri": "https://localhost:8080/",
          "height": 297
        },
        "outputId": "4600092a-fbe5-48bd-8801-116fad01ca26"
      },
      "source": [
        "train_data[[\"text_len\",\"sel_text_len\"]].describe()"
      ],
      "execution_count": 15,
      "outputs": [
        {
          "output_type": "execute_result",
          "data": {
            "text/html": [
              "<div>\n",
              "<style scoped>\n",
              "    .dataframe tbody tr th:only-of-type {\n",
              "        vertical-align: middle;\n",
              "    }\n",
              "\n",
              "    .dataframe tbody tr th {\n",
              "        vertical-align: top;\n",
              "    }\n",
              "\n",
              "    .dataframe thead th {\n",
              "        text-align: right;\n",
              "    }\n",
              "</style>\n",
              "<table border=\"1\" class=\"dataframe\">\n",
              "  <thead>\n",
              "    <tr style=\"text-align: right;\">\n",
              "      <th></th>\n",
              "      <th>text_len</th>\n",
              "      <th>sel_text_len</th>\n",
              "    </tr>\n",
              "  </thead>\n",
              "  <tbody>\n",
              "    <tr>\n",
              "      <th>count</th>\n",
              "      <td>27480.000000</td>\n",
              "      <td>27480.000000</td>\n",
              "    </tr>\n",
              "    <tr>\n",
              "      <th>mean</th>\n",
              "      <td>12.902875</td>\n",
              "      <td>7.102511</td>\n",
              "    </tr>\n",
              "    <tr>\n",
              "      <th>std</th>\n",
              "      <td>6.925938</td>\n",
              "      <td>6.891179</td>\n",
              "    </tr>\n",
              "    <tr>\n",
              "      <th>min</th>\n",
              "      <td>1.000000</td>\n",
              "      <td>1.000000</td>\n",
              "    </tr>\n",
              "    <tr>\n",
              "      <th>25%</th>\n",
              "      <td>7.000000</td>\n",
              "      <td>1.000000</td>\n",
              "    </tr>\n",
              "    <tr>\n",
              "      <th>50%</th>\n",
              "      <td>12.000000</td>\n",
              "      <td>4.000000</td>\n",
              "    </tr>\n",
              "    <tr>\n",
              "      <th>75%</th>\n",
              "      <td>18.000000</td>\n",
              "      <td>11.000000</td>\n",
              "    </tr>\n",
              "    <tr>\n",
              "      <th>max</th>\n",
              "      <td>33.000000</td>\n",
              "      <td>33.000000</td>\n",
              "    </tr>\n",
              "  </tbody>\n",
              "</table>\n",
              "</div>"
            ],
            "text/plain": [
              "           text_len  sel_text_len\n",
              "count  27480.000000  27480.000000\n",
              "mean      12.902875      7.102511\n",
              "std        6.925938      6.891179\n",
              "min        1.000000      1.000000\n",
              "25%        7.000000      1.000000\n",
              "50%       12.000000      4.000000\n",
              "75%       18.000000     11.000000\n",
              "max       33.000000     33.000000"
            ]
          },
          "metadata": {
            "tags": []
          },
          "execution_count": 15
        }
      ]
    },
    {
      "cell_type": "markdown",
      "metadata": {
        "id": "PGjR1mx6Lrv9",
        "colab_type": "text"
      },
      "source": [
        "#### Save the data to load into Torch dataset"
      ]
    },
    {
      "cell_type": "code",
      "metadata": {
        "id": "GS82F_5iMDUe",
        "colab_type": "code",
        "colab": {}
      },
      "source": [
        "train_data[\"text\"].to_csv(tmp_folder + \"/train_data.text\",index=False,header=False)\n",
        "train_data[\"selected_text\"].to_csv(tmp_folder + \"/train_data.stext\",index=False,header=False)"
      ],
      "execution_count": 16,
      "outputs": []
    },
    {
      "cell_type": "markdown",
      "metadata": {
        "id": "ifQOTlF2OPvs",
        "colab_type": "text"
      },
      "source": [
        "#### Load the Torch dataset"
      ]
    },
    {
      "cell_type": "code",
      "metadata": {
        "id": "01ZL6nRUdx4a",
        "colab_type": "code",
        "colab": {}
      },
      "source": [
        "#### Preprocessing of data\n",
        "from typing import Collection\n",
        "import html\n",
        "BOS,EOS,FLD,UNK,PAD = 'xxbos','xxeos','xxfld','xxunk','xxpad'\n",
        "TK_MAJ,TK_UP,TK_REP,TK_WREP = 'xxmaj','xxup','xxrep','xxwrep'\n",
        "\n",
        "def spec_add_spaces(t:str) -> str:\n",
        "    \"Add spaces around / and # in `t`. \\n\"\n",
        "    #print(t)\n",
        "    return re.sub(r'([/#\\n/.])', r' \\1 ', t)\n",
        "\n",
        "\n",
        "def rm_useless_spaces(t:str) -> str:\n",
        "    \"Remove multiple spaces in `t`.\"\n",
        "    return re.sub(' {2,}', ' ', t)\n",
        "\n",
        "\n",
        "def replace_rep(t:str) -> str:\n",
        "    \"Replace repetitions at the character level in `t`.\"\n",
        "    def _replace_rep(m:Collection[str]) -> str:\n",
        "        c,cc = m.groups()\n",
        "        return f' {TK_REP} {len(cc)+1} {c} '\n",
        "    re_rep = re.compile(r'(\\S)(\\1{3,})')\n",
        "    return re_rep.sub(_replace_rep, t)\n",
        "\n",
        "def replace_wrep(t:str) -> str:\n",
        "    \"Replace word repetitions in `t`.\"\n",
        "    def _replace_wrep(m:Collection[str]) -> str:\n",
        "        c,cc = m.groups()\n",
        "        return f' {TK_WREP} {len(cc.split())+1} {c} '\n",
        "    re_wrep = re.compile(r'(\\b\\w+\\W+)(\\1{3,})')\n",
        "    return re_wrep.sub(_replace_wrep, t)\n",
        "\n",
        "def fix_html(x:str) -> str:\n",
        "    \"List of replacements from html strings in `x`.\"\n",
        "    re1 = re.compile(r'  +')\n",
        "    x = x.replace('#39;', \"'\").replace('amp;', '&').replace('#146;', \"'\").replace(\n",
        "        'nbsp;', ' ').replace('#36;', '$').replace('\\\\n', \"\\n\").replace('quot;', \"'\").replace(\n",
        "        '<br />', \"\\n\").replace('\\\\\"', '\"').replace('<unk>',UNK).replace(' @.@ ','.').replace(\n",
        "        ' @-@ ','-').replace(' @,@ ',',').replace('\\\\', ' \\\\ ')\n",
        "    return re1.sub(' ', html.unescape(x))\n",
        "\n",
        "def replace_all_caps(x:Collection[str]) -> Collection[str]:\n",
        "    \"Replace tokens in ALL CAPS in `x` by their lower version and add `TK_UP` before.\"\n",
        "    res = []\n",
        "    for t in x:\n",
        "        if t.isupper() and len(t) > 1: res.append(TK_UP); res.append(t.lower())\n",
        "        else: res.append(t)\n",
        "    return res\n",
        "\n",
        "def deal_caps(x:Collection[str]) -> Collection[str]:\n",
        "    \"Replace all Capitalized tokens in `x` by their lower version and add `TK_MAJ` before.\"\n",
        "    res = []\n",
        "    for t in x:\n",
        "        if t == '': continue\n",
        "        if t[0].isupper() and len(t) > 1 and t[1:].islower(): res.append(TK_MAJ)\n",
        "        res.append(t.lower())\n",
        "    return res\n",
        "\n",
        "text_pre_rules = [fix_html, replace_rep, replace_wrep, spec_add_spaces, rm_useless_spaces]\n",
        "text_post_rules = [replace_all_caps, deal_caps]"
      ],
      "execution_count": 17,
      "outputs": []
    },
    {
      "cell_type": "code",
      "metadata": {
        "id": "FidQCItpy6Fr",
        "colab_type": "code",
        "colab": {}
      },
      "source": [
        "def sequential_transforms(transforms=[]):\n",
        "    def _forward(txt_input):\n",
        "        #print(txt_input)\n",
        "        for transform in transforms:\n",
        "            #print(transform)\n",
        "            txt_input = transform(txt_input)\n",
        "        return txt_input\n",
        "    return _forward"
      ],
      "execution_count": 18,
      "outputs": []
    },
    {
      "cell_type": "code",
      "metadata": {
        "id": "rk_MPD0ZzTGL",
        "colab_type": "code",
        "colab": {}
      },
      "source": [
        "text_preprocess = sequential_transforms(text_pre_rules)\n",
        "\n",
        "text_post_preprocess = sequential_transforms(text_post_rules)"
      ],
      "execution_count": 19,
      "outputs": []
    },
    {
      "cell_type": "code",
      "metadata": {
        "id": "EsnrA-InKo3F",
        "colab_type": "code",
        "colab": {
          "base_uri": "https://localhost:8080/",
          "height": 35
        },
        "outputId": "0f436383-c74f-440e-b00a-389aee62a990"
      },
      "source": [
        "text_preprocess(\"Sons of ****, why couldn`t they put them on the releases we already bought\")"
      ],
      "execution_count": 20,
      "outputs": [
        {
          "output_type": "execute_result",
          "data": {
            "application/vnd.google.colaboratory.intrinsic": {
              "type": "string"
            },
            "text/plain": [
              "'Sons of xxrep 4 * , why couldn`t they put them on the releases we already bought'"
            ]
          },
          "metadata": {
            "tags": []
          },
          "execution_count": 20
        }
      ]
    },
    {
      "cell_type": "code",
      "metadata": {
        "id": "vgOjYdMbbvXY",
        "colab_type": "code",
        "colab": {}
      },
      "source": [
        "spacy_en = spacy.load('en')"
      ],
      "execution_count": 21,
      "outputs": []
    },
    {
      "cell_type": "code",
      "metadata": {
        "id": "EjI6eILIbm1g",
        "colab_type": "code",
        "colab": {}
      },
      "source": [
        "def tokenize_src(text):\n",
        "    \"\"\"\n",
        "    Tokenizes text from a string into a list of strings (tokens) and reverses it\n",
        "    \"\"\"\n",
        "    #return [tok.text for tok in spacy_en.tokenizer(text)][::-1]\n",
        "    text = text_preprocess(text)\n",
        "    return [tok.text for tok in spacy_en.tokenizer(text)]\n",
        "\n",
        "def tokenize_trg(text):\n",
        "    \"\"\"\n",
        "    Tokenizes English text from a string into a list of strings (tokens)\n",
        "    \"\"\"\n",
        "    text = text_preprocess(text)\n",
        "    return [tok.text for tok in spacy_en.tokenizer(text)]"
      ],
      "execution_count": 22,
      "outputs": []
    },
    {
      "cell_type": "code",
      "metadata": {
        "id": "TmMcSkcmcW3E",
        "colab_type": "code",
        "colab": {}
      },
      "source": [
        "src_sentences = Field(tokenize = tokenize_src, \n",
        "              init_token = '<sos>', \n",
        "              eos_token = '<eos>', \n",
        "              lower = False,\n",
        "              preprocessing = text_post_preprocess)\n",
        "              #postprocessing = text_post_preprocess)\n",
        "\n",
        "trg_sentences = Field(tokenize = tokenize_trg, \n",
        "              init_token = '<sos>', \n",
        "              eos_token = '<eos>', \n",
        "              lower = False,\n",
        "              preprocessing = text_post_preprocess)\n",
        "              #postprocessing = text_post_preprocess)"
      ],
      "execution_count": 23,
      "outputs": []
    },
    {
      "cell_type": "markdown",
      "metadata": {
        "id": "XACZm4IrdA35",
        "colab_type": "text"
      },
      "source": [
        "Load the Train *Datasets* to understand words and characters in sentences"
      ]
    },
    {
      "cell_type": "code",
      "metadata": {
        "id": "X4JqEV7xc-4o",
        "colab_type": "code",
        "colab": {}
      },
      "source": [
        "(train_dataset) = TranslationDataset.splits(exts = ('.text', '.stext'), path=tmp_folder,\n",
        "                                                    fields = (src_sentences, trg_sentences),train='train_data',validation=None,test=None)"
      ],
      "execution_count": 24,
      "outputs": []
    },
    {
      "cell_type": "code",
      "metadata": {
        "id": "ovpeR6VoRu70",
        "colab_type": "code",
        "colab": {}
      },
      "source": [
        "train_dataset = train_dataset[0]"
      ],
      "execution_count": 25,
      "outputs": []
    },
    {
      "cell_type": "code",
      "metadata": {
        "id": "x13Jw_U3Pwzo",
        "colab_type": "code",
        "colab": {
          "base_uri": "https://localhost:8080/",
          "height": 323
        },
        "outputId": "9738b3c8-f798-4060-81f7-b595c1c14ae9"
      },
      "source": [
        "vars(train_dataset.examples[1])"
      ],
      "execution_count": 26,
      "outputs": [
        {
          "output_type": "execute_result",
          "data": {
            "text/plain": [
              "{'src': ['xxmaj',\n",
              "  'sooo',\n",
              "  'xxup',\n",
              "  'sad',\n",
              "  'i',\n",
              "  'will',\n",
              "  'miss',\n",
              "  'you',\n",
              "  'here',\n",
              "  'in',\n",
              "  'xxmaj',\n",
              "  'san',\n",
              "  'xxmaj',\n",
              "  'diego',\n",
              "  '!',\n",
              "  '!',\n",
              "  '!'],\n",
              " 'trg': ['xxmaj', 'sooo', 'xxup', 'sad']}"
            ]
          },
          "metadata": {
            "tags": []
          },
          "execution_count": 26
        }
      ]
    },
    {
      "cell_type": "code",
      "metadata": {
        "id": "sMSLIO-ylW5l",
        "colab_type": "code",
        "colab": {
          "base_uri": "https://localhost:8080/",
          "height": 54
        },
        "outputId": "26efbc67-87bb-4003-9809-e3996132ed38"
      },
      "source": [
        "print(vars(train_dataset.examples[20]))"
      ],
      "execution_count": 27,
      "outputs": [
        {
          "output_type": "stream",
          "text": [
            "{'src': ['\"', 'oh', 'xxmaj', 'marly', ',', 'xxmaj', 'i`m', 'so', 'sorry', '!', '!', 'i', 'hope', 'you', 'find', 'her', 'soon', '!', '!', '<3', '<3', '\"'], 'trg': ['\"', 'oh', 'xxmaj', 'marly', ',', 'xxmaj', 'i`m', 'so', 'sorry', '!', '!', 'i', 'hope', 'you', 'find', 'her', 'soon', '!', '!', '<3', '<3', '\"']}\n"
          ],
          "name": "stdout"
        }
      ]
    },
    {
      "cell_type": "code",
      "metadata": {
        "id": "JoE8lWqflwF0",
        "colab_type": "code",
        "colab": {
          "base_uri": "https://localhost:8080/",
          "height": 34
        },
        "outputId": "49c4bd1f-faf0-4e11-9eca-aa33646ffb0b"
      },
      "source": [
        "print(f\"Number of training examples: {len(train_dataset.examples)}\")\n",
        "#print(f\"Number of validation examples: {len(valid_data.examples)}\")"
      ],
      "execution_count": 28,
      "outputs": [
        {
          "output_type": "stream",
          "text": [
            "Number of training examples: 27480\n"
          ],
          "name": "stdout"
        }
      ]
    },
    {
      "cell_type": "markdown",
      "metadata": {
        "id": "g05bjiqOotsr",
        "colab_type": "text"
      },
      "source": [
        "Build the vocab"
      ]
    },
    {
      "cell_type": "code",
      "metadata": {
        "id": "6QnIAAbklzc8",
        "colab_type": "code",
        "colab": {
          "base_uri": "https://localhost:8080/",
          "height": 51
        },
        "outputId": "2b660182-82fc-4aff-a61d-d3d288e8e07a"
      },
      "source": [
        "src_sentences.build_vocab(train_dataset, min_freq = 1)\n",
        "trg_sentences.build_vocab(train_dataset, min_freq = 1)\n",
        "print(f\"Unique tokens in source (Text) vocabulary: {len(src_sentences.vocab)}\")\n",
        "print(f\"Unique tokens in target (SSelected Text) vocabulary: {len(trg_sentences.vocab)}\")"
      ],
      "execution_count": 29,
      "outputs": [
        {
          "output_type": "stream",
          "text": [
            "Unique tokens in source (Text) vocabulary: 26698\n",
            "Unique tokens in target (SSelected Text) vocabulary: 17782\n"
          ],
          "name": "stdout"
        }
      ]
    },
    {
      "cell_type": "code",
      "metadata": {
        "id": "bKVl6cauwO4q",
        "colab_type": "code",
        "colab": {
          "base_uri": "https://localhost:8080/",
          "height": 34
        },
        "outputId": "bd44e08e-fe28-4213-bc7d-e21872a8fe6f"
      },
      "source": [
        "src_sentences.vocab.itos[0:10]"
      ],
      "execution_count": 30,
      "outputs": [
        {
          "output_type": "execute_result",
          "data": {
            "text/plain": [
              "['<unk>', '<pad>', '<sos>', '<eos>', 'xxmaj', '.', 'i', '!', '\"', 'to']"
            ]
          },
          "metadata": {
            "tags": []
          },
          "execution_count": 30
        }
      ]
    },
    {
      "cell_type": "code",
      "metadata": {
        "id": "MuQt_eAe4syD",
        "colab_type": "code",
        "colab": {
          "base_uri": "https://localhost:8080/",
          "height": 34
        },
        "outputId": "632a10ca-b825-4b35-c587-da18519bd0c0"
      },
      "source": [
        "src_sentences.vocab.stoi['xxup']"
      ],
      "execution_count": 31,
      "outputs": [
        {
          "output_type": "execute_result",
          "data": {
            "text/plain": [
              "12"
            ]
          },
          "metadata": {
            "tags": []
          },
          "execution_count": 31
        }
      ]
    },
    {
      "cell_type": "markdown",
      "metadata": {
        "id": "s84NP0ZH_nx5",
        "colab_type": "text"
      },
      "source": [
        "##### Words that exist in selected text, but they don't existed in original text"
      ]
    },
    {
      "cell_type": "code",
      "metadata": {
        "id": "WwsgFjqSEcza",
        "colab_type": "code",
        "colab": {
          "base_uri": "https://localhost:8080/",
          "height": 34
        },
        "outputId": "ad655efe-3cf7-49d8-f9f4-cc44ebd14de3"
      },
      "source": [
        "len(set(trg_sentences.vocab.itos)  - set(src_sentences.vocab.itos))"
      ],
      "execution_count": 32,
      "outputs": [
        {
          "output_type": "execute_result",
          "data": {
            "text/plain": [
              "178"
            ]
          },
          "metadata": {
            "tags": []
          },
          "execution_count": 32
        }
      ]
    },
    {
      "cell_type": "code",
      "metadata": {
        "id": "0lax17LJ6X52",
        "colab_type": "code",
        "colab": {
          "base_uri": "https://localhost:8080/",
          "height": 1000
        },
        "outputId": "82495f1d-7c4f-4944-dfb5-045b82fa358b"
      },
      "source": [
        "### List of words that are different\n",
        "set(trg_sentences.vocab.itos)  - set(src_sentences.vocab.itos)"
      ],
      "execution_count": 33,
      "outputs": [
        {
          "output_type": "execute_result",
          "data": {
            "text/plain": [
              "{'\")',\n",
              " '-a',\n",
              " '-cryy',\n",
              " '-e-',\n",
              " '-goodness',\n",
              " '-hugs',\n",
              " '-sorry',\n",
              " '-unfortunately',\n",
              " '10jsep',\n",
              " '1doe',\n",
              " '21u',\n",
              " '2n',\n",
              " '664',\n",
              " '6rww',\n",
              " 'aam',\n",
              " 'addicti',\n",
              " 'af',\n",
              " 'aga',\n",
              " 'agai',\n",
              " 'als',\n",
              " 'amazi',\n",
              " 'americ',\n",
              " 'amie',\n",
              " 'appreciat',\n",
              " 'aroun',\n",
              " 'artis',\n",
              " 'ats',\n",
              " 'awes',\n",
              " 'aweso',\n",
              " 'awesome!wa',\n",
              " 'bastard',\n",
              " 'behin',\n",
              " 'bett',\n",
              " 'bles',\n",
              " 'br',\n",
              " 'bumme',\n",
              " 'candic',\n",
              " 'canï',\n",
              " 'catche',\n",
              " 'cet0',\n",
              " 'cheshire_cat',\n",
              " 'circl',\n",
              " 'cl',\n",
              " 'clea',\n",
              " 'clueles',\n",
              " 'compan',\n",
              " 'condolence',\n",
              " 'craz',\n",
              " 'credi',\n",
              " 'crosse',\n",
              " 'dar',\n",
              " 'day*l',\n",
              " 'delicio',\n",
              " 'depresse',\n",
              " 'depressi',\n",
              " 'deserv',\n",
              " 'differe',\n",
              " 'dxd',\n",
              " 'eels',\n",
              " 'eithe',\n",
              " 'elet',\n",
              " 'embarrass',\n",
              " 'endearing-',\n",
              " 'enj',\n",
              " 'enjoye',\n",
              " 'enjoyyitverymu',\n",
              " 'ev',\n",
              " 'excit',\n",
              " 'faile',\n",
              " 'followe',\n",
              " 'foreve',\n",
              " 'forrea',\n",
              " 'forwar',\n",
              " 'frustrade',\n",
              " 'gla',\n",
              " 'goodb',\n",
              " 'goodnit',\n",
              " 'gorgeou',\n",
              " 'handsom',\n",
              " 'happ',\n",
              " 'harde',\n",
              " 'ies',\n",
              " 'ignor',\n",
              " 'ignorin',\n",
              " 'ile',\n",
              " 'inpu',\n",
              " 'interventio',\n",
              " 'iphon',\n",
              " 'javaon',\n",
              " 'jibber',\n",
              " 'jokin',\n",
              " 'kath',\n",
              " 'kew',\n",
              " 'kis',\n",
              " 'kittie',\n",
              " 'ks',\n",
              " 'kudo',\n",
              " 'kï',\n",
              " 'lam',\n",
              " 'lat',\n",
              " 'laz',\n",
              " 'lhq8',\n",
              " 'lovel',\n",
              " 'lovess',\n",
              " 'lovesu',\n",
              " 'ls',\n",
              " 'lxjd',\n",
              " 'misse',\n",
              " 'morga',\n",
              " 'motiva',\n",
              " 'much-',\n",
              " 'nemonem',\n",
              " 'nervou',\n",
              " 'nervvoouus',\n",
              " 'nes',\n",
              " 'norma',\n",
              " 'ogzbd',\n",
              " 'onna',\n",
              " 'ood',\n",
              " 'overwhelmi',\n",
              " 'owne',\n",
              " 'painf',\n",
              " 'peopl',\n",
              " 'personalit',\n",
              " 'pictur',\n",
              " 'podcas',\n",
              " 'presen',\n",
              " 'prize?an',\n",
              " 'realis',\n",
              " 'realitychec',\n",
              " 'recommen',\n",
              " 'reque',\n",
              " 'reques',\n",
              " 'resi',\n",
              " 'rlich',\n",
              " 'rul',\n",
              " 'sfunf',\n",
              " 'shee',\n",
              " 'shortcakefai',\n",
              " 'sil',\n",
              " 'smilin',\n",
              " 'soproudofyo',\n",
              " 'sor',\n",
              " 'sorrie',\n",
              " 'subtl',\n",
              " 'suck;i',\n",
              " 'sug',\n",
              " 'summe',\n",
              " 'terrib',\n",
              " 'thn',\n",
              " 'thoug',\n",
              " 'tomor',\n",
              " 'tomorro',\n",
              " 'tur',\n",
              " 'tweddin',\n",
              " 'twic',\n",
              " 'twitte',\n",
              " 'uld',\n",
              " 'urg',\n",
              " 'usefu',\n",
              " 'ust',\n",
              " 'web_desig',\n",
              " 'weir',\n",
              " 'welcom',\n",
              " 'wis',\n",
              " 'wonde',\n",
              " 'wonderfu',\n",
              " 'worr',\n",
              " 'wort',\n",
              " 'y`al',\n",
              " 'y`s',\n",
              " 'yoursel',\n",
              " 'yout',\n",
              " 'ys',\n",
              " 'ysa',\n",
              " '~5z10',\n",
              " '~79l0',\n",
              " '~k'}"
            ]
          },
          "metadata": {
            "tags": []
          },
          "execution_count": 33
        }
      ]
    },
    {
      "cell_type": "markdown",
      "metadata": {
        "id": "80bLNKZHJUjy",
        "colab_type": "text"
      },
      "source": [
        "Break the vocab count by alpha, numeric, alphanumeric"
      ]
    },
    {
      "cell_type": "code",
      "metadata": {
        "id": "A7iAASnoKGPs",
        "colab_type": "code",
        "colab": {
          "base_uri": "https://localhost:8080/",
          "height": 85
        },
        "outputId": "31e19f46-d3c1-4fbc-b5da-92c767420f6e"
      },
      "source": [
        "alpha_vocab = []\n",
        "numeric_vocab = []\n",
        "alnum_vocab = []\n",
        "other_vocab = []\n",
        "for the_word in src_sentences.vocab.itos:\n",
        "  if the_word.isalpha() == True:\n",
        "    alpha_vocab.append(the_word)\n",
        "  elif the_word.isnumeric() == True:\n",
        "    numeric_vocab.append(the_word)\n",
        "  elif the_word.isalnum() == True:\n",
        "    alnum_vocab.append(the_word)\n",
        "  else:\n",
        "    other_vocab.append(the_word)\n",
        "\n",
        "print (f'Number of Alpha only words: {len(alpha_vocab)}')\n",
        "print (f'Number of Numeric only words: {len(numeric_vocab)}')\n",
        "print (f'Number of Alpha Numeric words: {len(alnum_vocab)}')\n",
        "print (f'Number of words with special characters: {len(other_vocab)}')"
      ],
      "execution_count": 35,
      "outputs": [
        {
          "output_type": "stream",
          "text": [
            "Number of Alpha only words: 22978\n",
            "Number of Numeric only words: 343\n",
            "Number of Alpha Numeric words: 1369\n",
            "Number of words with special characters: 2008\n"
          ],
          "name": "stdout"
        }
      ]
    },
    {
      "cell_type": "markdown",
      "metadata": {
        "id": "k8bIxMAquI70",
        "colab_type": "text"
      },
      "source": [
        "#### List out all the characters (alphanumeric, punctuation, special characters etc.) that exist in the files"
      ]
    },
    {
      "cell_type": "code",
      "metadata": {
        "id": "Z22nlTaSu9lk",
        "colab_type": "code",
        "colab": {
          "base_uri": "https://localhost:8080/",
          "height": 85
        },
        "outputId": "0dfb4e02-16b2-497f-928c-313f6aa370eb"
      },
      "source": [
        "from __future__ import unicode_literals, print_function, division\n",
        "from io import open\n",
        "import glob\n",
        "import os\n",
        "\n",
        "def findFiles(path): return glob.glob(path)\n",
        "\n",
        "print(findFiles('/tmp/*text'))\n",
        "\n",
        "import unicodedata\n",
        "import string\n",
        "\n",
        "all_letters = string.ascii_letters + \" .,;'\"\n",
        "n_letters = len(all_letters)\n",
        "\n",
        "# Turn a Unicode string to plain ASCII, thanks to http://stackoverflow.com/a/518232/2809427\n",
        "def unicodeToAscii(s):\n",
        "    return ''.join(\n",
        "        c for c in unicodedata.normalize('NFD', s)\n",
        "        #if unicodedata.category(c) != 'Mn'\n",
        "        #and c in all_letters\n",
        "    )\n",
        "\n",
        "print(unicodeToAscii('Ślusàrski'))\n",
        "\n",
        "# Build the category_lines dictionary, a list of names per language\n",
        "category_lines = {}\n",
        "all_categories = []\n",
        "\n",
        "# Read a file and split into lines\n",
        "def readLines(filename):\n",
        "    lines = open(filename, encoding='utf-8').read().strip().split('\\n')\n",
        "    return [unicodeToAscii(line) for line in lines]\n",
        "    #return lines\n",
        "\n",
        "for filename in findFiles('/tmp/*text'):\n",
        "    category = os.path.splitext(os.path.basename(filename))[1]\n",
        "    print(category)\n",
        "    all_categories.append(category)\n",
        "    lines = readLines(filename)\n",
        "    category_lines[category] = lines\n",
        "\n",
        "n_categories = len(all_categories)"
      ],
      "execution_count": 36,
      "outputs": [
        {
          "output_type": "stream",
          "text": [
            "['/tmp/train_data.text', '/tmp/train_data.stext']\n",
            "Ślusàrski\n",
            ".text\n",
            ".stext\n"
          ],
          "name": "stdout"
        }
      ]
    },
    {
      "cell_type": "code",
      "metadata": {
        "id": "qL-G9Hvj7n5m",
        "colab_type": "code",
        "colab": {
          "base_uri": "https://localhost:8080/",
          "height": 51
        },
        "outputId": "c7ee081f-6ce0-4384-f45d-9c053ce70402"
      },
      "source": [
        "print(len(category_lines['.text']))\n",
        "print(len(category_lines['.stext']))"
      ],
      "execution_count": 37,
      "outputs": [
        {
          "output_type": "stream",
          "text": [
            "27480\n",
            "27480\n"
          ],
          "name": "stdout"
        }
      ]
    },
    {
      "cell_type": "code",
      "metadata": {
        "id": "b8oPFUAO18RD",
        "colab_type": "code",
        "colab": {}
      },
      "source": [
        "text_characters = []\n",
        "for text_line in category_lines['.text']:\n",
        "  text_line = text_line.strip('\"')\n",
        "  if len(text_characters) == 0:\n",
        "    text_characters = list(text_line.replace(\" \", \"\"))\n",
        "  else:\n",
        "    text_characters += list(text_line.replace(\" \", \"\"))\n",
        "\n",
        "stext_characters = []\n",
        "for text_line in category_lines['.stext']:\n",
        "  text_line = text_line.strip('\"')\n",
        "  if len(text_characters) == 0:\n",
        "    stext_characters = list(text_line.replace(\" \", \"\"))\n",
        "  else:\n",
        "    stext_characters += list(text_line.replace(\" \", \"\"))\n"
      ],
      "execution_count": 38,
      "outputs": []
    },
    {
      "cell_type": "code",
      "metadata": {
        "id": "FPWUWxlN42_Z",
        "colab_type": "code",
        "colab": {
          "base_uri": "https://localhost:8080/",
          "height": 51
        },
        "outputId": "11113967-6cf5-48f3-d7f3-5898895f3ed7"
      },
      "source": [
        "print (f'Number of special characters in Original tweet: {len(set(text_characters))}')\n",
        "print (f'Number of special characters in Selected Text: {len(set(stext_characters))}')"
      ],
      "execution_count": 39,
      "outputs": [
        {
          "output_type": "stream",
          "text": [
            "Number of special characters in Original tweet: 100\n",
            "Number of special characters in Selected Text: 96\n"
          ],
          "name": "stdout"
        }
      ]
    },
    {
      "cell_type": "code",
      "metadata": {
        "id": "0UDHTTPP8aJ5",
        "colab_type": "code",
        "colab": {
          "base_uri": "https://localhost:8080/",
          "height": 34
        },
        "outputId": "f9c389ae-546a-407b-ecf5-83678e336f23"
      },
      "source": [
        "set(text_characters) - set(stext_characters)"
      ],
      "execution_count": 40,
      "outputs": [
        {
          "output_type": "execute_result",
          "data": {
            "text/plain": [
              "{'\\t', '\\xa0', '´', '̂'}"
            ]
          },
          "metadata": {
            "tags": []
          },
          "execution_count": 40
        }
      ]
    },
    {
      "cell_type": "markdown",
      "metadata": {
        "id": "-BmdBuHLBtk1",
        "colab_type": "text"
      },
      "source": [
        "Above special characters don't exist in selected text"
      ]
    },
    {
      "cell_type": "code",
      "metadata": {
        "id": "V95fPoj76SrC",
        "colab_type": "code",
        "colab": {}
      },
      "source": [
        "from collections import Counter\n",
        "text_characters_count = Counter(text_characters)\n",
        "stext_characters_count = Counter(stext_characters)"
      ],
      "execution_count": 41,
      "outputs": []
    },
    {
      "cell_type": "code",
      "metadata": {
        "id": "z_7EzHGvxYTO",
        "colab_type": "code",
        "colab": {
          "base_uri": "https://localhost:8080/",
          "height": 1000
        },
        "outputId": "0803ac73-c3f3-4df7-ab95-a9915f748988"
      },
      "source": [
        "text_characters_count.most_common()"
      ],
      "execution_count": 42,
      "outputs": [
        {
          "output_type": "execute_result",
          "data": {
            "text/plain": [
              "[('e', 143971),\n",
              " ('o', 123986),\n",
              " ('t', 123435),\n",
              " ('a', 106676),\n",
              " ('i', 90243),\n",
              " ('n', 89164),\n",
              " ('s', 78533),\n",
              " ('h', 68137),\n",
              " ('r', 66746),\n",
              " ('l', 57982),\n",
              " ('d', 48306),\n",
              " ('u', 43125),\n",
              " ('y', 42490),\n",
              " ('m', 42345),\n",
              " ('g', 37162),\n",
              " ('.', 35815),\n",
              " ('w', 34367),\n",
              " ('c', 30088),\n",
              " ('p', 24543),\n",
              " ('f', 24114),\n",
              " ('b', 21522),\n",
              " ('k', 19809),\n",
              " ('!', 15296),\n",
              " ('I', 14806),\n",
              " ('v', 13399),\n",
              " ('`', 11628),\n",
              " (',', 8495),\n",
              " ('T', 5545),\n",
              " ('*', 4953),\n",
              " ('S', 4818),\n",
              " ('A', 4673),\n",
              " ('/', 4515),\n",
              " ('?', 4266),\n",
              " ('M', 4183),\n",
              " ('H', 4170),\n",
              " ('O', 4168),\n",
              " ('j', 3522),\n",
              " ('E', 3253),\n",
              " ('L', 3224),\n",
              " ('W', 3115),\n",
              " ('N', 2959),\n",
              " ('x', 2880),\n",
              " ('D', 2872),\n",
              " ('B', 2685),\n",
              " ('-', 2655),\n",
              " ('G', 2654),\n",
              " (':', 2427),\n",
              " ('C', 2413),\n",
              " ('Y', 2247),\n",
              " ('R', 2025),\n",
              " ('P', 2005),\n",
              " ('F', 1819),\n",
              " ('z', 1798),\n",
              " ('2', 1755),\n",
              " ('0', 1671),\n",
              " ('1', 1584),\n",
              " ('_', 1576),\n",
              " ('U', 1352),\n",
              " ('3', 1328),\n",
              " ('J', 1301),\n",
              " (\"'\", 1288),\n",
              " ('4', 1100),\n",
              " ('K', 890),\n",
              " (')', 870),\n",
              " ('5', 829),\n",
              " ('&', 800),\n",
              " ('(', 761),\n",
              " ('V', 744),\n",
              " ('q', 733),\n",
              " ('6', 689),\n",
              " ('#', 620),\n",
              " ('8', 551),\n",
              " ('7', 527),\n",
              " ('9', 463),\n",
              " (';', 349),\n",
              " ('<', 316),\n",
              " ('@', 309),\n",
              " ('=', 226),\n",
              " ('̈', 225),\n",
              " ('¿', 225),\n",
              " ('½', 225),\n",
              " ('X', 209),\n",
              " ('Z', 174),\n",
              " ('~', 173),\n",
              " ('Q', 154),\n",
              " ('$', 147),\n",
              " ('+', 134),\n",
              " ('>', 117),\n",
              " (']', 69),\n",
              " ('%', 53),\n",
              " ('[', 44),\n",
              " ('^', 41),\n",
              " ('|', 39),\n",
              " ('\\\\', 22),\n",
              " ('{', 13),\n",
              " ('}', 13),\n",
              " ('̂', 5),\n",
              " ('\\xa0', 4),\n",
              " ('\\t', 1),\n",
              " ('´', 1)]"
            ]
          },
          "metadata": {
            "tags": []
          },
          "execution_count": 42
        }
      ]
    },
    {
      "cell_type": "code",
      "metadata": {
        "id": "otuZzWdzvRHH",
        "colab_type": "code",
        "colab": {
          "base_uri": "https://localhost:8080/",
          "height": 1000
        },
        "outputId": "ecc5b443-02c2-438d-ccc5-c5860c75fb5f"
      },
      "source": [
        "stext_characters_count.most_common()"
      ],
      "execution_count": 43,
      "outputs": [
        {
          "output_type": "execute_result",
          "data": {
            "text/plain": [
              "[('e', 80028),\n",
              " ('o', 68910),\n",
              " ('t', 66641),\n",
              " ('a', 58325),\n",
              " ('i', 49457),\n",
              " ('n', 49066),\n",
              " ('s', 44357),\n",
              " ('r', 37006),\n",
              " ('h', 36580),\n",
              " ('l', 32438),\n",
              " ('d', 27179),\n",
              " ('u', 23926),\n",
              " ('y', 23225),\n",
              " ('m', 22607),\n",
              " ('g', 20813),\n",
              " ('w', 18498),\n",
              " ('.', 18259),\n",
              " ('c', 16575),\n",
              " ('p', 13672),\n",
              " ('f', 13319),\n",
              " ('b', 11865),\n",
              " ('k', 11198),\n",
              " ('I', 8077),\n",
              " ('!', 8000),\n",
              " ('v', 7495),\n",
              " ('`', 6429),\n",
              " (',', 4517),\n",
              " ('T', 3111),\n",
              " ('*', 2906),\n",
              " ('S', 2648),\n",
              " ('A', 2529),\n",
              " ('H', 2500),\n",
              " ('?', 2385),\n",
              " ('O', 2382),\n",
              " ('M', 2120),\n",
              " ('E', 1891),\n",
              " ('j', 1867),\n",
              " ('L', 1787),\n",
              " ('W', 1678),\n",
              " ('N', 1666),\n",
              " ('G', 1556),\n",
              " ('D', 1523),\n",
              " ('x', 1515),\n",
              " ('/', 1425),\n",
              " ('B', 1423),\n",
              " ('C', 1360),\n",
              " ('Y', 1289),\n",
              " ('-', 1235),\n",
              " ('P', 1145),\n",
              " ('R', 1129),\n",
              " ('F', 992),\n",
              " ('z', 968),\n",
              " (':', 912),\n",
              " ('2', 839),\n",
              " ('0', 835),\n",
              " ('U', 788),\n",
              " ('1', 741),\n",
              " (\"'\", 668),\n",
              " ('3', 606),\n",
              " ('J', 599),\n",
              " ('_', 521),\n",
              " ('4', 454),\n",
              " ('K', 450),\n",
              " ('V', 418),\n",
              " ('&', 383),\n",
              " ('5', 377),\n",
              " (')', 371),\n",
              " ('q', 370),\n",
              " ('(', 336),\n",
              " ('#', 290),\n",
              " ('6', 262),\n",
              " ('8', 230),\n",
              " ('7', 213),\n",
              " ('9', 200),\n",
              " (';', 159),\n",
              " ('<', 137),\n",
              " ('̈', 119),\n",
              " ('@', 119),\n",
              " ('¿', 117),\n",
              " ('½', 117),\n",
              " ('=', 105),\n",
              " ('Z', 92),\n",
              " ('Q', 83),\n",
              " ('X', 73),\n",
              " ('~', 68),\n",
              " ('$', 64),\n",
              " ('+', 61),\n",
              " ('>', 37),\n",
              " ('%', 27),\n",
              " (']', 27),\n",
              " ('^', 19),\n",
              " ('[', 18),\n",
              " ('|', 17),\n",
              " ('\\\\', 8),\n",
              " ('{', 4),\n",
              " ('}', 4)]"
            ]
          },
          "metadata": {
            "tags": []
          },
          "execution_count": 43
        }
      ]
    },
    {
      "cell_type": "code",
      "metadata": {
        "id": "BrnmOpPCnsoP",
        "colab_type": "code",
        "colab": {
          "base_uri": "https://localhost:8080/",
          "height": 122
        },
        "outputId": "4b12eb27-03de-4c7f-d3e5-a7f706834d47"
      },
      "source": [
        "!pip install unidecode"
      ],
      "execution_count": 44,
      "outputs": [
        {
          "output_type": "stream",
          "text": [
            "Collecting unidecode\n",
            "\u001b[?25l  Downloading https://files.pythonhosted.org/packages/d0/42/d9edfed04228bacea2d824904cae367ee9efd05e6cce7ceaaedd0b0ad964/Unidecode-1.1.1-py2.py3-none-any.whl (238kB)\n",
            "\r\u001b[K     |█▍                              | 10kB 19.9MB/s eta 0:00:01\r\u001b[K     |██▊                             | 20kB 2.2MB/s eta 0:00:01\r\u001b[K     |████▏                           | 30kB 2.8MB/s eta 0:00:01\r\u001b[K     |█████▌                          | 40kB 3.1MB/s eta 0:00:01\r\u001b[K     |██████▉                         | 51kB 2.5MB/s eta 0:00:01\r\u001b[K     |████████▎                       | 61kB 2.9MB/s eta 0:00:01\r\u001b[K     |█████████▋                      | 71kB 3.1MB/s eta 0:00:01\r\u001b[K     |███████████                     | 81kB 3.4MB/s eta 0:00:01\r\u001b[K     |████████████▍                   | 92kB 3.6MB/s eta 0:00:01\r\u001b[K     |█████████████▊                  | 102kB 3.4MB/s eta 0:00:01\r\u001b[K     |███████████████▏                | 112kB 3.4MB/s eta 0:00:01\r\u001b[K     |████████████████▌               | 122kB 3.4MB/s eta 0:00:01\r\u001b[K     |█████████████████▉              | 133kB 3.4MB/s eta 0:00:01\r\u001b[K     |███████████████████▎            | 143kB 3.4MB/s eta 0:00:01\r\u001b[K     |████████████████████▋           | 153kB 3.4MB/s eta 0:00:01\r\u001b[K     |██████████████████████          | 163kB 3.4MB/s eta 0:00:01\r\u001b[K     |███████████████████████▍        | 174kB 3.4MB/s eta 0:00:01\r\u001b[K     |████████████████████████▊       | 184kB 3.4MB/s eta 0:00:01\r\u001b[K     |██████████████████████████▏     | 194kB 3.4MB/s eta 0:00:01\r\u001b[K     |███████████████████████████▌    | 204kB 3.4MB/s eta 0:00:01\r\u001b[K     |████████████████████████████▉   | 215kB 3.4MB/s eta 0:00:01\r\u001b[K     |██████████████████████████████▎ | 225kB 3.4MB/s eta 0:00:01\r\u001b[K     |███████████████████████████████▋| 235kB 3.4MB/s eta 0:00:01\r\u001b[K     |████████████████████████████████| 245kB 3.4MB/s \n",
            "\u001b[?25hInstalling collected packages: unidecode\n",
            "Successfully installed unidecode-1.1.1\n"
          ],
          "name": "stdout"
        }
      ]
    },
    {
      "cell_type": "code",
      "metadata": {
        "id": "udw04gMQw4Bk",
        "colab_type": "code",
        "colab": {
          "base_uri": "https://localhost:8080/",
          "height": 238
        },
        "outputId": "6d43edf7-c6b8-4493-b9c9-e8db6e93900a"
      },
      "source": [
        "train_data[train_data.text.str.contains('`')].head()"
      ],
      "execution_count": 45,
      "outputs": [
        {
          "output_type": "execute_result",
          "data": {
            "text/html": [
              "<div>\n",
              "<style scoped>\n",
              "    .dataframe tbody tr th:only-of-type {\n",
              "        vertical-align: middle;\n",
              "    }\n",
              "\n",
              "    .dataframe tbody tr th {\n",
              "        vertical-align: top;\n",
              "    }\n",
              "\n",
              "    .dataframe thead th {\n",
              "        text-align: right;\n",
              "    }\n",
              "</style>\n",
              "<table border=\"1\" class=\"dataframe\">\n",
              "  <thead>\n",
              "    <tr style=\"text-align: right;\">\n",
              "      <th></th>\n",
              "      <th>textID</th>\n",
              "      <th>text</th>\n",
              "      <th>selected_text</th>\n",
              "      <th>sentiment</th>\n",
              "      <th>text_len</th>\n",
              "      <th>sel_text_len</th>\n",
              "    </tr>\n",
              "  </thead>\n",
              "  <tbody>\n",
              "    <tr>\n",
              "      <th>0</th>\n",
              "      <td>cb774db0d1</td>\n",
              "      <td>I`d have responded, if I were going</td>\n",
              "      <td>I`d have responded, if I were going</td>\n",
              "      <td>neutral</td>\n",
              "      <td>7</td>\n",
              "      <td>7</td>\n",
              "    </tr>\n",
              "    <tr>\n",
              "      <th>4</th>\n",
              "      <td>358bd9e861</td>\n",
              "      <td>Sons of ****, why couldn`t they put them on the releases we already bought</td>\n",
              "      <td>Sons of ****,</td>\n",
              "      <td>negative</td>\n",
              "      <td>14</td>\n",
              "      <td>3</td>\n",
              "    </tr>\n",
              "    <tr>\n",
              "      <th>10</th>\n",
              "      <td>2339a9b08b</td>\n",
              "      <td>as much as i love to be hopeful, i reckon the chances are minimal =P i`m never gonna get my cake and stuff</td>\n",
              "      <td>as much as i love to be hopeful, i reckon the chances are minimal =P i`m never gonna get my cake and stuff</td>\n",
              "      <td>neutral</td>\n",
              "      <td>23</td>\n",
              "      <td>23</td>\n",
              "    </tr>\n",
              "    <tr>\n",
              "      <th>16</th>\n",
              "      <td>3440297f8b</td>\n",
              "      <td>S`ok, trying to plot alternatives as we speak *sigh*</td>\n",
              "      <td>*sigh*</td>\n",
              "      <td>negative</td>\n",
              "      <td>9</td>\n",
              "      <td>1</td>\n",
              "    </tr>\n",
              "    <tr>\n",
              "      <th>17</th>\n",
              "      <td>919fa93391</td>\n",
              "      <td>i`ve been sick for the past few days  and thus, my hair looks wierd.  if i didnt have a hat on it would look... http://tinyurl.com/mnf4kw</td>\n",
              "      <td>sick</td>\n",
              "      <td>negative</td>\n",
              "      <td>25</td>\n",
              "      <td>1</td>\n",
              "    </tr>\n",
              "  </tbody>\n",
              "</table>\n",
              "</div>"
            ],
            "text/plain": [
              "        textID  ... sel_text_len\n",
              "0   cb774db0d1  ...            7\n",
              "4   358bd9e861  ...            3\n",
              "10  2339a9b08b  ...           23\n",
              "16  3440297f8b  ...            1\n",
              "17  919fa93391  ...            1\n",
              "\n",
              "[5 rows x 6 columns]"
            ]
          },
          "metadata": {
            "tags": []
          },
          "execution_count": 45
        }
      ]
    },
    {
      "cell_type": "code",
      "metadata": {
        "id": "fAavBRZHMNjw",
        "colab_type": "code",
        "colab": {
          "base_uri": "https://localhost:8080/",
          "height": 306
        },
        "outputId": "a4164e65-b492-49d6-93df-6f629c55fa80"
      },
      "source": [
        "train_data[train_data.text.str.contains(\"'\")].head()"
      ],
      "execution_count": 46,
      "outputs": [
        {
          "output_type": "execute_result",
          "data": {
            "text/html": [
              "<div>\n",
              "<style scoped>\n",
              "    .dataframe tbody tr th:only-of-type {\n",
              "        vertical-align: middle;\n",
              "    }\n",
              "\n",
              "    .dataframe tbody tr th {\n",
              "        vertical-align: top;\n",
              "    }\n",
              "\n",
              "    .dataframe thead th {\n",
              "        text-align: right;\n",
              "    }\n",
              "</style>\n",
              "<table border=\"1\" class=\"dataframe\">\n",
              "  <thead>\n",
              "    <tr style=\"text-align: right;\">\n",
              "      <th></th>\n",
              "      <th>textID</th>\n",
              "      <th>text</th>\n",
              "      <th>selected_text</th>\n",
              "      <th>sentiment</th>\n",
              "      <th>text_len</th>\n",
              "      <th>sel_text_len</th>\n",
              "    </tr>\n",
              "  </thead>\n",
              "  <tbody>\n",
              "    <tr>\n",
              "      <th>45</th>\n",
              "      <td>a9d499e123</td>\n",
              "      <td>The girl in the hair salon asked me 'Shall I trim your eyebrows!' How old do I feel?</td>\n",
              "      <td>The girl in the hair salon asked me 'Shall I trim your eyebrows!' How old do I feel?</td>\n",
              "      <td>neutral</td>\n",
              "      <td>18</td>\n",
              "      <td>18</td>\n",
              "    </tr>\n",
              "    <tr>\n",
              "      <th>73</th>\n",
              "      <td>0c4aa867d0</td>\n",
              "      <td>'you can ride one, you can catch one, but its not summer til you pop open one'  ?</td>\n",
              "      <td>'you can ride one, you can catch one, but its not summer til you pop open one'  ?</td>\n",
              "      <td>neutral</td>\n",
              "      <td>18</td>\n",
              "      <td>18</td>\n",
              "    </tr>\n",
              "    <tr>\n",
              "      <th>102</th>\n",
              "      <td>ebcdf07ac5</td>\n",
              "      <td>1 week post my'horrible, traumatic jumping cholla accident.'-cholla`s next dirty trick:pieces are starting to emerge from my hand! Ouch!</td>\n",
              "      <td>horrible,</td>\n",
              "      <td>negative</td>\n",
              "      <td>19</td>\n",
              "      <td>1</td>\n",
              "    </tr>\n",
              "    <tr>\n",
              "      <th>104</th>\n",
              "      <td>6b018d3d2d</td>\n",
              "      <td>Awesome.  I`m down in Ocean Beach (if you know where that is.) By the way. 'YourBiggestFan' I`m a re-al big fan of you-rs.</td>\n",
              "      <td>Awesome.</td>\n",
              "      <td>positive</td>\n",
              "      <td>23</td>\n",
              "      <td>1</td>\n",
              "    </tr>\n",
              "    <tr>\n",
              "      <th>268</th>\n",
              "      <td>84ca20505a</td>\n",
              "      <td>I waited, listening to wind blowing through the tumbleweed? Are none of you old enough to know what to do when someone says 'Crackerack'?</td>\n",
              "      <td>I waited, listening to wind blowing through the tumbleweed? Are none of you old enough to know what to do when someone says 'Crackerack'?</td>\n",
              "      <td>neutral</td>\n",
              "      <td>24</td>\n",
              "      <td>24</td>\n",
              "    </tr>\n",
              "  </tbody>\n",
              "</table>\n",
              "</div>"
            ],
            "text/plain": [
              "         textID  ... sel_text_len\n",
              "45   a9d499e123  ...           18\n",
              "73   0c4aa867d0  ...           18\n",
              "102  ebcdf07ac5  ...            1\n",
              "104  6b018d3d2d  ...            1\n",
              "268  84ca20505a  ...           24\n",
              "\n",
              "[5 rows x 6 columns]"
            ]
          },
          "metadata": {
            "tags": []
          },
          "execution_count": 46
        }
      ]
    },
    {
      "cell_type": "markdown",
      "metadata": {
        "id": "sxOW7S9gPQlw",
        "colab_type": "text"
      },
      "source": [
        "### Analyze certain characters in the vocab"
      ]
    },
    {
      "cell_type": "code",
      "metadata": {
        "id": "5Q32TNJ-PP8Q",
        "colab_type": "code",
        "colab": {
          "base_uri": "https://localhost:8080/",
          "height": 51
        },
        "outputId": "cfc3eb93-e317-4b3e-eeaf-fa8e36ecb7c9"
      },
      "source": [
        "sub = \"'\"\n",
        "src_list = []\n",
        "trg_list = []\n",
        "\n",
        "for s in src_sentences.vocab.itos:\n",
        "  if sub.lower() in s.lower():\n",
        "    src_list.append(s)\n",
        "\n",
        "for s in trg_sentences.vocab.itos:\n",
        "  if sub.lower() in s.lower():\n",
        "    trg_list.append(s)\n",
        "\n",
        "print(f\"Src list length: {len(src_list)}\")\n",
        "print(f\"Trg list length: {len(trg_list)}\")"
      ],
      "execution_count": 47,
      "outputs": [
        {
          "output_type": "stream",
          "text": [
            "Src list length: 21\n",
            "Trg list length: 10\n"
          ],
          "name": "stdout"
        }
      ]
    },
    {
      "cell_type": "code",
      "metadata": {
        "id": "Ch8X7a0fUZ0R",
        "colab_type": "code",
        "colab": {
          "base_uri": "https://localhost:8080/",
          "height": 238
        },
        "outputId": "8ee31705-5005-4abe-a9db-ab3df03e8bf0"
      },
      "source": [
        "src_list"
      ],
      "execution_count": null,
      "outputs": [
        {
          "output_type": "execute_result",
          "data": {
            "text/plain": [
              "[\"'\",\n",
              " \"i'm\",\n",
              " \"'s\",\n",
              " \":'(\",\n",
              " \":')\",\n",
              " \"day?'*people\",\n",
              " \"my'horrible\",\n",
              " \"oceanup?'miley\",\n",
              " \"productive'-\",\n",
              " \"say'bitch\",\n",
              " \"tpg:'love\",\n",
              " \"unity'-mode\",\n",
              " \"us*'what\"]"
            ]
          },
          "metadata": {
            "tags": []
          },
          "execution_count": 62
        }
      ]
    },
    {
      "cell_type": "code",
      "metadata": {
        "id": "puHf9sJpXNoo",
        "colab_type": "code",
        "colab": {
          "base_uri": "https://localhost:8080/",
          "height": 34
        },
        "outputId": "4e2e850b-87e0-4acc-e1c0-349fb5a35fb1"
      },
      "source": [
        "len(string.punctuation)"
      ],
      "execution_count": 51,
      "outputs": [
        {
          "output_type": "execute_result",
          "data": {
            "text/plain": [
              "32"
            ]
          },
          "metadata": {
            "tags": []
          },
          "execution_count": 51
        }
      ]
    },
    {
      "cell_type": "markdown",
      "metadata": {
        "id": "v9uTDjz7CPQ6",
        "colab_type": "text"
      },
      "source": [
        "##### List out all the characters that are not alpha numeric, numeric or punctuation"
      ]
    },
    {
      "cell_type": "code",
      "metadata": {
        "id": "8J_6YWN2XiPB",
        "colab_type": "code",
        "colab": {
          "base_uri": "https://localhost:8080/",
          "height": 136
        },
        "outputId": "547a9022-96fd-4cdf-9a50-037c8dfd14f7"
      },
      "source": [
        "for t in text_characters_count:\n",
        "  if not ((t.isalpha()) or (t.isdigit()) or (t in string.punctuation)):\n",
        "    print(repr(t), text_characters_count[t])\n",
        "  "
      ],
      "execution_count": 53,
      "outputs": [
        {
          "output_type": "stream",
          "text": [
            "'̈' 225\n",
            "'¿' 225\n",
            "'½' 225\n",
            "'̂' 5\n",
            "'\\xa0' 4\n",
            "'\\t' 1\n",
            "'´' 1\n"
          ],
          "name": "stdout"
        }
      ]
    },
    {
      "cell_type": "markdown",
      "metadata": {
        "id": "WQMK6IIQ2O6F",
        "colab_type": "text"
      },
      "source": [
        "###### Find out all the words with wrong spelling"
      ]
    },
    {
      "cell_type": "code",
      "metadata": {
        "id": "NuSqAwLlufmV",
        "colab_type": "code",
        "colab": {
          "base_uri": "https://localhost:8080/",
          "height": 85
        },
        "outputId": "4eb9c57a-ecc3-4f1e-88dd-86919b6483f6"
      },
      "source": [
        "import spacy\n",
        "from spacy_hunspell import spaCyHunSpell\n",
        "\n",
        "nlp = spacy.load('en_core_web_sm')\n",
        "hunspell = spaCyHunSpell(nlp, 'linux')\n",
        "nlp.add_pipe(hunspell)\n",
        "doc = nlp('I can awesom123 cheezeburger.')\n",
        "haz = doc[2]\n",
        "print(haz.is_alpha)\n",
        "print(haz._.hunspell_spell)  # False\n",
        "haz._.hunspell_suggest  # ['ha', 'haze', 'hazy', 'has', 'hat', 'had', 'hag', 'ham', 'hap', 'hay', 'haw', 'ha z']"
      ],
      "execution_count": 55,
      "outputs": [
        {
          "output_type": "stream",
          "text": [
            "/usr/share/hunspell/en_US.dic /usr/share/hunspell/en_US.aff\n",
            "False\n",
            "False\n"
          ],
          "name": "stdout"
        },
        {
          "output_type": "execute_result",
          "data": {
            "text/plain": [
              "['awesomeness']"
            ]
          },
          "metadata": {
            "tags": []
          },
          "execution_count": 55
        }
      ]
    },
    {
      "cell_type": "code",
      "metadata": {
        "id": "Xi40cqPV9mmU",
        "colab_type": "code",
        "colab": {
          "base_uri": "https://localhost:8080/",
          "height": 122
        },
        "outputId": "a474fed2-ef09-408a-f55c-1073a216bbb9"
      },
      "source": [
        "!pip install pyspellchecker"
      ],
      "execution_count": 56,
      "outputs": [
        {
          "output_type": "stream",
          "text": [
            "Collecting pyspellchecker\n",
            "\u001b[?25l  Downloading https://files.pythonhosted.org/packages/04/d1/ec4e830e9f9c1fd788e1459dd09279fdf807bc7a475579fd7192450b879c/pyspellchecker-0.5.4-py2.py3-none-any.whl (1.9MB)\n",
            "\u001b[K     |████████████████████████████████| 1.9MB 3.5MB/s \n",
            "\u001b[?25hInstalling collected packages: pyspellchecker\n",
            "Successfully installed pyspellchecker-0.5.4\n"
          ],
          "name": "stdout"
        }
      ]
    },
    {
      "cell_type": "code",
      "metadata": {
        "id": "okaDSAwsA25m",
        "colab_type": "code",
        "colab": {
          "base_uri": "https://localhost:8080/",
          "height": 34
        },
        "outputId": "01b8eba0-da7e-4850-af96-fe04219a0ec1"
      },
      "source": [
        "len(alpha_vocab)"
      ],
      "execution_count": 57,
      "outputs": [
        {
          "output_type": "execute_result",
          "data": {
            "text/plain": [
              "22978"
            ]
          },
          "metadata": {
            "tags": []
          },
          "execution_count": 57
        }
      ]
    },
    {
      "cell_type": "code",
      "metadata": {
        "id": "9_XkeZP7A7SL",
        "colab_type": "code",
        "colab": {}
      },
      "source": [
        "from spellchecker import SpellChecker\n",
        "spell = SpellChecker()\n",
        "misspelled = spell.unknown(alpha_vocab)"
      ],
      "execution_count": 58,
      "outputs": []
    },
    {
      "cell_type": "code",
      "metadata": {
        "id": "PLi-tZn4Bn2Y",
        "colab_type": "code",
        "colab": {
          "base_uri": "https://localhost:8080/",
          "height": 34
        },
        "outputId": "5cefffd6-a875-46c0-fbe7-978f956fab46"
      },
      "source": [
        "len(misspelled)"
      ],
      "execution_count": 59,
      "outputs": [
        {
          "output_type": "execute_result",
          "data": {
            "text/plain": [
              "8268"
            ]
          },
          "metadata": {
            "tags": []
          },
          "execution_count": 59
        }
      ]
    },
    {
      "cell_type": "code",
      "metadata": {
        "id": "YV7ncPSDCZI9",
        "colab_type": "code",
        "colab": {
          "base_uri": "https://localhost:8080/",
          "height": 80
        },
        "outputId": "a9ffd487-3669-4918-93e2-4bcb52684f1a"
      },
      "source": [
        "train_data[train_data.text.str.contains('kalies')]"
      ],
      "execution_count": 60,
      "outputs": [
        {
          "output_type": "execute_result",
          "data": {
            "text/html": [
              "<div>\n",
              "<style scoped>\n",
              "    .dataframe tbody tr th:only-of-type {\n",
              "        vertical-align: middle;\n",
              "    }\n",
              "\n",
              "    .dataframe tbody tr th {\n",
              "        vertical-align: top;\n",
              "    }\n",
              "\n",
              "    .dataframe thead th {\n",
              "        text-align: right;\n",
              "    }\n",
              "</style>\n",
              "<table border=\"1\" class=\"dataframe\">\n",
              "  <thead>\n",
              "    <tr style=\"text-align: right;\">\n",
              "      <th></th>\n",
              "      <th>textID</th>\n",
              "      <th>text</th>\n",
              "      <th>selected_text</th>\n",
              "      <th>sentiment</th>\n",
              "      <th>text_len</th>\n",
              "      <th>sel_text_len</th>\n",
              "    </tr>\n",
              "  </thead>\n",
              "  <tbody>\n",
              "    <tr>\n",
              "      <th>13633</th>\n",
              "      <td>cfbdec51c4</td>\n",
              "      <td>time to go swimming in the freezing water at kalies. yeah!</td>\n",
              "      <td>yeah!</td>\n",
              "      <td>positive</td>\n",
              "      <td>11</td>\n",
              "      <td>1</td>\n",
              "    </tr>\n",
              "  </tbody>\n",
              "</table>\n",
              "</div>"
            ],
            "text/plain": [
              "           textID  ... sel_text_len\n",
              "13633  cfbdec51c4  ...            1\n",
              "\n",
              "[1 rows x 6 columns]"
            ]
          },
          "metadata": {
            "tags": []
          },
          "execution_count": 60
        }
      ]
    },
    {
      "cell_type": "markdown",
      "metadata": {
        "id": "V14sC0r8ClnN",
        "colab_type": "text"
      },
      "source": [
        "Hmmm. Words may not be misspelled. They are just different meaning Nouns or slang."
      ]
    },
    {
      "cell_type": "code",
      "metadata": {
        "id": "NGqW7XN9E65e",
        "colab_type": "code",
        "colab": {
          "base_uri": "https://localhost:8080/",
          "height": 128
        },
        "outputId": "34b8141d-0362-40f8-df3a-690774deeb87"
      },
      "source": [
        "train_data[train_data.text.str.contains('lutz')]"
      ],
      "execution_count": 62,
      "outputs": [
        {
          "output_type": "execute_result",
          "data": {
            "text/html": [
              "<div>\n",
              "<style scoped>\n",
              "    .dataframe tbody tr th:only-of-type {\n",
              "        vertical-align: middle;\n",
              "    }\n",
              "\n",
              "    .dataframe tbody tr th {\n",
              "        vertical-align: top;\n",
              "    }\n",
              "\n",
              "    .dataframe thead th {\n",
              "        text-align: right;\n",
              "    }\n",
              "</style>\n",
              "<table border=\"1\" class=\"dataframe\">\n",
              "  <thead>\n",
              "    <tr style=\"text-align: right;\">\n",
              "      <th></th>\n",
              "      <th>textID</th>\n",
              "      <th>text</th>\n",
              "      <th>selected_text</th>\n",
              "      <th>sentiment</th>\n",
              "      <th>text_len</th>\n",
              "      <th>sel_text_len</th>\n",
              "    </tr>\n",
              "  </thead>\n",
              "  <tbody>\n",
              "    <tr>\n",
              "      <th>9603</th>\n",
              "      <td>e587eeba94</td>\n",
              "      <td>hahaha tempting! but nvm la. i`m quite a klutz.  i actually fare better with my hp cam LOL</td>\n",
              "      <td>i actually fare better</td>\n",
              "      <td>positive</td>\n",
              "      <td>18</td>\n",
              "      <td>4</td>\n",
              "    </tr>\n",
              "    <tr>\n",
              "      <th>16788</th>\n",
              "      <td>4817f7e516</td>\n",
              "      <td>fell down while holdin kales hand today...I hurt my foot &amp; he bruised his forehead  im such a klutz!</td>\n",
              "      <td>hurt my foot &amp; he bruised his forehead  im such a klutz!</td>\n",
              "      <td>negative</td>\n",
              "      <td>19</td>\n",
              "      <td>12</td>\n",
              "    </tr>\n",
              "  </tbody>\n",
              "</table>\n",
              "</div>"
            ],
            "text/plain": [
              "           textID  ... sel_text_len\n",
              "9603   e587eeba94  ...            4\n",
              "16788  4817f7e516  ...           12\n",
              "\n",
              "[2 rows x 6 columns]"
            ]
          },
          "metadata": {
            "tags": []
          },
          "execution_count": 62
        }
      ]
    },
    {
      "cell_type": "code",
      "metadata": {
        "id": "UqV8JtYlBqLX",
        "colab_type": "code",
        "colab": {
          "base_uri": "https://localhost:8080/",
          "height": 411
        },
        "outputId": "aaf45ae6-4ba1-4ee4-bd73-07a502d2b66d"
      },
      "source": [
        "word_count = 0\n",
        "for word in misspelled:\n",
        "  print(word, spell.correction(word))\n",
        "  print(spell.candidates(word))\n",
        "  word_count += 1\n",
        "  if word_count > 10:\n",
        "    break\n"
      ],
      "execution_count": 63,
      "outputs": [
        {
          "output_type": "stream",
          "text": [
            "hehee here\n",
            "{'heel', 'heem', 'hefce', 'henge', 'hee', 'hesse', 'heres', 'heuer', 'heed', 'huhne', 'renee', 'hepes', 'heber', 'sheree', 'leee', 'rhee', 'henze', 'helen', 'heh', 'hexes', 'hees', 'chee', 'thee', 'heyes', 'eee', 'pelee', 'hebe', 'ieee', 'ghee', 'here', 'heine', 'whee', 'heyer', 'hever', 'wheee', 'hebei', 'hewer', 'hemel', 'hedge', 'heave', 'shee', 'feher', 'hence', 'levee', 'herne', 'herve', 'heide', 'melee', 'heike', 'helene', 'hegel'}\n",
            "jaron jason\n",
            "{'aaron', 'juron', 'caron', 'aron', 'baron', 'jargon', 'jason'}\n",
            "imma emma\n",
            "{'pmma', 'irma', 'mima', 'umma', 'amma', 'itma', 'immac', 'imam', 'emma'}\n",
            "dreambears dreamers\n",
            "{'dreamers'}\n",
            "workk work\n",
            "{'work', 'works', 'worke'}\n",
            "bmac mac\n",
            "{'boac', 'bsac', 'bmc', 'brac', 'bac', 'bma', 'mac'}\n",
            "dfizzy dizzy\n",
            "{'fizzy', 'dizzy'}\n",
            "charicee chalice\n",
            "{'clarice', 'chargee', 'chalices', 'pharisee', 'chalice'}\n",
            "magout mahout\n",
            "{'mahout'}\n",
            "godda goddam\n",
            "{'goddam', 'gooda', 'gouda', 'goddy', 'rodda'}\n",
            "everyonee everyone\n",
            "{'everyone'}\n"
          ],
          "name": "stdout"
        }
      ]
    },
    {
      "cell_type": "markdown",
      "metadata": {
        "id": "rAAchI9KEpAp",
        "colab_type": "text"
      },
      "source": [
        "So, there are 8268 misspelled words. But everything is not misspelled. We need to figure out which words to pick vs which words to leave."
      ]
    },
    {
      "cell_type": "markdown",
      "metadata": {
        "id": "5F7rasBuH6nT",
        "colab_type": "text"
      },
      "source": [
        "##### Lemmetize the words experiment"
      ]
    },
    {
      "cell_type": "code",
      "metadata": {
        "id": "xYFxD1xYFtqQ",
        "colab_type": "code",
        "colab": {
          "base_uri": "https://localhost:8080/",
          "height": 204
        },
        "outputId": "8695a3a7-090f-4a1b-e1d8-0e5f51277f5d"
      },
      "source": [
        "import spacy\n",
        "nlp = spacy.load('en')\n",
        "\n",
        "separator = ', '\n",
        "doc = nlp(separator.join(misspelled))\n",
        "\n",
        "word_count = 0\n",
        "for token in doc:\n",
        "  if token.text != token.lemma_:\n",
        "    print(token, token.lemma_)\n",
        "    word_count += 1\n",
        "    if word_count > 10:\n",
        "      break\n"
      ],
      "execution_count": 64,
      "outputs": [
        {
          "output_type": "stream",
          "text": [
            "dreambears dreambear\n",
            "guilted guilte\n",
            "moives moive\n",
            "jetsons jetson\n",
            "lunes lune\n",
            "wingnuts wingnut\n",
            "starwarswithaddedpants starwarswithaddedpant\n",
            "pedicures pedicure\n",
            "restos resto\n",
            "twiggies twiggie\n",
            "honored honor\n"
          ],
          "name": "stdout"
        }
      ]
    },
    {
      "cell_type": "markdown",
      "metadata": {
        "id": "LLpuMof3IQqR",
        "colab_type": "text"
      },
      "source": [
        "Lemmetize makes more sense. Will review it again once first model is ready."
      ]
    }
  ]
}
